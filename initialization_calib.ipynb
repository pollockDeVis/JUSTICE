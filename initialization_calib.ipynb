{
 "cells": [
  {
   "cell_type": "code",
   "execution_count": 2,
   "metadata": {},
   "outputs": [],
   "source": [
    "import pandas as pd\n",
    "import numpy as np\n",
    "import networkx as nx"
   ]
  },
  {
   "cell_type": "code",
   "execution_count": 3,
   "metadata": {},
   "outputs": [],
   "source": [
    "path_inputs_crab = \"CRAB/Inputs/\"\n",
    "\n",
    "def initialize_dataframe_and_graph(F1, F2, F3, H, path_inputs_crab,region):\n",
    "    socio_economic_hh_attributes =  pd.read_csv(path_inputs_crab + \"HH_attributes_us\")\n",
    "    # select H random rows from socio_economic_hh_attributes\n",
    "    socio_economic_hh_attributes = socio_economic_hh_attributes.sample(H).reset_index()\n",
    "    # add in socio_economic_hh_attributes the variable 'AgentID'\n",
    "    socio_economic_hh_attributes['AgentID'] = socio_economic_hh_attributes.index + F1 + F2+ F3 + 1\n",
    "\n",
    "    # save socio_economic_hh_attributes in a csv file\n",
    "    # with the name \"initialization_hh\" + region + \n",
    "    socio_economic_hh_attributes.to_csv(path_inputs_crab + f'initialization_hh_{region}', index=False)\n",
    "\n",
    "    # create a dataframe with F1 + F2 + F3 rows\n",
    "    micro_variable_cap = pd.DataFrame(index=range(F1 + F2 + F3))\n",
    "    # add column 'AgentID' that is 1 in the first row and it ads 1 for each row\n",
    "    micro_variable_cap['AgentID'] = micro_variable_cap.index + 1\n",
    "    # add column 'Type' that is 'Cap' in the first F1 rows, 'Cons' in the second F2 rows and 'Service' in the third F3 rows\n",
    "    micro_variable_cap['Type'] = ['Cap'] * F1 + ['Cons'] * F2 + ['Service'] * F3\n",
    "    # add column 'Step' that is 0 in all rows\n",
    "    micro_variable_cap['Step'] = 0\n",
    "    # add column 'Size' that is 0 in all rows\n",
    "    micro_variable_cap['Size'] = 0\n",
    "    # add column 'Subsidiary' that is 0 in all rows\n",
    "    micro_variable_cap['Subsidiary'] = 0\n",
    "    # add column 'Quantity_ordered' that is 0 in all rows\n",
    "    micro_variable_cap['Quantity_ordered'] = 0\n",
    "    # in micro_variable_cap, set Lifecycle = 0\n",
    "    micro_variable_cap['Lifecycle'] = 1\n",
    "    # set inventories = 0\n",
    "    micro_variable_cap['Inventories'] = 0\n",
    "    # set net worth =  10 \n",
    "    micro_variable_cap['Net_worth'] = 50\n",
    "    # set Price sample from a normal distribution with mean = 1 and std = 0.1\n",
    "    micro_variable_cap['Price'] = np.random.normal(1, 0.1, len(micro_variable_cap))\n",
    "    # set wage \n",
    "    micro_variable_cap['Wage'] = np.random.normal(1, 0.1, len(micro_variable_cap))\n",
    "    # make a list with len(micro_variable_cap), where each element is an array with two elements, sampled from a normal distribution\n",
    "    micro_variable_cap['Productivity'] = [[1,1]] * len(micro_variable_cap)\n",
    "    # add a little stochastgicity to the productivity\n",
    "    # wage\n",
    "    #micro_variable_cap['Wage'] = 1 \n",
    "    micro_variable_cap['Productivity'] = micro_variable_cap['Productivity'].apply(lambda x: [np.random.normal(1, 0.1), np.random.normal(1, 0.1)])\n",
    "    # set Debt = 0\n",
    "    micro_variable_cap['Debt'] = 0\n",
    "    # set profits = 0\n",
    "    micro_variable_cap['Profits'] = 0\n",
    "    # set market share \n",
    "    micro_variable_cap['Market_share'] = [[1,1,1]] * len(micro_variable_cap)\n",
    "    # set capital_info\n",
    "    micro_variable_cap['Capital_info'] = [[[0,10,1 ], [0,10,1 ],[0,10,1 ] , [0,10,1 ]]] * len(micro_variable_cap)\n",
    "    # if Type != 'Cap' add 25 to the current Net worth \n",
    "    micro_variable_cap.loc[micro_variable_cap['Type'] == 'Cap', 'Net_worth'] = micro_variable_cap['Net_worth'] + 25\n",
    "    \n",
    "    # save micro_variable_cap in a csv file\n",
    "    # with the name \"initialization_micro\" + region +\n",
    "    micro_variable_cap.to_csv(path_inputs_crab + f'initialization_firms_{region}', index=False)\n",
    "\n",
    "    G = nx.watts_strogatz_graph(n=H, k=3, p= 0)\n",
    "    # Relabel nodes for consistency with agent IDs (zero- to one-indexing)\n",
    "\n",
    "    G = nx.relabel_nodes(G, lambda x: x +\n",
    "                                F1 +\n",
    "                                F2 +                                F3 + 1)\n",
    "    \n",
    "    \n",
    "\n",
    "    \n",
    "    \n"
   ]
  },
  {
   "cell_type": "code",
   "execution_count": 4,
   "metadata": {},
   "outputs": [],
   "source": [
    "initialize_dataframe_and_graph(50, 100, 150, 1000, path_inputs_crab, 'usa')"
   ]
  },
  {
   "cell_type": "code",
   "execution_count": null,
   "metadata": {},
   "outputs": [],
   "source": []
  }
 ],
 "metadata": {
  "kernelspec": {
   "display_name": "pyrice",
   "language": "python",
   "name": "python3"
  },
  "language_info": {
   "codemirror_mode": {
    "name": "ipython",
    "version": 3
   },
   "file_extension": ".py",
   "mimetype": "text/x-python",
   "name": "python",
   "nbconvert_exporter": "python",
   "pygments_lexer": "ipython3",
   "version": "3.9.16"
  }
 },
 "nbformat": 4,
 "nbformat_minor": 2
}
