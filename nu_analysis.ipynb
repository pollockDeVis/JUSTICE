{
 "cells": [
  {
   "cell_type": "code",
   "execution_count": 1,
   "id": "3853f6bd",
   "metadata": {},
   "outputs": [
    {
     "name": "stdout",
     "output_type": "stream",
     "text": [
      "Loading data from data/temporary/NU_DATA/combined/SSP3/...\n"
     ]
    }
   ],
   "source": [
    "from justice.util.enumerations import WelfareFunction, SSP\n",
    "import pandas as pd\n",
    "\n",
    "\n",
    "\n",
    "swf = WelfareFunction.UTILITARIAN\n",
    "nfe = 50_000\n",
    "ssp = SSP.SSP3\n",
    "# algo = \"ensgaii\"\n",
    "# path = f\"data/temporary/NU_DATA/{algo}/{str(ssp).split('.')[1]}/\"\n",
    "path = f\"data/temporary/NU_DATA/combined/{str(ssp).split('.')[1]}/\"\n",
    "\n",
    "# loaded_df = pd.read_csv(\n",
    "#     f\"data/optimized_rbf_weights/limitarian/50k/{swf.value[1]}/{swf.value[1]}_reference_set.csv\"\n",
    "# )\n",
    "# policy_indices = list(range(len(loaded_df)))\n",
    "# print(f\"Policy Indices: {policy_indices}\")\n",
    "# scenario_list = [\"SSP119\", \"SSP126\", \"SSP245\", \"SSP370\", \"SSP434\", \"SSP460\", \"SSP534\"]\n",
    "\n",
    "print(f\"Loading data from {path}...\")"
   ]
  },
  {
   "cell_type": "code",
   "execution_count": 2,
   "id": "09455dd8",
   "metadata": {},
   "outputs": [
    {
     "name": "stdout",
     "output_type": "stream",
     "text": [
      "Loading list of files\n",
      "Loading archives for:  UTILITARIAN\n",
      "Filename:  Prioritarian_hypervolume_plot.svg\n",
      "Filename:  .DS_Store\n",
      "Filename:  PRIORITARIAN_50000_3569126_hv.csv\n",
      "Filename:  UTILITARIAN_50000_3569126.tar.gz\n",
      "Matching file: UTILITARIAN_50000_3569126.tar.gz\n",
      "Loading archives from: UTILITARIAN_50000_3569126.tar.gz\n",
      "Max key: 50000\n",
      "Number of rows in archive: 8\n",
      "Archives loaded for: UTILITARIAN_50000_3569126.tar.gz\n",
      "Filename:  UTILITARIAN_50000_521475.tar.gz\n",
      "Matching file: UTILITARIAN_50000_521475.tar.gz\n",
      "Loading archives from: UTILITARIAN_50000_521475.tar.gz\n",
      "Max key: 50000\n",
      "Number of rows in archive: 11\n",
      "Archives loaded for: UTILITARIAN_50000_521475.tar.gz\n",
      "Filename:  PRIORITARIAN_50000_607561200.tar.gz\n",
      "Filename:  PRIORITARIAN_50000_52147500.tar.gz\n",
      "Filename:  UTILITARIAN_50000_6075612.tar.gz\n",
      "Matching file: UTILITARIAN_50000_6075612.tar.gz\n",
      "Loading archives from: UTILITARIAN_50000_6075612.tar.gz\n",
      "Max key: 50001\n",
      "Number of rows in archive: 8\n",
      "Archives loaded for: UTILITARIAN_50000_6075612.tar.gz\n",
      "Filename:  PRIORITARIAN_50000_164465200.tar.gz\n",
      "Filename:  PRIORITARIAN_50000_6075612_hv.csv\n",
      "Filename:  PRIORITARIAN_50000_356912600_hv.csv\n",
      "Filename:  UTILITARIAN_50000_356912600.tar.gz\n",
      "Matching file: UTILITARIAN_50000_356912600.tar.gz\n",
      "Loading archives from: UTILITARIAN_50000_356912600.tar.gz\n",
      "Max key: 50016\n",
      "Number of rows in archive: 8\n",
      "Archives loaded for: UTILITARIAN_50000_356912600.tar.gz\n",
      "Filename:  PRIORITARIAN_50000_1644652_hv.csv\n",
      "Filename:  UTILITARIAN_50000_1644652.tar.gz\n",
      "Matching file: UTILITARIAN_50000_1644652.tar.gz\n",
      "Loading archives from: UTILITARIAN_50000_1644652.tar.gz\n",
      "Max key: 50001\n",
      "Number of rows in archive: 8\n",
      "Archives loaded for: UTILITARIAN_50000_1644652.tar.gz\n",
      "Filename:  PRIORITARIAN_50000_521475_hv.csv\n",
      "Filename:  PRIORITARIAN_50000_52147500_hv.csv\n",
      "Filename:  UTILITARIAN_50000_164465200.tar.gz\n",
      "Matching file: UTILITARIAN_50000_164465200.tar.gz\n",
      "Loading archives from: UTILITARIAN_50000_164465200.tar.gz\n",
      "Max key: 50029\n",
      "Number of rows in archive: 11\n",
      "Archives loaded for: UTILITARIAN_50000_164465200.tar.gz\n",
      "Filename:  PRIORITARIAN_50000_607561200_hv.csv\n",
      "Filename:  UTILITARIAN_50000_607561200.tar.gz\n",
      "Matching file: UTILITARIAN_50000_607561200.tar.gz\n",
      "Loading archives from: UTILITARIAN_50000_607561200.tar.gz\n",
      "Max key: 50029\n",
      "Number of rows in archive: 11\n",
      "Archives loaded for: UTILITARIAN_50000_607561200.tar.gz\n",
      "Filename:  PRIORITARIAN_50000_6075612.tar.gz\n",
      "Filename:  PRIORITARIAN_50000_164465200_hv.csv\n",
      "Filename:  PRIORITARIAN_50000_356912600.tar.gz\n",
      "Filename:  PRIORITARIAN_50000_1644652.tar.gz\n",
      "Filename:  PRIORITARIAN_50000_521475.tar.gz\n",
      "Filename:  UTILITARIAN_50000_52147500.tar.gz\n",
      "Matching file: UTILITARIAN_50000_52147500.tar.gz\n",
      "Loading archives from: UTILITARIAN_50000_52147500.tar.gz\n",
      "Max key: 50029\n",
      "Number of rows in archive: 11\n",
      "Archives loaded for: UTILITARIAN_50000_52147500.tar.gz\n",
      "Filename:  PRIORITARIAN_reference_set.csv\n",
      "Filename:  PRIORITARIAN_50000_3569126.tar.gz\n",
      "Reference set saved to data/temporary/NU_DATA/combined/SSP3//UTILITARIAN_reference_set.csv\n",
      "Loading archives for UTILITARIAN_50000_521475.tar.gz\n",
      "Archives loaded\n",
      "list_of_archives:  (545, 2)\n",
      "reference_set (11, 2)\n",
      "type of reference_set <class 'numpy.ndarray'>\n",
      "nfes: \n",
      " [100, 10107, 1101, 11107, 12107, 13108, 14108, 15108, 16109, 17109, 18109, 19109, 20110, 2102, 21111, 22111, 23111, 24111, 25112, 26112, 27112, 28113, 29114, 30114, 3103, 31115, 32116, 33117, 34117, 35118, 36119, 37120, 38121, 39121, 40122, 4103, 41123, 42124, 43124, 44124, 45125, 46125, 47125, 48126, 49127, 50000, 5104, 6105, 7105, 8105, 9106]\n",
      "Computing hypervolume for  UTILITARIAN_50000_521475.tar.gz\n",
      "Time taken for Hypervolume Calculation: 2.954 seconds\n",
      "data/temporary/NU_DATA/combined/SSP3//UTILITARIAN_50000_521475_hv.csv\n",
      "Loading archives for UTILITARIAN_50000_1644652.tar.gz\n",
      "Archives loaded\n",
      "list_of_archives:  (401, 2)\n",
      "reference_set (11, 2)\n",
      "type of reference_set <class 'numpy.ndarray'>\n",
      "nfes: \n",
      " [100, 10103, 1100, 11104, 12104, 13104, 14104, 15104, 16104, 17104, 18105, 19106, 20107, 2100, 21107, 22107, 23107, 24107, 25108, 26108, 27109, 28110, 29111, 30112, 3100, 31113, 32114, 33114, 34115, 35116, 36117, 37117, 38118, 39119, 40119, 4100, 41120, 42120, 43120, 44121, 45121, 46122, 47123, 48123, 49123, 50001, 5101, 6102, 7103, 8103, 9103]\n",
      "Computing hypervolume for  UTILITARIAN_50000_1644652.tar.gz\n",
      "Time taken for Hypervolume Calculation: 0.006 seconds\n",
      "data/temporary/NU_DATA/combined/SSP3//UTILITARIAN_50000_1644652_hv.csv\n",
      "Loading archives for UTILITARIAN_50000_3569126.tar.gz\n",
      "Archives loaded\n",
      "list_of_archives:  (400, 2)\n",
      "reference_set (11, 2)\n",
      "type of reference_set <class 'numpy.ndarray'>\n",
      "nfes: \n",
      " [100, 10104, 1100, 11105, 12105, 13106, 14106, 15107, 16108, 17108, 18109, 19109, 20110, 2100, 21111, 22112, 23113, 24114, 25115, 26116, 27116, 28117, 29117, 30117, 3100, 31117, 32117, 33118, 34118, 35118, 36118, 37118, 38118, 39118, 40118, 4101, 41119, 42120, 43120, 44121, 45122, 46123, 47124, 48125, 49125, 50000, 5101, 6101, 7102, 8102, 9103]\n",
      "Computing hypervolume for  UTILITARIAN_50000_3569126.tar.gz\n",
      "Time taken for Hypervolume Calculation: 0.006 seconds\n",
      "data/temporary/NU_DATA/combined/SSP3//UTILITARIAN_50000_3569126_hv.csv\n",
      "Loading archives for UTILITARIAN_50000_6075612.tar.gz\n",
      "Archives loaded\n",
      "list_of_archives:  (396, 2)\n",
      "reference_set (11, 2)\n",
      "type of reference_set <class 'numpy.ndarray'>\n",
      "nfes: \n",
      " [100, 10107, 1100, 11107, 12107, 13108, 14109, 15109, 16109, 17109, 18110, 19111, 20112, 2101, 21112, 22113, 23113, 24113, 25113, 26113, 27114, 28115, 29115, 30115, 3101, 31115, 32115, 33116, 34116, 35116, 36117, 37118, 38119, 39120, 40120, 4102, 41120, 42120, 43120, 44120, 45121, 46121, 47121, 48122, 49123, 50001, 5102, 6102, 7107, 8107, 9107]\n",
      "Computing hypervolume for  UTILITARIAN_50000_6075612.tar.gz\n",
      "Time taken for Hypervolume Calculation: 0.006 seconds\n",
      "data/temporary/NU_DATA/combined/SSP3//UTILITARIAN_50000_6075612_hv.csv\n",
      "Loading archives for UTILITARIAN_50000_52147500.tar.gz\n",
      "Archives loaded\n",
      "list_of_archives:  (546, 2)\n",
      "reference_set (11, 2)\n",
      "type of reference_set <class 'numpy.ndarray'>\n",
      "nfes: \n",
      " [100, 10121, 1100, 11133, 12145, 13157, 14169, 15181, 16193, 17205, 18217, 19229, 20241, 2100, 21253, 22265, 23277, 24289, 25301, 26313, 27325, 28337, 29349, 30361, 3100, 31373, 32385, 33397, 34409, 35421, 36433, 37445, 38457, 39469, 40481, 4100, 41493, 42505, 43517, 44529, 45541, 46553, 47565, 48577, 49589, 50029, 5100, 6100, 7100, 8100, 9100]\n",
      "Computing hypervolume for  UTILITARIAN_50000_52147500.tar.gz\n",
      "Time taken for Hypervolume Calculation: 0.005 seconds\n",
      "data/temporary/NU_DATA/combined/SSP3//UTILITARIAN_50000_52147500_hv.csv\n",
      "Loading archives for UTILITARIAN_50000_164465200.tar.gz\n",
      "Archives loaded\n",
      "list_of_archives:  (553, 2)\n",
      "reference_set (11, 2)\n",
      "type of reference_set <class 'numpy.ndarray'>\n",
      "nfes: \n",
      " [100, 10121, 1100, 11133, 12145, 13157, 14169, 15181, 16193, 17205, 18217, 19229, 20241, 2100, 21253, 22265, 23277, 24289, 25301, 26313, 27325, 28337, 29349, 30361, 3100, 31373, 32385, 33397, 34409, 35421, 36433, 37445, 38457, 39469, 40481, 4100, 41493, 42505, 43517, 44529, 45541, 46553, 47565, 48577, 49589, 50029, 5100, 6100, 7100, 8100, 9100]\n",
      "Computing hypervolume for  UTILITARIAN_50000_164465200.tar.gz\n",
      "Time taken for Hypervolume Calculation: 0.006 seconds\n",
      "data/temporary/NU_DATA/combined/SSP3//UTILITARIAN_50000_164465200_hv.csv\n",
      "Loading archives for UTILITARIAN_50000_356912600.tar.gz\n",
      "Archives loaded\n",
      "list_of_archives:  (393, 2)\n",
      "reference_set (11, 2)\n",
      "type of reference_set <class 'numpy.ndarray'>\n",
      "nfes: \n",
      " [100, 10120, 1100, 11144, 12168, 13192, 14216, 15240, 16264, 17288, 18312, 19336, 20360, 2100, 21384, 22408, 23432, 24456, 25480, 26504, 27528, 28552, 29576, 30600, 3100, 31624, 32648, 33672, 34696, 35720, 36744, 37768, 38792, 39816, 40840, 4100, 41864, 42880, 43904, 44928, 45952, 46976, 48000, 49024, 50016, 5100, 6100, 7100, 8100, 9100]\n",
      "Computing hypervolume for  UTILITARIAN_50000_356912600.tar.gz\n",
      "Time taken for Hypervolume Calculation: 0.006 seconds\n",
      "data/temporary/NU_DATA/combined/SSP3//UTILITARIAN_50000_356912600_hv.csv\n",
      "Loading archives for UTILITARIAN_50000_607561200.tar.gz\n",
      "Archives loaded\n",
      "list_of_archives:  (549, 2)\n",
      "reference_set (11, 2)\n",
      "type of reference_set <class 'numpy.ndarray'>\n",
      "nfes: \n",
      " [100, 10121, 1100, 11133, 12145, 13157, 14169, 15181, 16193, 17205, 18217, 19229, 20241, 2100, 21253, 22265, 23277, 24289, 25301, 26313, 27325, 28337, 29349, 30361, 3100, 31373, 32385, 33397, 34409, 35421, 36433, 37445, 38457, 39469, 40481, 4100, 41493, 42505, 43517, 44529, 45541, 46553, 47565, 48577, 49589, 50029, 5100, 6100, 7100, 8100, 9100]\n",
      "Computing hypervolume for  UTILITARIAN_50000_607561200.tar.gz\n",
      "Time taken for Hypervolume Calculation: 0.007 seconds\n",
      "data/temporary/NU_DATA/combined/SSP3//UTILITARIAN_50000_607561200_hv.csv\n"
     ]
    }
   ],
   "source": [
    "# This code creates a reference set from the different seeds\n",
    "\n",
    "from solvers.convergence.hypervolume import get_global_reference_set, calculate_hypervolume_from_archives\n",
    "import multiprocessing\n",
    "# Suppress warnings\n",
    "import warnings\n",
    "warnings.filterwarnings(\"ignore\")\n",
    "\n",
    "list_of_objectives = [\n",
    "    \"welfare\",\n",
    "    \"fraction_above_threshold\",\n",
    "]\n",
    "data_path = path \n",
    "\n",
    "direction_of_optimization = [\"min\", \"min\"] #, \"max\", \"max\"\n",
    "\n",
    "get_global_reference_set(\n",
    "    list_of_objectives=list_of_objectives,\n",
    "    data_path=data_path,\n",
    "    #file_name=None,\n",
    "    swf=[\n",
    "        swf.value[1],\n",
    "    ],\n",
    "    nfe=str(nfe), # Ran for 50k number of function evaluations\n",
    "\n",
    "    # Setting the same epsilon values as optimization process  (see analysis/analyzer.py)\n",
    "    epsilons=[\n",
    "        0.0001,\n",
    "        0.01,\n",
    "    ],\n",
    "    direction_of_optimization=direction_of_optimization,\n",
    "    output_data_path=path,\n",
    "    saving=True,\n",
    ")\n",
    "\n",
    "## This computes the Hypervolume for the reference set\n",
    "\n",
    "filenames = [\n",
    "\n",
    "\n",
    "    # Loading Archives for the different seeds  Borg\n",
    "    f\"{swf.value[1]}_{nfe}_521475.tar.gz\",\n",
    "    f\"{swf.value[1]}_{nfe}_1644652.tar.gz\",\n",
    "    f\"{swf.value[1]}_{nfe}_3569126.tar.gz\",\n",
    "    f\"{swf.value[1]}_{nfe}_6075612.tar.gz\",\n",
    "\n",
    "    #epsNSGA\n",
    "    f\"{swf.value[1]}_{nfe}_52147500.tar.gz\",\n",
    "    f\"{swf.value[1]}_{nfe}_164465200.tar.gz\",\n",
    "    f\"{swf.value[1]}_{nfe}_356912600.tar.gz\",\n",
    "    f\"{swf.value[1]}_{nfe}_607561200.tar.gz\",\n",
    "   \n",
    "\n",
    "\n",
    "]\n",
    "\n",
    "reference_set = f\"{swf.value[1]}_reference_set.csv\"\n",
    "with multiprocessing.Pool() as pool:\n",
    "    # Enumerate through the filenames\n",
    "    for filename in filenames:\n",
    "        scores = calculate_hypervolume_from_archives(\n",
    "            list_of_objectives=list_of_objectives,\n",
    "            direction_of_optimization=direction_of_optimization,\n",
    "            input_data_path=data_path,\n",
    "            file_name=filename,\n",
    "            output_data_path=path,\n",
    "            saving=True,\n",
    "            global_reference_set=True,\n",
    "            global_reference_set_path=path,\n",
    "            global_reference_set_file=reference_set,\n",
    "            pool=pool,\n",
    "          )  # NOTE: Change this according to the PF refset"
   ]
  },
  {
   "cell_type": "code",
   "execution_count": 3,
   "id": "c8a5aaa2",
   "metadata": {},
   "outputs": [
    {
     "data": {
      "application/vnd.plotly.v1+json": {
       "config": {
        "plotlyServerURL": "https://plot.ly"
       },
       "data": [
        {
         "fill": "none",
         "line": {
          "color": "#2E91E5",
          "width": 3
         },
         "mode": "lines",
         "name": "Seed 1 (521475)",
         "type": "scatter",
         "x": {
          "bdata": "ZAAAAE0EAAA2CAAAHwwAAAcQAADwEwAA2RcAAMEbAACpHwAAkiMAAHsnAABjKwAASy8AADQzAAAcNwAABDsAAO0+AADVQgAAvUYAAKVKAACOTgAAd1IAAF9WAABHWgAAL14AABhiAAAAZgAA6GkAANFtAAC6cQAAonUAAIt5AAB0fQAAXYEAAEWFAAAuiQAAF40AAACRAADplAAA0ZgAALqcAACjoAAAjKQAAHSoAABcrAAARbAAAC20AAAVuAAA/rsAAOe/AABQwwAA",
          "dtype": "i4"
         },
         "y": {
          "bdata": "B9zIlmVKzD82P3CUZBrcP8siamcD2t4/zbDU8a8Q4D8A8OCusLXgPwDbi6Bzv+A/M/iFTGD/4D9nupuaGA3hP2ftbAPSD+E/NQ/Yl/yu4T8BNhYmi7jhPwHGI7h80+E/AXAoRb0E4j8CDpbVk0TiPwHtzf+PrOI/zgN5GJ3C4j8CWi64ZtziP84bDwLE6uI/zmhHJFD64j/O6Mk3kgjjP2dghP/gEeM/mthZEbYY4z/OMCZ51SDjP5tLP04fK+M/ZwMPBwE24z+awWn/wjvjP2ZB5JAHQuM/mvilBZxO4z806vPg51PjPzTV6f6UZeM/Z1zxHIp54z+aa+WIn4jjP5rVBKDRjOM/Aow7mcSX4z802nSgf5rjP85L0D3DqeM/mtS43A3B4z9n5ZkO5N7jP2foLN/+/eM/AZHLJsID5D/OSXw7RRXkPzX7MCK8GuQ/m+UrX/Ef5D+bmlA2YSjkP2jmYAHVKuQ/AnkDYFUs5D9nD270xy3kP2iyTWL0OeQ/AglrM3g+5D9oxmpuIEDkPwIDJCW+RuQ/",
          "dtype": "f8"
         }
        },
        {
         "fill": "none",
         "line": {
          "color": "#E15F99",
          "width": 3
         },
         "mode": "lines",
         "name": "Seed 2 (1644652)",
         "type": "scatter",
         "x": {
          "bdata": "ZAAAAEwEAAA0CAAAHAwAAAQQAADtEwAA1hcAAL8bAACnHwAAjyMAAHcnAABgKwAASC8AADAzAAAYNwAAADsAAOg+AADQQgAAuUYAAKJKAACLTgAAc1IAAFtWAABDWgAAK14AABRiAAD8ZQAA5WkAAM5tAAC3cQAAoHUAAIl5AAByfQAAWoEAAEOFAAAsiQAAFY0AAP2QAADmlAAAz5gAALecAACgoAAAiKQAAHCoAABZrAAAQbAAACq0AAATuAAA+7sAAOO/AABRwwAA",
          "dtype": "i4"
         },
         "y": {
          "bdata": "AAAAAAAAAAAyMbBgncTcPwFSkFY+9d4/AlTuNz+l3z804sSJ9C/gP2dhCdrHaeA/zWe8Ktt94D9nhtUnV6DgPzTV3U6Ew+A/NKy7eQDW4D8BStUo69/gPwBlW/n28OA/mvdprQP14D80sVHjwQDhP83+wbrMDuE/NOCh6Dgt4T+aOGnaQTvhP2cmR9OFQuE/ANsdOH5I4T9mfCJxekrhP5rJX8kWTeE/ml5QWXVN4T+arzTCGU/hPwBzyG72UeE/moFDAgFg4T/NOCN3BmfhPzT6UCWeaeE/ACw3Lzlr4T/NQPGqEXPhP5qAwlj4d+E/Z3cOlyR94T8z+uVebX7hPwAGfyzifuE/zRJwOVuH4T/NesHP643hP2bCvVyskOE/mq2pGC6U4T/NoxLuV5XhPzO+5GtZluE/M79Il/CZ4T8zS1GzHZ3hP82+v4YJouE/Z8wOnoai4T8A8zOqd6ThPzSwW/R/puE/zaf7zn+n4T9mUpLg+6/hP82JmKM6suE/ZlWhowW04T8z3Co74bbhP5ovAulouuE/",
          "dtype": "f8"
         }
        },
        {
         "fill": "none",
         "line": {
          "color": "#1CA71C",
          "width": 3
         },
         "mode": "lines",
         "name": "Seed 3 (3569126)",
         "type": "scatter",
         "x": {
          "bdata": "ZAAAAEwEAAA0CAAAHAwAAAUQAADtEwAA1RcAAL4bAACmHwAAjyMAAHgnAABhKwAASS8AADIzAAAaNwAAAzsAAOw+AADUQgAAvUYAAKVKAACOTgAAd1IAAGBWAABJWgAAMl4AABtiAAAEZgAA7GkAANVtAAC9cQAApXUAAI15AAB1fQAAXoEAAEaFAAAuiQAAFo0AAP6QAADmlAAAzpgAALacAACfoAAAiKQAAHCoAABZrAAAQrAAACu0AAAUuAAA/bsAAOW/AABQwwAA",
          "dtype": "i4"
         },
         "y": {
          "bdata": "AAAAAAAAAAAwwUuzn87ZPwBEGQgGt90/AMgLtJBd3j8AvKmAQwbfPzV7hzR0NN8/NCMGG+ZJ3z/OBOyKhHTfP2fcgfVdi98/zoAN4Mu73z+agfn+/8nfPzRhztc15t8/zcyV05Tt3z9n6avZ3gDgPwGsQJGxBeA/NJyoy28a4D9nTgImLzDgP2gD2fOvOOA/NPSxU/E94D+anGR4iVfgP5pPgUxVXeA/zsGBtehs4D8BPh2wZ5PgPzT8Nd//m+A/ZyfPsY2s4D80riZskrbgP2eZ+gUxueA/mrnGKkK84D8BoPmCFcPgP81NBJGsyOA/M3tHKw/J4D/NJgIvRsvgP80X8K4o4uA/mvXhfePs4D8BPrC3RfrgP2eX4gXu/OA/ARDWfp8D4T+a+c6W2gjhP2eUfU00DeE/NDOdgwVR4T80osuI9V/hP83OTnmjdOE/aLeC5Xh74T8A/tiHOX3hP81zGqwpf+E/m1d6SqOA4T/Ny+cQo4XhP5rZibo9ieE/AYOqxzyK4T808HCRhI/hP5qSCMFnkOE/",
          "dtype": "f8"
         }
        },
        {
         "fill": "none",
         "line": {
          "color": "#FB0D0D",
          "width": 3
         },
         "mode": "lines",
         "name": "Seed 4 (6075612)",
         "type": "scatter",
         "x": {
          "bdata": "ZAAAAEwEAAA1CAAAHQwAAAYQAADuEwAA1hcAAMMbAACrHwAAkyMAAHsnAABjKwAASy8AADQzAAAdNwAABTsAAO0+AADVQgAAvkYAAKdKAACQTgAAeFIAAGFWAABJWgAAMV4AABliAAABZgAA6mkAANNtAAC7cQAAo3UAAIt5AABzfQAAXIEAAESFAAAsiQAAFY0AAP6QAADnlAAA0JgAALicAACgoAAAiKQAAHCoAABYrAAAQbAAACm0AAARuAAA+rsAAOO/AABRwwAA",
          "dtype": "i4"
         },
         "y": {
          "bdata": "AAAAAAAAAACWe54U8N3ZP5eNz8+ZbNo/MWNFbcm/2j+Wc/vuPOHaPwGQkcVbUN0/AuT0hkKV3T+aKZD3GO/dP86K9KHNFd4/ARYEE95G3j/OPGGEFqPePzaVw4/l/d4/Nj1cGi9x3z8BshbW+MPfPwMmE3Te498/m77g+ywH4D8CAnGvLwzgP5t7debdEeA/ASMSt0UZ4D80tydHLCDgP2jdccElJuA/zi8YcMgo4D+bPgM9TSngPzRZuNBhMOA/Nbx/xKA04D/OgqgTqzrgPzVHWTP3POA/aOsO6mE+4D9oHoOhkEPgPzQDKiDAS+A/aAXQ8OFP4D81BStO3VzgPzRbvb8dp+A/NO7gCmfr4D/Nu0YAnh7hPzQ6HDxJI+E/zda9Xi0u4T8A0OKWUDThPzSHZI9NQOE/NEn991Na4T+bpUEXE3DhP83BOWD9guE/AcTJ31OE4T8B+tHcd4fhP86I/pkli+E/Zg1ofjyO4T80tkJvD6DhPwDUHktyoeE/mXIQHcSj4T8z4/6r1KbhP5ovqLKKquE/",
          "dtype": "f8"
         }
        },
        {
         "fill": "none",
         "line": {
          "color": "#DA16FF",
          "width": 3
         },
         "mode": "lines",
         "name": "Seed 5 (52147500)",
         "type": "scatter",
         "x": {
          "bdata": "ZAAAAEwEAAA0CAAAHAwAAAQQAADsEwAA1BcAALwbAACkHwAAjCMAAIknAAB9KwAAcS8AAGUzAABZNwAATTsAAEE/AAA1QwAAKUcAAB1LAAARTwAABVMAAPlWAADtWgAA4V4AANViAADJZgAAvWoAALFuAAClcgAAmXYAAI16AACBfgAAdYIAAGmGAABdigAAUY4AAEWSAAA5lgAALZoAACGeAAAVogAACaYAAP2pAADxrQAA5bEAANm1AADNuQAAwb0AALXBAABtwwAA",
          "dtype": "i4"
         },
         "y": {
          "bdata": "AAAAAAAAAAD+oc16tDDZP2lm9ayQzNw/NbF1AAU73T+ckUnTL9DdPwMOIh9sLd4/AoqSw5mC3j81oe5R0ybfPzbxWaK7xt8/ND/z+YAM4D/Oq3pLOifgP2euFAnqOeA/m8skIhtR4D8BzQ8XmWDgP5sCADkYiuA/NQ5Kk7eY4D9oD04Jc53gPzXIlInGreA/m2hSi7y/4D9ofBSlkMjgP87PjS+e1eA/mzSrKZve4D+b676kUOTgP86/RW+h7eA/m0mqQEjy4D81Vhf/mffgPwLbmRcL+eA/aCFMHKb74D812R2f4QHhP8/+XJ0BCOE/Ab4tEkQR4T9nyBsJdhjhPwFxX/AMGeE/ND5TrAAg4T81G8mw+iLhP8+XSpufJOE/zkYadM4q4T9ozJ0NEi7hP5tinfeKMOE/zrnFx0cy4T8BsEqToTLhP8403cUBOOE/m4V2FCM64T/OnN5Xdz7hPwE6Utn6QeE/aDWklHVD4T/OSzMHY0ThP5v2+k36ReE/NcjK5qxH4T9o9ahesknhP2jJh/aySeE/",
          "dtype": "f8"
         }
        },
        {
         "fill": "none",
         "line": {
          "color": "#222A2A",
          "width": 3
         },
         "mode": "lines",
         "name": "Seed 6 (164465200)",
         "type": "scatter",
         "x": {
          "bdata": "ZAAAAEwEAAA0CAAAHAwAAAQQAADsEwAA1BcAALwbAACkHwAAjCMAAIknAAB9KwAAcS8AAGUzAABZNwAATTsAAEE/AAA1QwAAKUcAAB1LAAARTwAABVMAAPlWAADtWgAA4V4AANViAADJZgAAvWoAALFuAAClcgAAmXYAAI16AACBfgAAdYIAAGmGAABdigAAUY4AAEWSAAA5lgAALZoAACGeAAAVogAACaYAAP2pAADxrQAA5bEAANm1AADNuQAAwb0AALXBAABtwwAA",
          "dtype": "i4"
         },
         "y": {
          "bdata": "/YuB7K4n0D8A7L45B1fcP2jqF8MQkd0/zSzs7IlO3j+c3SBrEHnfP2iqnANzyt8/m29zjpsJ4D8B98B8XiPgP8644j3jN+A/aLU9BApN4D+bPKTpg1PgPzWK1VUzieA/NdXnkEqh4D+b1/Dx6q/gPwGb4+1rwOA/zxnxJ1vL4D+bH4GRss/gPzVxhmgP+OA/Nb5XTdsd4T+b7rtcwjXhPwKKO6NJRuE/ztAmCFBJ4T9oMs3hvEzhP5ws5LRxUuE/z8U3OmRY4T/OvfGV/VzhPwIvpkfRYeE/m8FIWvJj4T8144JDkGbhPwHiVL/HauE/NcBvoQV34T/PGV7irHnhP2jQTFpQiuE/z6BMo7ai4T8C4lkhka/hPwLEjjEdteE/aMvVCFq+4T+cyRn8hMLhPwKd/7HexOE/z4md5CTN4T/OWDs0jc/hP5uTaU4H1uE/z7vmaX3a4T81CnGp7PThP88KemFiA+I/AgkGkYYM4j80+WEG4RHiP2jM75NKFOI/znkZKmgZ4z/PTCZNh5LjP5xoDzNnn+M/",
          "dtype": "f8"
         }
        },
        {
         "fill": "none",
         "line": {
          "color": "#B68100",
          "width": 3
         },
         "mode": "lines",
         "name": "Seed 7 (356912600)",
         "type": "scatter",
         "x": {
          "bdata": "ZAAAAEwEAAA0CAAAHAwAAAQQAADsEwAA1BcAALwbAACkHwAAjCMAAIgnAACIKwAAiC8AAIgzAACINwAAiDsAAIg/AACIQwAAiEcAAIhLAACITwAAiFMAAIhXAACIWwAAiF8AAIhjAACIZwAAiGsAAIhvAACIcwAAiHcAAIh7AACIfwAAiIMAAIiHAACIiwAAiI8AAIiTAACIlwAAiJsAAIifAACIowAAgKcAAICrAACArwAAgLMAAIC3AACAuwAAgL8AAGDDAAA=",
          "dtype": "i4"
         },
         "y": {
          "bdata": "AAAAAAAAAABoXF8vRcHaPwEAKo4qSd4/ASrqV+Eo3z9nroqS2X7fP5tDUXbx1d8/ASTNiNIb4D80sKDwamHgPwGpZHwAfuA/NLvLJ7eQ4D+bMtxjAaPgP84w1glTteA/aP81wwzE4D8BGhOI+9jgP2jszVJ93eA/zq01c/Tk4D+aUjlcUOzgP5ofWITV+eA/zlITgRX94D80fv2tvAHhP87judMEBOE/zttosL4N4T/OxHes6xXhPzSUiAOuF+E/zmhSuS8d4T8BjJxfSSDhPwGqOa3rJOE/ZyAG+BAn4T+b6ItkSyjhP85d8gLDK+E/m00LVcUt4T8CXKN3jDDhP84T4lmbM+E/NIM6Ank14T80vGJ0yjbhP2c0GRQ2OOE/aC9xyZA74T9ntsduAT3hPzRJU8YwQOE/NFXn8DFH4T9nVa0rnUnhP5uOS3WmSuE/AgE9nVFM4T80PbAgu03hPzUBw/oBUuE/aP3nwXhU4T/OllnxnlbhPwHLlmd9V+E/NQtb5GxY4T9oB3ER6lnhPw==",
          "dtype": "f8"
         }
        },
        {
         "fill": "none",
         "line": {
          "color": "#750D86",
          "width": 3
         },
         "mode": "lines",
         "name": "Seed 8 (607561200)",
         "type": "scatter",
         "x": {
          "bdata": "ZAAAAEwEAAA0CAAAHAwAAAQQAADsEwAA1BcAALwbAACkHwAAjCMAAIknAAB9KwAAcS8AAGUzAABZNwAATTsAAEE/AAA1QwAAKUcAAB1LAAARTwAABVMAAPlWAADtWgAA4V4AANViAADJZgAAvWoAALFuAAClcgAAmXYAAI16AACBfgAAdYIAAGmGAABdigAAUY4AAEWSAAA5lgAALZoAACGeAAAVogAACaYAAP2pAADxrQAA5bEAANm1AADNuQAAwb0AALXBAABtwwAA",
          "dtype": "i4"
         },
         "y": {
          "bdata": "ht4+/o9YtT/NPqSmoazcPzRVATon894/NKGprS8v4D811FyLNPbgPzW+I7QVUeI/aKLKtP8M4z8BhiHlulfjPwJM02YCfOM/Av3yOPGm4z8CJIID07fjP5tO5ozqz+M/NLLHhCnm4z81wsTnoPXjP2jEzA1wAeQ/Aj7Xz9kQ5D9oDxDa7hHkP8/JB58dHuQ/NfB7vfIi5D+cibdUtSjkP5u/9ODEKuQ/aPu3s5Mu5D+cDmGpTDDkPzVcLr/wMeQ/AifVgDA05D81GfxQcDXkP8+FfrU1OOQ/NXsc3D875D/PhIVZhDvkP885LKbFPeQ/aEoOX/8/5D9p1Czqt0TkP2hamGONReQ/nEsq5PVG5D9oS77J5knkP85Hyu+uSuQ/Amvz49JL5D8BTtTJCk3kP5sCwATxTeQ/m656CnpO5D9pAk2xOE/kP2jGUmWgT+Q/AhdpJ3lQ5D8CTFhJIlLkP86s/W7MU+Q/AuEoBaVV5D/ONFGsM1bkPwLSnq2xVuQ/m06Z0wRX5D+cmlo1XF7kPzWeZQ0xYeQ/",
          "dtype": "f8"
         }
        }
       ],
       "layout": {
        "font": {
         "size": 20
        },
        "height": 800,
        "template": {
         "data": {
          "bar": [
           {
            "error_x": {
             "color": "#2a3f5f"
            },
            "error_y": {
             "color": "#2a3f5f"
            },
            "marker": {
             "line": {
              "color": "white",
              "width": 0.5
             },
             "pattern": {
              "fillmode": "overlay",
              "size": 10,
              "solidity": 0.2
             }
            },
            "type": "bar"
           }
          ],
          "barpolar": [
           {
            "marker": {
             "line": {
              "color": "white",
              "width": 0.5
             },
             "pattern": {
              "fillmode": "overlay",
              "size": 10,
              "solidity": 0.2
             }
            },
            "type": "barpolar"
           }
          ],
          "carpet": [
           {
            "aaxis": {
             "endlinecolor": "#2a3f5f",
             "gridcolor": "#C8D4E3",
             "linecolor": "#C8D4E3",
             "minorgridcolor": "#C8D4E3",
             "startlinecolor": "#2a3f5f"
            },
            "baxis": {
             "endlinecolor": "#2a3f5f",
             "gridcolor": "#C8D4E3",
             "linecolor": "#C8D4E3",
             "minorgridcolor": "#C8D4E3",
             "startlinecolor": "#2a3f5f"
            },
            "type": "carpet"
           }
          ],
          "choropleth": [
           {
            "colorbar": {
             "outlinewidth": 0,
             "ticks": ""
            },
            "type": "choropleth"
           }
          ],
          "contour": [
           {
            "colorbar": {
             "outlinewidth": 0,
             "ticks": ""
            },
            "colorscale": [
             [
              0,
              "#0d0887"
             ],
             [
              0.1111111111111111,
              "#46039f"
             ],
             [
              0.2222222222222222,
              "#7201a8"
             ],
             [
              0.3333333333333333,
              "#9c179e"
             ],
             [
              0.4444444444444444,
              "#bd3786"
             ],
             [
              0.5555555555555556,
              "#d8576b"
             ],
             [
              0.6666666666666666,
              "#ed7953"
             ],
             [
              0.7777777777777778,
              "#fb9f3a"
             ],
             [
              0.8888888888888888,
              "#fdca26"
             ],
             [
              1,
              "#f0f921"
             ]
            ],
            "type": "contour"
           }
          ],
          "contourcarpet": [
           {
            "colorbar": {
             "outlinewidth": 0,
             "ticks": ""
            },
            "type": "contourcarpet"
           }
          ],
          "heatmap": [
           {
            "colorbar": {
             "outlinewidth": 0,
             "ticks": ""
            },
            "colorscale": [
             [
              0,
              "#0d0887"
             ],
             [
              0.1111111111111111,
              "#46039f"
             ],
             [
              0.2222222222222222,
              "#7201a8"
             ],
             [
              0.3333333333333333,
              "#9c179e"
             ],
             [
              0.4444444444444444,
              "#bd3786"
             ],
             [
              0.5555555555555556,
              "#d8576b"
             ],
             [
              0.6666666666666666,
              "#ed7953"
             ],
             [
              0.7777777777777778,
              "#fb9f3a"
             ],
             [
              0.8888888888888888,
              "#fdca26"
             ],
             [
              1,
              "#f0f921"
             ]
            ],
            "type": "heatmap"
           }
          ],
          "histogram": [
           {
            "marker": {
             "pattern": {
              "fillmode": "overlay",
              "size": 10,
              "solidity": 0.2
             }
            },
            "type": "histogram"
           }
          ],
          "histogram2d": [
           {
            "colorbar": {
             "outlinewidth": 0,
             "ticks": ""
            },
            "colorscale": [
             [
              0,
              "#0d0887"
             ],
             [
              0.1111111111111111,
              "#46039f"
             ],
             [
              0.2222222222222222,
              "#7201a8"
             ],
             [
              0.3333333333333333,
              "#9c179e"
             ],
             [
              0.4444444444444444,
              "#bd3786"
             ],
             [
              0.5555555555555556,
              "#d8576b"
             ],
             [
              0.6666666666666666,
              "#ed7953"
             ],
             [
              0.7777777777777778,
              "#fb9f3a"
             ],
             [
              0.8888888888888888,
              "#fdca26"
             ],
             [
              1,
              "#f0f921"
             ]
            ],
            "type": "histogram2d"
           }
          ],
          "histogram2dcontour": [
           {
            "colorbar": {
             "outlinewidth": 0,
             "ticks": ""
            },
            "colorscale": [
             [
              0,
              "#0d0887"
             ],
             [
              0.1111111111111111,
              "#46039f"
             ],
             [
              0.2222222222222222,
              "#7201a8"
             ],
             [
              0.3333333333333333,
              "#9c179e"
             ],
             [
              0.4444444444444444,
              "#bd3786"
             ],
             [
              0.5555555555555556,
              "#d8576b"
             ],
             [
              0.6666666666666666,
              "#ed7953"
             ],
             [
              0.7777777777777778,
              "#fb9f3a"
             ],
             [
              0.8888888888888888,
              "#fdca26"
             ],
             [
              1,
              "#f0f921"
             ]
            ],
            "type": "histogram2dcontour"
           }
          ],
          "mesh3d": [
           {
            "colorbar": {
             "outlinewidth": 0,
             "ticks": ""
            },
            "type": "mesh3d"
           }
          ],
          "parcoords": [
           {
            "line": {
             "colorbar": {
              "outlinewidth": 0,
              "ticks": ""
             }
            },
            "type": "parcoords"
           }
          ],
          "pie": [
           {
            "automargin": true,
            "type": "pie"
           }
          ],
          "scatter": [
           {
            "fillpattern": {
             "fillmode": "overlay",
             "size": 10,
             "solidity": 0.2
            },
            "type": "scatter"
           }
          ],
          "scatter3d": [
           {
            "line": {
             "colorbar": {
              "outlinewidth": 0,
              "ticks": ""
             }
            },
            "marker": {
             "colorbar": {
              "outlinewidth": 0,
              "ticks": ""
             }
            },
            "type": "scatter3d"
           }
          ],
          "scattercarpet": [
           {
            "marker": {
             "colorbar": {
              "outlinewidth": 0,
              "ticks": ""
             }
            },
            "type": "scattercarpet"
           }
          ],
          "scattergeo": [
           {
            "marker": {
             "colorbar": {
              "outlinewidth": 0,
              "ticks": ""
             }
            },
            "type": "scattergeo"
           }
          ],
          "scattergl": [
           {
            "marker": {
             "colorbar": {
              "outlinewidth": 0,
              "ticks": ""
             }
            },
            "type": "scattergl"
           }
          ],
          "scattermap": [
           {
            "marker": {
             "colorbar": {
              "outlinewidth": 0,
              "ticks": ""
             }
            },
            "type": "scattermap"
           }
          ],
          "scattermapbox": [
           {
            "marker": {
             "colorbar": {
              "outlinewidth": 0,
              "ticks": ""
             }
            },
            "type": "scattermapbox"
           }
          ],
          "scatterpolar": [
           {
            "marker": {
             "colorbar": {
              "outlinewidth": 0,
              "ticks": ""
             }
            },
            "type": "scatterpolar"
           }
          ],
          "scatterpolargl": [
           {
            "marker": {
             "colorbar": {
              "outlinewidth": 0,
              "ticks": ""
             }
            },
            "type": "scatterpolargl"
           }
          ],
          "scatterternary": [
           {
            "marker": {
             "colorbar": {
              "outlinewidth": 0,
              "ticks": ""
             }
            },
            "type": "scatterternary"
           }
          ],
          "surface": [
           {
            "colorbar": {
             "outlinewidth": 0,
             "ticks": ""
            },
            "colorscale": [
             [
              0,
              "#0d0887"
             ],
             [
              0.1111111111111111,
              "#46039f"
             ],
             [
              0.2222222222222222,
              "#7201a8"
             ],
             [
              0.3333333333333333,
              "#9c179e"
             ],
             [
              0.4444444444444444,
              "#bd3786"
             ],
             [
              0.5555555555555556,
              "#d8576b"
             ],
             [
              0.6666666666666666,
              "#ed7953"
             ],
             [
              0.7777777777777778,
              "#fb9f3a"
             ],
             [
              0.8888888888888888,
              "#fdca26"
             ],
             [
              1,
              "#f0f921"
             ]
            ],
            "type": "surface"
           }
          ],
          "table": [
           {
            "cells": {
             "fill": {
              "color": "#EBF0F8"
             },
             "line": {
              "color": "white"
             }
            },
            "header": {
             "fill": {
              "color": "#C8D4E3"
             },
             "line": {
              "color": "white"
             }
            },
            "type": "table"
           }
          ]
         },
         "layout": {
          "annotationdefaults": {
           "arrowcolor": "#2a3f5f",
           "arrowhead": 0,
           "arrowwidth": 1
          },
          "autotypenumbers": "strict",
          "coloraxis": {
           "colorbar": {
            "outlinewidth": 0,
            "ticks": ""
           }
          },
          "colorscale": {
           "diverging": [
            [
             0,
             "#8e0152"
            ],
            [
             0.1,
             "#c51b7d"
            ],
            [
             0.2,
             "#de77ae"
            ],
            [
             0.3,
             "#f1b6da"
            ],
            [
             0.4,
             "#fde0ef"
            ],
            [
             0.5,
             "#f7f7f7"
            ],
            [
             0.6,
             "#e6f5d0"
            ],
            [
             0.7,
             "#b8e186"
            ],
            [
             0.8,
             "#7fbc41"
            ],
            [
             0.9,
             "#4d9221"
            ],
            [
             1,
             "#276419"
            ]
           ],
           "sequential": [
            [
             0,
             "#0d0887"
            ],
            [
             0.1111111111111111,
             "#46039f"
            ],
            [
             0.2222222222222222,
             "#7201a8"
            ],
            [
             0.3333333333333333,
             "#9c179e"
            ],
            [
             0.4444444444444444,
             "#bd3786"
            ],
            [
             0.5555555555555556,
             "#d8576b"
            ],
            [
             0.6666666666666666,
             "#ed7953"
            ],
            [
             0.7777777777777778,
             "#fb9f3a"
            ],
            [
             0.8888888888888888,
             "#fdca26"
            ],
            [
             1,
             "#f0f921"
            ]
           ],
           "sequentialminus": [
            [
             0,
             "#0d0887"
            ],
            [
             0.1111111111111111,
             "#46039f"
            ],
            [
             0.2222222222222222,
             "#7201a8"
            ],
            [
             0.3333333333333333,
             "#9c179e"
            ],
            [
             0.4444444444444444,
             "#bd3786"
            ],
            [
             0.5555555555555556,
             "#d8576b"
            ],
            [
             0.6666666666666666,
             "#ed7953"
            ],
            [
             0.7777777777777778,
             "#fb9f3a"
            ],
            [
             0.8888888888888888,
             "#fdca26"
            ],
            [
             1,
             "#f0f921"
            ]
           ]
          },
          "colorway": [
           "#636efa",
           "#EF553B",
           "#00cc96",
           "#ab63fa",
           "#FFA15A",
           "#19d3f3",
           "#FF6692",
           "#B6E880",
           "#FF97FF",
           "#FECB52"
          ],
          "font": {
           "color": "#2a3f5f"
          },
          "geo": {
           "bgcolor": "white",
           "lakecolor": "white",
           "landcolor": "white",
           "showlakes": true,
           "showland": true,
           "subunitcolor": "#C8D4E3"
          },
          "hoverlabel": {
           "align": "left"
          },
          "hovermode": "closest",
          "mapbox": {
           "style": "light"
          },
          "paper_bgcolor": "white",
          "plot_bgcolor": "white",
          "polar": {
           "angularaxis": {
            "gridcolor": "#EBF0F8",
            "linecolor": "#EBF0F8",
            "ticks": ""
           },
           "bgcolor": "white",
           "radialaxis": {
            "gridcolor": "#EBF0F8",
            "linecolor": "#EBF0F8",
            "ticks": ""
           }
          },
          "scene": {
           "xaxis": {
            "backgroundcolor": "white",
            "gridcolor": "#DFE8F3",
            "gridwidth": 2,
            "linecolor": "#EBF0F8",
            "showbackground": true,
            "ticks": "",
            "zerolinecolor": "#EBF0F8"
           },
           "yaxis": {
            "backgroundcolor": "white",
            "gridcolor": "#DFE8F3",
            "gridwidth": 2,
            "linecolor": "#EBF0F8",
            "showbackground": true,
            "ticks": "",
            "zerolinecolor": "#EBF0F8"
           },
           "zaxis": {
            "backgroundcolor": "white",
            "gridcolor": "#DFE8F3",
            "gridwidth": 2,
            "linecolor": "#EBF0F8",
            "showbackground": true,
            "ticks": "",
            "zerolinecolor": "#EBF0F8"
           }
          },
          "shapedefaults": {
           "line": {
            "color": "#2a3f5f"
           }
          },
          "ternary": {
           "aaxis": {
            "gridcolor": "#DFE8F3",
            "linecolor": "#A2B1C6",
            "ticks": ""
           },
           "baxis": {
            "gridcolor": "#DFE8F3",
            "linecolor": "#A2B1C6",
            "ticks": ""
           },
           "bgcolor": "white",
           "caxis": {
            "gridcolor": "#DFE8F3",
            "linecolor": "#A2B1C6",
            "ticks": ""
           }
          },
          "title": {
           "x": 0.05
          },
          "xaxis": {
           "automargin": true,
           "gridcolor": "#EBF0F8",
           "linecolor": "#EBF0F8",
           "ticks": "",
           "title": {
            "standoff": 15
           },
           "zerolinecolor": "#EBF0F8",
           "zerolinewidth": 2
          },
          "yaxis": {
           "automargin": true,
           "gridcolor": "#EBF0F8",
           "linecolor": "#EBF0F8",
           "ticks": "",
           "title": {
            "standoff": 15
           },
           "zerolinecolor": "#EBF0F8",
           "zerolinewidth": 2
          }
         }
        },
        "title": {
         "text": "Utilitarian",
         "x": 0.5
        },
        "width": 1000,
        "xaxis": {
         "linecolor": "black",
         "linewidth": 2,
         "showgrid": false,
         "showline": true,
         "tickfont": {
          "size": 20
         },
         "ticks": "outside",
         "title": {
          "text": "Number of Function Evaluations"
         }
        },
        "yaxis": {
         "linecolor": "black",
         "linewidth": 2,
         "range": [
          0,
          0.7
         ],
         "showgrid": false,
         "showline": true,
         "tickfont": {
          "size": 20
         },
         "ticks": "outside",
         "tickvals": {
          "bdata": "mpmZmZmZuT+amZmZmZnJPzQzMzMzM9M/mpmZmZmZ2T8AAAAAAADgPzQzMzMzM+M/",
          "dtype": "f8"
         },
         "title": {
          "text": "Hypervolume"
         }
        }
       }
      }
     },
     "metadata": {},
     "output_type": "display_data"
    }
   ],
   "source": [
    "from justice.util.visualizer import plot_hypervolume\n",
    "\n",
    "\n",
    "input_data_path_list = {\n",
    "    \n",
    "   swf.value[1]: [\n",
    "        f\"{swf.value[1]}_{nfe}_521475_hv.csv\",\n",
    "        f\"{swf.value[1]}_{nfe}_1644652_hv.csv\",\n",
    "        f\"{swf.value[1]}_{nfe}_3569126_hv.csv\",\n",
    "        f\"{swf.value[1]}_{nfe}_6075612_hv.csv\",\n",
    "\n",
    "        f\"{swf.value[1]}_{nfe}_52147500_hv.csv\",\n",
    "        f\"{swf.value[1]}_{nfe}_164465200_hv.csv\",\n",
    "        f\"{swf.value[1]}_{nfe}_356912600_hv.csv\",\n",
    "        f\"{swf.value[1]}_{nfe}_607561200_hv.csv\",\n",
    "    ],\n",
    "}\n",
    "\n",
    "\n",
    "fig = plot_hypervolume(\n",
    "    path_to_data=path,\n",
    "    path_to_output=path,\n",
    "    input_data=input_data_path_list,\n",
    "    yaxis_upper_limit=0.7,\n",
    "    width=1000,\n",
    "    height=800,\n",
    "    fontsize=20,\n",
    "    saving=True,\n",
    ")\n",
    "\n",
    "fig.show()"
   ]
  },
  {
   "cell_type": "code",
   "execution_count": null,
   "id": "156cd5f3",
   "metadata": {},
   "outputs": [
    {
     "name": "stdout",
     "output_type": "stream",
     "text": [
      "Reading data/temporary/NU_DATA/ensgaii/SSP3/UTILITARIAN_reference_set.csv\n",
      "Index of interest for UTILITARIAN: 0\n",
      "[np.int64(0)]\n",
      "index for policy:  0\n",
      "3 SSP370\n",
      "Welfare:  111.45053698679108\n",
      "Keys of the scenario data:  dict_keys(['SSP370'])\n",
      "File saved as UTILITARIAN_reference_set_idx0 at location data/temporary/NU_DATA/ensgaii/SSP3/\n"
     ]
    },
    {
     "data": {
      "text/plain": [
       "{'status': 'ok', 'restart': True}"
      ]
     },
     "execution_count": 4,
     "metadata": {},
     "output_type": "execute_result"
    },
    {
     "ename": "",
     "evalue": "",
     "output_type": "error",
     "traceback": [
      "\u001b[1;31mThe Kernel crashed while executing code in the current cell or a previous cell. \n",
      "\u001b[1;31mPlease review the code in the cell(s) to identify a possible cause of the failure. \n",
      "\u001b[1;31mClick <a href='https://aka.ms/vscodeJupyterKernelCrash'>here</a> for more info. \n",
      "\u001b[1;31mView Jupyter <a href='command:jupyter.viewOutput'>log</a> for further details."
     ]
    }
   ],
   "source": [
    "\n",
    "# NOTE: Restart the Kernel after each run. Jupyter has some issues running this which corrupts the data file\n",
    "\n",
    "import IPython\n",
    "import pandas as pd\n",
    "from justice.util.output_data_processor import reevaluate_optimal_policy, get_selected_policy_indices_based_on_welfare_temperature, reevaluated_optimal_policy_variable_extractor\n",
    "from justice.util.model_time import TimeHorizon\n",
    "from justice.util.data_loader import DataLoader\n",
    "\n",
    "selected_indices = get_selected_policy_indices_based_on_welfare_temperature(\n",
    "    \n",
    "    # Change This and the one below\n",
    "    rival_framings=[\n",
    "        swf.value[1]\n",
    "    ],\n",
    "    data_dir=path,\n",
    "    n_percent=0.1, # 10% of the data\n",
    "    second_objective_of_interest=\"fraction_above_threshold\",  # This is the second objective of interest\n",
    ")\n",
    "print(selected_indices)\n",
    "# ############################################################################################################\n",
    "scenario_list = [\"SSP370\"] # SSP370 SSP245\n",
    "start_year = 2015\n",
    "end_year = 2300\n",
    "data_timestep = 5\n",
    "timestep = 1\n",
    "\n",
    "data_loader = DataLoader()\n",
    "region_list = data_loader.REGION_LIST\n",
    "\n",
    "# Set the time horizon\n",
    "time_horizon = TimeHorizon(\n",
    "    start_year=start_year,\n",
    "    end_year=end_year,\n",
    "    data_timestep=data_timestep,\n",
    "    timestep=timestep,\n",
    ")\n",
    "\n",
    "list_of_years = time_horizon.model_time_horizon\n",
    "\n",
    "# NOTE: The following code generates large dataframes and saved them in the data/temporary folder. Size is ~ 1.5 GB each run\n",
    "reevaluate_optimal_policy(\n",
    "    \n",
    "    # Change this\n",
    "    input_data=[\n",
    "\n",
    "        f\"{swf.value[1]}_reference_set.csv\",\n",
    "\n",
    "    ],\n",
    "    path_to_rbf_weights=path,  #  reevaluation\n",
    "    path_to_output=path,\n",
    "    direction_of_optimization=[\n",
    "        \"min\",\n",
    "        \"min\",\n",
    "\n",
    "    ],\n",
    "    rbf_policy_index= selected_indices[0], # This chooses policy for a particular rival framing. NOTE: Can also set to the index directly\n",
    "    list_of_objectives=[\n",
    "        \"welfare\",\n",
    "        \"fraction_above_threshold\",\n",
    "\n",
    "    ],\n",
    "    scenario_list=scenario_list,  \n",
    ")\n",
    "\n",
    "\n",
    "\n",
    "# Restarting the Kernel\n",
    "IPython.Application.instance().kernel.do_shutdown(True) #automatically restarts kernel\n",
    "\n"
   ]
  },
  {
   "cell_type": "code",
   "execution_count": 2,
   "id": "408494af",
   "metadata": {},
   "outputs": [
    {
     "name": "stderr",
     "output_type": "stream",
     "text": [
      "/Users/palokbiswas/Desktop/pollockdevis_git/JUSTICE/venv/lib/python3.9/site-packages/tqdm/auto.py:21: TqdmWarning: IProgress not found. Please update jupyter and ipywidgets. See https://ipywidgets.readthedocs.io/en/stable/user_install.html\n",
      "  from .autonotebook import tqdm as notebook_tqdm\n"
     ]
    },
    {
     "name": "stdout",
     "output_type": "stream",
     "text": [
      "Directory:  /Users/palokbiswas/Desktop/pollockdevis_git/JUSTICE\n",
      "SSP370\n",
      "File saved as PRIORITARIAN_idx1_SSP370_constrained_emission_control_rate at location data/temporary/NU_DATA/ensgaii/SSP3\n"
     ]
    }
   ],
   "source": [
    "import pandas as pd\n",
    "from justice.util.output_data_processor import reevaluate_optimal_policy, get_selected_policy_indices_based_on_welfare_temperature, reevaluated_optimal_policy_variable_extractor\n",
    "from justice.util.model_time import TimeHorizon\n",
    "from justice.util.data_loader import DataLoader\n",
    "\n",
    "idx = 1 # (22-Utilitarian SSP2, 9 for SSP3, PRIOR 6 for SSP2 and 3 for SSP3) ENSGAII(U SSP2 - 1; P SSP2-3; U SSP3 0;  P SSP3-1)\n",
    "scenario_list = [\"SSP370\"] ## SSP370 SSP245\n",
    "start_year = 2015\n",
    "end_year = 2300\n",
    "data_timestep = 5\n",
    "timestep = 1\n",
    "\n",
    "data_loader = DataLoader()\n",
    "region_list = data_loader.REGION_LIST\n",
    "\n",
    "# Set the time horizon\n",
    "time_horizon = TimeHorizon(\n",
    "    start_year=start_year,\n",
    "    end_year=end_year,\n",
    "    data_timestep=data_timestep,\n",
    "    timestep=timestep,\n",
    ")\n",
    "\n",
    "list_of_years = time_horizon.model_time_horizon\n",
    "\n",
    "\n",
    "\n",
    "\n",
    "############################################################################################################\n",
    "reevaluated_optimal_policy_variable_extractor(\n",
    "    scenario_list=scenario_list,  # ['SSP245'],\n",
    "    region_list=region_list,\n",
    "    list_of_years=list_of_years,\n",
    "    path_to_data=path, \n",
    "    path_to_output=path,\n",
    "    \n",
    "    variable_name=\"constrained_emission_control_rate\", #\"constrained_emission_control_rate\", #\"emissions\",  # \"global_temperature\" (USE with data_shape=2, \n",
    "    data_shape=3, #NOTE CHANGE THIS: 2 Only for temperature, 3 for rest (emission, constrained_emission_control_rate)\n",
    "    \n",
    "    no_of_ensembles=1001,\n",
    "    input_data=[\n",
    "        # Main Set for analysis - 10% Welfare\n",
    "        f\"{swf.value[1]}_reference_set_idx{idx}.h5\",\n",
    "\n",
    "\n",
    "\n",
    "    ],\n",
    "    output_file_names=[ # NOTE: Change these accordingly\n",
    "        swf.value[1],\n",
    "\n",
    "\n",
    "    ],\n",
    ")\n",
    "\n",
    "\n"
   ]
  },
  {
   "cell_type": "code",
   "execution_count": 3,
   "id": "7f3c729b",
   "metadata": {},
   "outputs": [
    {
     "name": "stdout",
     "output_type": "stream",
     "text": [
      "Taking average over the last dimension.\n",
      "Taking average over the last dimension.\n",
      "0\n",
      "1\n"
     ]
    },
    {
     "data": {
      "application/vnd.plotly.v1+json": {
       "config": {
        "plotlyServerURL": "https://plot.ly"
       },
       "data": [
        {
         "coloraxis": "coloraxis",
         "geo": "geo",
         "hovertemplate": "<b>%{hovertext}</b><br><br>CountryCode=%{location}<br>Emission Control Rate=%{z}<extra></extra>",
         "hovertext": [
          "Bonaire, Sint Eustatius and Saba",
          "Curaçao",
          "Sint Maarten (Dutch part)",
          "Aruba",
          "Bahamas",
          "Belize",
          "Barbados",
          "Costa Rica",
          "Cuba",
          "Dominica",
          "Dominican Republic",
          "Grenada",
          "Guatemala",
          "Honduras",
          "Haiti",
          "Jamaica",
          "Saint Lucia",
          "Nicaragua",
          "Panama",
          "El Salvador",
          "Trinidad and Tobago",
          "Saint Vincent and the Grenadines",
          "Antarctica",
          "Bermuda",
          "South Georgia and the South Sandwich Islands",
          "Turks and Caicos Islands",
          "Virgin Islands, British",
          "Virgin Islands, U.S.",
          "Anguilla",
          "Antigua and Barbuda",
          "Saint Barthélemy",
          "Cayman Islands",
          "Guadeloupe",
          "Saint Kitts and Nevis",
          "Saint Martin (French part)",
          "Montserrat",
          "Martinique",
          "Puerto Rico",
          "Western Sahara",
          "Tunisia",
          "Morocco",
          "Austria",
          "Belgium",
          "Germany",
          "Denmark",
          "Spain",
          "Finland",
          "France",
          "United Kingdom",
          "Greece",
          "Ireland",
          "Italy",
          "Netherlands",
          "Portugal",
          "Sweden",
          "Bulgaria",
          "Czechia",
          "Hungary",
          "Poland",
          "Romania",
          "Slovakia",
          "Slovenia",
          "Croatia",
          "Norway",
          "Switzerland",
          "Türkiye",
          "Estonia",
          "Lithuania",
          "Latvia",
          "Cyprus",
          "Luxembourg",
          "Malta",
          "Liechtenstein",
          "Greenland",
          "Iceland",
          "Faroe Islands",
          "Åland Islands",
          "Andorra",
          "Guernsey",
          "Gibraltar",
          "Isle of Man",
          "Jersey",
          "Monaco",
          "Svalbard and Jan Mayen",
          "San Marino",
          "Holy See (Vatican City State)",
          "Saint Pierre and Miquelon",
          "Bosnia and Herzegovina",
          "Albania",
          "North Macedonia",
          "Montenegro",
          "Serbia",
          "Kosovo",
          "Libya",
          "Algeria",
          "Egypt",
          "South Africa",
          "Angola",
          "Benin",
          "Botswana",
          "Burkina Faso",
          "Burundi",
          "Cameroon",
          "Cabo Verde",
          "Central African Republic",
          "Chad",
          "Comoros",
          "Congo",
          "Congo, The Democratic Republic of the",
          "Côte d'Ivoire",
          "Equatorial Guinea",
          "Eritrea",
          "Ethiopia",
          "Gabon",
          "Gambia",
          "Ghana",
          "Guinea",
          "Guinea-Bissau",
          "Kenya",
          "Lesotho",
          "Liberia",
          "Madagascar",
          "Malawi",
          "Mali",
          "Mauritania",
          "Mauritius",
          "Mayotte",
          "Mozambique",
          "Namibia",
          "Niger",
          "Nigeria",
          "Réunion",
          "Rwanda",
          "Sao Tome and Principe",
          "Senegal",
          "Seychelles",
          "Saint Helena, Ascension and Tristan da Cunha",
          "Sierra Leone",
          "Somalia",
          "South Sudan",
          "Sudan",
          "Eswatini",
          "Tanzania, United Republic of",
          "Togo",
          "Uganda",
          "Zambia",
          "Zimbabwe",
          "Djibouti",
          "British Indian Ocean Territory",
          "Bouvet Island",
          "French Southern Territories",
          "Israel",
          "Jordan",
          "Syrian Arab Republic",
          "Lebanon",
          "Palestine, State of",
          "United Arab Emirates",
          "Bahrain",
          "Iran, Islamic Republic of",
          "Iraq",
          "Kuwait",
          "Oman",
          "Qatar",
          "Saudi Arabia",
          "Yemen",
          "Australia",
          "Christmas Island",
          "Cook Islands",
          "Heard Island and McDonald Islands",
          "Norfolk Island",
          "Niue",
          "Nauru",
          "Pitcairn",
          "Tokelau",
          "Tuvalu",
          "United States Minor Outlying Islands",
          "Wallis and Futuna",
          "Fiji",
          "Papua New Guinea",
          "Micronesia, Federated States of",
          "Guam",
          "American Samoa",
          "Timor-Leste",
          "French Polynesia",
          "Kiribati",
          "Northern Mariana Islands",
          "Marshall Islands",
          "New Caledonia",
          "Palau",
          "Samoa",
          "Solomon Islands",
          "Tonga",
          "Vanuatu",
          "New Zealand",
          "China",
          "India",
          "Malaysia",
          "Thailand",
          "Viet Nam",
          "Japan",
          "Korea, Republic of",
          "Indonesia",
          "Brunei Darussalam",
          "Cocos (Keeling) Islands",
          "Cambodia",
          "Lao People's Democratic Republic",
          "Myanmar",
          "Philippines",
          "Singapore",
          "Korea, Democratic People's Republic of",
          "Hong Kong",
          "Macao",
          "Taiwan, Province of China",
          "Mongolia",
          "Afghanistan",
          "Bangladesh",
          "Bhutan",
          "Sri Lanka",
          "Maldives",
          "Nepal",
          "Pakistan",
          "Argentina",
          "Brazil",
          "Chile",
          "Bolivia, Plurinational State of",
          "Colombia",
          "Ecuador",
          "Falkland Islands (Malvinas)",
          "French Guiana",
          "Guyana",
          "Peru",
          "Paraguay",
          "Suriname",
          "Uruguay",
          "Venezuela, Bolivarian Republic of",
          "Mexico",
          "Canada",
          "United States",
          "Russian Federation",
          "Ukraine",
          "Armenia",
          "Azerbaijan",
          "Belarus",
          "Georgia",
          "Kazakhstan",
          "Kyrgyzstan",
          "Moldova, Republic of",
          "Tajikistan",
          "Turkmenistan",
          "Uzbekistan"
         ],
         "locations": [
          "BES",
          "CUW",
          "SXM",
          "ABW",
          "BHS",
          "BLZ",
          "BRB",
          "CRI",
          "CUB",
          "DMA",
          "DOM",
          "GRD",
          "GTM",
          "HND",
          "HTI",
          "JAM",
          "LCA",
          "NIC",
          "PAN",
          "SLV",
          "TTO",
          "VCT",
          "ATA",
          "BMU",
          "SGS",
          "TCA",
          "VGB",
          "VIR",
          "AIA",
          "ATG",
          "BLM",
          "CYM",
          "GLP",
          "KNA",
          "MAF",
          "MSR",
          "MTQ",
          "PRI",
          "ESH",
          "TUN",
          "MAR",
          "AUT",
          "BEL",
          "DEU",
          "DNK",
          "ESP",
          "FIN",
          "FRA",
          "GBR",
          "GRC",
          "IRL",
          "ITA",
          "NLD",
          "PRT",
          "SWE",
          "BGR",
          "CZE",
          "HUN",
          "POL",
          "ROU",
          "SVK",
          "SVN",
          "HRV",
          "NOR",
          "CHE",
          "TUR",
          "EST",
          "LTU",
          "LVA",
          "CYP",
          "LUX",
          "MLT",
          "LIE",
          "GRL",
          "ISL",
          "FRO",
          "ALA",
          "AND",
          "GGY",
          "GIB",
          "IMN",
          "JEY",
          "MCO",
          "SJM",
          "SMR",
          "VAT",
          "SPM",
          "BIH",
          "ALB",
          "MKD",
          "MNE",
          "SRB",
          "KSV",
          "LBY",
          "DZA",
          "EGY",
          "ZAF",
          "AGO",
          "BEN",
          "BWA",
          "BFA",
          "BDI",
          "CMR",
          "CPV",
          "CAF",
          "TCD",
          "COM",
          "COG",
          "COD",
          "CIV",
          "GNQ",
          "ERI",
          "ETH",
          "GAB",
          "GMB",
          "GHA",
          "GIN",
          "GNB",
          "KEN",
          "LSO",
          "LBR",
          "MDG",
          "MWI",
          "MLI",
          "MRT",
          "MUS",
          "MYT",
          "MOZ",
          "NAM",
          "NER",
          "NGA",
          "REU",
          "RWA",
          "STP",
          "SEN",
          "SYC",
          "SHN",
          "SLE",
          "SOM",
          "SSD",
          "SDN",
          "SWZ",
          "TZA",
          "TGO",
          "UGA",
          "ZMB",
          "ZWE",
          "DJI",
          "IOT",
          "BVT",
          "ATF",
          "ISR",
          "JOR",
          "SYR",
          "LBN",
          "PSE",
          "ARE",
          "BHR",
          "IRN",
          "IRQ",
          "KWT",
          "OMN",
          "QAT",
          "SAU",
          "YEM",
          "AUS",
          "CXR",
          "COK",
          "HMD",
          "NFK",
          "NIU",
          "NRU",
          "PCN",
          "TKL",
          "TUV",
          "UMI",
          "WLF",
          "FJI",
          "PNG",
          "FSM",
          "GUM",
          "ASM",
          "TLS",
          "PYF",
          "KIR",
          "MNP",
          "MHL",
          "NCL",
          "PLW",
          "WSM",
          "SLB",
          "TON",
          "VUT",
          "NZL",
          "CHN",
          "IND",
          "MYS",
          "THA",
          "VNM",
          "JPN",
          "KOR",
          "IDN",
          "BRN",
          "CCK",
          "KHM",
          "LAO",
          "MMR",
          "PHL",
          "SGP",
          "PRK",
          "HKG",
          "MAC",
          "TWN",
          "MNG",
          "AFG",
          "BGD",
          "BTN",
          "LKA",
          "MDV",
          "NPL",
          "PAK",
          "ARG",
          "BRA",
          "CHL",
          "BOL",
          "COL",
          "ECU",
          "FLK",
          "GUF",
          "GUY",
          "PER",
          "PRY",
          "SUR",
          "URY",
          "VEN",
          "MEX",
          "CAN",
          "USA",
          "RUS",
          "UKR",
          "ARM",
          "AZE",
          "BLR",
          "GEO",
          "KAZ",
          "KGZ",
          "MDA",
          "TJK",
          "TKM",
          "UZB"
         ],
         "name": "",
         "type": "choropleth",
         "z": {
          "bdata": "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",
          "dtype": "f8"
         }
        }
       ],
       "layout": {
        "coloraxis": {
         "cmax": 1,
         "cmin": 0,
         "colorbar": {
          "lenmode": "pixels",
          "tickmode": "array",
          "ticks": "inside",
          "ticktext": [
           "0%",
           "25%",
           "50%",
           "75%",
           "100%"
          ],
          "tickvals": [
           0,
           0.25,
           0.5,
           0.75,
           1
          ],
          "title": {
           "text": ""
          }
         },
         "colorscale": [
          [
           0,
           "rgb(255,245,240)"
          ],
          [
           0.125,
           "rgb(254,224,210)"
          ],
          [
           0.25,
           "rgb(252,187,161)"
          ],
          [
           0.375,
           "rgb(252,146,114)"
          ],
          [
           0.5,
           "rgb(251,106,74)"
          ],
          [
           0.625,
           "rgb(239,59,44)"
          ],
          [
           0.75,
           "rgb(203,24,29)"
          ],
          [
           0.875,
           "rgb(165,15,21)"
          ],
          [
           1,
           "rgb(103,0,13)"
          ]
         ]
        },
        "geo": {
         "center": {},
         "domain": {
          "x": [
           0,
           1
          ],
          "y": [
           0,
           1
          ]
         },
         "projection": {
          "type": "natural earth1"
         },
         "scope": "world"
        },
        "height": 700,
        "legend": {
         "tracegroupgap": 0
        },
        "margin": {
         "t": 60
        },
        "template": {
         "data": {
          "bar": [
           {
            "error_x": {
             "color": "#2a3f5f"
            },
            "error_y": {
             "color": "#2a3f5f"
            },
            "marker": {
             "line": {
              "color": "#E5ECF6",
              "width": 0.5
             },
             "pattern": {
              "fillmode": "overlay",
              "size": 10,
              "solidity": 0.2
             }
            },
            "type": "bar"
           }
          ],
          "barpolar": [
           {
            "marker": {
             "line": {
              "color": "#E5ECF6",
              "width": 0.5
             },
             "pattern": {
              "fillmode": "overlay",
              "size": 10,
              "solidity": 0.2
             }
            },
            "type": "barpolar"
           }
          ],
          "carpet": [
           {
            "aaxis": {
             "endlinecolor": "#2a3f5f",
             "gridcolor": "white",
             "linecolor": "white",
             "minorgridcolor": "white",
             "startlinecolor": "#2a3f5f"
            },
            "baxis": {
             "endlinecolor": "#2a3f5f",
             "gridcolor": "white",
             "linecolor": "white",
             "minorgridcolor": "white",
             "startlinecolor": "#2a3f5f"
            },
            "type": "carpet"
           }
          ],
          "choropleth": [
           {
            "colorbar": {
             "outlinewidth": 0,
             "ticks": ""
            },
            "type": "choropleth"
           }
          ],
          "contour": [
           {
            "colorbar": {
             "outlinewidth": 0,
             "ticks": ""
            },
            "colorscale": [
             [
              0,
              "#0d0887"
             ],
             [
              0.1111111111111111,
              "#46039f"
             ],
             [
              0.2222222222222222,
              "#7201a8"
             ],
             [
              0.3333333333333333,
              "#9c179e"
             ],
             [
              0.4444444444444444,
              "#bd3786"
             ],
             [
              0.5555555555555556,
              "#d8576b"
             ],
             [
              0.6666666666666666,
              "#ed7953"
             ],
             [
              0.7777777777777778,
              "#fb9f3a"
             ],
             [
              0.8888888888888888,
              "#fdca26"
             ],
             [
              1,
              "#f0f921"
             ]
            ],
            "type": "contour"
           }
          ],
          "contourcarpet": [
           {
            "colorbar": {
             "outlinewidth": 0,
             "ticks": ""
            },
            "type": "contourcarpet"
           }
          ],
          "heatmap": [
           {
            "colorbar": {
             "outlinewidth": 0,
             "ticks": ""
            },
            "colorscale": [
             [
              0,
              "#0d0887"
             ],
             [
              0.1111111111111111,
              "#46039f"
             ],
             [
              0.2222222222222222,
              "#7201a8"
             ],
             [
              0.3333333333333333,
              "#9c179e"
             ],
             [
              0.4444444444444444,
              "#bd3786"
             ],
             [
              0.5555555555555556,
              "#d8576b"
             ],
             [
              0.6666666666666666,
              "#ed7953"
             ],
             [
              0.7777777777777778,
              "#fb9f3a"
             ],
             [
              0.8888888888888888,
              "#fdca26"
             ],
             [
              1,
              "#f0f921"
             ]
            ],
            "type": "heatmap"
           }
          ],
          "histogram": [
           {
            "marker": {
             "pattern": {
              "fillmode": "overlay",
              "size": 10,
              "solidity": 0.2
             }
            },
            "type": "histogram"
           }
          ],
          "histogram2d": [
           {
            "colorbar": {
             "outlinewidth": 0,
             "ticks": ""
            },
            "colorscale": [
             [
              0,
              "#0d0887"
             ],
             [
              0.1111111111111111,
              "#46039f"
             ],
             [
              0.2222222222222222,
              "#7201a8"
             ],
             [
              0.3333333333333333,
              "#9c179e"
             ],
             [
              0.4444444444444444,
              "#bd3786"
             ],
             [
              0.5555555555555556,
              "#d8576b"
             ],
             [
              0.6666666666666666,
              "#ed7953"
             ],
             [
              0.7777777777777778,
              "#fb9f3a"
             ],
             [
              0.8888888888888888,
              "#fdca26"
             ],
             [
              1,
              "#f0f921"
             ]
            ],
            "type": "histogram2d"
           }
          ],
          "histogram2dcontour": [
           {
            "colorbar": {
             "outlinewidth": 0,
             "ticks": ""
            },
            "colorscale": [
             [
              0,
              "#0d0887"
             ],
             [
              0.1111111111111111,
              "#46039f"
             ],
             [
              0.2222222222222222,
              "#7201a8"
             ],
             [
              0.3333333333333333,
              "#9c179e"
             ],
             [
              0.4444444444444444,
              "#bd3786"
             ],
             [
              0.5555555555555556,
              "#d8576b"
             ],
             [
              0.6666666666666666,
              "#ed7953"
             ],
             [
              0.7777777777777778,
              "#fb9f3a"
             ],
             [
              0.8888888888888888,
              "#fdca26"
             ],
             [
              1,
              "#f0f921"
             ]
            ],
            "type": "histogram2dcontour"
           }
          ],
          "mesh3d": [
           {
            "colorbar": {
             "outlinewidth": 0,
             "ticks": ""
            },
            "type": "mesh3d"
           }
          ],
          "parcoords": [
           {
            "line": {
             "colorbar": {
              "outlinewidth": 0,
              "ticks": ""
             }
            },
            "type": "parcoords"
           }
          ],
          "pie": [
           {
            "automargin": true,
            "type": "pie"
           }
          ],
          "scatter": [
           {
            "fillpattern": {
             "fillmode": "overlay",
             "size": 10,
             "solidity": 0.2
            },
            "type": "scatter"
           }
          ],
          "scatter3d": [
           {
            "line": {
             "colorbar": {
              "outlinewidth": 0,
              "ticks": ""
             }
            },
            "marker": {
             "colorbar": {
              "outlinewidth": 0,
              "ticks": ""
             }
            },
            "type": "scatter3d"
           }
          ],
          "scattercarpet": [
           {
            "marker": {
             "colorbar": {
              "outlinewidth": 0,
              "ticks": ""
             }
            },
            "type": "scattercarpet"
           }
          ],
          "scattergeo": [
           {
            "marker": {
             "colorbar": {
              "outlinewidth": 0,
              "ticks": ""
             }
            },
            "type": "scattergeo"
           }
          ],
          "scattergl": [
           {
            "marker": {
             "colorbar": {
              "outlinewidth": 0,
              "ticks": ""
             }
            },
            "type": "scattergl"
           }
          ],
          "scattermap": [
           {
            "marker": {
             "colorbar": {
              "outlinewidth": 0,
              "ticks": ""
             }
            },
            "type": "scattermap"
           }
          ],
          "scattermapbox": [
           {
            "marker": {
             "colorbar": {
              "outlinewidth": 0,
              "ticks": ""
             }
            },
            "type": "scattermapbox"
           }
          ],
          "scatterpolar": [
           {
            "marker": {
             "colorbar": {
              "outlinewidth": 0,
              "ticks": ""
             }
            },
            "type": "scatterpolar"
           }
          ],
          "scatterpolargl": [
           {
            "marker": {
             "colorbar": {
              "outlinewidth": 0,
              "ticks": ""
             }
            },
            "type": "scatterpolargl"
           }
          ],
          "scatterternary": [
           {
            "marker": {
             "colorbar": {
              "outlinewidth": 0,
              "ticks": ""
             }
            },
            "type": "scatterternary"
           }
          ],
          "surface": [
           {
            "colorbar": {
             "outlinewidth": 0,
             "ticks": ""
            },
            "colorscale": [
             [
              0,
              "#0d0887"
             ],
             [
              0.1111111111111111,
              "#46039f"
             ],
             [
              0.2222222222222222,
              "#7201a8"
             ],
             [
              0.3333333333333333,
              "#9c179e"
             ],
             [
              0.4444444444444444,
              "#bd3786"
             ],
             [
              0.5555555555555556,
              "#d8576b"
             ],
             [
              0.6666666666666666,
              "#ed7953"
             ],
             [
              0.7777777777777778,
              "#fb9f3a"
             ],
             [
              0.8888888888888888,
              "#fdca26"
             ],
             [
              1,
              "#f0f921"
             ]
            ],
            "type": "surface"
           }
          ],
          "table": [
           {
            "cells": {
             "fill": {
              "color": "#EBF0F8"
             },
             "line": {
              "color": "white"
             }
            },
            "header": {
             "fill": {
              "color": "#C8D4E3"
             },
             "line": {
              "color": "white"
             }
            },
            "type": "table"
           }
          ]
         },
         "layout": {
          "annotationdefaults": {
           "arrowcolor": "#2a3f5f",
           "arrowhead": 0,
           "arrowwidth": 1
          },
          "autotypenumbers": "strict",
          "coloraxis": {
           "colorbar": {
            "outlinewidth": 0,
            "ticks": ""
           }
          },
          "colorscale": {
           "diverging": [
            [
             0,
             "#8e0152"
            ],
            [
             0.1,
             "#c51b7d"
            ],
            [
             0.2,
             "#de77ae"
            ],
            [
             0.3,
             "#f1b6da"
            ],
            [
             0.4,
             "#fde0ef"
            ],
            [
             0.5,
             "#f7f7f7"
            ],
            [
             0.6,
             "#e6f5d0"
            ],
            [
             0.7,
             "#b8e186"
            ],
            [
             0.8,
             "#7fbc41"
            ],
            [
             0.9,
             "#4d9221"
            ],
            [
             1,
             "#276419"
            ]
           ],
           "sequential": [
            [
             0,
             "#0d0887"
            ],
            [
             0.1111111111111111,
             "#46039f"
            ],
            [
             0.2222222222222222,
             "#7201a8"
            ],
            [
             0.3333333333333333,
             "#9c179e"
            ],
            [
             0.4444444444444444,
             "#bd3786"
            ],
            [
             0.5555555555555556,
             "#d8576b"
            ],
            [
             0.6666666666666666,
             "#ed7953"
            ],
            [
             0.7777777777777778,
             "#fb9f3a"
            ],
            [
             0.8888888888888888,
             "#fdca26"
            ],
            [
             1,
             "#f0f921"
            ]
           ],
           "sequentialminus": [
            [
             0,
             "#0d0887"
            ],
            [
             0.1111111111111111,
             "#46039f"
            ],
            [
             0.2222222222222222,
             "#7201a8"
            ],
            [
             0.3333333333333333,
             "#9c179e"
            ],
            [
             0.4444444444444444,
             "#bd3786"
            ],
            [
             0.5555555555555556,
             "#d8576b"
            ],
            [
             0.6666666666666666,
             "#ed7953"
            ],
            [
             0.7777777777777778,
             "#fb9f3a"
            ],
            [
             0.8888888888888888,
             "#fdca26"
            ],
            [
             1,
             "#f0f921"
            ]
           ]
          },
          "colorway": [
           "#636efa",
           "#EF553B",
           "#00cc96",
           "#ab63fa",
           "#FFA15A",
           "#19d3f3",
           "#FF6692",
           "#B6E880",
           "#FF97FF",
           "#FECB52"
          ],
          "font": {
           "color": "#2a3f5f"
          },
          "geo": {
           "bgcolor": "white",
           "lakecolor": "white",
           "landcolor": "#E5ECF6",
           "showlakes": true,
           "showland": true,
           "subunitcolor": "white"
          },
          "hoverlabel": {
           "align": "left"
          },
          "hovermode": "closest",
          "mapbox": {
           "style": "light"
          },
          "paper_bgcolor": "white",
          "plot_bgcolor": "#E5ECF6",
          "polar": {
           "angularaxis": {
            "gridcolor": "white",
            "linecolor": "white",
            "ticks": ""
           },
           "bgcolor": "#E5ECF6",
           "radialaxis": {
            "gridcolor": "white",
            "linecolor": "white",
            "ticks": ""
           }
          },
          "scene": {
           "xaxis": {
            "backgroundcolor": "#E5ECF6",
            "gridcolor": "white",
            "gridwidth": 2,
            "linecolor": "white",
            "showbackground": true,
            "ticks": "",
            "zerolinecolor": "white"
           },
           "yaxis": {
            "backgroundcolor": "#E5ECF6",
            "gridcolor": "white",
            "gridwidth": 2,
            "linecolor": "white",
            "showbackground": true,
            "ticks": "",
            "zerolinecolor": "white"
           },
           "zaxis": {
            "backgroundcolor": "#E5ECF6",
            "gridcolor": "white",
            "gridwidth": 2,
            "linecolor": "white",
            "showbackground": true,
            "ticks": "",
            "zerolinecolor": "white"
           }
          },
          "shapedefaults": {
           "line": {
            "color": "#2a3f5f"
           }
          },
          "ternary": {
           "aaxis": {
            "gridcolor": "white",
            "linecolor": "white",
            "ticks": ""
           },
           "baxis": {
            "gridcolor": "white",
            "linecolor": "white",
            "ticks": ""
           },
           "bgcolor": "#E5ECF6",
           "caxis": {
            "gridcolor": "white",
            "linecolor": "white",
            "ticks": ""
           }
          },
          "title": {
           "x": 0.05
          },
          "xaxis": {
           "automargin": true,
           "gridcolor": "white",
           "linecolor": "white",
           "ticks": "",
           "title": {
            "standoff": 15
           },
           "zerolinecolor": "white",
           "zerolinewidth": 2
          },
          "yaxis": {
           "automargin": true,
           "gridcolor": "white",
           "linecolor": "white",
           "ticks": "",
           "title": {
            "standoff": 15
           },
           "zerolinecolor": "white",
           "zerolinewidth": 2
          }
         }
        },
        "title": {
         "text": ""
        },
        "width": 1200
       }
      }
     },
     "metadata": {},
     "output_type": "display_data"
    }
   ],
   "source": [
    "import numpy as np\n",
    "import plotly.express as px\n",
    "\n",
    "import pandas as pd\n",
    "\n",
    "from justice.util.visualizer import plot_choropleth_2D_data\n",
    "\n",
    "\n",
    "fig, prior_data = plot_choropleth_2D_data(\n",
    "    path_to_data=path,\n",
    "    path_to_output=path, #/rbf_dist_test\n",
    "    projection= \"natural earth1\", \n",
    "    colourmap= px.colors.sequential.Reds,\n",
    "    year_to_visualize=2050,\n",
    "    input_data_path_list=[\n",
    "\n",
    "        # \"UTILITARIAN_idx9_SSP245_constrained_emission_control_rate.npy\",\n",
    "        # \"PRIORITARIAN_idx3_SSP245_constrained_emission_control_rate.npy\",\n",
    "\n",
    "        # \"UTILITARIAN_idx9_SSP370_constrained_emission_control_rate.npy\",\n",
    "        # \"PRIORITARIAN_idx3_SSP370_constrained_emission_control_rate.npy\",\n",
    "\n",
    "        #ESNGAII\n",
    "        # \"UTILITARIAN_idx1_SSP245_constrained_emission_control_rate.npy\",\n",
    "        # \"PRIORITARIAN_idx3_SSP245_constrained_emission_control_rate.npy\",\n",
    "\n",
    "        \"UTILITARIAN_idx0_SSP370_constrained_emission_control_rate.npy\",\n",
    "        \"PRIORITARIAN_idx1_SSP370_constrained_emission_control_rate.npy\",\n",
    "\n",
    "\n",
    "    ],\n",
    "        \n",
    "    data_label=\"Emission Control Rate\",\n",
    "    legend_label=\"\", \n",
    "    data_normalization=True,\n",
    "    saving=True,\n",
    "    show_colorbar=True,\n",
    "    normalized_colorbar=True,\n",
    "\n",
    ")\n",
    "\n",
    "fig.show()\n"
   ]
  },
  {
   "cell_type": "markdown",
   "id": "36f2aa34",
   "metadata": {},
   "source": [
    "### Scatter Plot"
   ]
  },
  {
   "cell_type": "code",
   "execution_count": 5,
   "id": "a4e437b1",
   "metadata": {},
   "outputs": [
    {
     "data": {
      "image/png": "[encoded data removed]",
      "text/plain": [
       "<Figure size 1000x600 with 1 Axes>"
      ]
     },
     "metadata": {},
     "output_type": "display_data"
    }
   ],
   "source": [
    "# Read the file 50000.csv in folder nu_50k\n",
    "import matplotlib.pyplot as plt\n",
    "from justice.util.enumerations import WelfareFunction, SSP\n",
    "import pandas as pd\n",
    "\n",
    "\n",
    "\n",
    "swf = WelfareFunction.UTILITARIAN\n",
    "nfe = 50_000\n",
    "ssp = SSP.SSP3\n",
    "\n",
    "path1 = f\"data/temporary/NU_DATA/combined/{str(ssp).split('.')[1]}/\"\n",
    "df1 = pd.read_csv(path1 + f\"{swf.value[1]}_reference_set.csv\")\n",
    "\n",
    "# path2 = f\"data/temporary/NU_DATA/borg/{str(ssp).split('.')[1]}/\"\n",
    "# df2 = pd.read_csv(path2 + f\"{swf.value[1]}_reference_set.csv\")\n",
    "\n",
    "# Select only the lst 2 columns\n",
    "df1 = df1.iloc[:, -2:]\n",
    "\n",
    "# Select only the lst 2 columns\n",
    "# df2 = df2.iloc[:, -2:]\n",
    "\n",
    "\n",
    "\n",
    "# Make the size of the points larger\n",
    "plt.figure(figsize=(10, 6))\n",
    "plt.scatter(df1.iloc[:, 0], df1.iloc[:, 1], s=10, label='combined')\n",
    "# plt.scatter(df2.iloc[:, 0], df2.iloc[:, 1], s=10, color='red', label='BORG')\n",
    "\n",
    "\n",
    "\n",
    "plt.legend()\n",
    "\n",
    "plt.xlabel(' Welfare')\n",
    "plt.ylabel('Temperature')\n",
    "plt.title('Scatter Plot of Normalized Column 1 vs Column 2')\n",
    "plt.show()\n"
   ]
  },
  {
   "cell_type": "markdown",
   "id": "24662073",
   "metadata": {},
   "source": [
    "# Reference set to policy outcomes"
   ]
  },
  {
   "cell_type": "code",
   "execution_count": null,
   "id": "07e5855d",
   "metadata": {},
   "outputs": [],
   "source": [
    "# Check this method out too: #NOTE ROUGH\n",
    "\n",
    "from justice.util.output_data_processor import process_scenario\n",
    "\n",
    "import os\n",
    "import filecmp\n",
    "import pandas as pd\n",
    "from pathlib import Path\n",
    "import multiprocessing as mp\n",
    "from functools import partial\n",
    "from justice.util.enumerations import WelfareFunction, SSP\n",
    "from justice.util.output_data_processor import process_scenario\n",
    "\n",
    "\n",
    "if __name__ == \"__main__\":\n",
    "    ######################################\n",
    "    scenario_list = [\"SSP245\"]\n",
    "\n",
    "    social_welfare_function = WelfareFunction.PRIORITARIAN\n",
    "    nfe = 50_000\n",
    "    ssp = SSP.SSP2\n",
    "\n",
    "    sw_name = social_welfare_function.value[1]\n",
    "    path = f\"data/temporary/NU_DATA/combined/{str(ssp).split('.')[1]}/\"\n",
    "    filename = f\"{sw_name}_reference_set.csv\"\n",
    "\n",
    "    # Print the selected policy indices values of last 4 columns\n",
    "    # Find the min and max welfare values for utilitarian and prioritarian\n",
    "    loaded_df = pd.read_csv(path + filename)\n",
    "    policy_indices = list(range(len(loaded_df)))\n",
    "\n",
    "    sw_name = social_welfare_function.value[1]\n",
    "\n",
    "    filename = f\"{sw_name}_reference_set.csv\"\n",
    "\n",
    "    loaded_df = pd.read_csv(path + filename)\n",
    "    print(f\"Loading data for {sw_name} from {path+filename}\")\n",
    "    print(\"Selected policy‑indices last 2 columns:\")\n",
    "    print(loaded_df.iloc[policy_indices, -2:])\n",
    "\n",
    "    # spawn‐based pool so that each worker is a fresh interpreter\n",
    "    mp.set_start_method(\"spawn\")\n",
    "    # Bind the fixed arguments swf and policy_indices to process_scenario\n",
    "    bound_process_scenario = partial(\n",
    "        process_scenario, social_welfare_function, policy_indices\n",
    "    )\n",
    "    with mp.Pool(processes=len(scenario_list)) as pool:\n",
    "        pool.map(bound_process_scenario, scenario_list)\n"
   ]
  },
  {
   "cell_type": "markdown",
   "id": "5f3295e5",
   "metadata": {},
   "source": [
    "#### Reevaluation "
   ]
  },
  {
   "cell_type": "markdown",
   "id": "4491ed07",
   "metadata": {},
   "source": [
    "###### Run nu_analysis.py - Parallelizes the process over the scenarios\n",
    "###### Only after running nu_analysis.py, the data is available analysis"
   ]
  },
  {
   "cell_type": "code",
   "execution_count": 1,
   "id": "16482a45",
   "metadata": {},
   "outputs": [
    {
     "name": "stderr",
     "output_type": "stream",
     "text": [
      "/Users/palokbiswas/Desktop/pollockdevis_git/JUSTICE/venv/lib/python3.9/site-packages/tqdm/auto.py:21: TqdmWarning: IProgress not found. Please update jupyter and ipywidgets. See https://ipywidgets.readthedocs.io/en/stable/user_install.html\n",
      "  from .autonotebook import tqdm as notebook_tqdm\n"
     ]
    },
    {
     "name": "stdout",
     "output_type": "stream",
     "text": [
      "Found 9 policies (0 to 8)\n",
      "All files loaded successfully.\n",
      "Wrote mapping to data/temporary/NU_DATA/combined/SSP2/mapping/mapping_PRIORITARIAN.h5\n",
      "Deleting loaded CSV files...\n",
      "Deleted file: data/temporary/NU_DATA/combined/SSP2/0_SSP126_PRIORITARIAN_global_temperature_.csv\n",
      "Deleted file: data/temporary/NU_DATA/combined/SSP2/0_SSP245_PRIORITARIAN_global_temperature_.csv\n",
      "Deleted file: data/temporary/NU_DATA/combined/SSP2/0_SSP370_PRIORITARIAN_global_temperature_.csv\n",
      "Deleted file: data/temporary/NU_DATA/combined/SSP2/0_SSP460_PRIORITARIAN_global_temperature_.csv\n",
      "Deleted file: data/temporary/NU_DATA/combined/SSP2/0_SSP534_PRIORITARIAN_global_temperature_.csv\n",
      "Deleted file: data/temporary/NU_DATA/combined/SSP2/1_SSP126_PRIORITARIAN_global_temperature_.csv\n",
      "Deleted file: data/temporary/NU_DATA/combined/SSP2/1_SSP245_PRIORITARIAN_global_temperature_.csv\n",
      "Deleted file: data/temporary/NU_DATA/combined/SSP2/1_SSP370_PRIORITARIAN_global_temperature_.csv\n",
      "Deleted file: data/temporary/NU_DATA/combined/SSP2/1_SSP460_PRIORITARIAN_global_temperature_.csv\n",
      "Deleted file: data/temporary/NU_DATA/combined/SSP2/1_SSP534_PRIORITARIAN_global_temperature_.csv\n",
      "Deleted file: data/temporary/NU_DATA/combined/SSP2/2_SSP126_PRIORITARIAN_global_temperature_.csv\n",
      "Deleted file: data/temporary/NU_DATA/combined/SSP2/2_SSP245_PRIORITARIAN_global_temperature_.csv\n",
      "Deleted file: data/temporary/NU_DATA/combined/SSP2/2_SSP370_PRIORITARIAN_global_temperature_.csv\n",
      "Deleted file: data/temporary/NU_DATA/combined/SSP2/2_SSP460_PRIORITARIAN_global_temperature_.csv\n",
      "Deleted file: data/temporary/NU_DATA/combined/SSP2/2_SSP534_PRIORITARIAN_global_temperature_.csv\n",
      "Deleted file: data/temporary/NU_DATA/combined/SSP2/3_SSP126_PRIORITARIAN_global_temperature_.csv\n",
      "Deleted file: data/temporary/NU_DATA/combined/SSP2/3_SSP245_PRIORITARIAN_global_temperature_.csv\n",
      "Deleted file: data/temporary/NU_DATA/combined/SSP2/3_SSP370_PRIORITARIAN_global_temperature_.csv\n",
      "Deleted file: data/temporary/NU_DATA/combined/SSP2/3_SSP460_PRIORITARIAN_global_temperature_.csv\n",
      "Deleted file: data/temporary/NU_DATA/combined/SSP2/3_SSP534_PRIORITARIAN_global_temperature_.csv\n",
      "Deleted file: data/temporary/NU_DATA/combined/SSP2/4_SSP126_PRIORITARIAN_global_temperature_.csv\n",
      "Deleted file: data/temporary/NU_DATA/combined/SSP2/4_SSP245_PRIORITARIAN_global_temperature_.csv\n",
      "Deleted file: data/temporary/NU_DATA/combined/SSP2/4_SSP370_PRIORITARIAN_global_temperature_.csv\n",
      "Deleted file: data/temporary/NU_DATA/combined/SSP2/4_SSP460_PRIORITARIAN_global_temperature_.csv\n",
      "Deleted file: data/temporary/NU_DATA/combined/SSP2/4_SSP534_PRIORITARIAN_global_temperature_.csv\n",
      "Deleted file: data/temporary/NU_DATA/combined/SSP2/5_SSP126_PRIORITARIAN_global_temperature_.csv\n",
      "Deleted file: data/temporary/NU_DATA/combined/SSP2/5_SSP245_PRIORITARIAN_global_temperature_.csv\n",
      "Deleted file: data/temporary/NU_DATA/combined/SSP2/5_SSP370_PRIORITARIAN_global_temperature_.csv\n",
      "Deleted file: data/temporary/NU_DATA/combined/SSP2/5_SSP460_PRIORITARIAN_global_temperature_.csv\n",
      "Deleted file: data/temporary/NU_DATA/combined/SSP2/5_SSP534_PRIORITARIAN_global_temperature_.csv\n",
      "Deleted file: data/temporary/NU_DATA/combined/SSP2/6_SSP126_PRIORITARIAN_global_temperature_.csv\n",
      "Deleted file: data/temporary/NU_DATA/combined/SSP2/6_SSP245_PRIORITARIAN_global_temperature_.csv\n",
      "Deleted file: data/temporary/NU_DATA/combined/SSP2/6_SSP370_PRIORITARIAN_global_temperature_.csv\n",
      "Deleted file: data/temporary/NU_DATA/combined/SSP2/6_SSP460_PRIORITARIAN_global_temperature_.csv\n",
      "Deleted file: data/temporary/NU_DATA/combined/SSP2/6_SSP534_PRIORITARIAN_global_temperature_.csv\n",
      "Deleted file: data/temporary/NU_DATA/combined/SSP2/7_SSP126_PRIORITARIAN_global_temperature_.csv\n",
      "Deleted file: data/temporary/NU_DATA/combined/SSP2/7_SSP245_PRIORITARIAN_global_temperature_.csv\n",
      "Deleted file: data/temporary/NU_DATA/combined/SSP2/7_SSP370_PRIORITARIAN_global_temperature_.csv\n",
      "Deleted file: data/temporary/NU_DATA/combined/SSP2/7_SSP460_PRIORITARIAN_global_temperature_.csv\n",
      "Deleted file: data/temporary/NU_DATA/combined/SSP2/7_SSP534_PRIORITARIAN_global_temperature_.csv\n",
      "Deleted file: data/temporary/NU_DATA/combined/SSP2/8_SSP126_PRIORITARIAN_global_temperature_.csv\n",
      "Deleted file: data/temporary/NU_DATA/combined/SSP2/8_SSP245_PRIORITARIAN_global_temperature_.csv\n",
      "Deleted file: data/temporary/NU_DATA/combined/SSP2/8_SSP370_PRIORITARIAN_global_temperature_.csv\n",
      "Deleted file: data/temporary/NU_DATA/combined/SSP2/8_SSP460_PRIORITARIAN_global_temperature_.csv\n",
      "Deleted file: data/temporary/NU_DATA/combined/SSP2/8_SSP534_PRIORITARIAN_global_temperature_.csv\n"
     ]
    }
   ],
   "source": [
    "import pandas as pd\n",
    "from pathlib import Path\n",
    "\n",
    "from justice.util.enumerations import WelfareFunction, SSP\n",
    "import h5py\n",
    "from justice.util.output_data_processor import generate_reference_set_policy_mapping\n",
    "import pandas as pd\n",
    "from pathlib import Path\n",
    "\n",
    "\n",
    "nfe = 50_000\n",
    "ssp = SSP.SSP2\n",
    "\n",
    "\n",
    "\n",
    "path = f\"data/temporary/NU_DATA/combined/{str(ssp).split('.')[1]}/\"\n",
    "# Example usage\n",
    "# 1) Set up paths & scenarios\n",
    "swf           = WelfareFunction.PRIORITARIAN\n",
    "base_dir      = Path(path)\n",
    "saving       = True\n",
    "\n",
    "scenario_list = [\"SSP126\",\"SSP245\",\"SSP370\",\"SSP460\",\"SSP534\"]\n",
    "\n",
    "mapping = generate_reference_set_policy_mapping(\n",
    "    swf=swf,\n",
    "    data_root=base_dir,\n",
    "    scenario_list=scenario_list,\n",
    "    saving=saving,\n",
    "    output_directory=\"mapping\",\n",
    "    delete_loaded_files= True,  # Set to True to delete the loaded files after processing\n",
    ")"
   ]
  },
  {
   "cell_type": "markdown",
   "id": "4f3237a1",
   "metadata": {},
   "source": [
    "#### Read the mapping data"
   ]
  },
  {
   "cell_type": "code",
   "execution_count": 2,
   "id": "84735711",
   "metadata": {},
   "outputs": [
    {
     "name": "stdout",
     "output_type": "stream",
     "text": [
      "[-98.13660416 -97.92886322 -98.29999179 ... -98.13745597 -98.06694069\n",
      " -98.29892333]\n",
      "0.32\n"
     ]
    }
   ],
   "source": [
    "import h5py\n",
    "from pathlib import Path\n",
    "from justice.util.enumerations import WelfareFunction, SSP\n",
    "from justice.util.output_data_processor import read_reference_set_policy_mapping\n",
    "\n",
    "\n",
    "# Example usage\n",
    "\n",
    "swf           = WelfareFunction.PRIORITARIAN\n",
    "ssp = SSP.SSP2\n",
    "path = f\"data/temporary/NU_DATA/combined/{str(ssp).split('.')[1]}/\"\n",
    "\n",
    "# base_dir      = Path(path)\n",
    "\n",
    "\n",
    "mapping = read_reference_set_policy_mapping(path, swf.value[1], mapping_subdir=\"mapping\", hdf5_filename_template=\"mapping_{}.h5\")\n",
    "# Example to access the mapping\n",
    "print(mapping[0][\"SSP534\"][\"utilitarian_welfare\"])\n",
    "\n",
    "print(mapping[0]['fraction_above_threshold'])"
   ]
  },
  {
   "cell_type": "markdown",
   "id": "45f718bf",
   "metadata": {},
   "source": [
    "##### Compute 90th percentile regret"
   ]
  },
  {
   "cell_type": "code",
   "execution_count": null,
   "id": "3f8a5f2e",
   "metadata": {},
   "outputs": [],
   "source": []
  }
 ],
 "metadata": {
  "kernelspec": {
   "display_name": "venv",
   "language": "python",
   "name": "python3"
  },
  "language_info": {
   "codemirror_mode": {
    "name": "ipython",
    "version": 3
   },
   "file_extension": ".py",
   "mimetype": "text/x-python",
   "name": "python",
   "nbconvert_exporter": "python",
   "pygments_lexer": "ipython3",
   "version": "3.9.10"
  }
 },
 "nbformat": 4,
 "nbformat_minor": 5
}
