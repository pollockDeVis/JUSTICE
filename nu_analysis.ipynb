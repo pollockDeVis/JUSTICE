{
 "cells": [
  {
   "cell_type": "code",
   "execution_count": 1,
   "id": "3853f6bd",
   "metadata": {},
   "outputs": [
    {
     "name": "stdout",
     "output_type": "stream",
     "text": [
      "Loading data from data/temporary/NU_DATA/combined/SSP3/...\n"
     ]
    }
   ],
   "source": [
    "from justice.util.enumerations import WelfareFunction, SSP\n",
    "import pandas as pd\n",
    "\n",
    "\n",
    "\n",
    "swf = WelfareFunction.UTILITARIAN\n",
    "nfe = 50_000\n",
    "ssp = SSP.SSP3\n",
    "# algo = \"ensgaii\"\n",
    "# path = f\"data/temporary/NU_DATA/{algo}/{str(ssp).split('.')[1]}/\"\n",
    "path = f\"data/temporary/NU_DATA/combined/{str(ssp).split('.')[1]}/\"\n",
    "\n",
    "# loaded_df = pd.read_csv(\n",
    "#     f\"data/optimized_rbf_weights/limitarian/50k/{swf.value[1]}/{swf.value[1]}_reference_set.csv\"\n",
    "# )\n",
    "# policy_indices = list(range(len(loaded_df)))\n",
    "# print(f\"Policy Indices: {policy_indices}\")\n",
    "# scenario_list = [\"SSP119\", \"SSP126\", \"SSP245\", \"SSP370\", \"SSP434\", \"SSP460\", \"SSP534\"]\n",
    "\n",
    "print(f\"Loading data from {path}...\")"
   ]
  },
  {
   "cell_type": "code",
   "execution_count": 2,
   "id": "09455dd8",
   "metadata": {},
   "outputs": [
    {
     "name": "stdout",
     "output_type": "stream",
     "text": [
      "Loading list of files\n",
      "Loading archives for:  UTILITARIAN\n",
      "Filename:  Prioritarian_hypervolume_plot.svg\n",
      "Filename:  .DS_Store\n",
      "Filename:  PRIORITARIAN_50000_3569126_hv.csv\n",
      "Filename:  UTILITARIAN_50000_3569126.tar.gz\n",
      "Matching file: UTILITARIAN_50000_3569126.tar.gz\n",
      "Loading archives from: UTILITARIAN_50000_3569126.tar.gz\n",
      "Max key: 50000\n",
      "Number of rows in archive: 8\n",
      "Archives loaded for: UTILITARIAN_50000_3569126.tar.gz\n",
      "Filename:  UTILITARIAN_50000_521475.tar.gz\n",
      "Matching file: UTILITARIAN_50000_521475.tar.gz\n",
      "Loading archives from: UTILITARIAN_50000_521475.tar.gz\n",
      "Max key: 50000\n",
      "Number of rows in archive: 11\n",
      "Archives loaded for: UTILITARIAN_50000_521475.tar.gz\n",
      "Filename:  PRIORITARIAN_50000_607561200.tar.gz\n",
      "Filename:  PRIORITARIAN_50000_52147500.tar.gz\n",
      "Filename:  UTILITARIAN_50000_6075612.tar.gz\n",
      "Matching file: UTILITARIAN_50000_6075612.tar.gz\n",
      "Loading archives from: UTILITARIAN_50000_6075612.tar.gz\n",
      "Max key: 50001\n",
      "Number of rows in archive: 8\n",
      "Archives loaded for: UTILITARIAN_50000_6075612.tar.gz\n",
      "Filename:  PRIORITARIAN_50000_164465200.tar.gz\n",
      "Filename:  PRIORITARIAN_50000_6075612_hv.csv\n",
      "Filename:  PRIORITARIAN_50000_356912600_hv.csv\n",
      "Filename:  UTILITARIAN_50000_356912600.tar.gz\n",
      "Matching file: UTILITARIAN_50000_356912600.tar.gz\n",
      "Loading archives from: UTILITARIAN_50000_356912600.tar.gz\n",
      "Max key: 50016\n",
      "Number of rows in archive: 8\n",
      "Archives loaded for: UTILITARIAN_50000_356912600.tar.gz\n",
      "Filename:  PRIORITARIAN_50000_1644652_hv.csv\n",
      "Filename:  UTILITARIAN_50000_1644652.tar.gz\n",
      "Matching file: UTILITARIAN_50000_1644652.tar.gz\n",
      "Loading archives from: UTILITARIAN_50000_1644652.tar.gz\n",
      "Max key: 50001\n",
      "Number of rows in archive: 8\n",
      "Archives loaded for: UTILITARIAN_50000_1644652.tar.gz\n",
      "Filename:  PRIORITARIAN_50000_521475_hv.csv\n",
      "Filename:  PRIORITARIAN_50000_52147500_hv.csv\n",
      "Filename:  UTILITARIAN_50000_164465200.tar.gz\n",
      "Matching file: UTILITARIAN_50000_164465200.tar.gz\n",
      "Loading archives from: UTILITARIAN_50000_164465200.tar.gz\n",
      "Max key: 50029\n",
      "Number of rows in archive: 11\n",
      "Archives loaded for: UTILITARIAN_50000_164465200.tar.gz\n",
      "Filename:  PRIORITARIAN_50000_607561200_hv.csv\n",
      "Filename:  UTILITARIAN_50000_607561200.tar.gz\n",
      "Matching file: UTILITARIAN_50000_607561200.tar.gz\n",
      "Loading archives from: UTILITARIAN_50000_607561200.tar.gz\n",
      "Max key: 50029\n",
      "Number of rows in archive: 11\n",
      "Archives loaded for: UTILITARIAN_50000_607561200.tar.gz\n",
      "Filename:  PRIORITARIAN_50000_6075612.tar.gz\n",
      "Filename:  PRIORITARIAN_50000_164465200_hv.csv\n",
      "Filename:  PRIORITARIAN_50000_356912600.tar.gz\n",
      "Filename:  PRIORITARIAN_50000_1644652.tar.gz\n",
      "Filename:  PRIORITARIAN_50000_521475.tar.gz\n",
      "Filename:  UTILITARIAN_50000_52147500.tar.gz\n",
      "Matching file: UTILITARIAN_50000_52147500.tar.gz\n",
      "Loading archives from: UTILITARIAN_50000_52147500.tar.gz\n",
      "Max key: 50029\n",
      "Number of rows in archive: 11\n",
      "Archives loaded for: UTILITARIAN_50000_52147500.tar.gz\n",
      "Filename:  PRIORITARIAN_reference_set.csv\n",
      "Filename:  PRIORITARIAN_50000_3569126.tar.gz\n",
      "Reference set saved to data/temporary/NU_DATA/combined/SSP3//UTILITARIAN_reference_set.csv\n",
      "Loading archives for UTILITARIAN_50000_521475.tar.gz\n",
      "Archives loaded\n",
      "list_of_archives:  (545, 2)\n",
      "reference_set (11, 2)\n",
      "type of reference_set <class 'numpy.ndarray'>\n",
      "nfes: \n",
      " [100, 10107, 1101, 11107, 12107, 13108, 14108, 15108, 16109, 17109, 18109, 19109, 20110, 2102, 21111, 22111, 23111, 24111, 25112, 26112, 27112, 28113, 29114, 30114, 3103, 31115, 32116, 33117, 34117, 35118, 36119, 37120, 38121, 39121, 40122, 4103, 41123, 42124, 43124, 44124, 45125, 46125, 47125, 48126, 49127, 50000, 5104, 6105, 7105, 8105, 9106]\n",
      "Computing hypervolume for  UTILITARIAN_50000_521475.tar.gz\n",
      "Time taken for Hypervolume Calculation: 2.954 seconds\n",
      "data/temporary/NU_DATA/combined/SSP3//UTILITARIAN_50000_521475_hv.csv\n",
      "Loading archives for UTILITARIAN_50000_1644652.tar.gz\n",
      "Archives loaded\n",
      "list_of_archives:  (401, 2)\n",
      "reference_set (11, 2)\n",
      "type of reference_set <class 'numpy.ndarray'>\n",
      "nfes: \n",
      " [100, 10103, 1100, 11104, 12104, 13104, 14104, 15104, 16104, 17104, 18105, 19106, 20107, 2100, 21107, 22107, 23107, 24107, 25108, 26108, 27109, 28110, 29111, 30112, 3100, 31113, 32114, 33114, 34115, 35116, 36117, 37117, 38118, 39119, 40119, 4100, 41120, 42120, 43120, 44121, 45121, 46122, 47123, 48123, 49123, 50001, 5101, 6102, 7103, 8103, 9103]\n",
      "Computing hypervolume for  UTILITARIAN_50000_1644652.tar.gz\n",
      "Time taken for Hypervolume Calculation: 0.006 seconds\n",
      "data/temporary/NU_DATA/combined/SSP3//UTILITARIAN_50000_1644652_hv.csv\n",
      "Loading archives for UTILITARIAN_50000_3569126.tar.gz\n",
      "Archives loaded\n",
      "list_of_archives:  (400, 2)\n",
      "reference_set (11, 2)\n",
      "type of reference_set <class 'numpy.ndarray'>\n",
      "nfes: \n",
      " [100, 10104, 1100, 11105, 12105, 13106, 14106, 15107, 16108, 17108, 18109, 19109, 20110, 2100, 21111, 22112, 23113, 24114, 25115, 26116, 27116, 28117, 29117, 30117, 3100, 31117, 32117, 33118, 34118, 35118, 36118, 37118, 38118, 39118, 40118, 4101, 41119, 42120, 43120, 44121, 45122, 46123, 47124, 48125, 49125, 50000, 5101, 6101, 7102, 8102, 9103]\n",
      "Computing hypervolume for  UTILITARIAN_50000_3569126.tar.gz\n",
      "Time taken for Hypervolume Calculation: 0.006 seconds\n",
      "data/temporary/NU_DATA/combined/SSP3//UTILITARIAN_50000_3569126_hv.csv\n",
      "Loading archives for UTILITARIAN_50000_6075612.tar.gz\n",
      "Archives loaded\n",
      "list_of_archives:  (396, 2)\n",
      "reference_set (11, 2)\n",
      "type of reference_set <class 'numpy.ndarray'>\n",
      "nfes: \n",
      " [100, 10107, 1100, 11107, 12107, 13108, 14109, 15109, 16109, 17109, 18110, 19111, 20112, 2101, 21112, 22113, 23113, 24113, 25113, 26113, 27114, 28115, 29115, 30115, 3101, 31115, 32115, 33116, 34116, 35116, 36117, 37118, 38119, 39120, 40120, 4102, 41120, 42120, 43120, 44120, 45121, 46121, 47121, 48122, 49123, 50001, 5102, 6102, 7107, 8107, 9107]\n",
      "Computing hypervolume for  UTILITARIAN_50000_6075612.tar.gz\n",
      "Time taken for Hypervolume Calculation: 0.006 seconds\n",
      "data/temporary/NU_DATA/combined/SSP3//UTILITARIAN_50000_6075612_hv.csv\n",
      "Loading archives for UTILITARIAN_50000_52147500.tar.gz\n",
      "Archives loaded\n",
      "list_of_archives:  (546, 2)\n",
      "reference_set (11, 2)\n",
      "type of reference_set <class 'numpy.ndarray'>\n",
      "nfes: \n",
      " [100, 10121, 1100, 11133, 12145, 13157, 14169, 15181, 16193, 17205, 18217, 19229, 20241, 2100, 21253, 22265, 23277, 24289, 25301, 26313, 27325, 28337, 29349, 30361, 3100, 31373, 32385, 33397, 34409, 35421, 36433, 37445, 38457, 39469, 40481, 4100, 41493, 42505, 43517, 44529, 45541, 46553, 47565, 48577, 49589, 50029, 5100, 6100, 7100, 8100, 9100]\n",
      "Computing hypervolume for  UTILITARIAN_50000_52147500.tar.gz\n",
      "Time taken for Hypervolume Calculation: 0.005 seconds\n",
      "data/temporary/NU_DATA/combined/SSP3//UTILITARIAN_50000_52147500_hv.csv\n",
      "Loading archives for UTILITARIAN_50000_164465200.tar.gz\n",
      "Archives loaded\n",
      "list_of_archives:  (553, 2)\n",
      "reference_set (11, 2)\n",
      "type of reference_set <class 'numpy.ndarray'>\n",
      "nfes: \n",
      " [100, 10121, 1100, 11133, 12145, 13157, 14169, 15181, 16193, 17205, 18217, 19229, 20241, 2100, 21253, 22265, 23277, 24289, 25301, 26313, 27325, 28337, 29349, 30361, 3100, 31373, 32385, 33397, 34409, 35421, 36433, 37445, 38457, 39469, 40481, 4100, 41493, 42505, 43517, 44529, 45541, 46553, 47565, 48577, 49589, 50029, 5100, 6100, 7100, 8100, 9100]\n",
      "Computing hypervolume for  UTILITARIAN_50000_164465200.tar.gz\n",
      "Time taken for Hypervolume Calculation: 0.006 seconds\n",
      "data/temporary/NU_DATA/combined/SSP3//UTILITARIAN_50000_164465200_hv.csv\n",
      "Loading archives for UTILITARIAN_50000_356912600.tar.gz\n",
      "Archives loaded\n",
      "list_of_archives:  (393, 2)\n",
      "reference_set (11, 2)\n",
      "type of reference_set <class 'numpy.ndarray'>\n",
      "nfes: \n",
      " [100, 10120, 1100, 11144, 12168, 13192, 14216, 15240, 16264, 17288, 18312, 19336, 20360, 2100, 21384, 22408, 23432, 24456, 25480, 26504, 27528, 28552, 29576, 30600, 3100, 31624, 32648, 33672, 34696, 35720, 36744, 37768, 38792, 39816, 40840, 4100, 41864, 42880, 43904, 44928, 45952, 46976, 48000, 49024, 50016, 5100, 6100, 7100, 8100, 9100]\n",
      "Computing hypervolume for  UTILITARIAN_50000_356912600.tar.gz\n",
      "Time taken for Hypervolume Calculation: 0.006 seconds\n",
      "data/temporary/NU_DATA/combined/SSP3//UTILITARIAN_50000_356912600_hv.csv\n",
      "Loading archives for UTILITARIAN_50000_607561200.tar.gz\n",
      "Archives loaded\n",
      "list_of_archives:  (549, 2)\n",
      "reference_set (11, 2)\n",
      "type of reference_set <class 'numpy.ndarray'>\n",
      "nfes: \n",
      " [100, 10121, 1100, 11133, 12145, 13157, 14169, 15181, 16193, 17205, 18217, 19229, 20241, 2100, 21253, 22265, 23277, 24289, 25301, 26313, 27325, 28337, 29349, 30361, 3100, 31373, 32385, 33397, 34409, 35421, 36433, 37445, 38457, 39469, 40481, 4100, 41493, 42505, 43517, 44529, 45541, 46553, 47565, 48577, 49589, 50029, 5100, 6100, 7100, 8100, 9100]\n",
      "Computing hypervolume for  UTILITARIAN_50000_607561200.tar.gz\n",
      "Time taken for Hypervolume Calculation: 0.007 seconds\n",
      "data/temporary/NU_DATA/combined/SSP3//UTILITARIAN_50000_607561200_hv.csv\n"
     ]
    }
   ],
   "source": [
    "# This code creates a reference set from the different seeds\n",
    "\n",
    "from solvers.convergence.hypervolume import get_global_reference_set, calculate_hypervolume_from_archives\n",
    "import multiprocessing\n",
    "# Suppress warnings\n",
    "import warnings\n",
    "warnings.filterwarnings(\"ignore\")\n",
    "\n",
    "list_of_objectives = [\n",
    "    \"welfare\",\n",
    "    \"fraction_above_threshold\",\n",
    "]\n",
    "data_path = path \n",
    "\n",
    "direction_of_optimization = [\"min\", \"min\"] #, \"max\", \"max\"\n",
    "\n",
    "get_global_reference_set(\n",
    "    list_of_objectives=list_of_objectives,\n",
    "    data_path=data_path,\n",
    "    #file_name=None,\n",
    "    swf=[\n",
    "        swf.value[1],\n",
    "    ],\n",
    "    nfe=str(nfe), # Ran for 50k number of function evaluations\n",
    "\n",
    "    # Setting the same epsilon values as optimization process  (see analysis/analyzer.py)\n",
    "    epsilons=[\n",
    "        0.0001,\n",
    "        0.01,\n",
    "    ],\n",
    "    direction_of_optimization=direction_of_optimization,\n",
    "    output_data_path=path,\n",
    "    saving=True,\n",
    ")\n",
    "\n",
    "## This computes the Hypervolume for the reference set\n",
    "\n",
    "filenames = [\n",
    "\n",
    "\n",
    "    # Loading Archives for the different seeds  Borg\n",
    "    f\"{swf.value[1]}_{nfe}_521475.tar.gz\",\n",
    "    f\"{swf.value[1]}_{nfe}_1644652.tar.gz\",\n",
    "    f\"{swf.value[1]}_{nfe}_3569126.tar.gz\",\n",
    "    f\"{swf.value[1]}_{nfe}_6075612.tar.gz\",\n",
    "\n",
    "    #epsNSGA\n",
    "    f\"{swf.value[1]}_{nfe}_52147500.tar.gz\",\n",
    "    f\"{swf.value[1]}_{nfe}_164465200.tar.gz\",\n",
    "    f\"{swf.value[1]}_{nfe}_356912600.tar.gz\",\n",
    "    f\"{swf.value[1]}_{nfe}_607561200.tar.gz\",\n",
    "   \n",
    "\n",
    "\n",
    "]\n",
    "\n",
    "reference_set = f\"{swf.value[1]}_reference_set.csv\"\n",
    "with multiprocessing.Pool() as pool:\n",
    "    # Enumerate through the filenames\n",
    "    for filename in filenames:\n",
    "        scores = calculate_hypervolume_from_archives(\n",
    "            list_of_objectives=list_of_objectives,\n",
    "            direction_of_optimization=direction_of_optimization,\n",
    "            input_data_path=data_path,\n",
    "            file_name=filename,\n",
    "            output_data_path=path,\n",
    "            saving=True,\n",
    "            global_reference_set=True,\n",
    "            global_reference_set_path=path,\n",
    "            global_reference_set_file=reference_set,\n",
    "            pool=pool,\n",
    "          )  # NOTE: Change this according to the PF refset"
   ]
  },
  {
   "cell_type": "code",
   "execution_count": 3,
   "id": "c8a5aaa2",
   "metadata": {},
   "outputs": [
    {
     "data": {
      "application/vnd.plotly.v1+json": {
       "config": {
        "plotlyServerURL": "https://plot.ly"
       },
       "data": [
        {
         "fill": "none",
         "line": {
          "color": "#2E91E5",
          "width": 3
         },
         "mode": "lines",
         "name": "Seed 1 (521475)",
         "type": "scatter",
         "x": {
          "bdata": "ZAAAAE0EAAA2CAAAHwwAAAcQAADwEwAA2RcAAMEbAACpHwAAkiMAAHsnAABjKwAASy8AADQzAAAcNwAABDsAAO0+AADVQgAAvUYAAKVKAACOTgAAd1IAAF9WAABHWgAAL14AABhiAAAAZgAA6GkAANFtAAC6cQAAonUAAIt5AAB0fQAAXYEAAEWFAAAuiQAAF40AAACRAADplAAA0ZgAALqcAACjoAAAjKQAAHSoAABcrAAARbAAAC20AAAVuAAA/rsAAOe/AABQwwAA",
          "dtype": "i4"
         },
         "y": {
          "bdata": "B9zIlmVKzD82P3CUZBrcP8siamcD2t4/zbDU8a8Q4D8A8OCusLXgPwDbi6Bzv+A/M/iFTGD/4D9nupuaGA3hP2ftbAPSD+E/NQ/Yl/yu4T8BNhYmi7jhPwHGI7h80+E/AXAoRb0E4j8CDpbVk0TiPwHtzf+PrOI/zgN5GJ3C4j8CWi64ZtziP84bDwLE6uI/zmhHJFD64j/O6Mk3kgjjP2dghP/gEeM/mthZEbYY4z/OMCZ51SDjP5tLP04fK+M/ZwMPBwE24z+awWn/wjvjP2ZB5JAHQuM/mvilBZxO4z806vPg51PjPzTV6f6UZeM/Z1zxHIp54z+aa+WIn4jjP5rVBKDRjOM/Aow7mcSX4z802nSgf5rjP85L0D3DqeM/mtS43A3B4z9n5ZkO5N7jP2foLN/+/eM/AZHLJsID5D/OSXw7RRXkPzX7MCK8GuQ/m+UrX/Ef5D+bmlA2YSjkP2jmYAHVKuQ/AnkDYFUs5D9nD270xy3kP2iyTWL0OeQ/AglrM3g+5D9oxmpuIEDkPwIDJCW+RuQ/",
          "dtype": "f8"
         }
        },
        {
         "fill": "none",
         "line": {
          "color": "#E15F99",
          "width": 3
         },
         "mode": "lines",
         "name": "Seed 2 (1644652)",
         "type": "scatter",
         "x": {
          "bdata": "ZAAAAEwEAAA0CAAAHAwAAAQQAADtEwAA1hcAAL8bAACnHwAAjyMAAHcnAABgKwAASC8AADAzAAAYNwAAADsAAOg+AADQQgAAuUYAAKJKAACLTgAAc1IAAFtWAABDWgAAK14AABRiAAD8ZQAA5WkAAM5tAAC3cQAAoHUAAIl5AAByfQAAWoEAAEOFAAAsiQAAFY0AAP2QAADmlAAAz5gAALecAACgoAAAiKQAAHCoAABZrAAAQbAAACq0AAATuAAA+7sAAOO/AABRwwAA",
          "dtype": "i4"
         },
         "y": {
          "bdata": "AAAAAAAAAAAyMbBgncTcPwFSkFY+9d4/AlTuNz+l3z804sSJ9C/gP2dhCdrHaeA/zWe8Ktt94D9nhtUnV6DgPzTV3U6Ew+A/NKy7eQDW4D8BStUo69/gPwBlW/n28OA/mvdprQP14D80sVHjwQDhP83+wbrMDuE/NOCh6Dgt4T+aOGnaQTvhP2cmR9OFQuE/ANsdOH5I4T9mfCJxekrhP5rJX8kWTeE/ml5QWXVN4T+arzTCGU/hPwBzyG72UeE/moFDAgFg4T/NOCN3BmfhPzT6UCWeaeE/ACw3Lzlr4T/NQPGqEXPhP5qAwlj4d+E/Z3cOlyR94T8z+uVebX7hPwAGfyzifuE/zRJwOVuH4T/NesHP643hP2bCvVyskOE/mq2pGC6U4T/NoxLuV5XhPzO+5GtZluE/M79Il/CZ4T8zS1GzHZ3hP82+v4YJouE/Z8wOnoai4T8A8zOqd6ThPzSwW/R/puE/zaf7zn+n4T9mUpLg+6/hP82JmKM6suE/ZlWhowW04T8z3Co74bbhP5ovAulouuE/",
          "dtype": "f8"
         }
        },
        {
         "fill": "none",
         "line": {
          "color": "#1CA71C",
          "width": 3
         },
         "mode": "lines",
         "name": "Seed 3 (3569126)",
         "type": "scatter",
         "x": {
          "bdata": "ZAAAAEwEAAA0CAAAHAwAAAUQAADtEwAA1RcAAL4bAACmHwAAjyMAAHgnAABhKwAASS8AADIzAAAaNwAAAzsAAOw+AADUQgAAvUYAAKVKAACOTgAAd1IAAGBWAABJWgAAMl4AABtiAAAEZgAA7GkAANVtAAC9cQAApXUAAI15AAB1fQAAXoEAAEaFAAAuiQAAFo0AAP6QAADmlAAAzpgAALacAACfoAAAiKQAAHCoAABZrAAAQrAAACu0AAAUuAAA/bsAAOW/AABQwwAA",
          "dtype": "i4"
         },
         "y": {
          "bdata": "AAAAAAAAAAAwwUuzn87ZPwBEGQgGt90/AMgLtJBd3j8AvKmAQwbfPzV7hzR0NN8/NCMGG+ZJ3z/OBOyKhHTfP2fcgfVdi98/zoAN4Mu73z+agfn+/8nfPzRhztc15t8/zcyV05Tt3z9n6avZ3gDgPwGsQJGxBeA/NJyoy28a4D9nTgImLzDgP2gD2fOvOOA/NPSxU/E94D+anGR4iVfgP5pPgUxVXeA/zsGBtehs4D8BPh2wZ5PgPzT8Nd//m+A/ZyfPsY2s4D80riZskrbgP2eZ+gUxueA/mrnGKkK84D8BoPmCFcPgP81NBJGsyOA/M3tHKw/J4D/NJgIvRsvgP80X8K4o4uA/mvXhfePs4D8BPrC3RfrgP2eX4gXu/OA/ARDWfp8D4T+a+c6W2gjhP2eUfU00DeE/NDOdgwVR4T80osuI9V/hP83OTnmjdOE/aLeC5Xh74T8A/tiHOX3hP81zGqwpf+E/m1d6SqOA4T/Ny+cQo4XhP5rZibo9ieE/AYOqxzyK4T808HCRhI/hP5qSCMFnkOE/",
          "dtype": "f8"
         }
        },
        {
         "fill": "none",
         "line": {
          "color": "#FB0D0D",
          "width": 3
         },
         "mode": "lines",
         "name": "Seed 4 (6075612)",
         "type": "scatter",
         "x": {
          "bdata": "ZAAAAEwEAAA1CAAAHQwAAAYQAADuEwAA1hcAAMMbAACrHwAAkyMAAHsnAABjKwAASy8AADQzAAAdNwAABTsAAO0+AADVQgAAvkYAAKdKAACQTgAAeFIAAGFWAABJWgAAMV4AABliAAABZgAA6mkAANNtAAC7cQAAo3UAAIt5AABzfQAAXIEAAESFAAAsiQAAFY0AAP6QAADnlAAA0JgAALicAACgoAAAiKQAAHCoAABYrAAAQbAAACm0AAARuAAA+rsAAOO/AABRwwAA",
          "dtype": "i4"
         },
         "y": {
          "bdata": "AAAAAAAAAACWe54U8N3ZP5eNz8+ZbNo/MWNFbcm/2j+Wc/vuPOHaPwGQkcVbUN0/AuT0hkKV3T+aKZD3GO/dP86K9KHNFd4/ARYEE95G3j/OPGGEFqPePzaVw4/l/d4/Nj1cGi9x3z8BshbW+MPfPwMmE3Te498/m77g+ywH4D8CAnGvLwzgP5t7debdEeA/ASMSt0UZ4D80tydHLCDgP2jdccElJuA/zi8YcMgo4D+bPgM9TSngPzRZuNBhMOA/Nbx/xKA04D/OgqgTqzrgPzVHWTP3POA/aOsO6mE+4D9oHoOhkEPgPzQDKiDAS+A/aAXQ8OFP4D81BStO3VzgPzRbvb8dp+A/NO7gCmfr4D/Nu0YAnh7hPzQ6HDxJI+E/zda9Xi0u4T8A0OKWUDThPzSHZI9NQOE/NEn991Na4T+bpUEXE3DhP83BOWD9guE/AcTJ31OE4T8B+tHcd4fhP86I/pkli+E/Zg1ofjyO4T80tkJvD6DhPwDUHktyoeE/mXIQHcSj4T8z4/6r1KbhP5ovqLKKquE/",
          "dtype": "f8"
         }
        },
        {
         "fill": "none",
         "line": {
          "color": "#DA16FF",
          "width": 3
         },
         "mode": "lines",
         "name": "Seed 5 (52147500)",
         "type": "scatter",
         "x": {
          "bdata": "ZAAAAEwEAAA0CAAAHAwAAAQQAADsEwAA1BcAALwbAACkHwAAjCMAAIknAAB9KwAAcS8AAGUzAABZNwAATTsAAEE/AAA1QwAAKUcAAB1LAAARTwAABVMAAPlWAADtWgAA4V4AANViAADJZgAAvWoAALFuAAClcgAAmXYAAI16AACBfgAAdYIAAGmGAABdigAAUY4AAEWSAAA5lgAALZoAACGeAAAVogAACaYAAP2pAADxrQAA5bEAANm1AADNuQAAwb0AALXBAABtwwAA",
          "dtype": "i4"
         },
         "y": {
          "bdata": "AAAAAAAAAAD+oc16tDDZP2lm9ayQzNw/NbF1AAU73T+ckUnTL9DdPwMOIh9sLd4/AoqSw5mC3j81oe5R0ybfPzbxWaK7xt8/ND/z+YAM4D/Oq3pLOifgP2euFAnqOeA/m8skIhtR4D8BzQ8XmWDgP5sCADkYiuA/NQ5Kk7eY4D9oD04Jc53gPzXIlInGreA/m2hSi7y/4D9ofBSlkMjgP87PjS+e1eA/mzSrKZve4D+b676kUOTgP86/RW+h7eA/m0mqQEjy4D81Vhf/mffgPwLbmRcL+eA/aCFMHKb74D812R2f4QHhP8/+XJ0BCOE/Ab4tEkQR4T9nyBsJdhjhPwFxX/AMGeE/ND5TrAAg4T81G8mw+iLhP8+XSpufJOE/zkYadM4q4T9ozJ0NEi7hP5tinfeKMOE/zrnFx0cy4T8BsEqToTLhP8403cUBOOE/m4V2FCM64T/OnN5Xdz7hPwE6Utn6QeE/aDWklHVD4T/OSzMHY0ThP5v2+k36ReE/NcjK5qxH4T9o9ahesknhP2jJh/aySeE/",
          "dtype": "f8"
         }
        },
        {
         "fill": "none",
         "line": {
          "color": "#222A2A",
          "width": 3
         },
         "mode": "lines",
         "name": "Seed 6 (164465200)",
         "type": "scatter",
         "x": {
          "bdata": "ZAAAAEwEAAA0CAAAHAwAAAQQAADsEwAA1BcAALwbAACkHwAAjCMAAIknAAB9KwAAcS8AAGUzAABZNwAATTsAAEE/AAA1QwAAKUcAAB1LAAARTwAABVMAAPlWAADtWgAA4V4AANViAADJZgAAvWoAALFuAAClcgAAmXYAAI16AACBfgAAdYIAAGmGAABdigAAUY4AAEWSAAA5lgAALZoAACGeAAAVogAACaYAAP2pAADxrQAA5bEAANm1AADNuQAAwb0AALXBAABtwwAA",
          "dtype": "i4"
         },
         "y": {
          "bdata": "/YuB7K4n0D8A7L45B1fcP2jqF8MQkd0/zSzs7IlO3j+c3SBrEHnfP2iqnANzyt8/m29zjpsJ4D8B98B8XiPgP8644j3jN+A/aLU9BApN4D+bPKTpg1PgPzWK1VUzieA/NdXnkEqh4D+b1/Dx6q/gPwGb4+1rwOA/zxnxJ1vL4D+bH4GRss/gPzVxhmgP+OA/Nb5XTdsd4T+b7rtcwjXhPwKKO6NJRuE/ztAmCFBJ4T9oMs3hvEzhP5ws5LRxUuE/z8U3OmRY4T/OvfGV/VzhPwIvpkfRYeE/m8FIWvJj4T8144JDkGbhPwHiVL/HauE/NcBvoQV34T/PGV7irHnhP2jQTFpQiuE/z6BMo7ai4T8C4lkhka/hPwLEjjEdteE/aMvVCFq+4T+cyRn8hMLhPwKd/7HexOE/z4md5CTN4T/OWDs0jc/hP5uTaU4H1uE/z7vmaX3a4T81CnGp7PThP88KemFiA+I/AgkGkYYM4j80+WEG4RHiP2jM75NKFOI/znkZKmgZ4z/PTCZNh5LjP5xoDzNnn+M/",
          "dtype": "f8"
         }
        },
        {
         "fill": "none",
         "line": {
          "color": "#B68100",
          "width": 3
         },
         "mode": "lines",
         "name": "Seed 7 (356912600)",
         "type": "scatter",
         "x": {
          "bdata": "ZAAAAEwEAAA0CAAAHAwAAAQQAADsEwAA1BcAALwbAACkHwAAjCMAAIgnAACIKwAAiC8AAIgzAACINwAAiDsAAIg/AACIQwAAiEcAAIhLAACITwAAiFMAAIhXAACIWwAAiF8AAIhjAACIZwAAiGsAAIhvAACIcwAAiHcAAIh7AACIfwAAiIMAAIiHAACIiwAAiI8AAIiTAACIlwAAiJsAAIifAACIowAAgKcAAICrAACArwAAgLMAAIC3AACAuwAAgL8AAGDDAAA=",
          "dtype": "i4"
         },
         "y": {
          "bdata": "AAAAAAAAAABoXF8vRcHaPwEAKo4qSd4/ASrqV+Eo3z9nroqS2X7fP5tDUXbx1d8/ASTNiNIb4D80sKDwamHgPwGpZHwAfuA/NLvLJ7eQ4D+bMtxjAaPgP84w1glTteA/aP81wwzE4D8BGhOI+9jgP2jszVJ93eA/zq01c/Tk4D+aUjlcUOzgP5ofWITV+eA/zlITgRX94D80fv2tvAHhP87judMEBOE/zttosL4N4T/OxHes6xXhPzSUiAOuF+E/zmhSuS8d4T8BjJxfSSDhPwGqOa3rJOE/ZyAG+BAn4T+b6ItkSyjhP85d8gLDK+E/m00LVcUt4T8CXKN3jDDhP84T4lmbM+E/NIM6Ank14T80vGJ0yjbhP2c0GRQ2OOE/aC9xyZA74T9ntsduAT3hPzRJU8YwQOE/NFXn8DFH4T9nVa0rnUnhP5uOS3WmSuE/AgE9nVFM4T80PbAgu03hPzUBw/oBUuE/aP3nwXhU4T/OllnxnlbhPwHLlmd9V+E/NQtb5GxY4T9oB3ER6lnhPw==",
          "dtype": "f8"
         }
        },
        {
         "fill": "none",
         "line": {
          "color": "#750D86",
          "width": 3
         },
         "mode": "lines",
         "name": "Seed 8 (607561200)",
         "type": "scatter",
         "x": {
          "bdata": "ZAAAAEwEAAA0CAAAHAwAAAQQAADsEwAA1BcAALwbAACkHwAAjCMAAIknAAB9KwAAcS8AAGUzAABZNwAATTsAAEE/AAA1QwAAKUcAAB1LAAARTwAABVMAAPlWAADtWgAA4V4AANViAADJZgAAvWoAALFuAAClcgAAmXYAAI16AACBfgAAdYIAAGmGAABdigAAUY4AAEWSAAA5lgAALZoAACGeAAAVogAACaYAAP2pAADxrQAA5bEAANm1AADNuQAAwb0AALXBAABtwwAA",
          "dtype": "i4"
         },
         "y": {
          "bdata": "ht4+/o9YtT/NPqSmoazcPzRVATon894/NKGprS8v4D811FyLNPbgPzW+I7QVUeI/aKLKtP8M4z8BhiHlulfjPwJM02YCfOM/Av3yOPGm4z8CJIID07fjP5tO5ozqz+M/NLLHhCnm4z81wsTnoPXjP2jEzA1wAeQ/Aj7Xz9kQ5D9oDxDa7hHkP8/JB58dHuQ/NfB7vfIi5D+cibdUtSjkP5u/9ODEKuQ/aPu3s5Mu5D+cDmGpTDDkPzVcLr/wMeQ/AifVgDA05D81GfxQcDXkP8+FfrU1OOQ/NXsc3D875D/PhIVZhDvkP885LKbFPeQ/aEoOX/8/5D9p1Czqt0TkP2hamGONReQ/nEsq5PVG5D9oS77J5knkP85Hyu+uSuQ/Amvz49JL5D8BTtTJCk3kP5sCwATxTeQ/m656CnpO5D9pAk2xOE/kP2jGUmWgT+Q/AhdpJ3lQ5D8CTFhJIlLkP86s/W7MU+Q/AuEoBaVV5D/ONFGsM1bkPwLSnq2xVuQ/m06Z0wRX5D+cmlo1XF7kPzWeZQ0xYeQ/",
          "dtype": "f8"
         }
        }
       ],
       "layout": {
        "font": {
         "size": 20
        },
        "height": 800,
        "template": {
         "data": {
          "bar": [
           {
            "error_x": {
             "color": "#2a3f5f"
            },
            "error_y": {
             "color": "#2a3f5f"
            },
            "marker": {
             "line": {
              "color": "white",
              "width": 0.5
             },
             "pattern": {
              "fillmode": "overlay",
              "size": 10,
              "solidity": 0.2
             }
            },
            "type": "bar"
           }
          ],
          "barpolar": [
           {
            "marker": {
             "line": {
              "color": "white",
              "width": 0.5
             },
             "pattern": {
              "fillmode": "overlay",
              "size": 10,
              "solidity": 0.2
             }
            },
            "type": "barpolar"
           }
          ],
          "carpet": [
           {
            "aaxis": {
             "endlinecolor": "#2a3f5f",
             "gridcolor": "#C8D4E3",
             "linecolor": "#C8D4E3",
             "minorgridcolor": "#C8D4E3",
             "startlinecolor": "#2a3f5f"
            },
            "baxis": {
             "endlinecolor": "#2a3f5f",
             "gridcolor": "#C8D4E3",
             "linecolor": "#C8D4E3",
             "minorgridcolor": "#C8D4E3",
             "startlinecolor": "#2a3f5f"
            },
            "type": "carpet"
           }
          ],
          "choropleth": [
           {
            "colorbar": {
             "outlinewidth": 0,
             "ticks": ""
            },
            "type": "choropleth"
           }
          ],
          "contour": [
           {
            "colorbar": {
             "outlinewidth": 0,
             "ticks": ""
            },
            "colorscale": [
             [
              0,
              "#0d0887"
             ],
             [
              0.1111111111111111,
              "#46039f"
             ],
             [
              0.2222222222222222,
              "#7201a8"
             ],
             [
              0.3333333333333333,
              "#9c179e"
             ],
             [
              0.4444444444444444,
              "#bd3786"
             ],
             [
              0.5555555555555556,
              "#d8576b"
             ],
             [
              0.6666666666666666,
              "#ed7953"
             ],
             [
              0.7777777777777778,
              "#fb9f3a"
             ],
             [
              0.8888888888888888,
              "#fdca26"
             ],
             [
              1,
              "#f0f921"
             ]
            ],
            "type": "contour"
           }
          ],
          "contourcarpet": [
           {
            "colorbar": {
             "outlinewidth": 0,
             "ticks": ""
            },
            "type": "contourcarpet"
           }
          ],
          "heatmap": [
           {
            "colorbar": {
             "outlinewidth": 0,
             "ticks": ""
            },
            "colorscale": [
             [
              0,
              "#0d0887"
             ],
             [
              0.1111111111111111,
              "#46039f"
             ],
             [
              0.2222222222222222,
              "#7201a8"
             ],
             [
              0.3333333333333333,
              "#9c179e"
             ],
             [
              0.4444444444444444,
              "#bd3786"
             ],
             [
              0.5555555555555556,
              "#d8576b"
             ],
             [
              0.6666666666666666,
              "#ed7953"
             ],
             [
              0.7777777777777778,
              "#fb9f3a"
             ],
             [
              0.8888888888888888,
              "#fdca26"
             ],
             [
              1,
              "#f0f921"
             ]
            ],
            "type": "heatmap"
           }
          ],
          "histogram": [
           {
            "marker": {
             "pattern": {
              "fillmode": "overlay",
              "size": 10,
              "solidity": 0.2
             }
            },
            "type": "histogram"
           }
          ],
          "histogram2d": [
           {
            "colorbar": {
             "outlinewidth": 0,
             "ticks": ""
            },
            "colorscale": [
             [
              0,
              "#0d0887"
             ],
             [
              0.1111111111111111,
              "#46039f"
             ],
             [
              0.2222222222222222,
              "#7201a8"
             ],
             [
              0.3333333333333333,
              "#9c179e"
             ],
             [
              0.4444444444444444,
              "#bd3786"
             ],
             [
              0.5555555555555556,
              "#d8576b"
             ],
             [
              0.6666666666666666,
              "#ed7953"
             ],
             [
              0.7777777777777778,
              "#fb9f3a"
             ],
             [
              0.8888888888888888,
              "#fdca26"
             ],
             [
              1,
              "#f0f921"
             ]
            ],
            "type": "histogram2d"
           }
          ],
          "histogram2dcontour": [
           {
            "colorbar": {
             "outlinewidth": 0,
             "ticks": ""
            },
            "colorscale": [
             [
              0,
              "#0d0887"
             ],
             [
              0.1111111111111111,
              "#46039f"
             ],
             [
              0.2222222222222222,
              "#7201a8"
             ],
             [
              0.3333333333333333,
              "#9c179e"
             ],
             [
              0.4444444444444444,
              "#bd3786"
             ],
             [
              0.5555555555555556,
              "#d8576b"
             ],
             [
              0.6666666666666666,
              "#ed7953"
             ],
             [
              0.7777777777777778,
              "#fb9f3a"
             ],
             [
              0.8888888888888888,
              "#fdca26"
             ],
             [
              1,
              "#f0f921"
             ]
            ],
            "type": "histogram2dcontour"
           }
          ],
          "mesh3d": [
           {
            "colorbar": {
             "outlinewidth": 0,
             "ticks": ""
            },
            "type": "mesh3d"
           }
          ],
          "parcoords": [
           {
            "line": {
             "colorbar": {
              "outlinewidth": 0,
              "ticks": ""
             }
            },
            "type": "parcoords"
           }
          ],
          "pie": [
           {
            "automargin": true,
            "type": "pie"
           }
          ],
          "scatter": [
           {
            "fillpattern": {
             "fillmode": "overlay",
             "size": 10,
             "solidity": 0.2
            },
            "type": "scatter"
           }
          ],
          "scatter3d": [
           {
            "line": {
             "colorbar": {
              "outlinewidth": 0,
              "ticks": ""
             }
            },
            "marker": {
             "colorbar": {
              "outlinewidth": 0,
              "ticks": ""
             }
            },
            "type": "scatter3d"
           }
          ],
          "scattercarpet": [
           {
            "marker": {
             "colorbar": {
              "outlinewidth": 0,
              "ticks": ""
             }
            },
            "type": "scattercarpet"
           }
          ],
          "scattergeo": [
           {
            "marker": {
             "colorbar": {
              "outlinewidth": 0,
              "ticks": ""
             }
            },
            "type": "scattergeo"
           }
          ],
          "scattergl": [
           {
            "marker": {
             "colorbar": {
              "outlinewidth": 0,
              "ticks": ""
             }
            },
            "type": "scattergl"
           }
          ],
          "scattermap": [
           {
            "marker": {
             "colorbar": {
              "outlinewidth": 0,
              "ticks": ""
             }
            },
            "type": "scattermap"
           }
          ],
          "scattermapbox": [
           {
            "marker": {
             "colorbar": {
              "outlinewidth": 0,
              "ticks": ""
             }
            },
            "type": "scattermapbox"
           }
          ],
          "scatterpolar": [
           {
            "marker": {
             "colorbar": {
              "outlinewidth": 0,
              "ticks": ""
             }
            },
            "type": "scatterpolar"
           }
          ],
          "scatterpolargl": [
           {
            "marker": {
             "colorbar": {
              "outlinewidth": 0,
              "ticks": ""
             }
            },
            "type": "scatterpolargl"
           }
          ],
          "scatterternary": [
           {
            "marker": {
             "colorbar": {
              "outlinewidth": 0,
              "ticks": ""
             }
            },
            "type": "scatterternary"
           }
          ],
          "surface": [
           {
            "colorbar": {
             "outlinewidth": 0,
             "ticks": ""
            },
            "colorscale": [
             [
              0,
              "#0d0887"
             ],
             [
              0.1111111111111111,
              "#46039f"
             ],
             [
              0.2222222222222222,
              "#7201a8"
             ],
             [
              0.3333333333333333,
              "#9c179e"
             ],
             [
              0.4444444444444444,
              "#bd3786"
             ],
             [
              0.5555555555555556,
              "#d8576b"
             ],
             [
              0.6666666666666666,
              "#ed7953"
             ],
             [
              0.7777777777777778,
              "#fb9f3a"
             ],
             [
              0.8888888888888888,
              "#fdca26"
             ],
             [
              1,
              "#f0f921"
             ]
            ],
            "type": "surface"
           }
          ],
          "table": [
           {
            "cells": {
             "fill": {
              "color": "#EBF0F8"
             },
             "line": {
              "color": "white"
             }
            },
            "header": {
             "fill": {
              "color": "#C8D4E3"
             },
             "line": {
              "color": "white"
             }
            },
            "type": "table"
           }
          ]
         },
         "layout": {
          "annotationdefaults": {
           "arrowcolor": "#2a3f5f",
           "arrowhead": 0,
           "arrowwidth": 1
          },
          "autotypenumbers": "strict",
          "coloraxis": {
           "colorbar": {
            "outlinewidth": 0,
            "ticks": ""
           }
          },
          "colorscale": {
           "diverging": [
            [
             0,
             "#8e0152"
            ],
            [
             0.1,
             "#c51b7d"
            ],
            [
             0.2,
             "#de77ae"
            ],
            [
             0.3,
             "#f1b6da"
            ],
            [
             0.4,
             "#fde0ef"
            ],
            [
             0.5,
             "#f7f7f7"
            ],
            [
             0.6,
             "#e6f5d0"
            ],
            [
             0.7,
             "#b8e186"
            ],
            [
             0.8,
             "#7fbc41"
            ],
            [
             0.9,
             "#4d9221"
            ],
            [
             1,
             "#276419"
            ]
           ],
           "sequential": [
            [
             0,
             "#0d0887"
            ],
            [
             0.1111111111111111,
             "#46039f"
            ],
            [
             0.2222222222222222,
             "#7201a8"
            ],
            [
             0.3333333333333333,
             "#9c179e"
            ],
            [
             0.4444444444444444,
             "#bd3786"
            ],
            [
             0.5555555555555556,
             "#d8576b"
            ],
            [
             0.6666666666666666,
             "#ed7953"
            ],
            [
             0.7777777777777778,
             "#fb9f3a"
            ],
            [
             0.8888888888888888,
             "#fdca26"
            ],
            [
             1,
             "#f0f921"
            ]
           ],
           "sequentialminus": [
            [
             0,
             "#0d0887"
            ],
            [
             0.1111111111111111,
             "#46039f"
            ],
            [
             0.2222222222222222,
             "#7201a8"
            ],
            [
             0.3333333333333333,
             "#9c179e"
            ],
            [
             0.4444444444444444,
             "#bd3786"
            ],
            [
             0.5555555555555556,
             "#d8576b"
            ],
            [
             0.6666666666666666,
             "#ed7953"
            ],
            [
             0.7777777777777778,
             "#fb9f3a"
            ],
            [
             0.8888888888888888,
             "#fdca26"
            ],
            [
             1,
             "#f0f921"
            ]
           ]
          },
          "colorway": [
           "#636efa",
           "#EF553B",
           "#00cc96",
           "#ab63fa",
           "#FFA15A",
           "#19d3f3",
           "#FF6692",
           "#B6E880",
           "#FF97FF",
           "#FECB52"
          ],
          "font": {
           "color": "#2a3f5f"
          },
          "geo": {
           "bgcolor": "white",
           "lakecolor": "white",
           "landcolor": "white",
           "showlakes": true,
           "showland": true,
           "subunitcolor": "#C8D4E3"
          },
          "hoverlabel": {
           "align": "left"
          },
          "hovermode": "closest",
          "mapbox": {
           "style": "light"
          },
          "paper_bgcolor": "white",
          "plot_bgcolor": "white",
          "polar": {
           "angularaxis": {
            "gridcolor": "#EBF0F8",
            "linecolor": "#EBF0F8",
            "ticks": ""
           },
           "bgcolor": "white",
           "radialaxis": {
            "gridcolor": "#EBF0F8",
            "linecolor": "#EBF0F8",
            "ticks": ""
           }
          },
          "scene": {
           "xaxis": {
            "backgroundcolor": "white",
            "gridcolor": "#DFE8F3",
            "gridwidth": 2,
            "linecolor": "#EBF0F8",
            "showbackground": true,
            "ticks": "",
            "zerolinecolor": "#EBF0F8"
           },
           "yaxis": {
            "backgroundcolor": "white",
            "gridcolor": "#DFE8F3",
            "gridwidth": 2,
            "linecolor": "#EBF0F8",
            "showbackground": true,
            "ticks": "",
            "zerolinecolor": "#EBF0F8"
           },
           "zaxis": {
            "backgroundcolor": "white",
            "gridcolor": "#DFE8F3",
            "gridwidth": 2,
            "linecolor": "#EBF0F8",
            "showbackground": true,
            "ticks": "",
            "zerolinecolor": "#EBF0F8"
           }
          },
          "shapedefaults": {
           "line": {
            "color": "#2a3f5f"
           }
          },
          "ternary": {
           "aaxis": {
            "gridcolor": "#DFE8F3",
            "linecolor": "#A2B1C6",
            "ticks": ""
           },
           "baxis": {
            "gridcolor": "#DFE8F3",
            "linecolor": "#A2B1C6",
            "ticks": ""
           },
           "bgcolor": "white",
           "caxis": {
            "gridcolor": "#DFE8F3",
            "linecolor": "#A2B1C6",
            "ticks": ""
           }
          },
          "title": {
           "x": 0.05
          },
          "xaxis": {
           "automargin": true,
           "gridcolor": "#EBF0F8",
           "linecolor": "#EBF0F8",
           "ticks": "",
           "title": {
            "standoff": 15
           },
           "zerolinecolor": "#EBF0F8",
           "zerolinewidth": 2
          },
          "yaxis": {
           "automargin": true,
           "gridcolor": "#EBF0F8",
           "linecolor": "#EBF0F8",
           "ticks": "",
           "title": {
            "standoff": 15
           },
           "zerolinecolor": "#EBF0F8",
           "zerolinewidth": 2
          }
         }
        },
        "title": {
         "text": "Utilitarian",
         "x": 0.5
        },
        "width": 1000,
        "xaxis": {
         "linecolor": "black",
         "linewidth": 2,
         "showgrid": false,
         "showline": true,
         "tickfont": {
          "size": 20
         },
         "ticks": "outside",
         "title": {
          "text": "Number of Function Evaluations"
         }
        },
        "yaxis": {
         "linecolor": "black",
         "linewidth": 2,
         "range": [
          0,
          0.7
         ],
         "showgrid": false,
         "showline": true,
         "tickfont": {
          "size": 20
         },
         "ticks": "outside",
         "tickvals": {
          "bdata": "mpmZmZmZuT+amZmZmZnJPzQzMzMzM9M/mpmZmZmZ2T8AAAAAAADgPzQzMzMzM+M/",
          "dtype": "f8"
         },
         "title": {
          "text": "Hypervolume"
         }
        }
       }
      }
     },
     "metadata": {},
     "output_type": "display_data"
    }
   ],
   "source": [
    "from justice.util.visualizer import plot_hypervolume\n",
    "\n",
    "\n",
    "input_data_path_list = {\n",
    "    \n",
    "   swf.value[1]: [\n",
    "        f\"{swf.value[1]}_{nfe}_521475_hv.csv\",\n",
    "        f\"{swf.value[1]}_{nfe}_1644652_hv.csv\",\n",
    "        f\"{swf.value[1]}_{nfe}_3569126_hv.csv\",\n",
    "        f\"{swf.value[1]}_{nfe}_6075612_hv.csv\",\n",
    "\n",
    "        f\"{swf.value[1]}_{nfe}_52147500_hv.csv\",\n",
    "        f\"{swf.value[1]}_{nfe}_164465200_hv.csv\",\n",
    "        f\"{swf.value[1]}_{nfe}_356912600_hv.csv\",\n",
    "        f\"{swf.value[1]}_{nfe}_607561200_hv.csv\",\n",
    "    ],\n",
    "}\n",
    "\n",
    "\n",
    "fig = plot_hypervolume(\n",
    "    path_to_data=path,\n",
    "    path_to_output=path,\n",
    "    input_data=input_data_path_list,\n",
    "    yaxis_upper_limit=0.7,\n",
    "    width=1000,\n",
    "    height=800,\n",
    "    fontsize=20,\n",
    "    saving=True,\n",
    ")\n",
    "\n",
    "fig.show()"
   ]
  },
  {
   "cell_type": "code",
   "execution_count": null,
   "id": "156cd5f3",
   "metadata": {},
   "outputs": [
    {
     "name": "stdout",
     "output_type": "stream",
     "text": [
      "Reading data/temporary/NU_DATA/ensgaii/SSP3/UTILITARIAN_reference_set.csv\n",
      "Index of interest for UTILITARIAN: 0\n",
      "[np.int64(0)]\n",
      "index for policy:  0\n",
      "3 SSP370\n",
      "Welfare:  111.45053698679108\n",
      "Keys of the scenario data:  dict_keys(['SSP370'])\n",
      "File saved as UTILITARIAN_reference_set_idx0 at location data/temporary/NU_DATA/ensgaii/SSP3/\n"
     ]
    },
    {
     "data": {
      "text/plain": [
       "{'status': 'ok', 'restart': True}"
      ]
     },
     "execution_count": 4,
     "metadata": {},
     "output_type": "execute_result"
    },
    {
     "ename": "",
     "evalue": "",
     "output_type": "error",
     "traceback": [
      "\u001b[1;31mThe Kernel crashed while executing code in the current cell or a previous cell. \n",
      "\u001b[1;31mPlease review the code in the cell(s) to identify a possible cause of the failure. \n",
      "\u001b[1;31mClick <a href='https://aka.ms/vscodeJupyterKernelCrash'>here</a> for more info. \n",
      "\u001b[1;31mView Jupyter <a href='command:jupyter.viewOutput'>log</a> for further details."
     ]
    }
   ],
   "source": [
    "\n",
    "# NOTE: Restart the Kernel after each run. Jupyter has some issues running this which corrupts the data file\n",
    "\n",
    "import IPython\n",
    "import pandas as pd\n",
    "from justice.util.output_data_processor import reevaluate_optimal_policy, get_selected_policy_indices_based_on_welfare_temperature, reevaluated_optimal_policy_variable_extractor\n",
    "from justice.util.model_time import TimeHorizon\n",
    "from justice.util.data_loader import DataLoader\n",
    "\n",
    "selected_indices = get_selected_policy_indices_based_on_welfare_temperature(\n",
    "    \n",
    "    # Change This and the one below\n",
    "    rival_framings=[\n",
    "        swf.value[1]\n",
    "    ],\n",
    "    data_dir=path,\n",
    "    n_percent=0.1, # 10% of the data\n",
    "    second_objective_of_interest=\"fraction_above_threshold\",  # This is the second objective of interest\n",
    ")\n",
    "print(selected_indices)\n",
    "# ############################################################################################################\n",
    "scenario_list = [\"SSP370\"] # SSP370 SSP245\n",
    "start_year = 2015\n",
    "end_year = 2300\n",
    "data_timestep = 5\n",
    "timestep = 1\n",
    "\n",
    "data_loader = DataLoader()\n",
    "region_list = data_loader.REGION_LIST\n",
    "\n",
    "# Set the time horizon\n",
    "time_horizon = TimeHorizon(\n",
    "    start_year=start_year,\n",
    "    end_year=end_year,\n",
    "    data_timestep=data_timestep,\n",
    "    timestep=timestep,\n",
    ")\n",
    "\n",
    "list_of_years = time_horizon.model_time_horizon\n",
    "\n",
    "# NOTE: The following code generates large dataframes and saved them in the data/temporary folder. Size is ~ 1.5 GB each run\n",
    "reevaluate_optimal_policy(\n",
    "    \n",
    "    # Change this\n",
    "    input_data=[\n",
    "\n",
    "        f\"{swf.value[1]}_reference_set.csv\",\n",
    "\n",
    "    ],\n",
    "    path_to_rbf_weights=path,  #  reevaluation\n",
    "    path_to_output=path,\n",
    "    direction_of_optimization=[\n",
    "        \"min\",\n",
    "        \"min\",\n",
    "\n",
    "    ],\n",
    "    rbf_policy_index= selected_indices[0], # This chooses policy for a particular rival framing. NOTE: Can also set to the index directly\n",
    "    list_of_objectives=[\n",
    "        \"welfare\",\n",
    "        \"fraction_above_threshold\",\n",
    "\n",
    "    ],\n",
    "    scenario_list=scenario_list,  \n",
    ")\n",
    "\n",
    "\n",
    "\n",
    "# Restarting the Kernel\n",
    "IPython.Application.instance().kernel.do_shutdown(True) #automatically restarts kernel\n",
    "\n"
   ]
  },
  {
   "cell_type": "code",
   "execution_count": 2,
   "id": "408494af",
   "metadata": {},
   "outputs": [
    {
     "name": "stderr",
     "output_type": "stream",
     "text": [
      "/Users/palokbiswas/Desktop/pollockdevis_git/JUSTICE/venv/lib/python3.9/site-packages/tqdm/auto.py:21: TqdmWarning: IProgress not found. Please update jupyter and ipywidgets. See https://ipywidgets.readthedocs.io/en/stable/user_install.html\n",
      "  from .autonotebook import tqdm as notebook_tqdm\n"
     ]
    },
    {
     "name": "stdout",
     "output_type": "stream",
     "text": [
      "Directory:  /Users/palokbiswas/Desktop/pollockdevis_git/JUSTICE\n",
      "SSP370\n",
      "File saved as PRIORITARIAN_idx1_SSP370_constrained_emission_control_rate at location data/temporary/NU_DATA/ensgaii/SSP3\n"
     ]
    }
   ],
   "source": [
    "import pandas as pd\n",
    "from justice.util.output_data_processor import reevaluate_optimal_policy, get_selected_policy_indices_based_on_welfare_temperature, reevaluated_optimal_policy_variable_extractor\n",
    "from justice.util.model_time import TimeHorizon\n",
    "from justice.util.data_loader import DataLoader\n",
    "\n",
    "idx = 1 # (22-Utilitarian SSP2, 9 for SSP3, PRIOR 6 for SSP2 and 3 for SSP3) ENSGAII(U SSP2 - 1; P SSP2-3; U SSP3 0;  P SSP3-1)\n",
    "scenario_list = [\"SSP370\"] ## SSP370 SSP245\n",
    "start_year = 2015\n",
    "end_year = 2300\n",
    "data_timestep = 5\n",
    "timestep = 1\n",
    "\n",
    "data_loader = DataLoader()\n",
    "region_list = data_loader.REGION_LIST\n",
    "\n",
    "# Set the time horizon\n",
    "time_horizon = TimeHorizon(\n",
    "    start_year=start_year,\n",
    "    end_year=end_year,\n",
    "    data_timestep=data_timestep,\n",
    "    timestep=timestep,\n",
    ")\n",
    "\n",
    "list_of_years = time_horizon.model_time_horizon\n",
    "\n",
    "\n",
    "\n",
    "\n",
    "############################################################################################################\n",
    "reevaluated_optimal_policy_variable_extractor(\n",
    "    scenario_list=scenario_list,  # ['SSP245'],\n",
    "    region_list=region_list,\n",
    "    list_of_years=list_of_years,\n",
    "    path_to_data=path, \n",
    "    path_to_output=path,\n",
    "    \n",
    "    variable_name=\"constrained_emission_control_rate\", #\"constrained_emission_control_rate\", #\"emissions\",  # \"global_temperature\" (USE with data_shape=2, \n",
    "    data_shape=3, #NOTE CHANGE THIS: 2 Only for temperature, 3 for rest (emission, constrained_emission_control_rate)\n",
    "    \n",
    "    no_of_ensembles=1001,\n",
    "    input_data=[\n",
    "        # Main Set for analysis - 10% Welfare\n",
    "        f\"{swf.value[1]}_reference_set_idx{idx}.h5\",\n",
    "\n",
    "\n",
    "\n",
    "    ],\n",
    "    output_file_names=[ # NOTE: Change these accordingly\n",
    "        swf.value[1],\n",
    "\n",
    "\n",
    "    ],\n",
    ")\n",
    "\n",
    "\n"
   ]
  },
  {
   "cell_type": "code",
   "execution_count": 3,
   "id": "7f3c729b",
   "metadata": {},
   "outputs": [
    {
     "name": "stdout",
     "output_type": "stream",
     "text": [
      "Taking average over the last dimension.\n",
      "Taking average over the last dimension.\n",
      "0\n",
      "1\n"
     ]
    },
    {
     "data": {
      "application/vnd.plotly.v1+json": {
       "config": {
        "plotlyServerURL": "https://plot.ly"
       },
       "data": [
        {
         "coloraxis": "coloraxis",
         "geo": "geo",
         "hovertemplate": "<b>%{hovertext}</b><br><br>CountryCode=%{location}<br>Emission Control Rate=%{z}<extra></extra>",
         "hovertext": [
          "Bonaire, Sint Eustatius and Saba",
          "Curaçao",
          "Sint Maarten (Dutch part)",
          "Aruba",
          "Bahamas",
          "Belize",
          "Barbados",
          "Costa Rica",
          "Cuba",
          "Dominica",
          "Dominican Republic",
          "Grenada",
          "Guatemala",
          "Honduras",
          "Haiti",
          "Jamaica",
          "Saint Lucia",
          "Nicaragua",
          "Panama",
          "El Salvador",
          "Trinidad and Tobago",
          "Saint Vincent and the Grenadines",
          "Antarctica",
          "Bermuda",
          "South Georgia and the South Sandwich Islands",
          "Turks and Caicos Islands",
          "Virgin Islands, British",
          "Virgin Islands, U.S.",
          "Anguilla",
          "Antigua and Barbuda",
          "Saint Barthélemy",
          "Cayman Islands",
          "Guadeloupe",
          "Saint Kitts and Nevis",
          "Saint Martin (French part)",
          "Montserrat",
          "Martinique",
          "Puerto Rico",
          "Western Sahara",
          "Tunisia",
          "Morocco",
          "Austria",
          "Belgium",
          "Germany",
          "Denmark",
          "Spain",
          "Finland",
          "France",
          "United Kingdom",
          "Greece",
          "Ireland",
          "Italy",
          "Netherlands",
          "Portugal",
          "Sweden",
          "Bulgaria",
          "Czechia",
          "Hungary",
          "Poland",
          "Romania",
          "Slovakia",
          "Slovenia",
          "Croatia",
          "Norway",
          "Switzerland",
          "Türkiye",
          "Estonia",
          "Lithuania",
          "Latvia",
          "Cyprus",
          "Luxembourg",
          "Malta",
          "Liechtenstein",
          "Greenland",
          "Iceland",
          "Faroe Islands",
          "Åland Islands",
          "Andorra",
          "Guernsey",
          "Gibraltar",
          "Isle of Man",
          "Jersey",
          "Monaco",
          "Svalbard and Jan Mayen",
          "San Marino",
          "Holy See (Vatican City State)",
          "Saint Pierre and Miquelon",
          "Bosnia and Herzegovina",
          "Albania",
          "North Macedonia",
          "Montenegro",
          "Serbia",
          "Kosovo",
          "Libya",
          "Algeria",
          "Egypt",
          "South Africa",
          "Angola",
          "Benin",
          "Botswana",
          "Burkina Faso",
          "Burundi",
          "Cameroon",
          "Cabo Verde",
          "Central African Republic",
          "Chad",
          "Comoros",
          "Congo",
          "Congo, The Democratic Republic of the",
          "Côte d'Ivoire",
          "Equatorial Guinea",
          "Eritrea",
          "Ethiopia",
          "Gabon",
          "Gambia",
          "Ghana",
          "Guinea",
          "Guinea-Bissau",
          "Kenya",
          "Lesotho",
          "Liberia",
          "Madagascar",
          "Malawi",
          "Mali",
          "Mauritania",
          "Mauritius",
          "Mayotte",
          "Mozambique",
          "Namibia",
          "Niger",
          "Nigeria",
          "Réunion",
          "Rwanda",
          "Sao Tome and Principe",
          "Senegal",
          "Seychelles",
          "Saint Helena, Ascension and Tristan da Cunha",
          "Sierra Leone",
          "Somalia",
          "South Sudan",
          "Sudan",
          "Eswatini",
          "Tanzania, United Republic of",
          "Togo",
          "Uganda",
          "Zambia",
          "Zimbabwe",
          "Djibouti",
          "British Indian Ocean Territory",
          "Bouvet Island",
          "French Southern Territories",
          "Israel",
          "Jordan",
          "Syrian Arab Republic",
          "Lebanon",
          "Palestine, State of",
          "United Arab Emirates",
          "Bahrain",
          "Iran, Islamic Republic of",
          "Iraq",
          "Kuwait",
          "Oman",
          "Qatar",
          "Saudi Arabia",
          "Yemen",
          "Australia",
          "Christmas Island",
          "Cook Islands",
          "Heard Island and McDonald Islands",
          "Norfolk Island",
          "Niue",
          "Nauru",
          "Pitcairn",
          "Tokelau",
          "Tuvalu",
          "United States Minor Outlying Islands",
          "Wallis and Futuna",
          "Fiji",
          "Papua New Guinea",
          "Micronesia, Federated States of",
          "Guam",
          "American Samoa",
          "Timor-Leste",
          "French Polynesia",
          "Kiribati",
          "Northern Mariana Islands",
          "Marshall Islands",
          "New Caledonia",
          "Palau",
          "Samoa",
          "Solomon Islands",
          "Tonga",
          "Vanuatu",
          "New Zealand",
          "China",
          "India",
          "Malaysia",
          "Thailand",
          "Viet Nam",
          "Japan",
          "Korea, Republic of",
          "Indonesia",
          "Brunei Darussalam",
          "Cocos (Keeling) Islands",
          "Cambodia",
          "Lao People's Democratic Republic",
          "Myanmar",
          "Philippines",
          "Singapore",
          "Korea, Democratic People's Republic of",
          "Hong Kong",
          "Macao",
          "Taiwan, Province of China",
          "Mongolia",
          "Afghanistan",
          "Bangladesh",
          "Bhutan",
          "Sri Lanka",
          "Maldives",
          "Nepal",
          "Pakistan",
          "Argentina",
          "Brazil",
          "Chile",
          "Bolivia, Plurinational State of",
          "Colombia",
          "Ecuador",
          "Falkland Islands (Malvinas)",
          "French Guiana",
          "Guyana",
          "Peru",
          "Paraguay",
          "Suriname",
          "Uruguay",
          "Venezuela, Bolivarian Republic of",
          "Mexico",
          "Canada",
          "United States",
          "Russian Federation",
          "Ukraine",
          "Armenia",
          "Azerbaijan",
          "Belarus",
          "Georgia",
          "Kazakhstan",
          "Kyrgyzstan",
          "Moldova, Republic of",
          "Tajikistan",
          "Turkmenistan",
          "Uzbekistan"
         ],
         "locations": [
          "BES",
          "CUW",
          "SXM",
          "ABW",
          "BHS",
          "BLZ",
          "BRB",
          "CRI",
          "CUB",
          "DMA",
          "DOM",
          "GRD",
          "GTM",
          "HND",
          "HTI",
          "JAM",
          "LCA",
          "NIC",
          "PAN",
          "SLV",
          "TTO",
          "VCT",
          "ATA",
          "BMU",
          "SGS",
          "TCA",
          "VGB",
          "VIR",
          "AIA",
          "ATG",
          "BLM",
          "CYM",
          "GLP",
          "KNA",
          "MAF",
          "MSR",
          "MTQ",
          "PRI",
          "ESH",
          "TUN",
          "MAR",
          "AUT",
          "BEL",
          "DEU",
          "DNK",
          "ESP",
          "FIN",
          "FRA",
          "GBR",
          "GRC",
          "IRL",
          "ITA",
          "NLD",
          "PRT",
          "SWE",
          "BGR",
          "CZE",
          "HUN",
          "POL",
          "ROU",
          "SVK",
          "SVN",
          "HRV",
          "NOR",
          "CHE",
          "TUR",
          "EST",
          "LTU",
          "LVA",
          "CYP",
          "LUX",
          "MLT",
          "LIE",
          "GRL",
          "ISL",
          "FRO",
          "ALA",
          "AND",
          "GGY",
          "GIB",
          "IMN",
          "JEY",
          "MCO",
          "SJM",
          "SMR",
          "VAT",
          "SPM",
          "BIH",
          "ALB",
          "MKD",
          "MNE",
          "SRB",
          "KSV",
          "LBY",
          "DZA",
          "EGY",
          "ZAF",
          "AGO",
          "BEN",
          "BWA",
          "BFA",
          "BDI",
          "CMR",
          "CPV",
          "CAF",
          "TCD",
          "COM",
          "COG",
          "COD",
          "CIV",
          "GNQ",
          "ERI",
          "ETH",
          "GAB",
          "GMB",
          "GHA",
          "GIN",
          "GNB",
          "KEN",
          "LSO",
          "LBR",
          "MDG",
          "MWI",
          "MLI",
          "MRT",
          "MUS",
          "MYT",
          "MOZ",
          "NAM",
          "NER",
          "NGA",
          "REU",
          "RWA",
          "STP",
          "SEN",
          "SYC",
          "SHN",
          "SLE",
          "SOM",
          "SSD",
          "SDN",
          "SWZ",
          "TZA",
          "TGO",
          "UGA",
          "ZMB",
          "ZWE",
          "DJI",
          "IOT",
          "BVT",
          "ATF",
          "ISR",
          "JOR",
          "SYR",
          "LBN",
          "PSE",
          "ARE",
          "BHR",
          "IRN",
          "IRQ",
          "KWT",
          "OMN",
          "QAT",
          "SAU",
          "YEM",
          "AUS",
          "CXR",
          "COK",
          "HMD",
          "NFK",
          "NIU",
          "NRU",
          "PCN",
          "TKL",
          "TUV",
          "UMI",
          "WLF",
          "FJI",
          "PNG",
          "FSM",
          "GUM",
          "ASM",
          "TLS",
          "PYF",
          "KIR",
          "MNP",
          "MHL",
          "NCL",
          "PLW",
          "WSM",
          "SLB",
          "TON",
          "VUT",
          "NZL",
          "CHN",
          "IND",
          "MYS",
          "THA",
          "VNM",
          "JPN",
          "KOR",
          "IDN",
          "BRN",
          "CCK",
          "KHM",
          "LAO",
          "MMR",
          "PHL",
          "SGP",
          "PRK",
          "HKG",
          "MAC",
          "TWN",
          "MNG",
          "AFG",
          "BGD",
          "BTN",
          "LKA",
          "MDV",
          "NPL",
          "PAK",
          "ARG",
          "BRA",
          "CHL",
          "BOL",
          "COL",
          "ECU",
          "FLK",
          "GUF",
          "GUY",
          "PER",
          "PRY",
          "SUR",
          "URY",
          "VEN",
          "MEX",
          "CAN",
          "USA",
          "RUS",
          "UKR",
          "ARM",
          "AZE",
          "BLR",
          "GEO",
          "KAZ",
          "KGZ",
          "MDA",
          "TJK",
          "TKM",
          "UZB"
         ],
         "name": "",
         "type": "choropleth",
         "z": {
          "bdata": "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",
          "dtype": "f8"
         }
        }
       ],
       "layout": {
        "coloraxis": {
         "cmax": 1,
         "cmin": 0,
         "colorbar": {
          "lenmode": "pixels",
          "tickmode": "array",
          "ticks": "inside",
          "ticktext": [
           "0%",
           "25%",
           "50%",
           "75%",
           "100%"
          ],
          "tickvals": [
           0,
           0.25,
           0.5,
           0.75,
           1
          ],
          "title": {
           "text": ""
          }
         },
         "colorscale": [
          [
           0,
           "rgb(255,245,240)"
          ],
          [
           0.125,
           "rgb(254,224,210)"
          ],
          [
           0.25,
           "rgb(252,187,161)"
          ],
          [
           0.375,
           "rgb(252,146,114)"
          ],
          [
           0.5,
           "rgb(251,106,74)"
          ],
          [
           0.625,
           "rgb(239,59,44)"
          ],
          [
           0.75,
           "rgb(203,24,29)"
          ],
          [
           0.875,
           "rgb(165,15,21)"
          ],
          [
           1,
           "rgb(103,0,13)"
          ]
         ]
        },
        "geo": {
         "center": {},
         "domain": {
          "x": [
           0,
           1
          ],
          "y": [
           0,
           1
          ]
         },
         "projection": {
          "type": "natural earth1"
         },
         "scope": "world"
        },
        "height": 700,
        "legend": {
         "tracegroupgap": 0
        },
        "margin": {
         "t": 60
        },
        "template": {
         "data": {
          "bar": [
           {
            "error_x": {
             "color": "#2a3f5f"
            },
            "error_y": {
             "color": "#2a3f5f"
            },
            "marker": {
             "line": {
              "color": "#E5ECF6",
              "width": 0.5
             },
             "pattern": {
              "fillmode": "overlay",
              "size": 10,
              "solidity": 0.2
             }
            },
            "type": "bar"
           }
          ],
          "barpolar": [
           {
            "marker": {
             "line": {
              "color": "#E5ECF6",
              "width": 0.5
             },
             "pattern": {
              "fillmode": "overlay",
              "size": 10,
              "solidity": 0.2
             }
            },
            "type": "barpolar"
           }
          ],
          "carpet": [
           {
            "aaxis": {
             "endlinecolor": "#2a3f5f",
             "gridcolor": "white",
             "linecolor": "white",
             "minorgridcolor": "white",
             "startlinecolor": "#2a3f5f"
            },
            "baxis": {
             "endlinecolor": "#2a3f5f",
             "gridcolor": "white",
             "linecolor": "white",
             "minorgridcolor": "white",
             "startlinecolor": "#2a3f5f"
            },
            "type": "carpet"
           }
          ],
          "choropleth": [
           {
            "colorbar": {
             "outlinewidth": 0,
             "ticks": ""
            },
            "type": "choropleth"
           }
          ],
          "contour": [
           {
            "colorbar": {
             "outlinewidth": 0,
             "ticks": ""
            },
            "colorscale": [
             [
              0,
              "#0d0887"
             ],
             [
              0.1111111111111111,
              "#46039f"
             ],
             [
              0.2222222222222222,
              "#7201a8"
             ],
             [
              0.3333333333333333,
              "#9c179e"
             ],
             [
              0.4444444444444444,
              "#bd3786"
             ],
             [
              0.5555555555555556,
              "#d8576b"
             ],
             [
              0.6666666666666666,
              "#ed7953"
             ],
             [
              0.7777777777777778,
              "#fb9f3a"
             ],
             [
              0.8888888888888888,
              "#fdca26"
             ],
             [
              1,
              "#f0f921"
             ]
            ],
            "type": "contour"
           }
          ],
          "contourcarpet": [
           {
            "colorbar": {
             "outlinewidth": 0,
             "ticks": ""
            },
            "type": "contourcarpet"
           }
          ],
          "heatmap": [
           {
            "colorbar": {
             "outlinewidth": 0,
             "ticks": ""
            },
            "colorscale": [
             [
              0,
              "#0d0887"
             ],
             [
              0.1111111111111111,
              "#46039f"
             ],
             [
              0.2222222222222222,
              "#7201a8"
             ],
             [
              0.3333333333333333,
              "#9c179e"
             ],
             [
              0.4444444444444444,
              "#bd3786"
             ],
             [
              0.5555555555555556,
              "#d8576b"
             ],
             [
              0.6666666666666666,
              "#ed7953"
             ],
             [
              0.7777777777777778,
              "#fb9f3a"
             ],
             [
              0.8888888888888888,
              "#fdca26"
             ],
             [
              1,
              "#f0f921"
             ]
            ],
            "type": "heatmap"
           }
          ],
          "histogram": [
           {
            "marker": {
             "pattern": {
              "fillmode": "overlay",
              "size": 10,
              "solidity": 0.2
             }
            },
            "type": "histogram"
           }
          ],
          "histogram2d": [
           {
            "colorbar": {
             "outlinewidth": 0,
             "ticks": ""
            },
            "colorscale": [
             [
              0,
              "#0d0887"
             ],
             [
              0.1111111111111111,
              "#46039f"
             ],
             [
              0.2222222222222222,
              "#7201a8"
             ],
             [
              0.3333333333333333,
              "#9c179e"
             ],
             [
              0.4444444444444444,
              "#bd3786"
             ],
             [
              0.5555555555555556,
              "#d8576b"
             ],
             [
              0.6666666666666666,
              "#ed7953"
             ],
             [
              0.7777777777777778,
              "#fb9f3a"
             ],
             [
              0.8888888888888888,
              "#fdca26"
             ],
             [
              1,
              "#f0f921"
             ]
            ],
            "type": "histogram2d"
           }
          ],
          "histogram2dcontour": [
           {
            "colorbar": {
             "outlinewidth": 0,
             "ticks": ""
            },
            "colorscale": [
             [
              0,
              "#0d0887"
             ],
             [
              0.1111111111111111,
              "#46039f"
             ],
             [
              0.2222222222222222,
              "#7201a8"
             ],
             [
              0.3333333333333333,
              "#9c179e"
             ],
             [
              0.4444444444444444,
              "#bd3786"
             ],
             [
              0.5555555555555556,
              "#d8576b"
             ],
             [
              0.6666666666666666,
              "#ed7953"
             ],
             [
              0.7777777777777778,
              "#fb9f3a"
             ],
             [
              0.8888888888888888,
              "#fdca26"
             ],
             [
              1,
              "#f0f921"
             ]
            ],
            "type": "histogram2dcontour"
           }
          ],
          "mesh3d": [
           {
            "colorbar": {
             "outlinewidth": 0,
             "ticks": ""
            },
            "type": "mesh3d"
           }
          ],
          "parcoords": [
           {
            "line": {
             "colorbar": {
              "outlinewidth": 0,
              "ticks": ""
             }
            },
            "type": "parcoords"
           }
          ],
          "pie": [
           {
            "automargin": true,
            "type": "pie"
           }
          ],
          "scatter": [
           {
            "fillpattern": {
             "fillmode": "overlay",
             "size": 10,
             "solidity": 0.2
            },
            "type": "scatter"
           }
          ],
          "scatter3d": [
           {
            "line": {
             "colorbar": {
              "outlinewidth": 0,
              "ticks": ""
             }
            },
            "marker": {
             "colorbar": {
              "outlinewidth": 0,
              "ticks": ""
             }
            },
            "type": "scatter3d"
           }
          ],
          "scattercarpet": [
           {
            "marker": {
             "colorbar": {
              "outlinewidth": 0,
              "ticks": ""
             }
            },
            "type": "scattercarpet"
           }
          ],
          "scattergeo": [
           {
            "marker": {
             "colorbar": {
              "outlinewidth": 0,
              "ticks": ""
             }
            },
            "type": "scattergeo"
           }
          ],
          "scattergl": [
           {
            "marker": {
             "colorbar": {
              "outlinewidth": 0,
              "ticks": ""
             }
            },
            "type": "scattergl"
           }
          ],
          "scattermap": [
           {
            "marker": {
             "colorbar": {
              "outlinewidth": 0,
              "ticks": ""
             }
            },
            "type": "scattermap"
           }
          ],
          "scattermapbox": [
           {
            "marker": {
             "colorbar": {
              "outlinewidth": 0,
              "ticks": ""
             }
            },
            "type": "scattermapbox"
           }
          ],
          "scatterpolar": [
           {
            "marker": {
             "colorbar": {
              "outlinewidth": 0,
              "ticks": ""
             }
            },
            "type": "scatterpolar"
           }
          ],
          "scatterpolargl": [
           {
            "marker": {
             "colorbar": {
              "outlinewidth": 0,
              "ticks": ""
             }
            },
            "type": "scatterpolargl"
           }
          ],
          "scatterternary": [
           {
            "marker": {
             "colorbar": {
              "outlinewidth": 0,
              "ticks": ""
             }
            },
            "type": "scatterternary"
           }
          ],
          "surface": [
           {
            "colorbar": {
             "outlinewidth": 0,
             "ticks": ""
            },
            "colorscale": [
             [
              0,
              "#0d0887"
             ],
             [
              0.1111111111111111,
              "#46039f"
             ],
             [
              0.2222222222222222,
              "#7201a8"
             ],
             [
              0.3333333333333333,
              "#9c179e"
             ],
             [
              0.4444444444444444,
              "#bd3786"
             ],
             [
              0.5555555555555556,
              "#d8576b"
             ],
             [
              0.6666666666666666,
              "#ed7953"
             ],
             [
              0.7777777777777778,
              "#fb9f3a"
             ],
             [
              0.8888888888888888,
              "#fdca26"
             ],
             [
              1,
              "#f0f921"
             ]
            ],
            "type": "surface"
           }
          ],
          "table": [
           {
            "cells": {
             "fill": {
              "color": "#EBF0F8"
             },
             "line": {
              "color": "white"
             }
            },
            "header": {
             "fill": {
              "color": "#C8D4E3"
             },
             "line": {
              "color": "white"
             }
            },
            "type": "table"
           }
          ]
         },
         "layout": {
          "annotationdefaults": {
           "arrowcolor": "#2a3f5f",
           "arrowhead": 0,
           "arrowwidth": 1
          },
          "autotypenumbers": "strict",
          "coloraxis": {
           "colorbar": {
            "outlinewidth": 0,
            "ticks": ""
           }
          },
          "colorscale": {
           "diverging": [
            [
             0,
             "#8e0152"
            ],
            [
             0.1,
             "#c51b7d"
            ],
            [
             0.2,
             "#de77ae"
            ],
            [
             0.3,
             "#f1b6da"
            ],
            [
             0.4,
             "#fde0ef"
            ],
            [
             0.5,
             "#f7f7f7"
            ],
            [
             0.6,
             "#e6f5d0"
            ],
            [
             0.7,
             "#b8e186"
            ],
            [
             0.8,
             "#7fbc41"
            ],
            [
             0.9,
             "#4d9221"
            ],
            [
             1,
             "#276419"
            ]
           ],
           "sequential": [
            [
             0,
             "#0d0887"
            ],
            [
             0.1111111111111111,
             "#46039f"
            ],
            [
             0.2222222222222222,
             "#7201a8"
            ],
            [
             0.3333333333333333,
             "#9c179e"
            ],
            [
             0.4444444444444444,
             "#bd3786"
            ],
            [
             0.5555555555555556,
             "#d8576b"
            ],
            [
             0.6666666666666666,
             "#ed7953"
            ],
            [
             0.7777777777777778,
             "#fb9f3a"
            ],
            [
             0.8888888888888888,
             "#fdca26"
            ],
            [
             1,
             "#f0f921"
            ]
           ],
           "sequentialminus": [
            [
             0,
             "#0d0887"
            ],
            [
             0.1111111111111111,
             "#46039f"
            ],
            [
             0.2222222222222222,
             "#7201a8"
            ],
            [
             0.3333333333333333,
             "#9c179e"
            ],
            [
             0.4444444444444444,
             "#bd3786"
            ],
            [
             0.5555555555555556,
             "#d8576b"
            ],
            [
             0.6666666666666666,
             "#ed7953"
            ],
            [
             0.7777777777777778,
             "#fb9f3a"
            ],
            [
             0.8888888888888888,
             "#fdca26"
            ],
            [
             1,
             "#f0f921"
            ]
           ]
          },
          "colorway": [
           "#636efa",
           "#EF553B",
           "#00cc96",
           "#ab63fa",
           "#FFA15A",
           "#19d3f3",
           "#FF6692",
           "#B6E880",
           "#FF97FF",
           "#FECB52"
          ],
          "font": {
           "color": "#2a3f5f"
          },
          "geo": {
           "bgcolor": "white",
           "lakecolor": "white",
           "landcolor": "#E5ECF6",
           "showlakes": true,
           "showland": true,
           "subunitcolor": "white"
          },
          "hoverlabel": {
           "align": "left"
          },
          "hovermode": "closest",
          "mapbox": {
           "style": "light"
          },
          "paper_bgcolor": "white",
          "plot_bgcolor": "#E5ECF6",
          "polar": {
           "angularaxis": {
            "gridcolor": "white",
            "linecolor": "white",
            "ticks": ""
           },
           "bgcolor": "#E5ECF6",
           "radialaxis": {
            "gridcolor": "white",
            "linecolor": "white",
            "ticks": ""
           }
          },
          "scene": {
           "xaxis": {
            "backgroundcolor": "#E5ECF6",
            "gridcolor": "white",
            "gridwidth": 2,
            "linecolor": "white",
            "showbackground": true,
            "ticks": "",
            "zerolinecolor": "white"
           },
           "yaxis": {
            "backgroundcolor": "#E5ECF6",
            "gridcolor": "white",
            "gridwidth": 2,
            "linecolor": "white",
            "showbackground": true,
            "ticks": "",
            "zerolinecolor": "white"
           },
           "zaxis": {
            "backgroundcolor": "#E5ECF6",
            "gridcolor": "white",
            "gridwidth": 2,
            "linecolor": "white",
            "showbackground": true,
            "ticks": "",
            "zerolinecolor": "white"
           }
          },
          "shapedefaults": {
           "line": {
            "color": "#2a3f5f"
           }
          },
          "ternary": {
           "aaxis": {
            "gridcolor": "white",
            "linecolor": "white",
            "ticks": ""
           },
           "baxis": {
            "gridcolor": "white",
            "linecolor": "white",
            "ticks": ""
           },
           "bgcolor": "#E5ECF6",
           "caxis": {
            "gridcolor": "white",
            "linecolor": "white",
            "ticks": ""
           }
          },
          "title": {
           "x": 0.05
          },
          "xaxis": {
           "automargin": true,
           "gridcolor": "white",
           "linecolor": "white",
           "ticks": "",
           "title": {
            "standoff": 15
           },
           "zerolinecolor": "white",
           "zerolinewidth": 2
          },
          "yaxis": {
           "automargin": true,
           "gridcolor": "white",
           "linecolor": "white",
           "ticks": "",
           "title": {
            "standoff": 15
           },
           "zerolinecolor": "white",
           "zerolinewidth": 2
          }
         }
        },
        "title": {
         "text": ""
        },
        "width": 1200
       }
      }
     },
     "metadata": {},
     "output_type": "display_data"
    }
   ],
   "source": [
    "import numpy as np\n",
    "import plotly.express as px\n",
    "\n",
    "import pandas as pd\n",
    "\n",
    "from justice.util.visualizer import plot_choropleth_2D_data\n",
    "\n",
    "\n",
    "fig, prior_data = plot_choropleth_2D_data(\n",
    "    path_to_data=path,\n",
    "    path_to_output=path, #/rbf_dist_test\n",
    "    projection= \"natural earth1\", \n",
    "    colourmap= px.colors.sequential.Reds,\n",
    "    year_to_visualize=2050,\n",
    "    input_data_path_list=[\n",
    "\n",
    "        # \"UTILITARIAN_idx9_SSP245_constrained_emission_control_rate.npy\",\n",
    "        # \"PRIORITARIAN_idx3_SSP245_constrained_emission_control_rate.npy\",\n",
    "\n",
    "        # \"UTILITARIAN_idx9_SSP370_constrained_emission_control_rate.npy\",\n",
    "        # \"PRIORITARIAN_idx3_SSP370_constrained_emission_control_rate.npy\",\n",
    "\n",
    "        #ESNGAII\n",
    "        # \"UTILITARIAN_idx1_SSP245_constrained_emission_control_rate.npy\",\n",
    "        # \"PRIORITARIAN_idx3_SSP245_constrained_emission_control_rate.npy\",\n",
    "\n",
    "        \"UTILITARIAN_idx0_SSP370_constrained_emission_control_rate.npy\",\n",
    "        \"PRIORITARIAN_idx1_SSP370_constrained_emission_control_rate.npy\",\n",
    "\n",
    "\n",
    "    ],\n",
    "        \n",
    "    data_label=\"Emission Control Rate\",\n",
    "    legend_label=\"\", \n",
    "    data_normalization=True,\n",
    "    saving=True,\n",
    "    show_colorbar=True,\n",
    "    normalized_colorbar=True,\n",
    "\n",
    ")\n",
    "\n",
    "fig.show()\n"
   ]
  },
  {
   "cell_type": "markdown",
   "id": "36f2aa34",
   "metadata": {},
   "source": [
    "### Scatter Plot"
   ]
  },
  {
   "cell_type": "code",
   "execution_count": 5,
   "id": "a4e437b1",
   "metadata": {},
   "outputs": [
    {
     "data": {
      "image/png": "[encoded data removed]",
      "text/plain": [
       "<Figure size 1000x600 with 1 Axes>"
      ]
     },
     "metadata": {},
     "output_type": "display_data"
    }
   ],
   "source": [
    "# Read the file 50000.csv in folder nu_50k\n",
    "import matplotlib.pyplot as plt\n",
    "from justice.util.enumerations import WelfareFunction, SSP\n",
    "import pandas as pd\n",
    "\n",
    "\n",
    "\n",
    "swf = WelfareFunction.UTILITARIAN\n",
    "nfe = 50_000\n",
    "ssp = SSP.SSP3\n",
    "\n",
    "path1 = f\"data/temporary/NU_DATA/combined/{str(ssp).split('.')[1]}/\"\n",
    "df1 = pd.read_csv(path1 + f\"{swf.value[1]}_reference_set.csv\")\n",
    "\n",
    "# path2 = f\"data/temporary/NU_DATA/borg/{str(ssp).split('.')[1]}/\"\n",
    "# df2 = pd.read_csv(path2 + f\"{swf.value[1]}_reference_set.csv\")\n",
    "\n",
    "# Select only the lst 2 columns\n",
    "df1 = df1.iloc[:, -2:]\n",
    "\n",
    "# Select only the lst 2 columns\n",
    "# df2 = df2.iloc[:, -2:]\n",
    "\n",
    "\n",
    "\n",
    "# Make the size of the points larger\n",
    "plt.figure(figsize=(10, 6))\n",
    "plt.scatter(df1.iloc[:, 0], df1.iloc[:, 1], s=10, label='combined')\n",
    "# plt.scatter(df2.iloc[:, 0], df2.iloc[:, 1], s=10, color='red', label='BORG')\n",
    "\n",
    "\n",
    "\n",
    "plt.legend()\n",
    "\n",
    "plt.xlabel(' Welfare')\n",
    "plt.ylabel('Temperature')\n",
    "plt.title('Scatter Plot of Normalized Column 1 vs Column 2')\n",
    "plt.show()\n"
   ]
  },
  {
   "cell_type": "markdown",
   "id": "24662073",
   "metadata": {},
   "source": [
    "# Reference set to policy outcomes"
   ]
  },
  {
   "cell_type": "code",
   "execution_count": null,
   "id": "07e5855d",
   "metadata": {},
   "outputs": [],
   "source": [
    "# Check this method out too: #NOTE ROUGH\n",
    "\n",
    "from justice.util.output_data_processor import process_scenario\n",
    "\n",
    "import os\n",
    "import filecmp\n",
    "import pandas as pd\n",
    "from pathlib import Path\n",
    "import multiprocessing as mp\n",
    "from functools import partial\n",
    "from justice.util.enumerations import WelfareFunction, SSP\n",
    "from justice.util.output_data_processor import process_scenario\n",
    "\n",
    "\n",
    "if __name__ == \"__main__\":\n",
    "    ######################################\n",
    "    scenario_list = [\"SSP245\"]\n",
    "\n",
    "    social_welfare_function = WelfareFunction.PRIORITARIAN\n",
    "    nfe = 50_000\n",
    "    ssp = SSP.SSP2\n",
    "\n",
    "    sw_name = social_welfare_function.value[1]\n",
    "    path = f\"data/temporary/NU_DATA/combined/{str(ssp).split('.')[1]}/\"\n",
    "    filename = f\"{sw_name}_reference_set.csv\"\n",
    "\n",
    "    # Print the selected policy indices values of last 4 columns\n",
    "    # Find the min and max welfare values for utilitarian and prioritarian\n",
    "    loaded_df = pd.read_csv(path + filename)\n",
    "    policy_indices = list(range(len(loaded_df)))\n",
    "\n",
    "    sw_name = social_welfare_function.value[1]\n",
    "\n",
    "    filename = f\"{sw_name}_reference_set.csv\"\n",
    "\n",
    "    loaded_df = pd.read_csv(path + filename)\n",
    "    print(f\"Loading data for {sw_name} from {path+filename}\")\n",
    "    print(\"Selected policy‑indices last 2 columns:\")\n",
    "    print(loaded_df.iloc[policy_indices, -2:])\n",
    "\n",
    "    # spawn‐based pool so that each worker is a fresh interpreter\n",
    "    mp.set_start_method(\"spawn\")\n",
    "    # Bind the fixed arguments swf and policy_indices to process_scenario\n",
    "    bound_process_scenario = partial(\n",
    "        process_scenario, social_welfare_function, policy_indices\n",
    "    )\n",
    "    with mp.Pool(processes=len(scenario_list)) as pool:\n",
    "        pool.map(bound_process_scenario, scenario_list)\n"
   ]
  },
  {
   "cell_type": "markdown",
   "id": "5f3295e5",
   "metadata": {},
   "source": [
    "#### Reevaluation "
   ]
  },
  {
   "cell_type": "markdown",
   "id": "4491ed07",
   "metadata": {},
   "source": [
    "###### Run nu_analysis.py - Parallelizes the process over the scenarios\n",
    "###### Only after running nu_analysis.py, the data is available analysis"
   ]
  },
  {
   "cell_type": "code",
   "execution_count": 1,
   "id": "16482a45",
   "metadata": {},
   "outputs": [
    {
     "name": "stderr",
     "output_type": "stream",
     "text": [
      "/Users/palokbiswas/Desktop/pollockdevis_git/JUSTICE/venv/lib/python3.9/site-packages/tqdm/auto.py:21: TqdmWarning: IProgress not found. Please update jupyter and ipywidgets. See https://ipywidgets.readthedocs.io/en/stable/user_install.html\n",
      "  from .autonotebook import tqdm as notebook_tqdm\n"
     ]
    },
    {
     "name": "stdout",
     "output_type": "stream",
     "text": [
      "Found 4 policies (0 to 3)\n",
      "All files loaded successfully.\n",
      "Wrote mapping to data/temporary/NU_DATA/combined/SSP3/mapping/mapping_PRIORITARIAN.h5\n",
      "Deleting loaded CSV files...\n",
      "Deleted file: data/temporary/NU_DATA/combined/SSP3/0_SSP126_PRIORITARIAN_global_temperature_.csv\n",
      "Deleted file: data/temporary/NU_DATA/combined/SSP3/0_SSP245_PRIORITARIAN_global_temperature_.csv\n",
      "Deleted file: data/temporary/NU_DATA/combined/SSP3/0_SSP370_PRIORITARIAN_global_temperature_.csv\n",
      "Deleted file: data/temporary/NU_DATA/combined/SSP3/0_SSP460_PRIORITARIAN_global_temperature_.csv\n",
      "Deleted file: data/temporary/NU_DATA/combined/SSP3/0_SSP534_PRIORITARIAN_global_temperature_.csv\n",
      "Deleted file: data/temporary/NU_DATA/combined/SSP3/1_SSP126_PRIORITARIAN_global_temperature_.csv\n",
      "Deleted file: data/temporary/NU_DATA/combined/SSP3/1_SSP245_PRIORITARIAN_global_temperature_.csv\n",
      "Deleted file: data/temporary/NU_DATA/combined/SSP3/1_SSP370_PRIORITARIAN_global_temperature_.csv\n",
      "Deleted file: data/temporary/NU_DATA/combined/SSP3/1_SSP460_PRIORITARIAN_global_temperature_.csv\n",
      "Deleted file: data/temporary/NU_DATA/combined/SSP3/1_SSP534_PRIORITARIAN_global_temperature_.csv\n",
      "Deleted file: data/temporary/NU_DATA/combined/SSP3/2_SSP126_PRIORITARIAN_global_temperature_.csv\n",
      "Deleted file: data/temporary/NU_DATA/combined/SSP3/2_SSP245_PRIORITARIAN_global_temperature_.csv\n",
      "Deleted file: data/temporary/NU_DATA/combined/SSP3/2_SSP370_PRIORITARIAN_global_temperature_.csv\n",
      "Deleted file: data/temporary/NU_DATA/combined/SSP3/2_SSP460_PRIORITARIAN_global_temperature_.csv\n",
      "Deleted file: data/temporary/NU_DATA/combined/SSP3/2_SSP534_PRIORITARIAN_global_temperature_.csv\n",
      "Deleted file: data/temporary/NU_DATA/combined/SSP3/3_SSP126_PRIORITARIAN_global_temperature_.csv\n",
      "Deleted file: data/temporary/NU_DATA/combined/SSP3/3_SSP245_PRIORITARIAN_global_temperature_.csv\n",
      "Deleted file: data/temporary/NU_DATA/combined/SSP3/3_SSP370_PRIORITARIAN_global_temperature_.csv\n",
      "Deleted file: data/temporary/NU_DATA/combined/SSP3/3_SSP460_PRIORITARIAN_global_temperature_.csv\n",
      "Deleted file: data/temporary/NU_DATA/combined/SSP3/3_SSP534_PRIORITARIAN_global_temperature_.csv\n"
     ]
    }
   ],
   "source": [
    "import pandas as pd\n",
    "from pathlib import Path\n",
    "\n",
    "from justice.util.enumerations import WelfareFunction, SSP\n",
    "import h5py\n",
    "from justice.util.output_data_processor import generate_reference_set_policy_mapping\n",
    "import pandas as pd\n",
    "from pathlib import Path\n",
    "\n",
    "\n",
    "nfe = 50_000\n",
    "ssp = SSP.SSP3\n",
    "\n",
    "\n",
    "\n",
    "path = f\"data/temporary/NU_DATA/combined/{str(ssp).split('.')[1]}/\"\n",
    "# Example usage\n",
    "# 1) Set up paths & scenarios\n",
    "swf           = WelfareFunction.PRIORITARIAN\n",
    "base_dir      = Path(path)\n",
    "saving       = True\n",
    "\n",
    "scenario_list = [\"SSP126\",\"SSP245\",\"SSP370\",\"SSP460\",\"SSP534\"]\n",
    "\n",
    "mapping = generate_reference_set_policy_mapping(\n",
    "    swf=swf,\n",
    "    data_root=base_dir,\n",
    "    scenario_list=scenario_list,\n",
    "    saving=saving,\n",
    "    output_directory=\"mapping\",\n",
    "    delete_loaded_files= True,  # Set to True to delete the loaded files after processing\n",
    ")"
   ]
  },
  {
   "cell_type": "markdown",
   "id": "4f3237a1",
   "metadata": {},
   "source": [
    "#### Read the mapping data"
   ]
  },
  {
   "cell_type": "code",
   "execution_count": 2,
   "id": "84735711",
   "metadata": {},
   "outputs": [
    {
     "name": "stdout",
     "output_type": "stream",
     "text": [
      "[-98.13660416 -97.92886322 -98.29999179 ... -98.13745597 -98.06694069\n",
      " -98.29892333]\n",
      "0.32\n"
     ]
    }
   ],
   "source": [
    "import h5py\n",
    "from pathlib import Path\n",
    "from justice.util.enumerations import WelfareFunction, SSP\n",
    "from justice.util.output_data_processor import read_reference_set_policy_mapping\n",
    "\n",
    "\n",
    "# Example usage\n",
    "\n",
    "swf           = WelfareFunction.PRIORITARIAN\n",
    "ssp = SSP.SSP2\n",
    "path = f\"data/temporary/NU_DATA/combined/{str(ssp).split('.')[1]}/\"\n",
    "\n",
    "# base_dir      = Path(path)\n",
    "\n",
    "\n",
    "mapping = read_reference_set_policy_mapping(path, swf.value[1], mapping_subdir=\"mapping\", hdf5_filename_template=\"mapping_{}.h5\")\n",
    "# Example to access the mapping\n",
    "print(mapping[0][\"SSP534\"][\"utilitarian_welfare\"])\n",
    "\n",
    "print(mapping[0]['fraction_above_threshold'])"
   ]
  },
  {
   "cell_type": "markdown",
   "id": "45f718bf",
   "metadata": {},
   "source": [
    "##### Compute 90th percentile regret"
   ]
  },
  {
   "cell_type": "code",
   "execution_count": 1,
   "id": "c0173bd8",
   "metadata": {},
   "outputs": [
    {
     "name": "stderr",
     "output_type": "stream",
     "text": [
      "/Users/palokbiswas/Desktop/pollockdevis_git/JUSTICE/venv/lib/python3.9/site-packages/tqdm/auto.py:21: TqdmWarning: IProgress not found. Please update jupyter and ipywidgets. See https://ipywidgets.readthedocs.io/en/stable/user_install.html\n",
      "  from .autonotebook import tqdm as notebook_tqdm\n"
     ]
    },
    {
     "name": "stdout",
     "output_type": "stream",
     "text": [
      "Saved p90 delta data to data/temporary/NU_DATA/combined/SSP2/p90_regret_PRIORITARIAN_prioritarian_welfare.csv\n"
     ]
    }
   ],
   "source": [
    "import h5py\n",
    "from pathlib import Path\n",
    "import numpy as np\n",
    "import pandas as pd\n",
    "from justice.util.output_data_processor import compute_p90_regret_dataframe\n",
    "from justice.util.enumerations import WelfareFunction, SSP\n",
    "\n",
    "\n",
    "\n",
    "#### Example usage\n",
    "\n",
    "# Define parameters similar to your original code\n",
    "swf = WelfareFunction.PRIORITARIAN\n",
    "ssp = SSP.SSP2\n",
    "path = f\"data/temporary/NU_DATA/combined/{str(ssp).split('.')[1]}/\"\n",
    "\n",
    "variable_of_interest = \"prioritarian_welfare\" #\"prioritarian_welfare\" #\"utilitarian_welfare\" #\"global_temperature\" # Ensure same welfare function \n",
    "direction_of_interest = \"max\" # Use min for global temperature, max for welfare variables\n",
    "\n",
    "baseline_scenario = \"SSP245\" # Change this when working with different scenarios\n",
    "\n",
    "scenario_list = [\"SSP126\",\"SSP245\",\"SSP370\",\"SSP460\",\"SSP534\"]\n",
    "\n",
    "\n",
    "# Call the function to compute the p90 regret dataframe and save it\n",
    "p90_delta_df = compute_p90_regret_dataframe(\n",
    "    base_path=path,\n",
    "    welfare_function_name=swf.value[1],\n",
    "    baseline_scenario=baseline_scenario,\n",
    "    scenario_list=scenario_list,\n",
    "    variable_of_interest=variable_of_interest,\n",
    "    direction_of_interest=direction_of_interest,\n",
    "    mapping_subdir=\"mapping\",\n",
    "    hdf5_filename_template=\"mapping_{}.h5\",\n",
    "    save_df=True,  # Save CSV file\n",
    "    df_output_path=None  # Will save to default location '<base_path>/p90_regret_<welfare_function_name>.csv'\n",
    ")"
   ]
  },
  {
   "cell_type": "markdown",
   "id": "be337679",
   "metadata": {},
   "source": [
    "#### Visualize the regret metrics"
   ]
  },
  {
   "cell_type": "code",
   "execution_count": 1,
   "id": "fe7f1059",
   "metadata": {},
   "outputs": [
    {
     "name": "stderr",
     "output_type": "stream",
     "text": [
      "/Users/palokbiswas/Desktop/pollockdevis_git/JUSTICE/venv/lib/python3.9/site-packages/tqdm/auto.py:21: TqdmWarning: IProgress not found. Please update jupyter and ipywidgets. See https://ipywidgets.readthedocs.io/en/stable/user_install.html\n",
      "  from .autonotebook import tqdm as notebook_tqdm\n"
     ]
    },
    {
     "name": "stdout",
     "output_type": "stream",
     "text": [
      "PRIORITARIAN\n",
      "Policy index with minimum regret: 6\n"
     ]
    },
    {
     "data": {
      "image/png": "[encoded data removed]",
      "text/plain": [
       "<Figure size 1200x800 with 2 Axes>"
      ]
     },
     "metadata": {},
     "output_type": "display_data"
    },
    {
     "data": {
      "text/plain": [
       "<Axes: title={'center': 'Δ PRIORITARIAN Regret_prioritarian_welfare'}, xlabel='Scenario', ylabel='Policy Index'>"
      ]
     },
     "execution_count": 1,
     "metadata": {},
     "output_type": "execute_result"
    }
   ],
   "source": [
    "import matplotlib.pyplot as plt\n",
    "import seaborn as sns\n",
    "from pathlib import Path\n",
    "from justice.util.visualizer import plot_regret_heatmap\n",
    "import pandas as pd\n",
    "from justice.util.output_data_processor import minimax_regret_policy\n",
    "from justice.util.enumerations import WelfareFunction, SSP\n",
    "\n",
    "# Example usage:\n",
    "# Define parameters similar to your original code\n",
    "swf = WelfareFunction.PRIORITARIAN\n",
    "ssp = SSP.SSP2\n",
    "path = f\"data/temporary/NU_DATA/combined/{str(ssp).split('.')[1]}/\"\n",
    "variable_of_interest = \"prioritarian_welfare\"\n",
    "\n",
    "\n",
    "swf_name = swf.value[1]  # e.g., 'prioritarian' or 'utilitarian'\n",
    "print(swf_name)\n",
    "baseline_scenario     = \"SSP245\"\n",
    "base_dir              = Path(path)\n",
    "plot_dir              = base_dir / \"plots\"\n",
    "plot_dir.mkdir(exist_ok=True, parents=True)\n",
    "\n",
    "data = pd.read_csv(\n",
    "    base_dir / f\"p90_regret_{swf_name}_{variable_of_interest}.csv\",\n",
    "    index_col=0,)\n",
    "name = f\"Regret_{variable_of_interest}\" #\"Utilitarian_Temperature_Regret\"\n",
    "\n",
    "\n",
    "temp_idx = minimax_regret_policy(data)   \n",
    "print(\"Policy index with minimum regret:\", temp_idx)\n",
    "\n",
    "# Suppose you have N rows and M columns.  A good rule‐of‐thumb is:\n",
    "#   height = N * row_height, width = M * col_width\n",
    "# e.g. row_height=0.25 inch, col_width=1 inch\n",
    "n_rows, n_cols = data.shape\n",
    "fig_w = n_cols * 1.0\n",
    "fig_h = n_rows * 0.25\n",
    "\n",
    "plot_regret_heatmap(\n",
    "    data=data,\n",
    "    figsize=(12, 8),\n",
    "    font_scale=1.2,\n",
    "    cmap= sns.diverging_palette(145, 300, s=60, as_cmap=True),#sns.diverging_palette(220, 20, as_cmap=True),#\"vlag\", #\"coolwarm\",\n",
    "    center=0.0,\n",
    "    square=True,\n",
    "    cbar_label=\" \",\n",
    "    title=f\"Δ {swf_name} {name}\",\n",
    "    show_values=False,           # ← turn on annotations\n",
    "    fmt=\".3f\",                  # three decimal places\n",
    "    annot_kws={\"size\": 8, \"color\": \"black\"},\n",
    "    save_path=plot_dir / f\"{swf_name}_{name}_{variable_of_interest}_diff_annotated.svg\",\n",
    "    xtick_labelsize=10,\n",
    "    ytick_labelsize=10,\n",
    "    scaling=True,               # ← scale to [-1,1]\n",
    ")"
   ]
  },
  {
   "cell_type": "markdown",
   "id": "ac235baf",
   "metadata": {},
   "source": [
    "#### Extract variables for selected policies\n",
    "SSP2\n",
    "\n",
    "```\n",
    "    Utilitarian\n",
    "                Welfare Regret    | Temperature Regret\n",
    "            pi:  29               | 4\n",
    "    \n",
    "    Prioritarian\n",
    "                Welfare Regret    | Temperature Regret\n",
    "            pi:   6               | 8\n",
    "```"
   ]
  },
  {
   "cell_type": "code",
   "execution_count": 1,
   "id": "c586f337",
   "metadata": {},
   "outputs": [
    {
     "name": "stderr",
     "output_type": "stream",
     "text": [
      "/Users/palokbiswas/Desktop/pollockdevis_git/JUSTICE/venv/lib/python3.9/site-packages/tqdm/auto.py:21: TqdmWarning: IProgress not found. Please update jupyter and ipywidgets. See https://ipywidgets.readthedocs.io/en/stable/user_install.html\n",
      "  from .autonotebook import tqdm as notebook_tqdm\n"
     ]
    },
    {
     "name": "stdout",
     "output_type": "stream",
     "text": [
      "Processing scenario: SSP534 with policy index: 29 for UTILITARIAN\n",
      "index for policy:  29\n",
      "6 SSP534\n",
      "Welfare:  103.46363063352744\n",
      "Keys of the scenario data:  dict_keys(['SSP534'])\n",
      "File saved as UTILITARIAN_reference_set_idx29 at location data/temporary/NU_DATA/combined/SSP2/\n",
      "Directory:  /Users/palokbiswas/Desktop/pollockdevis_git/JUSTICE\n",
      "SSP534\n",
      "File saved as UTILITARIAN_global_temperature_idx29_SSP534_global_temperature at location data/temporary/NU_DATA/combined/SSP2\n",
      "Directory:  /Users/palokbiswas/Desktop/pollockdevis_git/JUSTICE\n",
      "SSP534\n",
      "File saved as UTILITARIAN_constrained_emission_control_rate_idx29_SSP534_constrained_emission_control_rate at location data/temporary/NU_DATA/combined/SSP2\n",
      "Directory:  /Users/palokbiswas/Desktop/pollockdevis_git/JUSTICE\n",
      "SSP534\n",
      "File saved as UTILITARIAN_emissions_idx29_SSP534_emissions at location data/temporary/NU_DATA/combined/SSP2\n"
     ]
    }
   ],
   "source": [
    "import pandas as pd\n",
    "from justice.util.output_data_processor import reevaluate_optimal_policy, get_selected_policy_indices_based_on_welfare_temperature, reevaluated_optimal_policy_variable_extractor\n",
    "from justice.util.model_time import TimeHorizon\n",
    "from justice.util.data_loader import DataLoader\n",
    "from justice.util.enumerations import WelfareFunction, SSP\n",
    "\n",
    "scenario_list = [\"SSP126\",\"SSP245\",\"SSP370\",\"SSP460\",\"SSP534\"]\n",
    "\n",
    "start_year = 2015\n",
    "end_year = 2300\n",
    "data_timestep = 5\n",
    "timestep = 1\n",
    "\n",
    "\n",
    "\n",
    "data_loader = DataLoader()\n",
    "region_list = data_loader.REGION_LIST\n",
    "\n",
    "# Set the time horizon\n",
    "time_horizon = TimeHorizon(\n",
    "    start_year=start_year,\n",
    "    end_year=end_year,\n",
    "    data_timestep=data_timestep,\n",
    "    timestep=timestep,\n",
    ")\n",
    "\n",
    "list_of_years = time_horizon.model_time_horizon\n",
    "\n",
    "\n",
    "swf = WelfareFunction.UTILITARIAN\n",
    "policy_index = 29 #Put the policy index here.\n",
    "ssp = SSP.SSP2\n",
    "\n",
    "path = f\"data/temporary/NU_DATA/combined/{str(ssp).split('.')[1]}/\"\n",
    "\n",
    "base_dir                = path\n",
    "input_data_name = f\"{swf.value[1]}_reference_set_idx{policy_index}.h5\"\n",
    "\n",
    "scenario = scenario_list[4] # Iterate manually through the scenarios and reset kernel every scenario\n",
    "\n",
    "print(f\"Processing scenario: {scenario} with policy index: {policy_index} for {swf.value[1]}\")\n",
    "\n",
    "##############################################################################\n",
    "\n",
    "# NOTE: The following code generates large dataframes and saved them in the data/temporary folder. Size is ~ 1.5 GB each run\n",
    "\n",
    "reevaluate_optimal_policy(\n",
    "    input_data=[\n",
    "        f\"{swf.value[1]}_reference_set.csv\",\n",
    "\n",
    "\n",
    "    ],\n",
    "\n",
    "    path_to_rbf_weights=path,  #  reevaluation\n",
    "    path_to_output=path,  #  reevaluation\n",
    "    direction_of_optimization=[\n",
    "        \"min\",\n",
    "        \"min\",\n",
    "    ],\n",
    "    rbf_policy_index= policy_index, #selected_indices[0], # This chooses policy for a particular rival framing. Can also set to the index directly\n",
    "    list_of_objectives=[\n",
    "        \"welfare\",\n",
    "        \"fraction_above_threshold\",\n",
    "    ],\n",
    "    scenario_list= [scenario],  \n",
    ")\n",
    "\n",
    "\n",
    "############################################################################################################\n",
    "\n",
    "variable_names_and_shapes = {\n",
    "    \"global_temperature\": 2,\n",
    "    \"constrained_emission_control_rate\": 3,\n",
    "    \"emissions\": 3,\n",
    "}\n",
    "for variable_name, data_shape in variable_names_and_shapes.items():\n",
    "    reevaluated_optimal_policy_variable_extractor(\n",
    "        scenario_list= [scenario],  \n",
    "        region_list=region_list,\n",
    "        list_of_years=list_of_years,\n",
    "        path_to_data=path,  \n",
    "        path_to_output=path,   \n",
    "        variable_name=variable_name,\n",
    "        data_shape=data_shape, # 2 for temperature, 3 for rest\n",
    "        no_of_ensembles=1001,\n",
    "        input_data=[\n",
    "            input_data_name,\n",
    "        ],\n",
    "        output_file_names=[\n",
    "            f\"{swf.value[1]}_{variable_name}\",\n",
    "        ],\n",
    "    )\n",
    "\n"
   ]
  },
  {
   "cell_type": "code",
   "execution_count": 1,
   "id": "bf715844",
   "metadata": {},
   "outputs": [
    {
     "name": "stdout",
     "output_type": "stream",
     "text": [
      "Data is 3D\n",
      "Shape of data:  (57, 286, 1001)\n",
      "Shape of data after summing:  (286, 1001)\n",
      "Data is 3D\n",
      "Shape of data:  (57, 286, 1001)\n",
      "Shape of data after summing:  (286, 1001)\n",
      "Data is 3D\n",
      "Shape of data:  (57, 286, 1001)\n",
      "Shape of data after summing:  (286, 1001)\n",
      "Data is 3D\n",
      "Shape of data:  (57, 286, 1001)\n",
      "Shape of data after summing:  (286, 1001)\n",
      "Data is 3D\n",
      "Shape of data:  (57, 286, 1001)\n",
      "Shape of data after summing:  (286, 1001)\n"
     ]
    },
    {
     "data": {
      "application/vnd.plotly.v1+json": {
       "config": {
        "plotlyServerURL": "https://plot.ly"
       },
       "data": [
        {
         "line": {
          "color": "rgba(141,211,199, 1)"
         },
         "mode": "lines",
         "name": "SSP1",
         "type": "scatter",
         "x": {
          "bdata": "3wfgB+EH4gfjB+QH5QfmB+cH6AfpB+oH6wfsB+0H7gfvB/AH8QfyB/MH9Af1B/YH9wf4B/kH+gf7B/wH/Qf+B/8HAAgBCAIIAwgECAUIBggHCAgICQgKCAsIDAgNCA4IDwgQCBEIEggTCBQIFQgWCBcIGAgZCBoIGwgcCB0IHggfCCAIIQgiCCMIJAglCCYIJwgoCCkIKggrCCwILQguCC8IMAgxCDIIMwg0CA==",
          "dtype": "i2"
         },
         "xaxis": "x",
         "y": {
          "bdata": "AvdP+ipOQUBMZ+QIixhBQP/Gs1ug10BARid9xv2NQEAMGXP6bD1AQEH8MCJHzj9AjcKn0MqkQED6GM1O8V1BQPXJaS3RFUJAeiLD4FLFQkBTCmOycO9CQLGl/ZV/QUJAffq6JrdzQUBpIL6VopVAQBvgUJkTYj9AL86iXTifPUBkz1M7RGk8QJS/kgETbDtAqOeAbxWROkDc6dtK1sQ5QKgVzE228ThA89XcAawOOEBHvw93aDs3QCn9Aa+3rjZAUK03Zr5zNkBE5yx0S002QMh2qr19yzVAT2nCs2yCNUC+x4x911Q1QCF+3W6mNTVAAdw6YCgWNUAsLC91hqc0QHVIXIUoSDRAqT79IX4PNECDlPvwldUzQNGwNLIQpzNAxYNNbuNpM0CGsO+8XSAzQAi2gOLk3jJAXDNBvOWvMkBXl74oRY4yQNbQ/+tbRzJA9HOGt1UHMkDmYieDYtExQGYP3bJgozFAD15089x8MUB3nNrV2kQxQJwD9mNXFTFAw59T3eDeMEDSiB3ISLcwQNw+ltrXkDBA+2v/W+JhMEAMb90PUykwQOQeu3GdATBAgAreyb+uL0B/wEQyVlsvQOZZX3DPBy9Aq7MK9PWdLkCsCQEfZjkuQBfx+jbQ4y1AMEC7PI2SLUDrcrvt7iotQBJ8r/QYwyxAbV/LFOhXLEAX62eq+AcsQH6t87piuStAQa7gx4FSK0BEwy6dVO0qQEaqUrz5hCpAQvrutBkxKkCLGuHg7MUpQD/0k7FDZClAf0CjEmoDKUAIPvifNpooQOLedfRiRShAYlDiwb3qJ0BDTCRUOpYnQFUxPi9NTidAfCgvmGf4JkC860Ur150mQLRRkQnROyZAtM9MdjzoJUD85Ef+B5klQBZN336XRyVA4t5cEWT5JEB5x/M2+qUkQA==",
          "dtype": "f8"
         },
         "yaxis": "y"
        },
        {
         "fillcolor": "rgba(141,211,199, 0.4)",
         "line": {
          "width": 0
         },
         "mode": "lines",
         "showlegend": false,
         "type": "scatter",
         "x": {
          "bdata": "3wfgB+EH4gfjB+QH5QfmB+cH6AfpB+oH6wfsB+0H7gfvB/AH8QfyB/MH9Af1B/YH9wf4B/kH+gf7B/wH/Qf+B/8HAAgBCAIIAwgECAUIBggHCAgICQgKCAsIDAgNCA4IDwgQCBEIEggTCBQIFQgWCBcIGAgZCBoIGwgcCB0IHggfCCAIIQgiCCMIJAglCCYIJwgoCCkIKggrCCwILQguCC8IMAgxCDIIMwg0CA==",
          "dtype": "i2"
         },
         "xaxis": "x",
         "y": {
          "bdata": "AvdP+ipOQUBMZ+QIixhBQP/Gs1ug10BARid9xv2NQEAhTDplbT1AQKmbwj+Kzj9AIsxsARKlQEDjYlgVe15BQLPbvRCdFkJA21QfxnTGQkDAoWT7AfNCQLiTpdU5RUJAakZvQcB3QUAYY3/RoplAQAJWz0yvbz9A1yUT1+KxPUDsup2i6ow8QG2ipHRyrjtAsrOq4j7pOkBpwbEwmCM6QElbnO+zaDlApbULK/t7OEAhBqA2wt83QLFju5eheTdApQwquQ5ZN0AXg0VTMjU3QKkD+GPGrjZAREOPYR1/NkD9sUSpsl82QNDXAxDkUDZAtF/+LDYwNkAhSIx1oaI1QLdixsEHWjVAveJ2PXwsNUDOT58+1RI1QC0971Df3jRAI/1sAJx0NEDNNesX7zo0QAJwfRvECTRApm+0POfrM0Aj7M3oes4zQFUaYudLUTNApmVY9W4ZM0AiTEhPD+QyQB2j8UQDwTJA9ZL7l36fMkCJGXDPaFMyQFrvCCdJDDJAu6JKKKHjMUDtU4oHb78xQFty4StcnjFAlc138XVcMUCoBQFAhiwxQEUqQKNWBTFACBnBc1TfMEBxjBKu0bcwQGyEfDF3fzBAb8htgCFTMEBkNKyh+yUwQHEMTrkb+y9AXrBcncWqL0DFrrJlDzgvQJBloyT/xy5ANb6B3oFlLkCRNCWyBQwuQJyIhew/pS1As/AWxTtLLUAZ1YhqmvUsQBUlPz4cjyxAzM88Nb8sLECCzlh/DsorQO3Wf/rmbStAEsrSDi0AK0D+tvmW4KgqQEi3vqi5UCpA1d28l/P4KUDcn1aLY54pQIP60fhBSSlAYY2ZeSTpKEB0tvvoAZEoQIkHmPjVLShAR2gaR/vaJ0C4Oj7H344nQNxa4fG+OydAF3+vScjrJkC6NF6595kmQA==",
          "dtype": "f8"
         },
         "yaxis": "y"
        },
        {
         "fill": "tonexty",
         "fillcolor": "rgba(141,211,199, 0.4)",
         "line": {
          "width": 0
         },
         "mode": "lines",
         "showlegend": false,
         "type": "scatter",
         "x": {
          "bdata": "3wfgB+EH4gfjB+QH5QfmB+cH6AfpB+oH6wfsB+0H7gfvB/AH8QfyB/MH9Af1B/YH9wf4B/kH+gf7B/wH/Qf+B/8HAAgBCAIIAwgECAUIBggHCAgICQgKCAsIDAgNCA4IDwgQCBEIEggTCBQIFQgWCBcIGAgZCBoIGwgcCB0IHggfCCAIIQgiCCMIJAglCCYIJwgoCCkIKggrCCwILQguCC8IMAgxCDIIMwg0CA==",
          "dtype": "i2"
         },
         "xaxis": "x",
         "y": {
          "bdata": "AvdP+ipOQUBMZ+QIixhBQP/Gs1ug10BARid9xv2NQEAuCjTWaD1AQEo1zAz3zT9Ansd0KH6kQEAabP8GcV1BQH3VMsMQFUJAfv3qPE3EQkB4kp4ZOupCQL3POSsmPEJAUg7RUpBuQUDAVjiQj5BAQCG5JkGxVz9AGxYBstuJPUAv5UYrKVM8QKP5MQCsHjtA54pu6hQdOkAnpwb9jDI5QDbsVkgfUzhA7pgnCVdsN0DbjdjvooQ2QNKkuqdjxTVAOxVjbPNoNUBgCOJhmzI1QJH98hDr4jRAmw78KyOZNED1odxWZjI0QAqfDDjP9zNAegwOxCHGM0AgW0qLDYwzQGVSduZ9LDNAVDJMiP/hMkBkGbn0n6MyQAbXGuq/fDJA2309krdOMkBYHdnuxRIyQFA5iJsK0TFABhJ+zIuQMUAeXr5iTmcxQEnTjNLzOjFAZabVN1EGMUDw0LDsd7cwQAhm1H09gjBAJ2edPExTMEAq1TIm+yQwQO6baRd13C9A+eFml3l1L0A5tsauciEvQH1EU9OhvS5ARQhFSP1iLkDkdiRRUugtQC311Comgi1A/5yx+0I1LUCcd/oX4ccsQIkQDYwYZixAtzuMhGTxK0Bv2OFSOHwrQLROjoCnMytAfWzZKBzbKkAC30wJ5I4qQIVAIK4YJipAEf7Z26DOKUDRChSGK2UpQBQpH6SCGilAYpg44hydKECNKpOC4jUoQGVZTOKZ4SdA/RTC8CV4J0DajZs6gignQPctGk4I2iZAKvGqr3iJJkDxP2pfXygmQDouAXwtyiVAuZMEEMZ0JUD0tomIhw0lQB+G/qhKkSRAlDwXlrgyJEAT/6QwB9ojQDzYDYmMfiNAV3FGT5YoI0ARjJw6390iQN48aqTHlSJANJ5g4tNLIkCu2MlWKAIiQA==",
          "dtype": "f8"
         },
         "yaxis": "y"
        },
        {
         "line": {
          "color": "rgba(254,217,166, 1)"
         },
         "mode": "lines",
         "name": "SSP2",
         "type": "scatter",
         "x": {
          "bdata": "3wfgB+EH4gfjB+QH5QfmB+cH6AfpB+oH6wfsB+0H7gfvB/AH8QfyB/MH9Af1B/YH9wf4B/kH+gf7B/wH/Qf+B/8HAAgBCAIIAwgECAUIBggHCAgICQgKCAsIDAgNCA4IDwgQCBEIEggTCBQIFQgWCBcIGAgZCBoIGwgcCB0IHggfCCAIIQgiCCMIJAglCCYIJwgoCCkIKggrCCwILQguCC8IMAgxCDIIMwg0CA==",
          "dtype": "i2"
         },
         "xaxis": "x",
         "y": {
          "bdata": "8Ywo5GhRQUAD0PIAUU5BQIshhq1LQ0FAYiqpLCwzQUDNz8MZ9B9BQMhvf/wJC0FAjFxkHp75QUA5TyP6huVCQCYCJxCm0ENAmqOqQwSzREAVnCU5XgBFQKRFQOFvVURA2pyrjOOPQ0BHJ1uixbxCQLBWW7tb5UFAhGe7KesRQUBj4Rzvl19AQFaCIdoinz9AECi4gRyqPkBErJZB5sg9QL6CnInA6TxA3UKtkx3vO0CUDR1XhiI7QOHJEfKimDpA36Xz0ql5OkAx7DXFhnQ6QKWsaZsAGzpAvWkLd3zyOUAtjj7l/PE5QMec/WnjBzpAEKruyeobOkA1PkAWw905QMpXSDvopzlAQG4nsDaSOUDNPiCel4U5QMCq/O2eiTlAGuQcQcZ1OUDHSaRQ2005QCmRZLd6aTlAxZ1tK+puOUAWFIAIWYY5QL2/D9N7WTlAHpQpToNFOUCIsnlpTis5QM4/WX3THzlAliKTTbctOUBmmDFPVjA5QGzZnqcfGzlAVQbhWjYdOUDPbKzyvDY5QIyel8ehXTlASidCDrBXOUCUD4Hw0j05QFP1UB+nNDlAVrY/fe41OUADp23GiDY5QKP4jPALLzlAbkTOUUwrOUDKxtuuMDA5QPEIdlRgNzlAEwkT98xTOUCEfBZR1FE5QJQOFstSLjlAte+AMvokOUATOv8gTS05QPu2/PdxJDlAL2O5W1AVOUDQe4fP0Ps4QNIEZGfe+ThAaVfLDizqOEAfDaXci+o4QDTnrx/x1ThAqa8U4kvDOEA2uIxshbM4QNs6eUAdsjhApwVN/4fCOEAyobCfeYY4QD6J+os4YzhA72E+5pRaOECalfS5S1o4QC2JazpkNjhAyCChgMQhOEB5szZ7ZSE4QIhSagS/CDhAjHmt12/2N0DvdgoB2Aw4QA==",
          "dtype": "f8"
         },
         "yaxis": "y"
        },
        {
         "fillcolor": "rgba(254,217,166, 0.4)",
         "line": {
          "width": 0
         },
         "mode": "lines",
         "showlegend": false,
         "type": "scatter",
         "x": {
          "bdata": "3wfgB+EH4gfjB+QH5QfmB+cH6AfpB+oH6wfsB+0H7gfvB/AH8QfyB/MH9Af1B/YH9wf4B/kH+gf7B/wH/Qf+B/8HAAgBCAIIAwgECAUIBggHCAgICQgKCAsIDAgNCA4IDwgQCBEIEggTCBQIFQgWCBcIGAgZCBoIGwgcCB0IHggfCCAIIQgiCCMIJAglCCYIJwgoCCkIKggrCCwILQguCC8IMAgxCDIIMwg0CA==",
          "dtype": "i2"
         },
         "xaxis": "x",
         "y": {
          "bdata": "8Ywo5GhRQUAD0PIAUU5BQIshhq1LQ0FAYiqpLCwzQUA/DZuK9B9BQDyz+gguC0FA/fyzZOr5QUAfIT9oFeZCQD4Orlhz0UNAxfe9+DG0REBlHDFpegRFQF+ZXlm2WURAvfSsu0+UQ0BG2pt9VcFCQKiN6CdI7EFAW5fpJ3EcQUAhEY3/IXVAQO3+hfZT5z9AQQb76fUDP0AyiPzwBys+QIiGk1fKXz1AFzcJhF9wPECP8Br0Btk7QDNOYJ3rcTtAhelLPOpsO0CQGsj0+3A7QMGzfLs2HTtAKZVlywQbO0CfrZ6zcjs7QMwcGrEHWjtAFvEmX4lyO0BPSOHBLPs6QKokmnRk7zpAAfsPdqMDO0DEGFI7fhE7QL7tFMVvEztAVAcnCf7cOkDMeTMM5eA6QHQkFZqo4TpAB5q9cxIKO0A3Ib7McC07QGDN0oYJ1jpAZszHxY/LOkA7sBHB2dw6QA/Uw0Qv8TpAl+ikt2cNO0Aup2Bf0Ng6QB/4cn567jpAzekgpUYCO0Byx7XwZRY7QBmK27KROztALPNpMp8tO0ACXNYgfyo7QFq5br5uQDtALXmOG0ZOO0Ci99PkulE7QBiaXUsRUTtAdYSuVThLO0DxTxNV6Gg7QMG1hkKWnDtAYZGE/mK0O0CRLRlZc4M7QGwb9mp4gjtAVbdUOTKdO0BN6OOYdqc7QCy4Chg1wTtArJCbzKqhO0C4m71+gpc7QGHRj1LWpztA3qBefaG0O0AV6R2A1tk7QDw6x/mxsztAWnp2bki4O0DGRI/gncY7QEksvvW28jtAtv3kQF/2O0AFRwLT/vA7QICIc9//ADxAlk0nuoALPECcLCja8P07QA0ZkW/RDjxAY2JOjZv2O0C3POkEJfo7QLXiv3UmHDxAFKTTOjMWPECQzixQzSA8QA==",
          "dtype": "f8"
         },
         "yaxis": "y"
        },
        {
         "fill": "tonexty",
         "fillcolor": "rgba(254,217,166, 0.4)",
         "line": {
          "width": 0
         },
         "mode": "lines",
         "showlegend": false,
         "type": "scatter",
         "x": {
          "bdata": "3wfgB+EH4gfjB+QH5QfmB+cH6AfpB+oH6wfsB+0H7gfvB/AH8QfyB/MH9Af1B/YH9wf4B/kH+gf7B/wH/Qf+B/8HAAgBCAIIAwgECAUIBggHCAgICQgKCAsIDAgNCA4IDwgQCBEIEggTCBQIFQgWCBcIGAgZCBoIGwgcCB0IHggfCCAIIQgiCCMIJAglCCYIJwgoCCkIKggrCCwILQguCC8IMAgxCDIIMwg0CA==",
          "dtype": "i2"
         },
         "xaxis": "x",
         "y": {
          "bdata": "8Ywo5GhRQUAD0PIAUU5BQIshhq1LQ0FAYiqpLCwzQUBiwUyz7x9BQJRoqJfeCkFA6WY9iUv5QUDEVO0+/eRCQL6AZsTaz0NAy/nBNO+xREBZlGyFyPpEQIxxwg2FT0RATqGdJBOKQ0Ds+WRPFbdCQKq3LfZe30FAt1EW6oAGQUArp5SUY1NAQA1/32K2TD9A2rtt9KgnPkDeM/CYxSY9QG6Co4HENDxAFoAUcCRBO0C/rH4psUk6QB2GnvR/hzlAoT7sZrQ2OUBxZEFULDg5QOJtGIBQADlAfQjNfATWOEB2wLbhmpU4QGZizbWShThAJlM5BhF/OEAYcEdAnWQ4QBi5c/v8JjhAeIyD8/P/N0AavadJ5+o3QEYPWxelyzdAh+mkzanVN0Bhw1KQg843QJZlaDjNsjdApnyaJ8WrN0DxFN15XLo3QHDcL2RFrzdARPueauSsN0DOBwuIIGs3QL51WtyiVTdAgpYJDL9SN0AV2IctaUI3QLxpt4EKETdAS5ZgeOoDN0B8VUUeyPs2QEE1jEApGDdA2dimiJX/NkD7O0OK4sk2QO/cioUZpjZA8ptSAWONNkDlvX+DVJk2QLb+LojDlzZAxLj6Bm2eNkDQKVAeIXw2QJBm7UMziDZAcdZxvDmENkBV0kf+HWU2QLU+gDYEODZA8QPt9zQjNkAgQwU2gRY2QLWyEBjQHTZAzq1nb9r1NUAJ5TXWGtQ1QG/j8fdEujVA/QrhpQClNUC1YT+fcp81QOK7PQ10mjVApw8as1BKNUC3++aUCEM1QHq0vq8EQjVAy01fSLUWNUAwpNI81dc0QNTzt8fSnzRA43b/PwGZNECxw6VlZXA0QFf7/5BYQjRA2wz3/XreM0C+0vWMEcgzQHixpu08oDNAHotHVlCzM0BW006Tfb4zQA==",
          "dtype": "f8"
         },
         "yaxis": "y"
        },
        {
         "line": {
          "color": "rgba(190,186,218, 1)"
         },
         "mode": "lines",
         "name": "SSP3",
         "type": "scatter",
         "x": {
          "bdata": "3wfgB+EH4gfjB+QH5QfmB+cH6AfpB+oH6wfsB+0H7gfvB/AH8QfyB/MH9Af1B/YH9wf4B/kH+gf7B/wH/Qf+B/8HAAgBCAIIAwgECAUIBggHCAgICQgKCAsIDAgNCA4IDwgQCBEIEggTCBQIFQgWCBcIGAgZCBoIGwgcCB0IHggfCCAIIQgiCCMIJAglCCYIJwgoCCkIKggrCCwILQguCC8IMAgxCDIIMwg0CA==",
          "dtype": "i2"
         },
         "xaxis": "x",
         "y": {
          "bdata": "gCsap4VUQUAqVE7lzG9BQF+YzQzShEFAf2Jr71KWQUBQQqbXRKZBQOKL1wYJtkFAuoPb5A7XQkAYiBhW+PtDQJpXNexvKEVAmUlErNJVRkAhKHuFxutGQCYHwmw3L0ZACOEXl61TRUDnIRg1/GhEQCuO2+NEeUNApOoRMBWPQkA+6abqPsJBQOdiRyQwIEFA33Vkce+PQECa7sJLHA9AQJ+mx/9JGT9AtMixEmv7PUBDIDVRggM9QMjMFSEpXDxAuT0I1qU6PEAAc3ctiR48QCr9rzpCoDtA0D1YtDhfO0BHrCse61E7QIyEJaiZOztA2PIaiUBCO0DYSQnAIOc6QBg1RonekjpAMyvXGqBYOkBBeqCLMzw6QJGTGoa6KjpAqGDRMKD5OUCwgUyHU8g5QOqiOSaOtDlAgJxF8ymvOUAD8F5eAq45QOg8Ods6ZTlAV+WDniYuOUCow95XDhI5QDMqvtYTEDlAcFTPbMsJOUA8hmeQVt44QAWqkmSqujhA+3qzlYCoOECGAmjnTaA4QLp2Fbc9nzhAXuRoL/prOECnfMve+C84QDusZ8KNIjhARWsn+ooCOEAM41bY/fU3QBf5SgEN4TdAIdS3lsDLN0Bltgkdcq03QJo+JZeDpjdAzXKlVx6XN0ASF1oL+1Q3QDnhHX8RDjdAcgZQXePtNkA1h6Um0Og2QP4Gg7+l1DZAeClmAreSNkCxFNaD9kU2QC1m6ljFLjZAUg4Vsnn/NUBVfa8EzdU1QJfiNtidqzVA3yHekW6JNUBeK908l0s1QIQ/Ao+nPTVAMdQVms8dNUDWxVpSlt00QMzQ4TtXpTRAz1fGXqxdNEBcl374tgs0QOZR3h5WEjRAkkca82HeM0C/HQeox7wzQP4zBJWymjNASrCPk4FwM0BMcuC5aWwzQA==",
          "dtype": "f8"
         },
         "yaxis": "y"
        },
        {
         "fillcolor": "rgba(190,186,218, 0.4)",
         "line": {
          "width": 0
         },
         "mode": "lines",
         "showlegend": false,
         "type": "scatter",
         "x": {
          "bdata": "3wfgB+EH4gfjB+QH5QfmB+cH6AfpB+oH6wfsB+0H7gfvB/AH8QfyB/MH9Af1B/YH9wf4B/kH+gf7B/wH/Qf+B/8HAAgBCAIIAwgECAUIBggHCAgICQgKCAsIDAgNCA4IDwgQCBEIEggTCBQIFQgWCBcIGAgZCBoIGwgcCB0IHggfCCAIIQgiCCMIJAglCCYIJwgoCCkIKggrCCwILQguCC8IMAgxCDIIMwg0CA==",
          "dtype": "i2"
         },
         "xaxis": "x",
         "y": {
          "bdata": "gCsap4VUQUAqVE7lzG9BQF+YzQzShEFAf2Jr71KWQUCqVIRBRaZBQPmOWccttkFAE9LHgF3XQkAGcBe7ifxDQK1W0GpMKUVAUtUSJg9XRkBDwtlccPBGQGxm2EQ4NEZA7EKMBr1YRUCL6vsy2G1EQB+UzRZ7gENAl+A+jM+aQkCpmQMHQttBQMPFZzCORUFAv8i7MhzAQEBt3EBqpkJAQPDbSXlilz9A1eLrej+FPkC+/cfMK8g9QFfYZFJ8WT1AbiZQFRpAPUCu57XYZDQ9QO3GnESEpjxAdZtln7+QPEAkGoZwCo08QCIvgN3UljxA5SXMKU6aPEBvPgh6NA88QP1qQwlj4ztA1REHYmfbO0BqqXZ2T8o7QGQHpEsssztAOI+I6Y9oO0BkjPcoTlc7QCPkyKnwRTtASmJF+V5RO0DVATz1DVE7QImOsSR21TpADuDuIwbQOkD/vH4Z48s6QFt73NvwtjpAQjt7Xj23OkBccJL+ooM6QINOCYKObDpAio1IAdJxOkAvFpI+jmo6QNWnFa6oczpAFjNixcFXOkBllBNrlS86QLrZ4ECfJDpAfY0wrNcdOkCaSeLeNQ46QOR+LsH32TlAX6kRzNPPOUAb9OvnINY5QHLpYbMZ2TlApEvL2t/ROUCbQkdRyY45QPT858X5cDlAqRtC+0VOOUDHqSWisUs5QFZX89UBNTlA3Cq1vM4NOUB2HWxDf+U4QFNlSIf10jhA0GHuNUbQOEC3akg9Ed84QC/a7q6coThAKboBTl5jOEDMAa4NIGE4QBv8yOkqXThAkdHYwsZnOEBNvLM2nig4QEzXnAA+EDhAg5rCfobMN0AzPJG05LU3QENfczCRmDdAEU+nO5d0N0DqPL9KtTc3QOIv0eeZKjdA9oAtMAQ4N0AqcHhQUiI3QA==",
          "dtype": "f8"
         },
         "yaxis": "y"
        },
        {
         "fill": "tonexty",
         "fillcolor": "rgba(190,186,218, 0.4)",
         "line": {
          "width": 0
         },
         "mode": "lines",
         "showlegend": false,
         "type": "scatter",
         "x": {
          "bdata": "3wfgB+EH4gfjB+QH5QfmB+cH6AfpB+oH6wfsB+0H7gfvB/AH8QfyB/MH9Af1B/YH9wf4B/kH+gf7B/wH/Qf+B/8HAAgBCAIIAwgECAUIBggHCAgICQgKCAsIDAgNCA4IDwgQCBEIEggTCBQIFQgWCBcIGAgZCBoIGwgcCB0IHggfCCAIIQgiCCMIJAglCCYIJwgoCCkIKggrCCwILQguCC8IMAgxCDIIMwg0CA==",
          "dtype": "i2"
         },
         "xaxis": "x",
         "y": {
          "bdata": "gCsap4VUQUAqVE7lzG9BQF+YzQzShEFAf2Jr71KWQUBHxaB5QKZBQAxhwU/ctUFAwlR/fbrWQkB1RMiYY/tDQDHJpPucJ0VAUe0Sb6tURkAOep4ELOVGQLHFGlFTKEZAjaScegVNRUDqfdMuNGJEQAXoQGVIckNAunZ4MVaCQkBBIxGSB7NBQHrJ44wt8UBAK/FLAgpLQECqW7aZqXw/QPAzxXO7WD5ArgAh1Y9GPUAX1BjNJiM8QC5ikAFHRTtAVRxM6AHyOkA2VY8Fo8o6QAzf9zDhfzpA/DDNOXMsOkBQxAgpsuI5QM2vjhDQuDlAm26+BXGnOUBoyrUdrl85QEBsTPWhEzlAc6VQ7ATNOEAoI9Z4UZ44QGWRFka3bzhAqDuVayVsOEBZoA3Lb0U4QAKO1sXABjhApp9plTP6N0ApjCJ2EfY3QOpWS6nxwTdAyeoJremoN0Af4PMB8Fo3QNN4udADHDdAqleVZz34NkAeFNAeu942QG9PtimAtjZAmemXJnmNNkDNr3Hj/HM2QEQVObzkZDZApktUn8NTNkDCmCiLgv01QHGJQJXjwjVA3o8rJ6ebNUCtVUdr9Ww1QEXVZctPXTVAuogPIBRCNUBc6sjueio1QA/zBAbrJTVAgUHt+PcgNUAo8UK6FOA0QAk7k5+fsjRAXDaaVMVQNEAyZ1T7YyY0QJp6ZJ0WGDRAIYTGxEMENEDEq6PSzYczQFogghkjUDNACoBsG5cgM0DrTJHOP+IyQKTVc3vmrTJAa+fOeO9xMkAFBkM1sTMyQDVzzrI/HTJALAm1jhz5MUC7CV0n6qgxQHj97JYuVjFAOeVfQ7r6MEBBP3rv29AwQNemv0NrlDBAcW0SBQNJMECfzfZ+BSgwQPAzjY468S9ANM3u1w7UL0DtodGm2NAvQA==",
          "dtype": "f8"
         },
         "yaxis": "y"
        },
        {
         "line": {
          "color": "rgba(128,177,211, 1)"
         },
         "mode": "lines",
         "name": "SSP4",
         "type": "scatter",
         "x": {
          "bdata": "3wfgB+EH4gfjB+QH5QfmB+cH6AfpB+oH6wfsB+0H7gfvB/AH8QfyB/MH9Af1B/YH9wf4B/kH+gf7B/wH/Qf+B/8HAAgBCAIIAwgECAUIBggHCAgICQgKCAsIDAgNCA4IDwgQCBEIEggTCBQIFQgWCBcIGAgZCBoIGwgcCB0IHggfCCAIIQgiCCMIJAglCCYIJwgoCCkIKggrCCwILQguCC8IMAgxCDIIMwg0CA==",
          "dtype": "i2"
         },
         "xaxis": "x",
         "y": {
          "bdata": "eWykIppQQUDU7FKORkVBQAQg9Bs+MUFAV44u9isXQUBN7WlU8vhAQPJwUZ7f10BAupqN+j/HQUCHgUN9UrZCQDDEMFWRqENAGLyX4hqXREDW99uwGvdEQKQXmZdEPERA2QtQputiQ0DoOwGhYnpCQHLcuXnkjEFAp3DJyhakQEAb0bsG0No/QGrPYIXuuj5Av9ceK/u3PUB87Wh+WtM8QIN+yvh06TtAB0CB5UftOkB749PVZhw6QJ0w+XKtfjlA2dE7TrxWOUCBMjgSpS05QIBbZKh3uThAwSmV94dyOEBkV8zpsFM4QAQgPYz6PjhAd3Ba5ZQ0OEAslrDjeMk3QKZGed1ldTdAvTCzG3g3N0BXzd3GUgM3QCWHaUk03jZACohfhySeNkCBoAQF/FI2QO3gDZkyLTZAOu9V9AMMNkBJJtCc2vE1QLFSQAxwljVAwfx1ksNFNUB9yd5BFxE1QOm4cR6P8DRA1Ii+xeDLNECzZTFcEIk0QBK1VKleTTRAb7RM+9obNEBp8trXmfozQFHoOOWI0TNAyWjLIsyQM0BaPkRYgUAzQLLeeksJDTNAsP1Yo/TFMkDJMt5Q8KoyQEXm8Ny8aTJAG0KgRAgyMkAMp58IkO0xQL/3+WwbzzFAwWQZ2KmlMUDr0wuPJVcxQMiahPEdHzFAHAdMWJXVMECdedEcl6MwQFlaF5FIfjBAFopliyMsMEAPf22gerkvQIN0rObMRC9AZKbqgXbdLkBbxFO7voMuQIAra6sdGC5AgbushG+KLUAWPXYBpzgtQMKeXp/WxixAX0cnjMB1LEDL3FUASQIsQEjUdZ99pStAnyFulKg6K0C6SQ3Bd9kqQL1NbBejiCpAoglkDH5FKkACASVACfYpQF3equVEmClA8et7XdosKUA7dYwdVeUoQA==",
          "dtype": "f8"
         },
         "yaxis": "y"
        },
        {
         "fillcolor": "rgba(128,177,211, 0.4)",
         "line": {
          "width": 0
         },
         "mode": "lines",
         "showlegend": false,
         "type": "scatter",
         "x": {
          "bdata": "3wfgB+EH4gfjB+QH5QfmB+cH6AfpB+oH6wfsB+0H7gfvB/AH8QfyB/MH9Af1B/YH9wf4B/kH+gf7B/wH/Qf+B/8HAAgBCAIIAwgECAUIBggHCAgICQgKCAsIDAgNCA4IDwgQCBEIEggTCBQIFQgWCBcIGAgZCBoIGwgcCB0IHggfCCAIIQgiCCMIJAglCCYIJwgoCCkIKggrCCwILQguCC8IMAgxCDIIMwg0CA==",
          "dtype": "i2"
         },
         "xaxis": "x",
         "y": {
          "bdata": "eWykIppQQUDU7FKORkVBQAQg9Bs+MUFAV44u9isXQUCt84jC8vhAQGmu2u8C2EBA2IaSf4rHQUBlR9Zk4LZCQNJf27ReqUNATnLoFkSYREDETKOQX/tEQFEunHLmQERA/0CQTppnQ0CIt/cA0n5CQDSOwvSlk0FA5+oBto+uQEAs6+pV0QNAQNGMGlMhAD9A9Hx3VqkTPkBPNppSIjU9QOMxVkwCYzxA7+jZPJJrO0Drxs8fKMk6QGw2VT2lZDpAdDxBvwdFOkAmYyyv+iI6QIBYUG3NqTlAJPqM0qyLOUDQfrYvQXs5QPQCnFgUeDlAysJcSKBmOUB0iuTy8dg4QIgQCMsnpzhAwE9FbIOEOEBcqjT7Zl44QARnqkHvLDhAst3OYg7eN0C7xuHHMq43QJmvz0SpkjdAsA4+FzF9N0DdU36zv183QNKuwdh62TZAFIFLSu2rNkDYsJrXlIk2QCim3pHobjZAM2wDKvtANkAmPhmbLe81QCVcwr7UuzVAbnYtaAqJNUDPjZdM93E1QHN9xVgjVzVAE12qIVYWNUCw8xq3NNM0QFsbQ08tojRAN4mIQh13NEDcPi/OiVI0QKFdnU2h+DNA1Z0CPaLIM0BIopn4GaYzQF8q/dHqhjNAoO1bfnFeM0CjWmLu9fcyQHMcAF3nxjJAOHQqVJaPMkCAwIjwFWEyQJx6+OBuNDJAu6be7cHbMUDddz5GjqAxQNwmBR9RejFASay/hmRQMUBUCC7nljcxQDw9hciP8zBADcz0tfTBMEAbfO9KlaEwQBSQ/AtzijBAtcwulf1hMEAUB7aKTC8wQOcwb1Ht3C9A89st0jCGL0BQRKNGnEIvQEBF3XjG7y5AMOMGHGiULkB7o6qh2VUuQLVrbub6BC5ABRGetsPHLUAssBREwaEtQA==",
          "dtype": "f8"
         },
         "yaxis": "y"
        },
        {
         "fill": "tonexty",
         "fillcolor": "rgba(128,177,211, 0.4)",
         "line": {
          "width": 0
         },
         "mode": "lines",
         "showlegend": false,
         "type": "scatter",
         "x": {
          "bdata": "3wfgB+EH4gfjB+QH5QfmB+cH6AfpB+oH6wfsB+0H7gfvB/AH8QfyB/MH9Af1B/YH9wf4B/kH+gf7B/wH/Qf+B/8HAAgBCAIIAwgECAUIBggHCAgICQgKCAsIDAgNCA4IDwgQCBEIEggTCBQIFQgWCBcIGAgZCBoIGwgcCB0IHggfCCAIIQgiCCMIJAglCCYIJwgoCCkIKggrCCwILQguCC8IMAgxCDIIMwg0CA==",
          "dtype": "i2"
         },
         "xaxis": "x",
         "y": {
          "bdata": "eWykIppQQUDU7FKORkVBQAQg9Bs+MUFAV44u9isXQUBAMOYL7vhAQC94z/6010BAcNgEFe/GQUBRRDS2x7VCQONRjZ/Ip0NA8MvhAPuVREDBRG5sFPFEQMLy+uwVNkRAKi6LK9tcQ0AbaXSPMHRCQOsBPUWChkFAxiM2QzqYQEBDfY4UNL8/QLtVHkSdYT5AKArC/6k5PUDdNcKPlz48QK1VAu63NTtAG1/QidRCOkAJZt/AE0A5QAMZSgGqdjhAwdnDMskhOECNxThR4/03QFfQU2WesDdAxsWBarlXN0DCUDftsBM3QLhJkVCc3DZATJ8L4ra4NkDVkbpyNG82QN+VNqqyFDZAlw9sx/nINUCnVhFef4k1QPx1QSBBSjVAclaUw6crNUA8OYDld/40QEZLwdHluTRAGseawfZ9NEAlH9jRVGg0QJxpf04JJTRAaZ9mqkboM0DJS8mPKo4zQMpW6QCmSTNAG/Q/jXIKM0BQD0wF3dgyQO9h/qtKlTJAwH23oLdTMkD1TV/EtS8yQITEbRbhCDJA1T0/zJvLMUATH52LBmkxQB4stZGWJzFAWgLmWQXtMED2mVVxv6gwQI73f2fgdzBALPt6rh1JMECnay4CjgYwQIkV6g/loS9AN9jASgJvL0Cfg1uzVt0uQKfgb21ATy5AY9NdRfu9LUDDHXdLTkItQMCWn8gUuCxA007ftZltLEC3xw/ZXNIrQPoOBRpZVCtAPHS1tYLPKkCOGdEk53sqQC8FYenR/ylAivUL6NSgKUA9W5IDLQ0pQOX771+MvChAOaRKWJJKKEB3HnRXabUnQKed7oZsKCdAa9A8azuqJkBXxJ6gjT4mQNs926eK4SVATzPs445wJUBj7sKeBwQlQGynKBbzmSRA+TwlfANkJEAXYagY2BckQA==",
          "dtype": "f8"
         },
         "yaxis": "y"
        },
        {
         "line": {
          "color": "rgba(251,128,114, 1)"
         },
         "mode": "lines",
         "name": "SSP5",
         "type": "scatter",
         "x": {
          "bdata": "3wfgB+EH4gfjB+QH5QfmB+cH6AfpB+oH6wfsB+0H7gfvB/AH8QfyB/MH9Af1B/YH9wf4B/kH+gf7B/wH/Qf+B/8HAAgBCAIIAwgECAUIBggHCAgICQgKCAsIDAgNCA4IDwgQCBEIEggTCBQIFQgWCBcIGAgZCBoIGwgcCB0IHggfCCAIIQgiCCMIJAglCCYIJwgoCCkIKggrCCwILQguCC8IMAgxCDIIMwg0CA==",
          "dtype": "i2"
         },
         "xaxis": "x",
         "y": {
          "bdata": "UZLqyG9RQUDRpP1PXE5BQP/Er0/lQkFAJ10s+c4xQUDhAgw+Dx1BQFh9CNoCBkFAtBdnFm72QUAH/88aveRCQHXpoNdZ00NAD2VqMrK6REB/76W3HA9FQBivhT3XvkRAzsfkCPZMRECY7ReoUsdDQDuWLinfNkNA0OjJtW+kQkCYV/rfyFRCQCxOXUY2IEJA4RoObZf5QUCsxXVXr9pBQEPaoPC5tEFA02NVTGlrQUDFBRdMnzpBQMJA95QWGUFAythliTpAQUCBrMqaoIBBQOXpIClygkFAsOp86wCmQUAFvRHoOt9BQDEL7XmQJEJAwKaV31VXQkD4jU//2EdCQINSldLHYEJAzX2J9/VrQkBzMh4rBYpCQDfcgqJWoUJANyvFXSGzQkA2+0A4TrxCQCEaDtHq0EJACdHnZHPmQkCUw/4GDhxDQHqE4m0P+0JALQIAFtr4QkDqsVKju/JCQOn4hK3RAENAIg9IQ6YcQ0ApSydqFw9DQF/au/yVCENAq7TfIbUnQ0BoJ5fYADNDQK5ZL5s4UUNA+CUxoDRDQ0AdQxMxukZDQLcxQ4trQUNAdoBib65KQ0Ck9YJyMF5DQNBu8QmccENARvilQOB1Q0DSFxJOBXhDQJpS6hVymENAi57NK1K6Q0AvYhGtL7VDQK9KSkNhrkNAuCOXNH+pQ0DaxZ9PSb9DQNI/sWlMykNAZk/se4fCQ0CVluya8qBDQGHAwBVEt0NAez5wTYe4Q0ADjrKK7MpDQJwP0s9+tUNAKWbUZ424Q0CdGuR0M6pDQKMigJ17pkNAAso/n0+9Q0BRG/BsebFDQOjEUn59kkNAfxvOchGjQ0BXeGP1QKBDQKZkTiRUpUNAxoFKPXChQ0Cgvox1OoVDQLSU0PKmYUNAdJaEpIx6Q0CeMuNZ34FDQA==",
          "dtype": "f8"
         },
         "yaxis": "y"
        },
        {
         "fillcolor": "rgba(251,128,114, 0.4)",
         "line": {
          "width": 0
         },
         "mode": "lines",
         "showlegend": false,
         "type": "scatter",
         "x": {
          "bdata": "3wfgB+EH4gfjB+QH5QfmB+cH6AfpB+oH6wfsB+0H7gfvB/AH8QfyB/MH9Af1B/YH9wf4B/kH+gf7B/wH/Qf+B/8HAAgBCAIIAwgECAUIBggHCAgICQgKCAsIDAgNCA4IDwgQCBEIEggTCBQIFQgWCBcIGAgZCBoIGwgcCB0IHggfCCAIIQgiCCMIJAglCCYIJwgoCCkIKggrCCwILQguCC8IMAgxCDIIMwg0CA==",
          "dtype": "i2"
         },
         "xaxis": "x",
         "y": {
          "bdata": "UZLqyG9RQUDRpP1PXE5BQP/Er0/lQkFAJ10s+c4xQUCfLKq0Dx1BQL0zjs0mBkFAnR37Gbr2QUDp/LBjTuVCQP5tZNMx1ENAPP7Xi9u7REBkcGkFOxNFQH3za6tew0RATccNYK9RREC3rO8yQsxDQJa6pUOpPkNAgHnjq/KvQkB9UBeHl2lCQBL+o5vFSEJAzsu1uxowQkAw3nzySRRCQDxRQAeK+0FATsyMt3a+QUCn8gZiO6NBQPtUigDxm0FAnYEcMs7lQUDLH6HcGC5CQMi77ZZwNUJA0sK8GGduQkDd3mKF1bVCQNh2+wKw90JAuVQAT7Q8Q0DMFWJpGz1DQOb2UC3gX0NAmMDlCsacQ0AKNXaHJcVDQIuP83kD4kNAqv7JF3XkQ0CHqLtUfAhEQGcw9oUHMURAonKpiXViRECmc6fgmaVEQNGLG5+7XURA3j84ykdtREBWsFFXjHtEQEceq0r2rkRA7qghvkvfREDf+HtBo8tEQJHlRAor3kRAAV+hg+UARUBm3LKuKTNFQAa1m/GtXEVAXE3+Q/9hRUDzxZidJmhFQO6rOy1Ih0VAT0LFdDanRUA0C1pJss5FQLabDreHzEVARvTpmXbQRUDn6hCuj+1FQIuhyWbaCkZAMrSXycM/RkA7IlwBmD5GQPE2S0Q4TkZAhwxceTZPRkBWmUarhXFGQHdc4YCEkUZARx/WvAGYRkB9g0jPgrtGQK7HQ/pBuUZA2VR9jcXjRkCrAe3IiR1HQDqptgVZEkdA6l+Dtk0qR0CwhInrQ0VHQGgEe4d9cEdAe0+L6pB5R0CoQ0MNKYNHQD7401qKi0dApJNcYnqXR0B1FINaqaNHQP9Ho88jvUdALVSowySQR0CTlEb+iJhHQIWvIUyKu0dAtbbwub66R0Dwy/9kAeJHQA==",
          "dtype": "f8"
         },
         "yaxis": "y"
        },
        {
         "fill": "tonexty",
         "fillcolor": "rgba(251,128,114, 0.4)",
         "line": {
          "width": 0
         },
         "mode": "lines",
         "showlegend": false,
         "type": "scatter",
         "x": {
          "bdata": "3wfgB+EH4gfjB+QH5QfmB+cH6AfpB+oH6wfsB+0H7gfvB/AH8QfyB/MH9Af1B/YH9wf4B/kH+gf7B/wH/Qf+B/8HAAgBCAIIAwgECAUIBggHCAgICQgKCAsIDAgNCA4IDwgQCBEIEggTCBQIFQgWCBcIGAgZCBoIGwgcCB0IHggfCCAIIQgiCCMIJAglCCYIJwgoCCkIKggrCCwILQguCC8IMAgxCDIIMwg0CA==",
          "dtype": "i2"
         },
         "xaxis": "x",
         "y": {
          "bdata": "UZLqyG9RQUDRpP1PXE5BQP/Er0/lQkFAJ10s+c4xQUAIntbLCh1BQNR2y8XXBUFAzb7Z8Bz2QUDqVt/VNeRCQBctJmqS0kNACuydA5+5REDzA9yZqQlFQHlVR5AhuURADm9RviFHREDx9O3+hMFDQH+OHM9UMENATt0H9UyYQkA1/JIWb0dCQCLINZ6Z8kFAzmJ0+56zQUBzwqvWGoZBQJxGSp12TEFASfd0xv8HQUDcCAt0grZAQIdvE5FOh0BAdGYxldh/QEDbCR8c561AQCK6pWvNvEBAvomgIAjJQEBF305xruZAQHzkxvvcA0FAbLIfGDkpQUCPSdsfSylBQGO/zYcGNEFAF2Ch6a87QUCzX9y8nypBQO+SbM1nLkFAtqcFLNY3QUCY2FtdbUZBQJmtvqD7UkFASC0s631jQUDulSR+0ndBQOcaDExnU0FATls0cEBCQUALb90tbBxBQOfnFgQJBUFAmfWlqh8NQUAwwmtWQAlBQE+Odw0B+UBA8xiIUMj+QEC9pK3txQtBQNzvxjRtHkFAfZpRexLnQECsPRjSEMNAQN6sfKSXpkBAWifHVlqlQEDDt2qhl6ZAQANctJpktUBAAF2NBH2oQEAtZiTMXotAQH+qmgKfmUBA8EYzbnyyQEAJimYRYYRAQJAcPtorZkBAF5qQu119QECz5dPr3HJAQD5nUc1OfEBAPITxxfVfQECBk8AtH2JAQJ6ymVB9QUBArONstw5EQEAHw0M49DhAQAe56YcOHUBAKOrnE1QkQEAXPyYhCe8/QHmzvOFe3T9A6rZN6L7wP0DxstVVpsU/QOwhSFFdkz9A47t1KVB4P0BqpqqDe2Y/QOm4ahsw8T5AqwbpAmmmPkB9+BbhpKc+QHOghA/IiD5ASMK/LvqSPkASbth8V58+QA==",
          "dtype": "f8"
         },
         "yaxis": "y"
        },
        {
         "marker": {
          "color": "rgba(141,211,199, 1)",
          "line": {
           "color": "gray",
           "width": 0.3
          }
         },
         "name": "SSP1",
         "type": "box",
         "width": 0.2,
         "xaxis": "x2",
         "y": {
          "bdata": "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",
          "dtype": "f8"
         },
         "yaxis": "y2"
        },
        {
         "marker": {
          "color": "rgba(254,217,166, 1)",
          "line": {
           "color": "gray",
           "width": 0.3
          }
         },
         "name": "SSP2",
         "type": "box",
         "width": 0.2,
         "xaxis": "x2",
         "y": {
          "bdata": "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",
          "dtype": "f8"
         },
         "yaxis": "y2"
        },
        {
         "marker": {
          "color": "rgba(190,186,218, 1)",
          "line": {
           "color": "gray",
           "width": 0.3
          }
         },
         "name": "SSP3",
         "type": "box",
         "width": 0.2,
         "xaxis": "x2",
         "y": {
          "bdata": "2jS09y9/K0B1rG4I9GQ0QA/S1SXQ8ClAmLmtmlvxLUA+qt/nH/0wQA1mffXYLyZALbRdysceL0DGnWn4XgI0QAFO/Mfr3jBAwUx9V4aQMkBhwvP8nbkzQCWHO2EZkDVAcbxN1R75M0D1Qb01u20xQGq0uve7cjJAN+XTcfUUKUC7/ffWn5c9QJvlM8MIli1Az3j6Bx0rM0CbNjLzp0kzQFeKxlQzZTxATQVyzdG0MUCIZ5kyyWUsQPrv9mifKSxAdb1DVOUkL0AEsiJvXj8lQAJpEj6Q9zdAymhL2z+hL0BdKZSG8FgyQNFbb2Lt0DxAi4AFl2Z/N0AQDt4aNVEzQNqT1ONAUjtA1YdZMihKNkDlQ8nzULcyQFjzl7KjVDVABNjwjXgqMUA6ky5qbTY7QKrHeCp7JDlABldzjH0BMUCLltm6sJslQL63TmIwNDZAPv/j6GwlLUCi4eIYBrwxQGS3Pon+9DRA9RxspndNMUAh7SR7xkgyQD3EqnK0eDBAB7nXDUhPPUCiKX4h0TNBQAcALviobDJAkSVvh2c3NUDd3rt6cMk2QKmfkO8iGTRAvlx2WpVzLECwlswXgl4uQF6m47suwzVAzGSRorqTOEB3tYg2xBcnQNfEawQxPS5AFb8TT+AFJkAC/f7D6D45QJZh3TYzWTlANWdBUqiSMkDc6DUwEiY9QIWwb36r7DZAbyQX/zb2M0BwOTRP2Eg0QFwaN350lS9AVmJybg2PMUDXlUKvPq80QDXe3ctu6DRArakyB+qDKkD6m4p5THU4QAtMjjgW2C9AB5egDNuVJkDjiVn4H8w2QOwNxOnHTTVAufcMlDF6NEApEGKI+y03QNx3Ix0EkD1AErlpWD55L0C6KgpXnIseQG5+Vy4v9zhAs7IkHq80L0A1j1ufoYgqQCVYx3h8DzxA+IOKsnweMEAUXywBqaw6QAnPHVWx1jlAFC1Tl3nnOEDn8b7CkQ80QC6R6HOyZzhAEcZrz/9gO0ACNnxEXxszQD8e5hDO1i5Ayytq1E4dMkCRLgJ0GkwqQJF2SZ+LpzFAfiwmcvZzLkA55/BAz1wqQHdBDoKenzFA/5HkJg6iPECZhBAmWXw4QK1cMjDd7S1A4azcIKhVO0B1+Nn6dp07QCj+AXCJri9AZb3c+ui2NECBDkC1HA83QFaS0/MrHzBA8qoevK/6OEAJwWzffQ4vQE2+1d93CStAo5v/YwF2M0BGr52v9dE2QA2s86DOYSRA5P2ZcOehMkCZYsEpq/42QGKCi8cKnTJA8qo2lFdvOEBOTVwWUvosQMCoEp/aBDlAtd4Hf1z9NECpvHyNhoEuQME3GgB35DJADVuf6L54LkDOzDR0tkI2QO4GUko9UTlAR+QxkDyyM0A4TOIY4+M0QD92AXRpdzNAd503SLsPNkAllwiFX5ctQFKfn8pp4itAsYj6J54DKEAUsx/Xpqo1QMgPtZcokjZAz2f3Ox9vQECpQycVA4k0QA+hpbBFczBA7RKdIWtMM0Ad55t9URgxQLXp5/cLdSxAp26/2vpAO0A4tuWMO7YzQAe75O5rH0BAmAr42UdKM0Db8MrWPgYyQJfsPisZpjlALx6YVGKFKUAXW0FYWrU5QAGWwxFdbjJAVGb0j+EPNECU39T4LZY3QB/qBwti0i5AjgMoZYn2K0DNYJ41LBc3QOV3ZmDIkyxABnrcoHluNkBgw+KIhEs0QJekqAkSaEFAYe3yA4ToOUBbDVSkPcExQPjw/2qzcS5AynujDUcqNkD1SBFVogQwQCQDkUhYJS9Aslmd+NhQNUC+Vy5mRasnQEdYLeUXDzBAqFWkqgkiM0CEtZSvoio3QJL2092FxzlAa26aku6oM0AXndbwPl8tQJfZIzSY9TlAKvNh2+ufNUD58teUPdsvQK93DASmKzdA0Yd6o6RmJED98q3F3k83QFiTD5RbejNAedosVd0JN0CjFaeg9YE0QBR2uxfGyDFAA43X4GCMN0Bzeg+lQSU8QJydlJ/g/jZABk5gp8yEN0DfEyMNPBciQAR5htrPjTtAHOqNRwYEIkBarQvsJtoXQMIB8uhZ8jVAj2nNvv+1NEA9uYIJnDExQKqzbDbq7C9A2zW537i5KUCJcfGguXU3QMqQyGMDsTpASFnT1FuaMkCvTi5VtC80QOLkDw9KlTJAm0MbeZMkM0Du9PscjmAxQEsmK2b9aTxAtCigxmddNECwW91ytHg5QOSL/Hr0TCdA0OChIzkcNUAquQbpNN0eQI3iJTjhZChA/7QjZD1pOUCDemxO1PgxQLDHlDzXcTpAIi9Ppx0gKkCdjuqyMrIxQBzh6Zm96jRAmQQ8UtgQLUCSKiR5OwkwQCqMpp6irDJAQotv3LKtM0AUoTr682AzQHCFfidVaT5A1/+NZqwCLkA+UIkG63NBQPDztBcQVz1AB1AHhyMzOkAmqVO+b98+QMbMNJktPz5AhNACC7O2M0CmkmUTXqsnQLwg+9jZYDRAWz4bXnU3N0B/3ivJupo5QFPNQTs94jNAxayjI+aMOkCsZsyW/3YwQGtb8WOdNDFAZZt+n9mZM0BYmRAptcU5QBsqXI4E0zNAZbI1KO3RJ0DKkw8r0o0xQCBq6XG9RjRAdsBuU5Y2QUCvsQkVdbcsQC3DK/WrjzNAdTAljF4OMkD6/KadMLUvQPEVcDEDTC9AMC5SDomDOEABAgZpB4Y3QB6PxAhaBDdAvmekZMq2OEAZA3c0qKIwQLzCQeZTfTVA2js8AhEqNkBi9RLQ+eUxQIa89SAcIy5ASwTAICkiNkAU669RLnUxQK2zSWe4OjBAFmVd81EOMEBJTqT3Pyo1QIoh6ZIYIStAHrGwnFvSN0CjrRZENkY0QOoNVSnp4DFAT7zCdAq9MUBNyWkv46c4QFmvXpUiuDNAvvO2YdrLLkCcsJlPOZ4sQOSNVCD2LitAEqmtBILtNUCU2Ur2lDYyQG7gTguQ7yFAdVSCe5buN0CzKEvsg4o3QL2e341fkTVAZN7WKHESPUDuL0QUhWIzQCRjK/cDKDVAFng07eIrKEBDlJQym2o2QK2XOi+H/TRAnbE55TgWMEAOMRuxVjguQPtkNnvT1jFAt3mZgfYRNUAkilXTGq8rQP6ModXDsjNAr7YZMouKOEA/Gx1Kj6gmQHH54Q1RujNAAo4uLFhcOkApKwid5psvQL8aaHfSzTBAYeVZHDSqO0B/DQnHthMxQKNbQA/gGTpAuoUhlvodMkB0JYFBKVc7QPfUwcSyLUBA5CUl/tH3PEBmFePLFbUsQAMXIaq4oDlAvUf0BECGNEDKf9XP7X43QElIuTu8jzZAgC66y/jZNUCKLlCyf3UmQNHgx7uAFDdABc5Ow7S3PUCZL9N+PaY1QOno1H4/kzZAUYbW5ISVMkATcsXRFnE+QERgahc4Ly5AAsjvQYBuNUAjoEd75aQnQDMIDi9nwTFAZnzH4ti3L0CWfMMdKR8wQAEOnS5hrDBAJywVrEv6MkDc8htJ0TQvQB8pptzrhzhAmqjlIcVBLkDfszkht1kyQA6ulQt6/TNAAv+AdJBEMkAk1/WQzdIpQDhBc6s4kzNABuQFjN50PkDIX/26v+M1QJerleu9QjZAAKbFBV/uMEBQIb45H70wQEKDBCVhwzVA/QUfGUICMECgx3NCcCMzQHytOsBdvi5A6vq8qXTdN0AaHRaoIBkvQOCxqA9+PzZAskPJoiYKMEBGvRRX4n0yQB1KcrQ0dTtAtAQ+pKEjN0C5TpqmAysxQPmfH3715jlAeMHNheIeL0B4ogsNtE0xQEdAoUHkfjNAcNJ4ByfZLEA5lTmqzkolQHPjZ5XI4TVAShvZUJ7CMEDy9f2JgbUzQP4/bwP13TlAu8CsIxwnQEBjy5nzkpQyQJEnuk1jgjNAAZl9KNc2PEC6XkSAIlcwQOlmb3jwhzBA9G8A+OBFJ0Atp1NerIstQDdbp4YjrzxAKzoUYP/6L0C5dQ/VtKI2QJ5ocg9vCTBA5BQoyoGJL0BVgvzq6zQ7QM8eM1xilC9AdCtMBwHCJ0D1z3n8lR8xQN/kMjolLTVAacVhs4bjOUAdrFj6VZoyQAT25/Y1SDBAlDAu4QECQEAq4hZ3g7Y1QAgDTpQNpixAEryeZ0+3NkACjt6xrcQ2QGGjC1SN7TlAP+L6zmi5JEBSxfbmF/AxQNMqm7di1TpAr1jSFSc1N0DzBsvnq44mQH+4T58RZTpAQFAbjNZSMEDFtjuogiE6QCsLMV72ljZACqIepZcjOEDbmCh4LZkmQBMGnqffZTJA2z1h/0e/MUARKzUJVlA2QE2uaa6/7jZA2XMYweWyIkBhQnmRi3M5QAlPx36wFSVARPA+e0XlM0AkR67x46sxQHMk9VyliypAxeaqtVNNO0AfqNyqNocyQFCDVF1L0ipAQklUtnj4N0BF/JAFHk86QJR+qfB5CzFAk3uCfa1ZMECnJDr6Q+MrQCotfS70QDdA/PKWD7IqK0BklLynD7k5QI4sm1bWNTFA7eG1FKBmI0DiUr0tBiExQCQuXd6O4jNAjk80SSsMMUCMG52SvGI1QJF/aRbM/TpA6cVp5lztLkBPubWKkZMdQJ0HUt/wkzJATMn5ARuWNkDKKSPZw6s6QMkJMFZagixAyIV/7/nqLkCXLxTwwRIrQHxI23nZmjBAky/9jqywL0BP99a91ycjQMswSPRAvzBARmU/WOyuNkDB6l43jMIzQDLAJUEsxipAihjGQLfjNUCJ5ZdAn3g3QJhV22ab1yRAB+2Q+ikzLUDMuEzA3fc3QLvhYwgILjtAw4/BbObGN0Bz/SwiGv4pQOqnTjsbqDpA4D+TKrfxMkBtOYHLIcowQBSO21ekQjFAQmbPiT8SNUBiytYqzwAmQNuswnPuyTFAzhjaTfbzKECBsoVwt80yQDQd0V0Y3DlA75isaYA8NkDBDN8KFlY1QGw8AkNusiJAeZNJXtzHKkD1i77g6Yw4QNAIGEmHCRtAI+eop9tiM0A1XV/8HWMqQOu4xfJgGDpAAn/2apEqIUC+ccB5v/U2QJWVb4o/fzRA9xt2RP6uOED8I56EcLQ8QHbaIIQo9zZAbOIR940BOEA4sHZT3kY4QJrAlgP9nzdAXik9f1DuNEClBocoTcg3QBnE6YNd9i1AjA0fBjPXLkAznW92EXcvQKAkzy244zRAKvfLaF89NEBn1W06yNs2QHkJisKywDdA2zmlyLMIOUDU1Pc+bbwwQIMMszZl7y1AbsQ/FkVjOED7Rkp/+909QCwMuYtk8DtAVYAcEWl4LkD4R11oDjQxQGDCBLiVPT9ASCirIJImNkADw05KZtQzQMU1wTUr3zVASwauF+dMNEAP3+rVZFg7QN3B0DBHizBAMDVRBsY+L0DOAYFaeYUwQGdZHonLdjBAcDsu9hWsOEDuV8GHM6s6QP8vyy6MsS1AMLOLeaUJLEAsHpkG6lQ7QL2Is5RkszFAwHRyYk4INEDPqHLT8c04QA/Z4f9Ihz1ATL4iwbbxOED929baswI9QE5mrWH5ezNAzyfghsy8MkCI0cHqD5MzQMXQvMFGxzdABw1GLWvYNEAkkwfCfhosQCIFbqEHGThA3wKEgIgqNkCUxxFMV+U0QPWe1h6+kjRAaSJqTZLSOEBNmhFs/Os1QL7/V89SLi1AzZgl2Ww1QUC5IzA2ZgA/QPLOsmy3gi1At3bJHFllLEADFNibXtUwQIkR49gcwDZASaVW5UDaL0B++dzcl/cyQNsozTDo6DZASOV/ahHrLkBig79fKCYtQENvcomvKjZAMN9K7Xs6NUBmsjfICUoyQP4SLqCrdj1AzjhRuHOLM0DysFDR6+E4QH4mNla8xjNAd8hDE7GlOECsBfdj3KwwQBuHAHAouixAYLoji53yLUDcFfnJRVo2QAlnRVzI4iFArSgwyv82N0DBoHpW55EzQIzCuT9GpzVAdHnAEyLZMUD1GdsYcwk4QAE0Ucss5y5AxP6bAHKxOUBGpcyEe/M1QOTDRfv/GzBA2QKatCxhM0BJQFjtJqo7QIsH7i5SNDlAglYm1PEyLkBnHIKpZ9kzQEity0HdOTpAjus8InIaMkAga55z9xU3QKBBgy54hDBAfgKxLlcRNkBCyNnvsVE7QCn+o65tuTJAfxwSZZGzOUB4tFQnjRgvQJWDxtAe3SJAVCyONGJ2OED9JeZcq7Y2QBIEfwtnxShA3t9Kj9/aMED59u80YMYdQGHGSFMUMTFAVsZfcgjpLED2y70qxpYwQOFeSe0RuTlAhSimr9pHMEBNx63pKYEpQEphekDjlzRAIIV68X9nNEB1ZE6VfA8xQEvloEndYjJABlstyuVSNEAzFt9nb3UoQDf6TwQXYjhA2Vc6jYv4LUCI4R3BC/AtQIOuKHXAiTNA5nAGlvJnMkAaBghHFLg7QN6iJSY4ADhABy4PyPeJMkB5poKVLzwzQExy4LlpbDNAQgFDJALkL0C8O7B3/pM5QEKwHoWXwTJAg8KIp1tWK0Bq1NCSjmM8QEwUS/ozwzFAhvYH2EmKNUBdAn2KnbQxQM1g/DDO6DNAfRU0lJq2M0CvlwZYq2s2QM9PXK6QyzZA3OZmL84wO0Ap7Fl8jHs2QHdeqPF31y9AENtU8RoyNUA5nsuQtmMyQF7OS5QTIThAHGMJAEcdNkCujehbLVUuQBVfinM2GTtAsTO8TJ0NKkDHaCfstNEvQOsrcepSNzJAKtbKfenbMkB3U9bwbf0vQM8WrkF9/jVAca+hpBhkOUAlC6On+PAxQMBMdTyjYDNALyHBAh+PNEBRTQQGhV41QCTULYaUuzdAhdE3GJdHNEDtodGm2NAvQOw/tDYfaDBA1F6t/QK8L0DgPikxx9clQNpO7BYeuzdAfm1r1KOpMkADt6515xw0QINf1C1/iSxAQ3iOkEeBMUACUHy6/VkzQPayKV8QLTlAnyN1LSKZLEBibKzOueE3QLgzmlhSdTNARvFbg9sAMkAXe0rFDPUsQHYH4S4CoTVA8Hha5pZwMkB3iiMt6FMzQP7wjudtkShAgEzymkRgK0AeLehScqU1QJvkVr/mUDBAgOPYpTddMEAohX9qpyE1QPfBsFReMTJA3oY3v9WxOEAyjl96NHIzQGbSWkN9DDVAen7q1/RKP0BOmRuiQYk4QDgwdG1lwjFAOEPmSib0OkDnZzk1Gek0QMCrmmMVLjhA2rDjkzlHNkCYukcwa3k9QAbEMcJvhzhA5VRP0qmaOUD4gZlqk0Q4QLZt4qWjDS1AWNDw1NT1NECkDUs48pAxQFd8VKhOPTBAvIjXjTtNOECo/gFGD7s0QHvdXrkbpDBAgda0Qd8tNkB7kDKoRpwrQDs97eES3TFAaRFDTQDKOEB8I9M9Wgw3QM9KpU//jzxA26kZyWuRPUCKrjDL4lI2QPa2C8qm5jBArfMJZF1xMUB5tYcRdE4uQOFSfW0s6T1ASAaIuiSvI0CtGF6hm9E5QE/A/d4zZj1AOrk/7EwSMECilHHvf7A0QIr64PHyuTJAxm1KY1pyOkBG8MOCLswtQHOk+ToBpDRAbcOMeksTNUAR75eccWAyQL6aO8swdzRADm8dMEEcPkDtq2eehtU2QFhujOiaVClAtcyvkht8M0AWpkYWfd83QHwcXCqWED1AMzonsFqAN0D11zzuR6QsQEY/djXnGTZA0WoArzZkMkBT5/BGXJovQCHeAR23VjBAr7WwXLvyOkDMmzaldZY2QNwf9YrYQDZA/pjSpzQeMUAQYZ8yO94uQAH+pBQQOTJASCysVOgJLEBWybop9nA1QBxKFp+JoS1Abo0zhLLoMkDDwj+decQlQM2HrsscYDhALzopdMpTNUA+FOq9NM01QD4mQTyIAzdAuoB6ARkYNkBpHKzQkY4xQL/t6GvXIjpAK08m0pHeOEBCJhxeWkQzQOSdH17nZjBAZ+XRDfF0L0AScFsBE2M5QK78fxmnZzBAOrbmRuqmL0BtV7XbFrA5QOl1FfUqI0BAaeNwEm8PK0Ca6peJJK0yQJOTNtahHzNAw5jpuMQ9O0BDIcVp0OE0QDT7mu2A1jVADEyTUr5xMUCdrwepyFA0QAsVJL/FnDVAKHEmNzicMEDKBCIT5C8sQK6TLSVT7TNAMpqNluVeJED1Dt3BTGw0QAiDFhkV7DVA0h7o2a7MNUAVaPTRPak6QA49ovXOVTNAzVhXeFLPMECaswv/NostQJTcVsXlfztAregHDLWoOkApbQcJjF0uQPD3sINAOjdAecsAxmYLMkARGNXpBMonQBehi2cNAjtAvIa6Gn+tJkCPu66TbMYoQIh1+Q1ixjBAKKgYPIy+MUDYobvZPiQ9QLJJfcqxjDRATkeXa9XdKEC2EhgE4DAlQOCEyd8BXzdAho214BQDMUC8N0FgkE8zQNMQlWhXyjJAoTDHXONOJkDqfQT/ODIrQDkYigFwaC9A95SfotQFMECKGEn07lM4QJxltm/kxzhASw7cJM+eNkAxf6DHXZgzQF2Gek0DyTBAiJ0Dwn1ZMUD5OEsU7Nk2QOY6CUMsXDJAYO6FR+U+OEA/pEAxCF40QOTQpbQ+RylAqtYBd9d0MEB0khGR6pU0QJX/JCPB0zRA07tq39+IN0BlUEyVvHQwQLnL2qSolTJArq+giESTN0C0rVhZPFckQO8wCHYyazRARK9sQLHZJ0CFbFkUWLYyQM8kc/qy+DRA8gcWVspOK0BWSh7ZPVY7QLVVNm6nAC1AfUa8pLGmNUCAPhWMhcIsQL0EeDtnhjNAqRQX1ys4NUBh0dTPGfsnQJY0eGmEJjdANr+4DxOMMUBChGRoUIg0QE1nH5MouTRAZ5iirncDL0BIwTv2wTIrQGt5uNbrdTlAQgMu/UoRM0DkxzGVSe0qQLFTNOsZZSpAoizDdQeYLUALkw4IC4U1QLAc7i0JBjdAKKTyoGMlP0DgDCFth5MxQKAf+dVu9jdA9khT/XDJOUB7EU32byA2QAO75Ps+mStAMkH6BYSzLEB1h6Ha7ywmQNt8LzFTJjtAA17cJOd7OkB9L++xIw8lQBSWqJik2TBA8JP/cLznNkDyDv/StrQzQHryfoD8kDVACTtid1JvNEA/ufUwjqk1QIZOriPo8TRAapKeaatmOUAkFRGg1d8rQPdqtB9BZyxAOQjwhPcqNUA7L3yUEjQ9QABJvns60SZAVpijEL6FOkDCyob9CvI5QKyPqch0sipAw4SV56NZOEBXL7seswk4QLUjLjUS1SZABgjO8i8qMEDxJfO5eL04QDSdLtu+qy1ACU7kSjTxNUB5sXSVZQcqQIQSSCjTmjZAz9L+xHXwLEDV3RfGjtc5QH5cFgdfcjZAUAa+TegiM0BoZfSSdgM1QKlbJaT60BlASlJyxNi9MkBtAwPE/6EuQO89WEV6sTNAuPWJcI0PPUBBwY5zoCwpQLs+u9oHozNAeHlvB9xfJkDXE29gyl03QNsCa5vqpi1A3J+ncKkjMkANk7u9jno0QNjZoeInNzBA2ObyYejtMEAHYMaXdLc3QE4kya9G8DVAwG/tPn5fOED62ySMFMg5QBs4H3EcfTBAefsrXvLGPUBCgjKW8SMtQNcC0y5zUzBAVjQoXhZeM0DYS54msoExQKG60uYd9TFA0pFKF+7UMkBcTspyG2QaQHs9cHeJ0zVA8Z/FZH94LEBOt5J9Xe8wQD+kqb142ilAQm1/Ils+KUBPYnCa/BAqQO47zArBlTFASntMULnmIkBKOiF48aoxQOHj9Cu8Gi5AkogChhKMPUBimaHsRWAvQB5qVt6h0jFAXztVEKz3JUCfTn/v8/ouQLsUbZZKnSVAHL2ZEy3PLkD5FyP24D44QB0m7XW+MylAZI1C69QONECHqttNVjgwQGWvw7Rzti9AbHnDsabgMkA44fInD58yQEwVLbcIHTRAlR7T5pkXMkDpNc2sQbsxQOdW6RTKazRA++YjnLifMEDW0hEIQfUxQPoIF0S0PTtA9AufUh8mLkA89Nzl1VI3QILE835DRilAMIeIW8KBJ0AY+hLqHTQyQLAyrZoWwDJA0M/jfEwrOkBuT9Wt53EyQAWbR3m3QzVAYb+v4C+tHkAkFiEZTuwyQMLTVrkBOzJA1SwdXQvtMEAgfvxVj0s8QMrLR4w+LTRAeH/U2eLPL0C57Clpll04QKeN82FeQjJAJs+xQs+pLEBpOiYDUJNAQBJYfg7ToTlA07rVogiIOUAeMj/RuH02QFQnT5CslzpATVdC4YrWKUDZn92LhpE6QODDgQDOsDBABURoGlKbIkDL+f+3CTYxQB0w5SrDwjhA7U0NWXsUNUCgOcn0YuwyQISdmU79xTVAE01iGhODMkCVvp2bQusmQPo2M7JKNSJAYQnmL6PXM0Ca0kEfBp8sQLzeZelJJDZAjq+1/jbxMEBiiY/8QSA1QFMxCCCx5zNAE/oR5TnOMkD7NgAMjGcxQOZOfsxXWitAOWvV6kHRPEAYGiRGRnIuQL1WiJJBmi9ABx35GwBxNED4hpMtK9EwQGnI89i3eDVA86QvsOcuPkA6MmnTxbI2QGkl33FGNzhAKnB4UFIiN0Ctx+gaJjI1QMYUlOno7DRAukEnP0RaMkAoSQ3nmREzQLTJJpo3CzdAa7BAvCtqL0BkJEgTbmAkQGhWPqlKbTJAHoExwPeUMEC3dcvJwnsuQA==",
          "dtype": "f8"
         },
         "yaxis": "y2"
        },
        {
         "marker": {
          "color": "rgba(128,177,211, 1)",
          "line": {
           "color": "gray",
           "width": 0.3
          }
         },
         "name": "SSP4",
         "type": "box",
         "width": 0.2,
         "xaxis": "x2",
         "y": {
          "bdata": "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",
          "dtype": "f8"
         },
         "yaxis": "y2"
        },
        {
         "marker": {
          "color": "rgba(251,128,114, 1)",
          "line": {
           "color": "gray",
           "width": 0.3
          }
         },
         "name": "SSP5",
         "type": "box",
         "width": 0.2,
         "xaxis": "x2",
         "y": {
          "bdata": "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",
          "dtype": "f8"
         },
         "yaxis": "y2"
        }
       ],
       "layout": {
        "annotations": [
         {
          "font": {
           "size": 16
          },
          "showarrow": false,
          "text": " ",
          "x": 0.315,
          "xanchor": "center",
          "xref": "paper",
          "y": 1,
          "yanchor": "bottom",
          "yref": "paper"
         },
         {
          "font": {
           "size": 16
          },
          "showarrow": false,
          "text": " ",
          "x": 0.865,
          "xanchor": "center",
          "xref": "paper",
          "y": 1,
          "yanchor": "bottom",
          "yref": "paper"
         }
        ],
        "font": {
         "size": 18
        },
        "height": 700,
        "template": {
         "data": {
          "bar": [
           {
            "error_x": {
             "color": "#2a3f5f"
            },
            "error_y": {
             "color": "#2a3f5f"
            },
            "marker": {
             "line": {
              "color": "white",
              "width": 0.5
             },
             "pattern": {
              "fillmode": "overlay",
              "size": 10,
              "solidity": 0.2
             }
            },
            "type": "bar"
           }
          ],
          "barpolar": [
           {
            "marker": {
             "line": {
              "color": "white",
              "width": 0.5
             },
             "pattern": {
              "fillmode": "overlay",
              "size": 10,
              "solidity": 0.2
             }
            },
            "type": "barpolar"
           }
          ],
          "carpet": [
           {
            "aaxis": {
             "endlinecolor": "#2a3f5f",
             "gridcolor": "#C8D4E3",
             "linecolor": "#C8D4E3",
             "minorgridcolor": "#C8D4E3",
             "startlinecolor": "#2a3f5f"
            },
            "baxis": {
             "endlinecolor": "#2a3f5f",
             "gridcolor": "#C8D4E3",
             "linecolor": "#C8D4E3",
             "minorgridcolor": "#C8D4E3",
             "startlinecolor": "#2a3f5f"
            },
            "type": "carpet"
           }
          ],
          "choropleth": [
           {
            "colorbar": {
             "outlinewidth": 0,
             "ticks": ""
            },
            "type": "choropleth"
           }
          ],
          "contour": [
           {
            "colorbar": {
             "outlinewidth": 0,
             "ticks": ""
            },
            "colorscale": [
             [
              0,
              "#0d0887"
             ],
             [
              0.1111111111111111,
              "#46039f"
             ],
             [
              0.2222222222222222,
              "#7201a8"
             ],
             [
              0.3333333333333333,
              "#9c179e"
             ],
             [
              0.4444444444444444,
              "#bd3786"
             ],
             [
              0.5555555555555556,
              "#d8576b"
             ],
             [
              0.6666666666666666,
              "#ed7953"
             ],
             [
              0.7777777777777778,
              "#fb9f3a"
             ],
             [
              0.8888888888888888,
              "#fdca26"
             ],
             [
              1,
              "#f0f921"
             ]
            ],
            "type": "contour"
           }
          ],
          "contourcarpet": [
           {
            "colorbar": {
             "outlinewidth": 0,
             "ticks": ""
            },
            "type": "contourcarpet"
           }
          ],
          "heatmap": [
           {
            "colorbar": {
             "outlinewidth": 0,
             "ticks": ""
            },
            "colorscale": [
             [
              0,
              "#0d0887"
             ],
             [
              0.1111111111111111,
              "#46039f"
             ],
             [
              0.2222222222222222,
              "#7201a8"
             ],
             [
              0.3333333333333333,
              "#9c179e"
             ],
             [
              0.4444444444444444,
              "#bd3786"
             ],
             [
              0.5555555555555556,
              "#d8576b"
             ],
             [
              0.6666666666666666,
              "#ed7953"
             ],
             [
              0.7777777777777778,
              "#fb9f3a"
             ],
             [
              0.8888888888888888,
              "#fdca26"
             ],
             [
              1,
              "#f0f921"
             ]
            ],
            "type": "heatmap"
           }
          ],
          "histogram": [
           {
            "marker": {
             "pattern": {
              "fillmode": "overlay",
              "size": 10,
              "solidity": 0.2
             }
            },
            "type": "histogram"
           }
          ],
          "histogram2d": [
           {
            "colorbar": {
             "outlinewidth": 0,
             "ticks": ""
            },
            "colorscale": [
             [
              0,
              "#0d0887"
             ],
             [
              0.1111111111111111,
              "#46039f"
             ],
             [
              0.2222222222222222,
              "#7201a8"
             ],
             [
              0.3333333333333333,
              "#9c179e"
             ],
             [
              0.4444444444444444,
              "#bd3786"
             ],
             [
              0.5555555555555556,
              "#d8576b"
             ],
             [
              0.6666666666666666,
              "#ed7953"
             ],
             [
              0.7777777777777778,
              "#fb9f3a"
             ],
             [
              0.8888888888888888,
              "#fdca26"
             ],
             [
              1,
              "#f0f921"
             ]
            ],
            "type": "histogram2d"
           }
          ],
          "histogram2dcontour": [
           {
            "colorbar": {
             "outlinewidth": 0,
             "ticks": ""
            },
            "colorscale": [
             [
              0,
              "#0d0887"
             ],
             [
              0.1111111111111111,
              "#46039f"
             ],
             [
              0.2222222222222222,
              "#7201a8"
             ],
             [
              0.3333333333333333,
              "#9c179e"
             ],
             [
              0.4444444444444444,
              "#bd3786"
             ],
             [
              0.5555555555555556,
              "#d8576b"
             ],
             [
              0.6666666666666666,
              "#ed7953"
             ],
             [
              0.7777777777777778,
              "#fb9f3a"
             ],
             [
              0.8888888888888888,
              "#fdca26"
             ],
             [
              1,
              "#f0f921"
             ]
            ],
            "type": "histogram2dcontour"
           }
          ],
          "mesh3d": [
           {
            "colorbar": {
             "outlinewidth": 0,
             "ticks": ""
            },
            "type": "mesh3d"
           }
          ],
          "parcoords": [
           {
            "line": {
             "colorbar": {
              "outlinewidth": 0,
              "ticks": ""
             }
            },
            "type": "parcoords"
           }
          ],
          "pie": [
           {
            "automargin": true,
            "type": "pie"
           }
          ],
          "scatter": [
           {
            "fillpattern": {
             "fillmode": "overlay",
             "size": 10,
             "solidity": 0.2
            },
            "type": "scatter"
           }
          ],
          "scatter3d": [
           {
            "line": {
             "colorbar": {
              "outlinewidth": 0,
              "ticks": ""
             }
            },
            "marker": {
             "colorbar": {
              "outlinewidth": 0,
              "ticks": ""
             }
            },
            "type": "scatter3d"
           }
          ],
          "scattercarpet": [
           {
            "marker": {
             "colorbar": {
              "outlinewidth": 0,
              "ticks": ""
             }
            },
            "type": "scattercarpet"
           }
          ],
          "scattergeo": [
           {
            "marker": {
             "colorbar": {
              "outlinewidth": 0,
              "ticks": ""
             }
            },
            "type": "scattergeo"
           }
          ],
          "scattergl": [
           {
            "marker": {
             "colorbar": {
              "outlinewidth": 0,
              "ticks": ""
             }
            },
            "type": "scattergl"
           }
          ],
          "scattermap": [
           {
            "marker": {
             "colorbar": {
              "outlinewidth": 0,
              "ticks": ""
             }
            },
            "type": "scattermap"
           }
          ],
          "scattermapbox": [
           {
            "marker": {
             "colorbar": {
              "outlinewidth": 0,
              "ticks": ""
             }
            },
            "type": "scattermapbox"
           }
          ],
          "scatterpolar": [
           {
            "marker": {
             "colorbar": {
              "outlinewidth": 0,
              "ticks": ""
             }
            },
            "type": "scatterpolar"
           }
          ],
          "scatterpolargl": [
           {
            "marker": {
             "colorbar": {
              "outlinewidth": 0,
              "ticks": ""
             }
            },
            "type": "scatterpolargl"
           }
          ],
          "scatterternary": [
           {
            "marker": {
             "colorbar": {
              "outlinewidth": 0,
              "ticks": ""
             }
            },
            "type": "scatterternary"
           }
          ],
          "surface": [
           {
            "colorbar": {
             "outlinewidth": 0,
             "ticks": ""
            },
            "colorscale": [
             [
              0,
              "#0d0887"
             ],
             [
              0.1111111111111111,
              "#46039f"
             ],
             [
              0.2222222222222222,
              "#7201a8"
             ],
             [
              0.3333333333333333,
              "#9c179e"
             ],
             [
              0.4444444444444444,
              "#bd3786"
             ],
             [
              0.5555555555555556,
              "#d8576b"
             ],
             [
              0.6666666666666666,
              "#ed7953"
             ],
             [
              0.7777777777777778,
              "#fb9f3a"
             ],
             [
              0.8888888888888888,
              "#fdca26"
             ],
             [
              1,
              "#f0f921"
             ]
            ],
            "type": "surface"
           }
          ],
          "table": [
           {
            "cells": {
             "fill": {
              "color": "#EBF0F8"
             },
             "line": {
              "color": "white"
             }
            },
            "header": {
             "fill": {
              "color": "#C8D4E3"
             },
             "line": {
              "color": "white"
             }
            },
            "type": "table"
           }
          ]
         },
         "layout": {
          "annotationdefaults": {
           "arrowcolor": "#2a3f5f",
           "arrowhead": 0,
           "arrowwidth": 1
          },
          "autotypenumbers": "strict",
          "coloraxis": {
           "colorbar": {
            "outlinewidth": 0,
            "ticks": ""
           }
          },
          "colorscale": {
           "diverging": [
            [
             0,
             "#8e0152"
            ],
            [
             0.1,
             "#c51b7d"
            ],
            [
             0.2,
             "#de77ae"
            ],
            [
             0.3,
             "#f1b6da"
            ],
            [
             0.4,
             "#fde0ef"
            ],
            [
             0.5,
             "#f7f7f7"
            ],
            [
             0.6,
             "#e6f5d0"
            ],
            [
             0.7,
             "#b8e186"
            ],
            [
             0.8,
             "#7fbc41"
            ],
            [
             0.9,
             "#4d9221"
            ],
            [
             1,
             "#276419"
            ]
           ],
           "sequential": [
            [
             0,
             "#0d0887"
            ],
            [
             0.1111111111111111,
             "#46039f"
            ],
            [
             0.2222222222222222,
             "#7201a8"
            ],
            [
             0.3333333333333333,
             "#9c179e"
            ],
            [
             0.4444444444444444,
             "#bd3786"
            ],
            [
             0.5555555555555556,
             "#d8576b"
            ],
            [
             0.6666666666666666,
             "#ed7953"
            ],
            [
             0.7777777777777778,
             "#fb9f3a"
            ],
            [
             0.8888888888888888,
             "#fdca26"
            ],
            [
             1,
             "#f0f921"
            ]
           ],
           "sequentialminus": [
            [
             0,
             "#0d0887"
            ],
            [
             0.1111111111111111,
             "#46039f"
            ],
            [
             0.2222222222222222,
             "#7201a8"
            ],
            [
             0.3333333333333333,
             "#9c179e"
            ],
            [
             0.4444444444444444,
             "#bd3786"
            ],
            [
             0.5555555555555556,
             "#d8576b"
            ],
            [
             0.6666666666666666,
             "#ed7953"
            ],
            [
             0.7777777777777778,
             "#fb9f3a"
            ],
            [
             0.8888888888888888,
             "#fdca26"
            ],
            [
             1,
             "#f0f921"
            ]
           ]
          },
          "colorway": [
           "#636efa",
           "#EF553B",
           "#00cc96",
           "#ab63fa",
           "#FFA15A",
           "#19d3f3",
           "#FF6692",
           "#B6E880",
           "#FF97FF",
           "#FECB52"
          ],
          "font": {
           "color": "#2a3f5f"
          },
          "geo": {
           "bgcolor": "white",
           "lakecolor": "white",
           "landcolor": "white",
           "showlakes": true,
           "showland": true,
           "subunitcolor": "#C8D4E3"
          },
          "hoverlabel": {
           "align": "left"
          },
          "hovermode": "closest",
          "mapbox": {
           "style": "light"
          },
          "paper_bgcolor": "white",
          "plot_bgcolor": "white",
          "polar": {
           "angularaxis": {
            "gridcolor": "#EBF0F8",
            "linecolor": "#EBF0F8",
            "ticks": ""
           },
           "bgcolor": "white",
           "radialaxis": {
            "gridcolor": "#EBF0F8",
            "linecolor": "#EBF0F8",
            "ticks": ""
           }
          },
          "scene": {
           "xaxis": {
            "backgroundcolor": "white",
            "gridcolor": "#DFE8F3",
            "gridwidth": 2,
            "linecolor": "#EBF0F8",
            "showbackground": true,
            "ticks": "",
            "zerolinecolor": "#EBF0F8"
           },
           "yaxis": {
            "backgroundcolor": "white",
            "gridcolor": "#DFE8F3",
            "gridwidth": 2,
            "linecolor": "#EBF0F8",
            "showbackground": true,
            "ticks": "",
            "zerolinecolor": "#EBF0F8"
           },
           "zaxis": {
            "backgroundcolor": "white",
            "gridcolor": "#DFE8F3",
            "gridwidth": 2,
            "linecolor": "#EBF0F8",
            "showbackground": true,
            "ticks": "",
            "zerolinecolor": "#EBF0F8"
           }
          },
          "shapedefaults": {
           "line": {
            "color": "#2a3f5f"
           }
          },
          "ternary": {
           "aaxis": {
            "gridcolor": "#DFE8F3",
            "linecolor": "#A2B1C6",
            "ticks": ""
           },
           "baxis": {
            "gridcolor": "#DFE8F3",
            "linecolor": "#A2B1C6",
            "ticks": ""
           },
           "bgcolor": "white",
           "caxis": {
            "gridcolor": "#DFE8F3",
            "linecolor": "#A2B1C6",
            "ticks": ""
           }
          },
          "title": {
           "x": 0.05
          },
          "xaxis": {
           "automargin": true,
           "gridcolor": "#EBF0F8",
           "linecolor": "#EBF0F8",
           "ticks": "",
           "title": {
            "standoff": 15
           },
           "zerolinecolor": "#EBF0F8",
           "zerolinewidth": 2
          },
          "yaxis": {
           "automargin": true,
           "gridcolor": "#EBF0F8",
           "linecolor": "#EBF0F8",
           "ticks": "",
           "title": {
            "standoff": 15
           },
           "zerolinecolor": "#EBF0F8",
           "zerolinewidth": 2
          }
         }
        },
        "width": 1000,
        "xaxis": {
         "anchor": "y",
         "domain": [
          0,
          0.75
         ],
         "linecolor": "black",
         "linewidth": 1,
         "showgrid": false,
         "showline": true,
         "ticks": "outside",
         "title": {
          "text": "Year"
         }
        },
        "xaxis2": {
         "anchor": "y2",
         "domain": [
          0.85,
          1
         ],
         "showgrid": false
        },
        "yaxis": {
         "anchor": "x",
         "domain": [
          0,
          1
         ],
         "dtick": 10,
         "linecolor": "black",
         "linewidth": 1,
         "range": [
          0,
          80
         ],
         "showgrid": false,
         "showline": true,
         "tick0": 0,
         "ticks": "outside",
         "title": {
          "text": "Global Emissions (GtCO2)"
         }
        },
        "yaxis2": {
         "anchor": "x2",
         "domain": [
          0,
          1
         ],
         "range": [
          0,
          80
         ],
         "showgrid": false,
         "showticklabels": false,
         "title": {
          "text": " "
         }
        }
       }
      }
     },
     "metadata": {},
     "output_type": "display_data"
    }
   ],
   "source": [
    "from justice.util.visualizer import plot_comparison_with_boxplots\n",
    "from justice.util.enumerations import WelfareFunction, SSP\n",
    "ssp = SSP.SSP2\n",
    "\n",
    "path = f\"data/temporary/NU_DATA/combined/{str(ssp).split('.')[1]}/\"\n",
    "\n",
    "regret_type = \"Welfare_Regret\" # \"Welfare_Regret\" or \"Temperature_Regret\"\n",
    "\n",
    "plot_comparison_with_boxplots(\n",
    "    data_paths=[\n",
    "\n",
    "        # Prioritarian Welfare Regret\n",
    "        # path + \"PRIORITARIAN_emissions_idx6_SSP126_emissions.npy\",\n",
    "        # path + \"PRIORITARIAN_emissions_idx6_SSP245_emissions.npy\",\n",
    "        # path + \"PRIORITARIAN_emissions_idx6_SSP370_emissions.npy\",\n",
    "        # path + \"PRIORITARIAN_emissions_idx6_SSP460_emissions.npy\",\n",
    "        # path + \"PRIORITARIAN_emissions_idx6_SSP534_emissions.npy\",\n",
    "\n",
    "        # Prioritarian Temperature Regret\n",
    "        # path + \"PRIORITARIAN_emissions_idx8_SSP126_emissions.npy\",\n",
    "        # path + \"PRIORITARIAN_emissions_idx8_SSP245_emissions.npy\",\n",
    "        # path + \"PRIORITARIAN_emissions_idx8_SSP370_emissions.npy\",\n",
    "        # path + \"PRIORITARIAN_emissions_idx8_SSP460_emissions.npy\",\n",
    "        # path + \"PRIORITARIAN_emissions_idx8_SSP534_emissions.npy\",\n",
    "\n",
    "        # Utilitarian Welfare Regret\n",
    "        path + \"UTILITARIAN_emissions_idx29_SSP126_emissions.npy\",\n",
    "        path + \"UTILITARIAN_emissions_idx29_SSP245_emissions.npy\",\n",
    "        path + \"UTILITARIAN_emissions_idx29_SSP370_emissions.npy\",\n",
    "        path + \"UTILITARIAN_emissions_idx29_SSP460_emissions.npy\",\n",
    "        path + \"UTILITARIAN_emissions_idx29_SSP534_emissions.npy\",\n",
    "    \n",
    "    ],\n",
    "    labels=[\n",
    "        \n",
    "        'SSP1',\n",
    "        'SSP2',\n",
    "        'SSP3',\n",
    "        'SSP4',\n",
    "        'SSP5',\n",
    "        ], \n",
    "    start_year=2015,\n",
    "    end_year=2300,\n",
    "    data_timestep=5,\n",
    "    timestep=1,\n",
    "    visualization_start_year=2015,\n",
    "    visualization_end_year=2100,\n",
    "    yaxis_range=[0, 80],\n",
    "    plot_title=' ',\n",
    "    xaxis_title='Year',\n",
    "    yaxis_title='Global Emissions (GtCO2)',\n",
    "    template='plotly_white',\n",
    "    width=1000,\n",
    "    height=700,\n",
    "    output_path=path +\"/\"+ \"plots\",\n",
    "    saving=True,\n",
    "    show_red_dashed_line=False,\n",
    "    show_interquartile_range=True,\n",
    "    linecolors=[\n",
    " \n",
    "\n",
    "        \"rgba(141,211,199, 1)\",\n",
    "        \"rgba(254,217,166, 1)\", \n",
    "        \"rgba(190,186,218, 1)\", \n",
    "        \"rgba(128,177,211, 1)\", \n",
    "        \"rgba(251,128,114, 1)\", \n",
    "        ],\n",
    "    colors = [ \n",
    "\n",
    "        \"rgba(141,211,199, 0.4)\", \n",
    "        \"rgba(254,217,166, 0.4)\",\n",
    "        \"rgba(190,186,218, 0.4)\", \n",
    "        \"rgba(128,177,211, 0.4)\", \n",
    "        \"rgba(251,128,114, 0.4)\", \n",
    "\n",
    "        ],\n",
    "    first_plot_proportion=[0, 0.75],\n",
    "    second_plot_proportion=[0.85, 1],\n",
    "    transpose_data=True,\n",
    "    show_min_max = False,\n",
    "    dtick=10,\n",
    "    output_name_suffix=regret_type,\n",
    ")"
   ]
  },
  {
   "cell_type": "code",
   "execution_count": null,
   "id": "3cfaee4f",
   "metadata": {},
   "outputs": [],
   "source": []
  }
 ],
 "metadata": {
  "kernelspec": {
   "display_name": "venv",
   "language": "python",
   "name": "python3"
  },
  "language_info": {
   "codemirror_mode": {
    "name": "ipython",
    "version": 3
   },
   "file_extension": ".py",
   "mimetype": "text/x-python",
   "name": "python",
   "nbconvert_exporter": "python",
   "pygments_lexer": "ipython3",
   "version": "3.9.10"
  }
 },
 "nbformat": 4,
 "nbformat_minor": 5
}
