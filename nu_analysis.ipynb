{
 "cells": [
  {
   "cell_type": "code",
   "execution_count": 1,
   "id": "3853f6bd",
   "metadata": {},
   "outputs": [
    {
     "name": "stdout",
     "output_type": "stream",
     "text": [
      "Loading data from data/temporary/NU_DATA/combined/SSP3/...\n"
     ]
    }
   ],
   "source": [
    "from justice.util.enumerations import WelfareFunction, SSP\n",
    "import pandas as pd\n",
    "\n",
    "\n",
    "\n",
    "swf = WelfareFunction.UTILITARIAN\n",
    "nfe = 50_000\n",
    "ssp = SSP.SSP3\n",
    "# algo = \"ensgaii\"\n",
    "# path = f\"data/temporary/NU_DATA/{algo}/{str(ssp).split('.')[1]}/\"\n",
    "path = f\"data/temporary/NU_DATA/combined/{str(ssp).split('.')[1]}/\"\n",
    "\n",
    "# loaded_df = pd.read_csv(\n",
    "#     f\"data/optimized_rbf_weights/limitarian/50k/{swf.value[1]}/{swf.value[1]}_reference_set.csv\"\n",
    "# )\n",
    "# policy_indices = list(range(len(loaded_df)))\n",
    "# print(f\"Policy Indices: {policy_indices}\")\n",
    "# scenario_list = [\"SSP119\", \"SSP126\", \"SSP245\", \"SSP370\", \"SSP434\", \"SSP460\", \"SSP534\"]\n",
    "\n",
    "print(f\"Loading data from {path}...\")"
   ]
  },
  {
   "cell_type": "code",
   "execution_count": 2,
   "id": "09455dd8",
   "metadata": {},
   "outputs": [
    {
     "name": "stdout",
     "output_type": "stream",
     "text": [
      "Loading list of files\n",
      "Loading archives for:  UTILITARIAN\n",
      "Filename:  Prioritarian_hypervolume_plot.svg\n",
      "Filename:  .DS_Store\n",
      "Filename:  PRIORITARIAN_50000_3569126_hv.csv\n",
      "Filename:  UTILITARIAN_50000_3569126.tar.gz\n",
      "Matching file: UTILITARIAN_50000_3569126.tar.gz\n",
      "Loading archives from: UTILITARIAN_50000_3569126.tar.gz\n",
      "Max key: 50000\n",
      "Number of rows in archive: 8\n",
      "Archives loaded for: UTILITARIAN_50000_3569126.tar.gz\n",
      "Filename:  UTILITARIAN_50000_521475.tar.gz\n",
      "Matching file: UTILITARIAN_50000_521475.tar.gz\n",
      "Loading archives from: UTILITARIAN_50000_521475.tar.gz\n",
      "Max key: 50000\n",
      "Number of rows in archive: 11\n",
      "Archives loaded for: UTILITARIAN_50000_521475.tar.gz\n",
      "Filename:  PRIORITARIAN_50000_607561200.tar.gz\n",
      "Filename:  PRIORITARIAN_50000_52147500.tar.gz\n",
      "Filename:  UTILITARIAN_50000_6075612.tar.gz\n",
      "Matching file: UTILITARIAN_50000_6075612.tar.gz\n",
      "Loading archives from: UTILITARIAN_50000_6075612.tar.gz\n",
      "Max key: 50001\n",
      "Number of rows in archive: 8\n",
      "Archives loaded for: UTILITARIAN_50000_6075612.tar.gz\n",
      "Filename:  PRIORITARIAN_50000_164465200.tar.gz\n",
      "Filename:  PRIORITARIAN_50000_6075612_hv.csv\n",
      "Filename:  PRIORITARIAN_50000_356912600_hv.csv\n",
      "Filename:  UTILITARIAN_50000_356912600.tar.gz\n",
      "Matching file: UTILITARIAN_50000_356912600.tar.gz\n",
      "Loading archives from: UTILITARIAN_50000_356912600.tar.gz\n",
      "Max key: 50016\n",
      "Number of rows in archive: 8\n",
      "Archives loaded for: UTILITARIAN_50000_356912600.tar.gz\n",
      "Filename:  PRIORITARIAN_50000_1644652_hv.csv\n",
      "Filename:  UTILITARIAN_50000_1644652.tar.gz\n",
      "Matching file: UTILITARIAN_50000_1644652.tar.gz\n",
      "Loading archives from: UTILITARIAN_50000_1644652.tar.gz\n",
      "Max key: 50001\n",
      "Number of rows in archive: 8\n",
      "Archives loaded for: UTILITARIAN_50000_1644652.tar.gz\n",
      "Filename:  PRIORITARIAN_50000_521475_hv.csv\n",
      "Filename:  PRIORITARIAN_50000_52147500_hv.csv\n",
      "Filename:  UTILITARIAN_50000_164465200.tar.gz\n",
      "Matching file: UTILITARIAN_50000_164465200.tar.gz\n",
      "Loading archives from: UTILITARIAN_50000_164465200.tar.gz\n",
      "Max key: 50029\n",
      "Number of rows in archive: 11\n",
      "Archives loaded for: UTILITARIAN_50000_164465200.tar.gz\n",
      "Filename:  PRIORITARIAN_50000_607561200_hv.csv\n",
      "Filename:  UTILITARIAN_50000_607561200.tar.gz\n",
      "Matching file: UTILITARIAN_50000_607561200.tar.gz\n",
      "Loading archives from: UTILITARIAN_50000_607561200.tar.gz\n",
      "Max key: 50029\n",
      "Number of rows in archive: 11\n",
      "Archives loaded for: UTILITARIAN_50000_607561200.tar.gz\n",
      "Filename:  PRIORITARIAN_50000_6075612.tar.gz\n",
      "Filename:  PRIORITARIAN_50000_164465200_hv.csv\n",
      "Filename:  PRIORITARIAN_50000_356912600.tar.gz\n",
      "Filename:  PRIORITARIAN_50000_1644652.tar.gz\n",
      "Filename:  PRIORITARIAN_50000_521475.tar.gz\n",
      "Filename:  UTILITARIAN_50000_52147500.tar.gz\n",
      "Matching file: UTILITARIAN_50000_52147500.tar.gz\n",
      "Loading archives from: UTILITARIAN_50000_52147500.tar.gz\n",
      "Max key: 50029\n",
      "Number of rows in archive: 11\n",
      "Archives loaded for: UTILITARIAN_50000_52147500.tar.gz\n",
      "Filename:  PRIORITARIAN_reference_set.csv\n",
      "Filename:  PRIORITARIAN_50000_3569126.tar.gz\n",
      "Reference set saved to data/temporary/NU_DATA/combined/SSP3//UTILITARIAN_reference_set.csv\n",
      "Loading archives for UTILITARIAN_50000_521475.tar.gz\n",
      "Archives loaded\n",
      "list_of_archives:  (545, 2)\n",
      "reference_set (11, 2)\n",
      "type of reference_set <class 'numpy.ndarray'>\n",
      "nfes: \n",
      " [100, 10107, 1101, 11107, 12107, 13108, 14108, 15108, 16109, 17109, 18109, 19109, 20110, 2102, 21111, 22111, 23111, 24111, 25112, 26112, 27112, 28113, 29114, 30114, 3103, 31115, 32116, 33117, 34117, 35118, 36119, 37120, 38121, 39121, 40122, 4103, 41123, 42124, 43124, 44124, 45125, 46125, 47125, 48126, 49127, 50000, 5104, 6105, 7105, 8105, 9106]\n",
      "Computing hypervolume for  UTILITARIAN_50000_521475.tar.gz\n",
      "Time taken for Hypervolume Calculation: 2.954 seconds\n",
      "data/temporary/NU_DATA/combined/SSP3//UTILITARIAN_50000_521475_hv.csv\n",
      "Loading archives for UTILITARIAN_50000_1644652.tar.gz\n",
      "Archives loaded\n",
      "list_of_archives:  (401, 2)\n",
      "reference_set (11, 2)\n",
      "type of reference_set <class 'numpy.ndarray'>\n",
      "nfes: \n",
      " [100, 10103, 1100, 11104, 12104, 13104, 14104, 15104, 16104, 17104, 18105, 19106, 20107, 2100, 21107, 22107, 23107, 24107, 25108, 26108, 27109, 28110, 29111, 30112, 3100, 31113, 32114, 33114, 34115, 35116, 36117, 37117, 38118, 39119, 40119, 4100, 41120, 42120, 43120, 44121, 45121, 46122, 47123, 48123, 49123, 50001, 5101, 6102, 7103, 8103, 9103]\n",
      "Computing hypervolume for  UTILITARIAN_50000_1644652.tar.gz\n",
      "Time taken for Hypervolume Calculation: 0.006 seconds\n",
      "data/temporary/NU_DATA/combined/SSP3//UTILITARIAN_50000_1644652_hv.csv\n",
      "Loading archives for UTILITARIAN_50000_3569126.tar.gz\n",
      "Archives loaded\n",
      "list_of_archives:  (400, 2)\n",
      "reference_set (11, 2)\n",
      "type of reference_set <class 'numpy.ndarray'>\n",
      "nfes: \n",
      " [100, 10104, 1100, 11105, 12105, 13106, 14106, 15107, 16108, 17108, 18109, 19109, 20110, 2100, 21111, 22112, 23113, 24114, 25115, 26116, 27116, 28117, 29117, 30117, 3100, 31117, 32117, 33118, 34118, 35118, 36118, 37118, 38118, 39118, 40118, 4101, 41119, 42120, 43120, 44121, 45122, 46123, 47124, 48125, 49125, 50000, 5101, 6101, 7102, 8102, 9103]\n",
      "Computing hypervolume for  UTILITARIAN_50000_3569126.tar.gz\n",
      "Time taken for Hypervolume Calculation: 0.006 seconds\n",
      "data/temporary/NU_DATA/combined/SSP3//UTILITARIAN_50000_3569126_hv.csv\n",
      "Loading archives for UTILITARIAN_50000_6075612.tar.gz\n",
      "Archives loaded\n",
      "list_of_archives:  (396, 2)\n",
      "reference_set (11, 2)\n",
      "type of reference_set <class 'numpy.ndarray'>\n",
      "nfes: \n",
      " [100, 10107, 1100, 11107, 12107, 13108, 14109, 15109, 16109, 17109, 18110, 19111, 20112, 2101, 21112, 22113, 23113, 24113, 25113, 26113, 27114, 28115, 29115, 30115, 3101, 31115, 32115, 33116, 34116, 35116, 36117, 37118, 38119, 39120, 40120, 4102, 41120, 42120, 43120, 44120, 45121, 46121, 47121, 48122, 49123, 50001, 5102, 6102, 7107, 8107, 9107]\n",
      "Computing hypervolume for  UTILITARIAN_50000_6075612.tar.gz\n",
      "Time taken for Hypervolume Calculation: 0.006 seconds\n",
      "data/temporary/NU_DATA/combined/SSP3//UTILITARIAN_50000_6075612_hv.csv\n",
      "Loading archives for UTILITARIAN_50000_52147500.tar.gz\n",
      "Archives loaded\n",
      "list_of_archives:  (546, 2)\n",
      "reference_set (11, 2)\n",
      "type of reference_set <class 'numpy.ndarray'>\n",
      "nfes: \n",
      " [100, 10121, 1100, 11133, 12145, 13157, 14169, 15181, 16193, 17205, 18217, 19229, 20241, 2100, 21253, 22265, 23277, 24289, 25301, 26313, 27325, 28337, 29349, 30361, 3100, 31373, 32385, 33397, 34409, 35421, 36433, 37445, 38457, 39469, 40481, 4100, 41493, 42505, 43517, 44529, 45541, 46553, 47565, 48577, 49589, 50029, 5100, 6100, 7100, 8100, 9100]\n",
      "Computing hypervolume for  UTILITARIAN_50000_52147500.tar.gz\n",
      "Time taken for Hypervolume Calculation: 0.005 seconds\n",
      "data/temporary/NU_DATA/combined/SSP3//UTILITARIAN_50000_52147500_hv.csv\n",
      "Loading archives for UTILITARIAN_50000_164465200.tar.gz\n",
      "Archives loaded\n",
      "list_of_archives:  (553, 2)\n",
      "reference_set (11, 2)\n",
      "type of reference_set <class 'numpy.ndarray'>\n",
      "nfes: \n",
      " [100, 10121, 1100, 11133, 12145, 13157, 14169, 15181, 16193, 17205, 18217, 19229, 20241, 2100, 21253, 22265, 23277, 24289, 25301, 26313, 27325, 28337, 29349, 30361, 3100, 31373, 32385, 33397, 34409, 35421, 36433, 37445, 38457, 39469, 40481, 4100, 41493, 42505, 43517, 44529, 45541, 46553, 47565, 48577, 49589, 50029, 5100, 6100, 7100, 8100, 9100]\n",
      "Computing hypervolume for  UTILITARIAN_50000_164465200.tar.gz\n",
      "Time taken for Hypervolume Calculation: 0.006 seconds\n",
      "data/temporary/NU_DATA/combined/SSP3//UTILITARIAN_50000_164465200_hv.csv\n",
      "Loading archives for UTILITARIAN_50000_356912600.tar.gz\n",
      "Archives loaded\n",
      "list_of_archives:  (393, 2)\n",
      "reference_set (11, 2)\n",
      "type of reference_set <class 'numpy.ndarray'>\n",
      "nfes: \n",
      " [100, 10120, 1100, 11144, 12168, 13192, 14216, 15240, 16264, 17288, 18312, 19336, 20360, 2100, 21384, 22408, 23432, 24456, 25480, 26504, 27528, 28552, 29576, 30600, 3100, 31624, 32648, 33672, 34696, 35720, 36744, 37768, 38792, 39816, 40840, 4100, 41864, 42880, 43904, 44928, 45952, 46976, 48000, 49024, 50016, 5100, 6100, 7100, 8100, 9100]\n",
      "Computing hypervolume for  UTILITARIAN_50000_356912600.tar.gz\n",
      "Time taken for Hypervolume Calculation: 0.006 seconds\n",
      "data/temporary/NU_DATA/combined/SSP3//UTILITARIAN_50000_356912600_hv.csv\n",
      "Loading archives for UTILITARIAN_50000_607561200.tar.gz\n",
      "Archives loaded\n",
      "list_of_archives:  (549, 2)\n",
      "reference_set (11, 2)\n",
      "type of reference_set <class 'numpy.ndarray'>\n",
      "nfes: \n",
      " [100, 10121, 1100, 11133, 12145, 13157, 14169, 15181, 16193, 17205, 18217, 19229, 20241, 2100, 21253, 22265, 23277, 24289, 25301, 26313, 27325, 28337, 29349, 30361, 3100, 31373, 32385, 33397, 34409, 35421, 36433, 37445, 38457, 39469, 40481, 4100, 41493, 42505, 43517, 44529, 45541, 46553, 47565, 48577, 49589, 50029, 5100, 6100, 7100, 8100, 9100]\n",
      "Computing hypervolume for  UTILITARIAN_50000_607561200.tar.gz\n",
      "Time taken for Hypervolume Calculation: 0.007 seconds\n",
      "data/temporary/NU_DATA/combined/SSP3//UTILITARIAN_50000_607561200_hv.csv\n"
     ]
    }
   ],
   "source": [
    "# This code creates a reference set from the different seeds\n",
    "\n",
    "from solvers.convergence.hypervolume import get_global_reference_set, calculate_hypervolume_from_archives\n",
    "import multiprocessing\n",
    "# Suppress warnings\n",
    "import warnings\n",
    "warnings.filterwarnings(\"ignore\")\n",
    "\n",
    "list_of_objectives = [\n",
    "    \"welfare\",\n",
    "    \"fraction_above_threshold\",\n",
    "]\n",
    "data_path = path \n",
    "\n",
    "direction_of_optimization = [\"min\", \"min\"] #, \"max\", \"max\"\n",
    "\n",
    "get_global_reference_set(\n",
    "    list_of_objectives=list_of_objectives,\n",
    "    data_path=data_path,\n",
    "    #file_name=None,\n",
    "    swf=[\n",
    "        swf.value[1],\n",
    "    ],\n",
    "    nfe=str(nfe), # Ran for 50k number of function evaluations\n",
    "\n",
    "    # Setting the same epsilon values as optimization process  (see analysis/analyzer.py)\n",
    "    epsilons=[\n",
    "        0.0001,\n",
    "        0.01,\n",
    "    ],\n",
    "    direction_of_optimization=direction_of_optimization,\n",
    "    output_data_path=path,\n",
    "    saving=True,\n",
    ")\n",
    "\n",
    "## This computes the Hypervolume for the reference set\n",
    "\n",
    "filenames = [\n",
    "\n",
    "\n",
    "    # Loading Archives for the different seeds  Borg\n",
    "    f\"{swf.value[1]}_{nfe}_521475.tar.gz\",\n",
    "    f\"{swf.value[1]}_{nfe}_1644652.tar.gz\",\n",
    "    f\"{swf.value[1]}_{nfe}_3569126.tar.gz\",\n",
    "    f\"{swf.value[1]}_{nfe}_6075612.tar.gz\",\n",
    "\n",
    "    #epsNSGA\n",
    "    f\"{swf.value[1]}_{nfe}_52147500.tar.gz\",\n",
    "    f\"{swf.value[1]}_{nfe}_164465200.tar.gz\",\n",
    "    f\"{swf.value[1]}_{nfe}_356912600.tar.gz\",\n",
    "    f\"{swf.value[1]}_{nfe}_607561200.tar.gz\",\n",
    "   \n",
    "\n",
    "\n",
    "]\n",
    "\n",
    "reference_set = f\"{swf.value[1]}_reference_set.csv\"\n",
    "with multiprocessing.Pool() as pool:\n",
    "    # Enumerate through the filenames\n",
    "    for filename in filenames:\n",
    "        scores = calculate_hypervolume_from_archives(\n",
    "            list_of_objectives=list_of_objectives,\n",
    "            direction_of_optimization=direction_of_optimization,\n",
    "            input_data_path=data_path,\n",
    "            file_name=filename,\n",
    "            output_data_path=path,\n",
    "            saving=True,\n",
    "            global_reference_set=True,\n",
    "            global_reference_set_path=path,\n",
    "            global_reference_set_file=reference_set,\n",
    "            pool=pool,\n",
    "          )  # NOTE: Change this according to the PF refset"
   ]
  },
  {
   "cell_type": "code",
   "execution_count": 3,
   "id": "c8a5aaa2",
   "metadata": {},
   "outputs": [
    {
     "data": {
      "application/vnd.plotly.v1+json": {
       "config": {
        "plotlyServerURL": "https://plot.ly"
       },
       "data": [
        {
         "fill": "none",
         "line": {
          "color": "#2E91E5",
          "width": 3
         },
         "mode": "lines",
         "name": "Seed 1 (521475)",
         "type": "scatter",
         "x": {
          "bdata": "ZAAAAE0EAAA2CAAAHwwAAAcQAADwEwAA2RcAAMEbAACpHwAAkiMAAHsnAABjKwAASy8AADQzAAAcNwAABDsAAO0+AADVQgAAvUYAAKVKAACOTgAAd1IAAF9WAABHWgAAL14AABhiAAAAZgAA6GkAANFtAAC6cQAAonUAAIt5AAB0fQAAXYEAAEWFAAAuiQAAF40AAACRAADplAAA0ZgAALqcAACjoAAAjKQAAHSoAABcrAAARbAAAC20AAAVuAAA/rsAAOe/AABQwwAA",
          "dtype": "i4"
         },
         "y": {
          "bdata": "B9zIlmVKzD82P3CUZBrcP8siamcD2t4/zbDU8a8Q4D8A8OCusLXgPwDbi6Bzv+A/M/iFTGD/4D9nupuaGA3hP2ftbAPSD+E/NQ/Yl/yu4T8BNhYmi7jhPwHGI7h80+E/AXAoRb0E4j8CDpbVk0TiPwHtzf+PrOI/zgN5GJ3C4j8CWi64ZtziP84bDwLE6uI/zmhHJFD64j/O6Mk3kgjjP2dghP/gEeM/mthZEbYY4z/OMCZ51SDjP5tLP04fK+M/ZwMPBwE24z+awWn/wjvjP2ZB5JAHQuM/mvilBZxO4z806vPg51PjPzTV6f6UZeM/Z1zxHIp54z+aa+WIn4jjP5rVBKDRjOM/Aow7mcSX4z802nSgf5rjP85L0D3DqeM/mtS43A3B4z9n5ZkO5N7jP2foLN/+/eM/AZHLJsID5D/OSXw7RRXkPzX7MCK8GuQ/m+UrX/Ef5D+bmlA2YSjkP2jmYAHVKuQ/AnkDYFUs5D9nD270xy3kP2iyTWL0OeQ/AglrM3g+5D9oxmpuIEDkPwIDJCW+RuQ/",
          "dtype": "f8"
         }
        },
        {
         "fill": "none",
         "line": {
          "color": "#E15F99",
          "width": 3
         },
         "mode": "lines",
         "name": "Seed 2 (1644652)",
         "type": "scatter",
         "x": {
          "bdata": "ZAAAAEwEAAA0CAAAHAwAAAQQAADtEwAA1hcAAL8bAACnHwAAjyMAAHcnAABgKwAASC8AADAzAAAYNwAAADsAAOg+AADQQgAAuUYAAKJKAACLTgAAc1IAAFtWAABDWgAAK14AABRiAAD8ZQAA5WkAAM5tAAC3cQAAoHUAAIl5AAByfQAAWoEAAEOFAAAsiQAAFY0AAP2QAADmlAAAz5gAALecAACgoAAAiKQAAHCoAABZrAAAQbAAACq0AAATuAAA+7sAAOO/AABRwwAA",
          "dtype": "i4"
         },
         "y": {
          "bdata": "AAAAAAAAAAAyMbBgncTcPwFSkFY+9d4/AlTuNz+l3z804sSJ9C/gP2dhCdrHaeA/zWe8Ktt94D9nhtUnV6DgPzTV3U6Ew+A/NKy7eQDW4D8BStUo69/gPwBlW/n28OA/mvdprQP14D80sVHjwQDhP83+wbrMDuE/NOCh6Dgt4T+aOGnaQTvhP2cmR9OFQuE/ANsdOH5I4T9mfCJxekrhP5rJX8kWTeE/ml5QWXVN4T+arzTCGU/hPwBzyG72UeE/moFDAgFg4T/NOCN3BmfhPzT6UCWeaeE/ACw3Lzlr4T/NQPGqEXPhP5qAwlj4d+E/Z3cOlyR94T8z+uVebX7hPwAGfyzifuE/zRJwOVuH4T/NesHP643hP2bCvVyskOE/mq2pGC6U4T/NoxLuV5XhPzO+5GtZluE/M79Il/CZ4T8zS1GzHZ3hP82+v4YJouE/Z8wOnoai4T8A8zOqd6ThPzSwW/R/puE/zaf7zn+n4T9mUpLg+6/hP82JmKM6suE/ZlWhowW04T8z3Co74bbhP5ovAulouuE/",
          "dtype": "f8"
         }
        },
        {
         "fill": "none",
         "line": {
          "color": "#1CA71C",
          "width": 3
         },
         "mode": "lines",
         "name": "Seed 3 (3569126)",
         "type": "scatter",
         "x": {
          "bdata": "ZAAAAEwEAAA0CAAAHAwAAAUQAADtEwAA1RcAAL4bAACmHwAAjyMAAHgnAABhKwAASS8AADIzAAAaNwAAAzsAAOw+AADUQgAAvUYAAKVKAACOTgAAd1IAAGBWAABJWgAAMl4AABtiAAAEZgAA7GkAANVtAAC9cQAApXUAAI15AAB1fQAAXoEAAEaFAAAuiQAAFo0AAP6QAADmlAAAzpgAALacAACfoAAAiKQAAHCoAABZrAAAQrAAACu0AAAUuAAA/bsAAOW/AABQwwAA",
          "dtype": "i4"
         },
         "y": {
          "bdata": "AAAAAAAAAAAwwUuzn87ZPwBEGQgGt90/AMgLtJBd3j8AvKmAQwbfPzV7hzR0NN8/NCMGG+ZJ3z/OBOyKhHTfP2fcgfVdi98/zoAN4Mu73z+agfn+/8nfPzRhztc15t8/zcyV05Tt3z9n6avZ3gDgPwGsQJGxBeA/NJyoy28a4D9nTgImLzDgP2gD2fOvOOA/NPSxU/E94D+anGR4iVfgP5pPgUxVXeA/zsGBtehs4D8BPh2wZ5PgPzT8Nd//m+A/ZyfPsY2s4D80riZskrbgP2eZ+gUxueA/mrnGKkK84D8BoPmCFcPgP81NBJGsyOA/M3tHKw/J4D/NJgIvRsvgP80X8K4o4uA/mvXhfePs4D8BPrC3RfrgP2eX4gXu/OA/ARDWfp8D4T+a+c6W2gjhP2eUfU00DeE/NDOdgwVR4T80osuI9V/hP83OTnmjdOE/aLeC5Xh74T8A/tiHOX3hP81zGqwpf+E/m1d6SqOA4T/Ny+cQo4XhP5rZibo9ieE/AYOqxzyK4T808HCRhI/hP5qSCMFnkOE/",
          "dtype": "f8"
         }
        },
        {
         "fill": "none",
         "line": {
          "color": "#FB0D0D",
          "width": 3
         },
         "mode": "lines",
         "name": "Seed 4 (6075612)",
         "type": "scatter",
         "x": {
          "bdata": "ZAAAAEwEAAA1CAAAHQwAAAYQAADuEwAA1hcAAMMbAACrHwAAkyMAAHsnAABjKwAASy8AADQzAAAdNwAABTsAAO0+AADVQgAAvkYAAKdKAACQTgAAeFIAAGFWAABJWgAAMV4AABliAAABZgAA6mkAANNtAAC7cQAAo3UAAIt5AABzfQAAXIEAAESFAAAsiQAAFY0AAP6QAADnlAAA0JgAALicAACgoAAAiKQAAHCoAABYrAAAQbAAACm0AAARuAAA+rsAAOO/AABRwwAA",
          "dtype": "i4"
         },
         "y": {
          "bdata": "AAAAAAAAAACWe54U8N3ZP5eNz8+ZbNo/MWNFbcm/2j+Wc/vuPOHaPwGQkcVbUN0/AuT0hkKV3T+aKZD3GO/dP86K9KHNFd4/ARYEE95G3j/OPGGEFqPePzaVw4/l/d4/Nj1cGi9x3z8BshbW+MPfPwMmE3Te498/m77g+ywH4D8CAnGvLwzgP5t7debdEeA/ASMSt0UZ4D80tydHLCDgP2jdccElJuA/zi8YcMgo4D+bPgM9TSngPzRZuNBhMOA/Nbx/xKA04D/OgqgTqzrgPzVHWTP3POA/aOsO6mE+4D9oHoOhkEPgPzQDKiDAS+A/aAXQ8OFP4D81BStO3VzgPzRbvb8dp+A/NO7gCmfr4D/Nu0YAnh7hPzQ6HDxJI+E/zda9Xi0u4T8A0OKWUDThPzSHZI9NQOE/NEn991Na4T+bpUEXE3DhP83BOWD9guE/AcTJ31OE4T8B+tHcd4fhP86I/pkli+E/Zg1ofjyO4T80tkJvD6DhPwDUHktyoeE/mXIQHcSj4T8z4/6r1KbhP5ovqLKKquE/",
          "dtype": "f8"
         }
        },
        {
         "fill": "none",
         "line": {
          "color": "#DA16FF",
          "width": 3
         },
         "mode": "lines",
         "name": "Seed 5 (52147500)",
         "type": "scatter",
         "x": {
          "bdata": "ZAAAAEwEAAA0CAAAHAwAAAQQAADsEwAA1BcAALwbAACkHwAAjCMAAIknAAB9KwAAcS8AAGUzAABZNwAATTsAAEE/AAA1QwAAKUcAAB1LAAARTwAABVMAAPlWAADtWgAA4V4AANViAADJZgAAvWoAALFuAAClcgAAmXYAAI16AACBfgAAdYIAAGmGAABdigAAUY4AAEWSAAA5lgAALZoAACGeAAAVogAACaYAAP2pAADxrQAA5bEAANm1AADNuQAAwb0AALXBAABtwwAA",
          "dtype": "i4"
         },
         "y": {
          "bdata": "AAAAAAAAAAD+oc16tDDZP2lm9ayQzNw/NbF1AAU73T+ckUnTL9DdPwMOIh9sLd4/AoqSw5mC3j81oe5R0ybfPzbxWaK7xt8/ND/z+YAM4D/Oq3pLOifgP2euFAnqOeA/m8skIhtR4D8BzQ8XmWDgP5sCADkYiuA/NQ5Kk7eY4D9oD04Jc53gPzXIlInGreA/m2hSi7y/4D9ofBSlkMjgP87PjS+e1eA/mzSrKZve4D+b676kUOTgP86/RW+h7eA/m0mqQEjy4D81Vhf/mffgPwLbmRcL+eA/aCFMHKb74D812R2f4QHhP8/+XJ0BCOE/Ab4tEkQR4T9nyBsJdhjhPwFxX/AMGeE/ND5TrAAg4T81G8mw+iLhP8+XSpufJOE/zkYadM4q4T9ozJ0NEi7hP5tinfeKMOE/zrnFx0cy4T8BsEqToTLhP8403cUBOOE/m4V2FCM64T/OnN5Xdz7hPwE6Utn6QeE/aDWklHVD4T/OSzMHY0ThP5v2+k36ReE/NcjK5qxH4T9o9ahesknhP2jJh/aySeE/",
          "dtype": "f8"
         }
        },
        {
         "fill": "none",
         "line": {
          "color": "#222A2A",
          "width": 3
         },
         "mode": "lines",
         "name": "Seed 6 (164465200)",
         "type": "scatter",
         "x": {
          "bdata": "ZAAAAEwEAAA0CAAAHAwAAAQQAADsEwAA1BcAALwbAACkHwAAjCMAAIknAAB9KwAAcS8AAGUzAABZNwAATTsAAEE/AAA1QwAAKUcAAB1LAAARTwAABVMAAPlWAADtWgAA4V4AANViAADJZgAAvWoAALFuAAClcgAAmXYAAI16AACBfgAAdYIAAGmGAABdigAAUY4AAEWSAAA5lgAALZoAACGeAAAVogAACaYAAP2pAADxrQAA5bEAANm1AADNuQAAwb0AALXBAABtwwAA",
          "dtype": "i4"
         },
         "y": {
          "bdata": "/YuB7K4n0D8A7L45B1fcP2jqF8MQkd0/zSzs7IlO3j+c3SBrEHnfP2iqnANzyt8/m29zjpsJ4D8B98B8XiPgP8644j3jN+A/aLU9BApN4D+bPKTpg1PgPzWK1VUzieA/NdXnkEqh4D+b1/Dx6q/gPwGb4+1rwOA/zxnxJ1vL4D+bH4GRss/gPzVxhmgP+OA/Nb5XTdsd4T+b7rtcwjXhPwKKO6NJRuE/ztAmCFBJ4T9oMs3hvEzhP5ws5LRxUuE/z8U3OmRY4T/OvfGV/VzhPwIvpkfRYeE/m8FIWvJj4T8144JDkGbhPwHiVL/HauE/NcBvoQV34T/PGV7irHnhP2jQTFpQiuE/z6BMo7ai4T8C4lkhka/hPwLEjjEdteE/aMvVCFq+4T+cyRn8hMLhPwKd/7HexOE/z4md5CTN4T/OWDs0jc/hP5uTaU4H1uE/z7vmaX3a4T81CnGp7PThP88KemFiA+I/AgkGkYYM4j80+WEG4RHiP2jM75NKFOI/znkZKmgZ4z/PTCZNh5LjP5xoDzNnn+M/",
          "dtype": "f8"
         }
        },
        {
         "fill": "none",
         "line": {
          "color": "#B68100",
          "width": 3
         },
         "mode": "lines",
         "name": "Seed 7 (356912600)",
         "type": "scatter",
         "x": {
          "bdata": "ZAAAAEwEAAA0CAAAHAwAAAQQAADsEwAA1BcAALwbAACkHwAAjCMAAIgnAACIKwAAiC8AAIgzAACINwAAiDsAAIg/AACIQwAAiEcAAIhLAACITwAAiFMAAIhXAACIWwAAiF8AAIhjAACIZwAAiGsAAIhvAACIcwAAiHcAAIh7AACIfwAAiIMAAIiHAACIiwAAiI8AAIiTAACIlwAAiJsAAIifAACIowAAgKcAAICrAACArwAAgLMAAIC3AACAuwAAgL8AAGDDAAA=",
          "dtype": "i4"
         },
         "y": {
          "bdata": "AAAAAAAAAABoXF8vRcHaPwEAKo4qSd4/ASrqV+Eo3z9nroqS2X7fP5tDUXbx1d8/ASTNiNIb4D80sKDwamHgPwGpZHwAfuA/NLvLJ7eQ4D+bMtxjAaPgP84w1glTteA/aP81wwzE4D8BGhOI+9jgP2jszVJ93eA/zq01c/Tk4D+aUjlcUOzgP5ofWITV+eA/zlITgRX94D80fv2tvAHhP87judMEBOE/zttosL4N4T/OxHes6xXhPzSUiAOuF+E/zmhSuS8d4T8BjJxfSSDhPwGqOa3rJOE/ZyAG+BAn4T+b6ItkSyjhP85d8gLDK+E/m00LVcUt4T8CXKN3jDDhP84T4lmbM+E/NIM6Ank14T80vGJ0yjbhP2c0GRQ2OOE/aC9xyZA74T9ntsduAT3hPzRJU8YwQOE/NFXn8DFH4T9nVa0rnUnhP5uOS3WmSuE/AgE9nVFM4T80PbAgu03hPzUBw/oBUuE/aP3nwXhU4T/OllnxnlbhPwHLlmd9V+E/NQtb5GxY4T9oB3ER6lnhPw==",
          "dtype": "f8"
         }
        },
        {
         "fill": "none",
         "line": {
          "color": "#750D86",
          "width": 3
         },
         "mode": "lines",
         "name": "Seed 8 (607561200)",
         "type": "scatter",
         "x": {
          "bdata": "ZAAAAEwEAAA0CAAAHAwAAAQQAADsEwAA1BcAALwbAACkHwAAjCMAAIknAAB9KwAAcS8AAGUzAABZNwAATTsAAEE/AAA1QwAAKUcAAB1LAAARTwAABVMAAPlWAADtWgAA4V4AANViAADJZgAAvWoAALFuAAClcgAAmXYAAI16AACBfgAAdYIAAGmGAABdigAAUY4AAEWSAAA5lgAALZoAACGeAAAVogAACaYAAP2pAADxrQAA5bEAANm1AADNuQAAwb0AALXBAABtwwAA",
          "dtype": "i4"
         },
         "y": {
          "bdata": "ht4+/o9YtT/NPqSmoazcPzRVATon894/NKGprS8v4D811FyLNPbgPzW+I7QVUeI/aKLKtP8M4z8BhiHlulfjPwJM02YCfOM/Av3yOPGm4z8CJIID07fjP5tO5ozqz+M/NLLHhCnm4z81wsTnoPXjP2jEzA1wAeQ/Aj7Xz9kQ5D9oDxDa7hHkP8/JB58dHuQ/NfB7vfIi5D+cibdUtSjkP5u/9ODEKuQ/aPu3s5Mu5D+cDmGpTDDkPzVcLr/wMeQ/AifVgDA05D81GfxQcDXkP8+FfrU1OOQ/NXsc3D875D/PhIVZhDvkP885LKbFPeQ/aEoOX/8/5D9p1Czqt0TkP2hamGONReQ/nEsq5PVG5D9oS77J5knkP85Hyu+uSuQ/Amvz49JL5D8BTtTJCk3kP5sCwATxTeQ/m656CnpO5D9pAk2xOE/kP2jGUmWgT+Q/AhdpJ3lQ5D8CTFhJIlLkP86s/W7MU+Q/AuEoBaVV5D/ONFGsM1bkPwLSnq2xVuQ/m06Z0wRX5D+cmlo1XF7kPzWeZQ0xYeQ/",
          "dtype": "f8"
         }
        }
       ],
       "layout": {
        "font": {
         "size": 20
        },
        "height": 800,
        "template": {
         "data": {
          "bar": [
           {
            "error_x": {
             "color": "#2a3f5f"
            },
            "error_y": {
             "color": "#2a3f5f"
            },
            "marker": {
             "line": {
              "color": "white",
              "width": 0.5
             },
             "pattern": {
              "fillmode": "overlay",
              "size": 10,
              "solidity": 0.2
             }
            },
            "type": "bar"
           }
          ],
          "barpolar": [
           {
            "marker": {
             "line": {
              "color": "white",
              "width": 0.5
             },
             "pattern": {
              "fillmode": "overlay",
              "size": 10,
              "solidity": 0.2
             }
            },
            "type": "barpolar"
           }
          ],
          "carpet": [
           {
            "aaxis": {
             "endlinecolor": "#2a3f5f",
             "gridcolor": "#C8D4E3",
             "linecolor": "#C8D4E3",
             "minorgridcolor": "#C8D4E3",
             "startlinecolor": "#2a3f5f"
            },
            "baxis": {
             "endlinecolor": "#2a3f5f",
             "gridcolor": "#C8D4E3",
             "linecolor": "#C8D4E3",
             "minorgridcolor": "#C8D4E3",
             "startlinecolor": "#2a3f5f"
            },
            "type": "carpet"
           }
          ],
          "choropleth": [
           {
            "colorbar": {
             "outlinewidth": 0,
             "ticks": ""
            },
            "type": "choropleth"
           }
          ],
          "contour": [
           {
            "colorbar": {
             "outlinewidth": 0,
             "ticks": ""
            },
            "colorscale": [
             [
              0,
              "#0d0887"
             ],
             [
              0.1111111111111111,
              "#46039f"
             ],
             [
              0.2222222222222222,
              "#7201a8"
             ],
             [
              0.3333333333333333,
              "#9c179e"
             ],
             [
              0.4444444444444444,
              "#bd3786"
             ],
             [
              0.5555555555555556,
              "#d8576b"
             ],
             [
              0.6666666666666666,
              "#ed7953"
             ],
             [
              0.7777777777777778,
              "#fb9f3a"
             ],
             [
              0.8888888888888888,
              "#fdca26"
             ],
             [
              1,
              "#f0f921"
             ]
            ],
            "type": "contour"
           }
          ],
          "contourcarpet": [
           {
            "colorbar": {
             "outlinewidth": 0,
             "ticks": ""
            },
            "type": "contourcarpet"
           }
          ],
          "heatmap": [
           {
            "colorbar": {
             "outlinewidth": 0,
             "ticks": ""
            },
            "colorscale": [
             [
              0,
              "#0d0887"
             ],
             [
              0.1111111111111111,
              "#46039f"
             ],
             [
              0.2222222222222222,
              "#7201a8"
             ],
             [
              0.3333333333333333,
              "#9c179e"
             ],
             [
              0.4444444444444444,
              "#bd3786"
             ],
             [
              0.5555555555555556,
              "#d8576b"
             ],
             [
              0.6666666666666666,
              "#ed7953"
             ],
             [
              0.7777777777777778,
              "#fb9f3a"
             ],
             [
              0.8888888888888888,
              "#fdca26"
             ],
             [
              1,
              "#f0f921"
             ]
            ],
            "type": "heatmap"
           }
          ],
          "histogram": [
           {
            "marker": {
             "pattern": {
              "fillmode": "overlay",
              "size": 10,
              "solidity": 0.2
             }
            },
            "type": "histogram"
           }
          ],
          "histogram2d": [
           {
            "colorbar": {
             "outlinewidth": 0,
             "ticks": ""
            },
            "colorscale": [
             [
              0,
              "#0d0887"
             ],
             [
              0.1111111111111111,
              "#46039f"
             ],
             [
              0.2222222222222222,
              "#7201a8"
             ],
             [
              0.3333333333333333,
              "#9c179e"
             ],
             [
              0.4444444444444444,
              "#bd3786"
             ],
             [
              0.5555555555555556,
              "#d8576b"
             ],
             [
              0.6666666666666666,
              "#ed7953"
             ],
             [
              0.7777777777777778,
              "#fb9f3a"
             ],
             [
              0.8888888888888888,
              "#fdca26"
             ],
             [
              1,
              "#f0f921"
             ]
            ],
            "type": "histogram2d"
           }
          ],
          "histogram2dcontour": [
           {
            "colorbar": {
             "outlinewidth": 0,
             "ticks": ""
            },
            "colorscale": [
             [
              0,
              "#0d0887"
             ],
             [
              0.1111111111111111,
              "#46039f"
             ],
             [
              0.2222222222222222,
              "#7201a8"
             ],
             [
              0.3333333333333333,
              "#9c179e"
             ],
             [
              0.4444444444444444,
              "#bd3786"
             ],
             [
              0.5555555555555556,
              "#d8576b"
             ],
             [
              0.6666666666666666,
              "#ed7953"
             ],
             [
              0.7777777777777778,
              "#fb9f3a"
             ],
             [
              0.8888888888888888,
              "#fdca26"
             ],
             [
              1,
              "#f0f921"
             ]
            ],
            "type": "histogram2dcontour"
           }
          ],
          "mesh3d": [
           {
            "colorbar": {
             "outlinewidth": 0,
             "ticks": ""
            },
            "type": "mesh3d"
           }
          ],
          "parcoords": [
           {
            "line": {
             "colorbar": {
              "outlinewidth": 0,
              "ticks": ""
             }
            },
            "type": "parcoords"
           }
          ],
          "pie": [
           {
            "automargin": true,
            "type": "pie"
           }
          ],
          "scatter": [
           {
            "fillpattern": {
             "fillmode": "overlay",
             "size": 10,
             "solidity": 0.2
            },
            "type": "scatter"
           }
          ],
          "scatter3d": [
           {
            "line": {
             "colorbar": {
              "outlinewidth": 0,
              "ticks": ""
             }
            },
            "marker": {
             "colorbar": {
              "outlinewidth": 0,
              "ticks": ""
             }
            },
            "type": "scatter3d"
           }
          ],
          "scattercarpet": [
           {
            "marker": {
             "colorbar": {
              "outlinewidth": 0,
              "ticks": ""
             }
            },
            "type": "scattercarpet"
           }
          ],
          "scattergeo": [
           {
            "marker": {
             "colorbar": {
              "outlinewidth": 0,
              "ticks": ""
             }
            },
            "type": "scattergeo"
           }
          ],
          "scattergl": [
           {
            "marker": {
             "colorbar": {
              "outlinewidth": 0,
              "ticks": ""
             }
            },
            "type": "scattergl"
           }
          ],
          "scattermap": [
           {
            "marker": {
             "colorbar": {
              "outlinewidth": 0,
              "ticks": ""
             }
            },
            "type": "scattermap"
           }
          ],
          "scattermapbox": [
           {
            "marker": {
             "colorbar": {
              "outlinewidth": 0,
              "ticks": ""
             }
            },
            "type": "scattermapbox"
           }
          ],
          "scatterpolar": [
           {
            "marker": {
             "colorbar": {
              "outlinewidth": 0,
              "ticks": ""
             }
            },
            "type": "scatterpolar"
           }
          ],
          "scatterpolargl": [
           {
            "marker": {
             "colorbar": {
              "outlinewidth": 0,
              "ticks": ""
             }
            },
            "type": "scatterpolargl"
           }
          ],
          "scatterternary": [
           {
            "marker": {
             "colorbar": {
              "outlinewidth": 0,
              "ticks": ""
             }
            },
            "type": "scatterternary"
           }
          ],
          "surface": [
           {
            "colorbar": {
             "outlinewidth": 0,
             "ticks": ""
            },
            "colorscale": [
             [
              0,
              "#0d0887"
             ],
             [
              0.1111111111111111,
              "#46039f"
             ],
             [
              0.2222222222222222,
              "#7201a8"
             ],
             [
              0.3333333333333333,
              "#9c179e"
             ],
             [
              0.4444444444444444,
              "#bd3786"
             ],
             [
              0.5555555555555556,
              "#d8576b"
             ],
             [
              0.6666666666666666,
              "#ed7953"
             ],
             [
              0.7777777777777778,
              "#fb9f3a"
             ],
             [
              0.8888888888888888,
              "#fdca26"
             ],
             [
              1,
              "#f0f921"
             ]
            ],
            "type": "surface"
           }
          ],
          "table": [
           {
            "cells": {
             "fill": {
              "color": "#EBF0F8"
             },
             "line": {
              "color": "white"
             }
            },
            "header": {
             "fill": {
              "color": "#C8D4E3"
             },
             "line": {
              "color": "white"
             }
            },
            "type": "table"
           }
          ]
         },
         "layout": {
          "annotationdefaults": {
           "arrowcolor": "#2a3f5f",
           "arrowhead": 0,
           "arrowwidth": 1
          },
          "autotypenumbers": "strict",
          "coloraxis": {
           "colorbar": {
            "outlinewidth": 0,
            "ticks": ""
           }
          },
          "colorscale": {
           "diverging": [
            [
             0,
             "#8e0152"
            ],
            [
             0.1,
             "#c51b7d"
            ],
            [
             0.2,
             "#de77ae"
            ],
            [
             0.3,
             "#f1b6da"
            ],
            [
             0.4,
             "#fde0ef"
            ],
            [
             0.5,
             "#f7f7f7"
            ],
            [
             0.6,
             "#e6f5d0"
            ],
            [
             0.7,
             "#b8e186"
            ],
            [
             0.8,
             "#7fbc41"
            ],
            [
             0.9,
             "#4d9221"
            ],
            [
             1,
             "#276419"
            ]
           ],
           "sequential": [
            [
             0,
             "#0d0887"
            ],
            [
             0.1111111111111111,
             "#46039f"
            ],
            [
             0.2222222222222222,
             "#7201a8"
            ],
            [
             0.3333333333333333,
             "#9c179e"
            ],
            [
             0.4444444444444444,
             "#bd3786"
            ],
            [
             0.5555555555555556,
             "#d8576b"
            ],
            [
             0.6666666666666666,
             "#ed7953"
            ],
            [
             0.7777777777777778,
             "#fb9f3a"
            ],
            [
             0.8888888888888888,
             "#fdca26"
            ],
            [
             1,
             "#f0f921"
            ]
           ],
           "sequentialminus": [
            [
             0,
             "#0d0887"
            ],
            [
             0.1111111111111111,
             "#46039f"
            ],
            [
             0.2222222222222222,
             "#7201a8"
            ],
            [
             0.3333333333333333,
             "#9c179e"
            ],
            [
             0.4444444444444444,
             "#bd3786"
            ],
            [
             0.5555555555555556,
             "#d8576b"
            ],
            [
             0.6666666666666666,
             "#ed7953"
            ],
            [
             0.7777777777777778,
             "#fb9f3a"
            ],
            [
             0.8888888888888888,
             "#fdca26"
            ],
            [
             1,
             "#f0f921"
            ]
           ]
          },
          "colorway": [
           "#636efa",
           "#EF553B",
           "#00cc96",
           "#ab63fa",
           "#FFA15A",
           "#19d3f3",
           "#FF6692",
           "#B6E880",
           "#FF97FF",
           "#FECB52"
          ],
          "font": {
           "color": "#2a3f5f"
          },
          "geo": {
           "bgcolor": "white",
           "lakecolor": "white",
           "landcolor": "white",
           "showlakes": true,
           "showland": true,
           "subunitcolor": "#C8D4E3"
          },
          "hoverlabel": {
           "align": "left"
          },
          "hovermode": "closest",
          "mapbox": {
           "style": "light"
          },
          "paper_bgcolor": "white",
          "plot_bgcolor": "white",
          "polar": {
           "angularaxis": {
            "gridcolor": "#EBF0F8",
            "linecolor": "#EBF0F8",
            "ticks": ""
           },
           "bgcolor": "white",
           "radialaxis": {
            "gridcolor": "#EBF0F8",
            "linecolor": "#EBF0F8",
            "ticks": ""
           }
          },
          "scene": {
           "xaxis": {
            "backgroundcolor": "white",
            "gridcolor": "#DFE8F3",
            "gridwidth": 2,
            "linecolor": "#EBF0F8",
            "showbackground": true,
            "ticks": "",
            "zerolinecolor": "#EBF0F8"
           },
           "yaxis": {
            "backgroundcolor": "white",
            "gridcolor": "#DFE8F3",
            "gridwidth": 2,
            "linecolor": "#EBF0F8",
            "showbackground": true,
            "ticks": "",
            "zerolinecolor": "#EBF0F8"
           },
           "zaxis": {
            "backgroundcolor": "white",
            "gridcolor": "#DFE8F3",
            "gridwidth": 2,
            "linecolor": "#EBF0F8",
            "showbackground": true,
            "ticks": "",
            "zerolinecolor": "#EBF0F8"
           }
          },
          "shapedefaults": {
           "line": {
            "color": "#2a3f5f"
           }
          },
          "ternary": {
           "aaxis": {
            "gridcolor": "#DFE8F3",
            "linecolor": "#A2B1C6",
            "ticks": ""
           },
           "baxis": {
            "gridcolor": "#DFE8F3",
            "linecolor": "#A2B1C6",
            "ticks": ""
           },
           "bgcolor": "white",
           "caxis": {
            "gridcolor": "#DFE8F3",
            "linecolor": "#A2B1C6",
            "ticks": ""
           }
          },
          "title": {
           "x": 0.05
          },
          "xaxis": {
           "automargin": true,
           "gridcolor": "#EBF0F8",
           "linecolor": "#EBF0F8",
           "ticks": "",
           "title": {
            "standoff": 15
           },
           "zerolinecolor": "#EBF0F8",
           "zerolinewidth": 2
          },
          "yaxis": {
           "automargin": true,
           "gridcolor": "#EBF0F8",
           "linecolor": "#EBF0F8",
           "ticks": "",
           "title": {
            "standoff": 15
           },
           "zerolinecolor": "#EBF0F8",
           "zerolinewidth": 2
          }
         }
        },
        "title": {
         "text": "Utilitarian",
         "x": 0.5
        },
        "width": 1000,
        "xaxis": {
         "linecolor": "black",
         "linewidth": 2,
         "showgrid": false,
         "showline": true,
         "tickfont": {
          "size": 20
         },
         "ticks": "outside",
         "title": {
          "text": "Number of Function Evaluations"
         }
        },
        "yaxis": {
         "linecolor": "black",
         "linewidth": 2,
         "range": [
          0,
          0.7
         ],
         "showgrid": false,
         "showline": true,
         "tickfont": {
          "size": 20
         },
         "ticks": "outside",
         "tickvals": {
          "bdata": "mpmZmZmZuT+amZmZmZnJPzQzMzMzM9M/mpmZmZmZ2T8AAAAAAADgPzQzMzMzM+M/",
          "dtype": "f8"
         },
         "title": {
          "text": "Hypervolume"
         }
        }
       }
      }
     },
     "metadata": {},
     "output_type": "display_data"
    }
   ],
   "source": [
    "from justice.util.visualizer import plot_hypervolume\n",
    "\n",
    "\n",
    "input_data_path_list = {\n",
    "    \n",
    "   swf.value[1]: [\n",
    "        f\"{swf.value[1]}_{nfe}_521475_hv.csv\",\n",
    "        f\"{swf.value[1]}_{nfe}_1644652_hv.csv\",\n",
    "        f\"{swf.value[1]}_{nfe}_3569126_hv.csv\",\n",
    "        f\"{swf.value[1]}_{nfe}_6075612_hv.csv\",\n",
    "\n",
    "        f\"{swf.value[1]}_{nfe}_52147500_hv.csv\",\n",
    "        f\"{swf.value[1]}_{nfe}_164465200_hv.csv\",\n",
    "        f\"{swf.value[1]}_{nfe}_356912600_hv.csv\",\n",
    "        f\"{swf.value[1]}_{nfe}_607561200_hv.csv\",\n",
    "    ],\n",
    "}\n",
    "\n",
    "\n",
    "fig = plot_hypervolume(\n",
    "    path_to_data=path,\n",
    "    path_to_output=path,\n",
    "    input_data=input_data_path_list,\n",
    "    yaxis_upper_limit=0.7,\n",
    "    width=1000,\n",
    "    height=800,\n",
    "    fontsize=20,\n",
    "    saving=True,\n",
    ")\n",
    "\n",
    "fig.show()"
   ]
  },
  {
   "cell_type": "code",
   "execution_count": null,
   "id": "156cd5f3",
   "metadata": {},
   "outputs": [
    {
     "name": "stdout",
     "output_type": "stream",
     "text": [
      "Reading data/temporary/NU_DATA/ensgaii/SSP3/UTILITARIAN_reference_set.csv\n",
      "Index of interest for UTILITARIAN: 0\n",
      "[np.int64(0)]\n",
      "index for policy:  0\n",
      "3 SSP370\n",
      "Welfare:  111.45053698679108\n",
      "Keys of the scenario data:  dict_keys(['SSP370'])\n",
      "File saved as UTILITARIAN_reference_set_idx0 at location data/temporary/NU_DATA/ensgaii/SSP3/\n"
     ]
    },
    {
     "data": {
      "text/plain": [
       "{'status': 'ok', 'restart': True}"
      ]
     },
     "execution_count": 4,
     "metadata": {},
     "output_type": "execute_result"
    },
    {
     "ename": "",
     "evalue": "",
     "output_type": "error",
     "traceback": [
      "\u001b[1;31mThe Kernel crashed while executing code in the current cell or a previous cell. \n",
      "\u001b[1;31mPlease review the code in the cell(s) to identify a possible cause of the failure. \n",
      "\u001b[1;31mClick <a href='https://aka.ms/vscodeJupyterKernelCrash'>here</a> for more info. \n",
      "\u001b[1;31mView Jupyter <a href='command:jupyter.viewOutput'>log</a> for further details."
     ]
    }
   ],
   "source": [
    "\n",
    "# NOTE: Restart the Kernel after each run. Jupyter has some issues running this which corrupts the data file\n",
    "\n",
    "import IPython\n",
    "import pandas as pd\n",
    "from justice.util.output_data_processor import reevaluate_optimal_policy, get_selected_policy_indices_based_on_welfare_temperature, reevaluated_optimal_policy_variable_extractor\n",
    "from justice.util.model_time import TimeHorizon\n",
    "from justice.util.data_loader import DataLoader\n",
    "\n",
    "selected_indices = get_selected_policy_indices_based_on_welfare_temperature(\n",
    "    \n",
    "    # Change This and the one below\n",
    "    rival_framings=[\n",
    "        swf.value[1]\n",
    "    ],\n",
    "    data_dir=path,\n",
    "    n_percent=0.1, # 10% of the data\n",
    "    second_objective_of_interest=\"fraction_above_threshold\",  # This is the second objective of interest\n",
    ")\n",
    "print(selected_indices)\n",
    "# ############################################################################################################\n",
    "scenario_list = [\"SSP370\"] # SSP370 SSP245\n",
    "start_year = 2015\n",
    "end_year = 2300\n",
    "data_timestep = 5\n",
    "timestep = 1\n",
    "\n",
    "data_loader = DataLoader()\n",
    "region_list = data_loader.REGION_LIST\n",
    "\n",
    "# Set the time horizon\n",
    "time_horizon = TimeHorizon(\n",
    "    start_year=start_year,\n",
    "    end_year=end_year,\n",
    "    data_timestep=data_timestep,\n",
    "    timestep=timestep,\n",
    ")\n",
    "\n",
    "list_of_years = time_horizon.model_time_horizon\n",
    "\n",
    "# NOTE: The following code generates large dataframes and saved them in the data/temporary folder. Size is ~ 1.5 GB each run\n",
    "reevaluate_optimal_policy(\n",
    "    \n",
    "    # Change this\n",
    "    input_data=[\n",
    "\n",
    "        f\"{swf.value[1]}_reference_set.csv\",\n",
    "\n",
    "    ],\n",
    "    path_to_rbf_weights=path,  #  reevaluation\n",
    "    path_to_output=path,\n",
    "    direction_of_optimization=[\n",
    "        \"min\",\n",
    "        \"min\",\n",
    "\n",
    "    ],\n",
    "    rbf_policy_index= selected_indices[0], # This chooses policy for a particular rival framing. NOTE: Can also set to the index directly\n",
    "    list_of_objectives=[\n",
    "        \"welfare\",\n",
    "        \"fraction_above_threshold\",\n",
    "\n",
    "    ],\n",
    "    scenario_list=scenario_list,  \n",
    ")\n",
    "\n",
    "\n",
    "\n",
    "# Restarting the Kernel\n",
    "IPython.Application.instance().kernel.do_shutdown(True) #automatically restarts kernel\n",
    "\n"
   ]
  },
  {
   "cell_type": "code",
   "execution_count": 2,
   "id": "408494af",
   "metadata": {},
   "outputs": [
    {
     "name": "stderr",
     "output_type": "stream",
     "text": [
      "/Users/palokbiswas/Desktop/pollockdevis_git/JUSTICE/venv/lib/python3.9/site-packages/tqdm/auto.py:21: TqdmWarning: IProgress not found. Please update jupyter and ipywidgets. See https://ipywidgets.readthedocs.io/en/stable/user_install.html\n",
      "  from .autonotebook import tqdm as notebook_tqdm\n"
     ]
    },
    {
     "name": "stdout",
     "output_type": "stream",
     "text": [
      "Directory:  /Users/palokbiswas/Desktop/pollockdevis_git/JUSTICE\n",
      "SSP370\n",
      "File saved as PRIORITARIAN_idx1_SSP370_constrained_emission_control_rate at location data/temporary/NU_DATA/ensgaii/SSP3\n"
     ]
    }
   ],
   "source": [
    "import pandas as pd\n",
    "from justice.util.output_data_processor import reevaluate_optimal_policy, get_selected_policy_indices_based_on_welfare_temperature, reevaluated_optimal_policy_variable_extractor\n",
    "from justice.util.model_time import TimeHorizon\n",
    "from justice.util.data_loader import DataLoader\n",
    "\n",
    "idx = 1 # (22-Utilitarian SSP2, 9 for SSP3, PRIOR 6 for SSP2 and 3 for SSP3) ENSGAII(U SSP2 - 1; P SSP2-3; U SSP3 0;  P SSP3-1)\n",
    "scenario_list = [\"SSP370\"] ## SSP370 SSP245\n",
    "start_year = 2015\n",
    "end_year = 2300\n",
    "data_timestep = 5\n",
    "timestep = 1\n",
    "\n",
    "data_loader = DataLoader()\n",
    "region_list = data_loader.REGION_LIST\n",
    "\n",
    "# Set the time horizon\n",
    "time_horizon = TimeHorizon(\n",
    "    start_year=start_year,\n",
    "    end_year=end_year,\n",
    "    data_timestep=data_timestep,\n",
    "    timestep=timestep,\n",
    ")\n",
    "\n",
    "list_of_years = time_horizon.model_time_horizon\n",
    "\n",
    "\n",
    "\n",
    "\n",
    "############################################################################################################\n",
    "reevaluated_optimal_policy_variable_extractor(\n",
    "    scenario_list=scenario_list,  # ['SSP245'],\n",
    "    region_list=region_list,\n",
    "    list_of_years=list_of_years,\n",
    "    path_to_data=path, \n",
    "    path_to_output=path,\n",
    "    \n",
    "    variable_name=\"constrained_emission_control_rate\", #\"constrained_emission_control_rate\", #\"emissions\",  # \"global_temperature\" (USE with data_shape=2, \n",
    "    data_shape=3, #NOTE CHANGE THIS: 2 Only for temperature, 3 for rest (emission, constrained_emission_control_rate)\n",
    "    \n",
    "    no_of_ensembles=1001,\n",
    "    input_data=[\n",
    "        # Main Set for analysis - 10% Welfare\n",
    "        f\"{swf.value[1]}_reference_set_idx{idx}.h5\",\n",
    "\n",
    "\n",
    "\n",
    "    ],\n",
    "    output_file_names=[ # NOTE: Change these accordingly\n",
    "        swf.value[1],\n",
    "\n",
    "\n",
    "    ],\n",
    ")\n",
    "\n",
    "\n"
   ]
  },
  {
   "cell_type": "code",
   "execution_count": 3,
   "id": "7f3c729b",
   "metadata": {},
   "outputs": [
    {
     "name": "stdout",
     "output_type": "stream",
     "text": [
      "Taking average over the last dimension.\n",
      "Taking average over the last dimension.\n",
      "0\n",
      "1\n"
     ]
    },
    {
     "data": {
      "application/vnd.plotly.v1+json": {
       "config": {
        "plotlyServerURL": "https://plot.ly"
       },
       "data": [
        {
         "coloraxis": "coloraxis",
         "geo": "geo",
         "hovertemplate": "<b>%{hovertext}</b><br><br>CountryCode=%{location}<br>Emission Control Rate=%{z}<extra></extra>",
         "hovertext": [
          "Bonaire, Sint Eustatius and Saba",
          "Curaçao",
          "Sint Maarten (Dutch part)",
          "Aruba",
          "Bahamas",
          "Belize",
          "Barbados",
          "Costa Rica",
          "Cuba",
          "Dominica",
          "Dominican Republic",
          "Grenada",
          "Guatemala",
          "Honduras",
          "Haiti",
          "Jamaica",
          "Saint Lucia",
          "Nicaragua",
          "Panama",
          "El Salvador",
          "Trinidad and Tobago",
          "Saint Vincent and the Grenadines",
          "Antarctica",
          "Bermuda",
          "South Georgia and the South Sandwich Islands",
          "Turks and Caicos Islands",
          "Virgin Islands, British",
          "Virgin Islands, U.S.",
          "Anguilla",
          "Antigua and Barbuda",
          "Saint Barthélemy",
          "Cayman Islands",
          "Guadeloupe",
          "Saint Kitts and Nevis",
          "Saint Martin (French part)",
          "Montserrat",
          "Martinique",
          "Puerto Rico",
          "Western Sahara",
          "Tunisia",
          "Morocco",
          "Austria",
          "Belgium",
          "Germany",
          "Denmark",
          "Spain",
          "Finland",
          "France",
          "United Kingdom",
          "Greece",
          "Ireland",
          "Italy",
          "Netherlands",
          "Portugal",
          "Sweden",
          "Bulgaria",
          "Czechia",
          "Hungary",
          "Poland",
          "Romania",
          "Slovakia",
          "Slovenia",
          "Croatia",
          "Norway",
          "Switzerland",
          "Türkiye",
          "Estonia",
          "Lithuania",
          "Latvia",
          "Cyprus",
          "Luxembourg",
          "Malta",
          "Liechtenstein",
          "Greenland",
          "Iceland",
          "Faroe Islands",
          "Åland Islands",
          "Andorra",
          "Guernsey",
          "Gibraltar",
          "Isle of Man",
          "Jersey",
          "Monaco",
          "Svalbard and Jan Mayen",
          "San Marino",
          "Holy See (Vatican City State)",
          "Saint Pierre and Miquelon",
          "Bosnia and Herzegovina",
          "Albania",
          "North Macedonia",
          "Montenegro",
          "Serbia",
          "Kosovo",
          "Libya",
          "Algeria",
          "Egypt",
          "South Africa",
          "Angola",
          "Benin",
          "Botswana",
          "Burkina Faso",
          "Burundi",
          "Cameroon",
          "Cabo Verde",
          "Central African Republic",
          "Chad",
          "Comoros",
          "Congo",
          "Congo, The Democratic Republic of the",
          "Côte d'Ivoire",
          "Equatorial Guinea",
          "Eritrea",
          "Ethiopia",
          "Gabon",
          "Gambia",
          "Ghana",
          "Guinea",
          "Guinea-Bissau",
          "Kenya",
          "Lesotho",
          "Liberia",
          "Madagascar",
          "Malawi",
          "Mali",
          "Mauritania",
          "Mauritius",
          "Mayotte",
          "Mozambique",
          "Namibia",
          "Niger",
          "Nigeria",
          "Réunion",
          "Rwanda",
          "Sao Tome and Principe",
          "Senegal",
          "Seychelles",
          "Saint Helena, Ascension and Tristan da Cunha",
          "Sierra Leone",
          "Somalia",
          "South Sudan",
          "Sudan",
          "Eswatini",
          "Tanzania, United Republic of",
          "Togo",
          "Uganda",
          "Zambia",
          "Zimbabwe",
          "Djibouti",
          "British Indian Ocean Territory",
          "Bouvet Island",
          "French Southern Territories",
          "Israel",
          "Jordan",
          "Syrian Arab Republic",
          "Lebanon",
          "Palestine, State of",
          "United Arab Emirates",
          "Bahrain",
          "Iran, Islamic Republic of",
          "Iraq",
          "Kuwait",
          "Oman",
          "Qatar",
          "Saudi Arabia",
          "Yemen",
          "Australia",
          "Christmas Island",
          "Cook Islands",
          "Heard Island and McDonald Islands",
          "Norfolk Island",
          "Niue",
          "Nauru",
          "Pitcairn",
          "Tokelau",
          "Tuvalu",
          "United States Minor Outlying Islands",
          "Wallis and Futuna",
          "Fiji",
          "Papua New Guinea",
          "Micronesia, Federated States of",
          "Guam",
          "American Samoa",
          "Timor-Leste",
          "French Polynesia",
          "Kiribati",
          "Northern Mariana Islands",
          "Marshall Islands",
          "New Caledonia",
          "Palau",
          "Samoa",
          "Solomon Islands",
          "Tonga",
          "Vanuatu",
          "New Zealand",
          "China",
          "India",
          "Malaysia",
          "Thailand",
          "Viet Nam",
          "Japan",
          "Korea, Republic of",
          "Indonesia",
          "Brunei Darussalam",
          "Cocos (Keeling) Islands",
          "Cambodia",
          "Lao People's Democratic Republic",
          "Myanmar",
          "Philippines",
          "Singapore",
          "Korea, Democratic People's Republic of",
          "Hong Kong",
          "Macao",
          "Taiwan, Province of China",
          "Mongolia",
          "Afghanistan",
          "Bangladesh",
          "Bhutan",
          "Sri Lanka",
          "Maldives",
          "Nepal",
          "Pakistan",
          "Argentina",
          "Brazil",
          "Chile",
          "Bolivia, Plurinational State of",
          "Colombia",
          "Ecuador",
          "Falkland Islands (Malvinas)",
          "French Guiana",
          "Guyana",
          "Peru",
          "Paraguay",
          "Suriname",
          "Uruguay",
          "Venezuela, Bolivarian Republic of",
          "Mexico",
          "Canada",
          "United States",
          "Russian Federation",
          "Ukraine",
          "Armenia",
          "Azerbaijan",
          "Belarus",
          "Georgia",
          "Kazakhstan",
          "Kyrgyzstan",
          "Moldova, Republic of",
          "Tajikistan",
          "Turkmenistan",
          "Uzbekistan"
         ],
         "locations": [
          "BES",
          "CUW",
          "SXM",
          "ABW",
          "BHS",
          "BLZ",
          "BRB",
          "CRI",
          "CUB",
          "DMA",
          "DOM",
          "GRD",
          "GTM",
          "HND",
          "HTI",
          "JAM",
          "LCA",
          "NIC",
          "PAN",
          "SLV",
          "TTO",
          "VCT",
          "ATA",
          "BMU",
          "SGS",
          "TCA",
          "VGB",
          "VIR",
          "AIA",
          "ATG",
          "BLM",
          "CYM",
          "GLP",
          "KNA",
          "MAF",
          "MSR",
          "MTQ",
          "PRI",
          "ESH",
          "TUN",
          "MAR",
          "AUT",
          "BEL",
          "DEU",
          "DNK",
          "ESP",
          "FIN",
          "FRA",
          "GBR",
          "GRC",
          "IRL",
          "ITA",
          "NLD",
          "PRT",
          "SWE",
          "BGR",
          "CZE",
          "HUN",
          "POL",
          "ROU",
          "SVK",
          "SVN",
          "HRV",
          "NOR",
          "CHE",
          "TUR",
          "EST",
          "LTU",
          "LVA",
          "CYP",
          "LUX",
          "MLT",
          "LIE",
          "GRL",
          "ISL",
          "FRO",
          "ALA",
          "AND",
          "GGY",
          "GIB",
          "IMN",
          "JEY",
          "MCO",
          "SJM",
          "SMR",
          "VAT",
          "SPM",
          "BIH",
          "ALB",
          "MKD",
          "MNE",
          "SRB",
          "KSV",
          "LBY",
          "DZA",
          "EGY",
          "ZAF",
          "AGO",
          "BEN",
          "BWA",
          "BFA",
          "BDI",
          "CMR",
          "CPV",
          "CAF",
          "TCD",
          "COM",
          "COG",
          "COD",
          "CIV",
          "GNQ",
          "ERI",
          "ETH",
          "GAB",
          "GMB",
          "GHA",
          "GIN",
          "GNB",
          "KEN",
          "LSO",
          "LBR",
          "MDG",
          "MWI",
          "MLI",
          "MRT",
          "MUS",
          "MYT",
          "MOZ",
          "NAM",
          "NER",
          "NGA",
          "REU",
          "RWA",
          "STP",
          "SEN",
          "SYC",
          "SHN",
          "SLE",
          "SOM",
          "SSD",
          "SDN",
          "SWZ",
          "TZA",
          "TGO",
          "UGA",
          "ZMB",
          "ZWE",
          "DJI",
          "IOT",
          "BVT",
          "ATF",
          "ISR",
          "JOR",
          "SYR",
          "LBN",
          "PSE",
          "ARE",
          "BHR",
          "IRN",
          "IRQ",
          "KWT",
          "OMN",
          "QAT",
          "SAU",
          "YEM",
          "AUS",
          "CXR",
          "COK",
          "HMD",
          "NFK",
          "NIU",
          "NRU",
          "PCN",
          "TKL",
          "TUV",
          "UMI",
          "WLF",
          "FJI",
          "PNG",
          "FSM",
          "GUM",
          "ASM",
          "TLS",
          "PYF",
          "KIR",
          "MNP",
          "MHL",
          "NCL",
          "PLW",
          "WSM",
          "SLB",
          "TON",
          "VUT",
          "NZL",
          "CHN",
          "IND",
          "MYS",
          "THA",
          "VNM",
          "JPN",
          "KOR",
          "IDN",
          "BRN",
          "CCK",
          "KHM",
          "LAO",
          "MMR",
          "PHL",
          "SGP",
          "PRK",
          "HKG",
          "MAC",
          "TWN",
          "MNG",
          "AFG",
          "BGD",
          "BTN",
          "LKA",
          "MDV",
          "NPL",
          "PAK",
          "ARG",
          "BRA",
          "CHL",
          "BOL",
          "COL",
          "ECU",
          "FLK",
          "GUF",
          "GUY",
          "PER",
          "PRY",
          "SUR",
          "URY",
          "VEN",
          "MEX",
          "CAN",
          "USA",
          "RUS",
          "UKR",
          "ARM",
          "AZE",
          "BLR",
          "GEO",
          "KAZ",
          "KGZ",
          "MDA",
          "TJK",
          "TKM",
          "UZB"
         ],
         "name": "",
         "type": "choropleth",
         "z": {
          "bdata": "wpH/85b43D/Ckf/zlvjcP8KR//OW+Nw/wpH/85b43D/Ckf/zlvjcP8KR//OW+Nw/wpH/85b43D/Ckf/zlvjcP8KR//OW+Nw/wpH/85b43D/Ckf/zlvjcP8KR//OW+Nw/wpH/85b43D/Ckf/zlvjcP8KR//OW+Nw/wpH/85b43D/Ckf/zlvjcP8KR//OW+Nw/wpH/85b43D/Ckf/zlvjcP8KR//OW+Nw/wpH/85b43D8AAAAAAAD4f8KR//OW+Nw/wpH/85b43D/Ckf/zlvjcP8KR//OW+Nw/wpH/85b43D/Ckf/zlvjcP8KR//OW+Nw/wpH/85b43D/Ckf/zlvjcP8KR//OW+Nw/wpH/85b43D/Ckf/zlvjcP8KR//OW+Nw/wpH/85b43D/Ckf/zlvjcP9IRmskA7+o/0hGayQDv6j/SEZrJAO/qP5e+xITm/e4/le4T90HL7z8nvz+MQc3vP0EjyM5DWu8/APUwU8TL7z9qRHZ6uM3vP370vo+cy+8/Su+bjHDJ7z9sfl0ik8fvPwz9QlUbwO8/vIvIzd++7z9UrP0xA6XqP05bGSqlZ+8/2hVxeyPK7z/afguAJ4LvPySi0/Rdy+8/dDvaqP/L7z/c9rrM6cnvP9WIBuVAbuk/EPhQxTgq6z+C01V305fvPw4drh1aQOY/+KwGtGfL7z/EKun4A77vPy2WEnqjyu8/icJC6ya67z+JwkLrJrrvP4nCQusmuu8/wiK3/Jut7T/CIrf8m63tP8Iit/ybre0/wiK3/Jut7T/CIrf8m63tP8Iit/ybre0/wiK3/Jut7T/CIrf8m63tP8Iit/ybre0/wiK3/Jut7T/CIrf8m63tP8Iit/ybre0/wiK3/Jut7T/CIrf8m63tP8Iit/ybre0/wiK3/Jut7T/CIrf8m63tP8Iit/ybre0/wiK3/Jut7T/CIrf8m63tP8Iit/ybre0/wiK3/Jut7T/CIrf8m63tP8Iit/ybre0/NA2icCD/3z80DaJwIP/fP1voMsudGeg/LVYAZMqy6T+gTdOlZa/FP6BN06Vlr8U/oE3TpWWvxT+gTdOlZa/FP6BN06Vlr8U/oE3TpWWvxT+gTdOlZa/FP6BN06Vlr8U/oE3TpWWvxT+gTdOlZa/FP6BN06Vlr8U/oE3TpWWvxT+gTdOlZa/FP6BN06Vlr8U/oE3TpWWvxT+gTdOlZa/FP6BN06Vlr8U/oE3TpWWvxT+gTdOlZa/FP6BN06Vlr8U/oE3TpWWvxT+gTdOlZa/FP6BN06Vlr8U/oE3TpWWvxT+gTdOlZa/FP6BN06Vlr8U/oE3TpWWvxT+gTdOlZa/FP6BN06Vlr8U/oE3TpWWvxT+gTdOlZa/FP6BN06Vlr8U/oE3TpWWvxT+gTdOlZa/FP6BN06Vlr8U/oE3TpWWvxT+gTdOlZa/FP6BN06Vlr8U/oE3TpWWvxT+gTdOlZa/FP6BN06Vlr8U/oE3TpWWvxT+gTdOlZa/FP6BN06Vlr8U/oE3TpWWvxT+gTdOlZa/FP6BN06Vlr8U/oE3TpWWvxT+gTdOlZa/FP6BN06Vlr8U/oE3TpWWvxT+gTdOlZa/FP6BN06Vlr8U/oE3TpWWvxT/YW8F3DkbkP9hbwXcORuQ/2FvBdw5G5D/YW8F3DkbkP9hbwXcORuQ/fls5r/nF7z9+Wzmv+cXvP35bOa/5xe8/fls5r/nF7z9+Wzmv+cXvP35bOa/5xe8/fls5r/nF7z9+Wzmv+cXvP35bOa/5xe8/95c3fFHJ7z+Ulr9/vSjqP5SWv3+9KOo/lJa/f70o6j+Ulr9/vSjqP5SWv3+9KOo/lJa/f70o6j+Ulr9/vSjqP5SWv3+9KOo/lJa/f70o6j+Ulr9/vSjqP5SWv3+9KOo/lJa/f70o6j+Ulr9/vSjqP5SWv3+9KOo/lJa/f70o6j+Ulr9/vSjqP5SWv3+9KOo/lJa/f70o6j+Ulr9/vSjqP5SWv3+9KOo/lJa/f70o6j+Ulr9/vSjqP5SWv3+9KOo/lJa/f70o6j+Ulr9/vSjqP5SWv3+9KOo/lJa/f70o6j+Ulr9/vSjqP4zy1rmKy+8/ElEhXTbH4T+lWTFDScjvPwMilnnClO0/DcMiR+4S6z/3k/yqEjHvPygueGwlye8/vXLCfW5j6j96H2yISgzZP3ofbIhKDNk/eh9siEoM2T96H2yISgzZP3ofbIhKDNk/eh9siEoM2T96H2yISgzZP3ofbIhKDNk/eh9siEoM2T96H2yISgzZP3ofbIhKDNk/eh9siEoM2T9sklv8dsTKP2ySW/x2xMo/bJJb/HbEyj9sklv8dsTKP2ySW/x2xMo/bJJb/HbEyj9sklv8dsTKP+vkNhJ4qO8/5OmQPaHK7z9vCmLSabjvPx1IOetgy+8/HUg562DL7z8dSDnrYMvvPx1IOetgy+8/HUg562DL7z8dSDnrYMvvPx1IOetgy+8/HUg562DL7z8dSDnrYMvvPx1IOetgy+8/HUg562DL7z8+pO4B7ZTkP68hKp/5y+8/vOkqKSTM7z912Hqcec3vP5v1oivvx+8/ereY7ZTI7z96t5jtlMjvP3q3mO2UyO8/ereY7ZTI7z96t5jtlMjvP3q3mO2UyO8/ereY7ZTI7z96t5jtlMjvP3q3mO2UyO8/ereY7ZTI7z8=",
          "dtype": "f8"
         }
        }
       ],
       "layout": {
        "coloraxis": {
         "cmax": 1,
         "cmin": 0,
         "colorbar": {
          "lenmode": "pixels",
          "tickmode": "array",
          "ticks": "inside",
          "ticktext": [
           "0%",
           "25%",
           "50%",
           "75%",
           "100%"
          ],
          "tickvals": [
           0,
           0.25,
           0.5,
           0.75,
           1
          ],
          "title": {
           "text": ""
          }
         },
         "colorscale": [
          [
           0,
           "rgb(255,245,240)"
          ],
          [
           0.125,
           "rgb(254,224,210)"
          ],
          [
           0.25,
           "rgb(252,187,161)"
          ],
          [
           0.375,
           "rgb(252,146,114)"
          ],
          [
           0.5,
           "rgb(251,106,74)"
          ],
          [
           0.625,
           "rgb(239,59,44)"
          ],
          [
           0.75,
           "rgb(203,24,29)"
          ],
          [
           0.875,
           "rgb(165,15,21)"
          ],
          [
           1,
           "rgb(103,0,13)"
          ]
         ]
        },
        "geo": {
         "center": {},
         "domain": {
          "x": [
           0,
           1
          ],
          "y": [
           0,
           1
          ]
         },
         "projection": {
          "type": "natural earth1"
         },
         "scope": "world"
        },
        "height": 700,
        "legend": {
         "tracegroupgap": 0
        },
        "margin": {
         "t": 60
        },
        "template": {
         "data": {
          "bar": [
           {
            "error_x": {
             "color": "#2a3f5f"
            },
            "error_y": {
             "color": "#2a3f5f"
            },
            "marker": {
             "line": {
              "color": "#E5ECF6",
              "width": 0.5
             },
             "pattern": {
              "fillmode": "overlay",
              "size": 10,
              "solidity": 0.2
             }
            },
            "type": "bar"
           }
          ],
          "barpolar": [
           {
            "marker": {
             "line": {
              "color": "#E5ECF6",
              "width": 0.5
             },
             "pattern": {
              "fillmode": "overlay",
              "size": 10,
              "solidity": 0.2
             }
            },
            "type": "barpolar"
           }
          ],
          "carpet": [
           {
            "aaxis": {
             "endlinecolor": "#2a3f5f",
             "gridcolor": "white",
             "linecolor": "white",
             "minorgridcolor": "white",
             "startlinecolor": "#2a3f5f"
            },
            "baxis": {
             "endlinecolor": "#2a3f5f",
             "gridcolor": "white",
             "linecolor": "white",
             "minorgridcolor": "white",
             "startlinecolor": "#2a3f5f"
            },
            "type": "carpet"
           }
          ],
          "choropleth": [
           {
            "colorbar": {
             "outlinewidth": 0,
             "ticks": ""
            },
            "type": "choropleth"
           }
          ],
          "contour": [
           {
            "colorbar": {
             "outlinewidth": 0,
             "ticks": ""
            },
            "colorscale": [
             [
              0,
              "#0d0887"
             ],
             [
              0.1111111111111111,
              "#46039f"
             ],
             [
              0.2222222222222222,
              "#7201a8"
             ],
             [
              0.3333333333333333,
              "#9c179e"
             ],
             [
              0.4444444444444444,
              "#bd3786"
             ],
             [
              0.5555555555555556,
              "#d8576b"
             ],
             [
              0.6666666666666666,
              "#ed7953"
             ],
             [
              0.7777777777777778,
              "#fb9f3a"
             ],
             [
              0.8888888888888888,
              "#fdca26"
             ],
             [
              1,
              "#f0f921"
             ]
            ],
            "type": "contour"
           }
          ],
          "contourcarpet": [
           {
            "colorbar": {
             "outlinewidth": 0,
             "ticks": ""
            },
            "type": "contourcarpet"
           }
          ],
          "heatmap": [
           {
            "colorbar": {
             "outlinewidth": 0,
             "ticks": ""
            },
            "colorscale": [
             [
              0,
              "#0d0887"
             ],
             [
              0.1111111111111111,
              "#46039f"
             ],
             [
              0.2222222222222222,
              "#7201a8"
             ],
             [
              0.3333333333333333,
              "#9c179e"
             ],
             [
              0.4444444444444444,
              "#bd3786"
             ],
             [
              0.5555555555555556,
              "#d8576b"
             ],
             [
              0.6666666666666666,
              "#ed7953"
             ],
             [
              0.7777777777777778,
              "#fb9f3a"
             ],
             [
              0.8888888888888888,
              "#fdca26"
             ],
             [
              1,
              "#f0f921"
             ]
            ],
            "type": "heatmap"
           }
          ],
          "histogram": [
           {
            "marker": {
             "pattern": {
              "fillmode": "overlay",
              "size": 10,
              "solidity": 0.2
             }
            },
            "type": "histogram"
           }
          ],
          "histogram2d": [
           {
            "colorbar": {
             "outlinewidth": 0,
             "ticks": ""
            },
            "colorscale": [
             [
              0,
              "#0d0887"
             ],
             [
              0.1111111111111111,
              "#46039f"
             ],
             [
              0.2222222222222222,
              "#7201a8"
             ],
             [
              0.3333333333333333,
              "#9c179e"
             ],
             [
              0.4444444444444444,
              "#bd3786"
             ],
             [
              0.5555555555555556,
              "#d8576b"
             ],
             [
              0.6666666666666666,
              "#ed7953"
             ],
             [
              0.7777777777777778,
              "#fb9f3a"
             ],
             [
              0.8888888888888888,
              "#fdca26"
             ],
             [
              1,
              "#f0f921"
             ]
            ],
            "type": "histogram2d"
           }
          ],
          "histogram2dcontour": [
           {
            "colorbar": {
             "outlinewidth": 0,
             "ticks": ""
            },
            "colorscale": [
             [
              0,
              "#0d0887"
             ],
             [
              0.1111111111111111,
              "#46039f"
             ],
             [
              0.2222222222222222,
              "#7201a8"
             ],
             [
              0.3333333333333333,
              "#9c179e"
             ],
             [
              0.4444444444444444,
              "#bd3786"
             ],
             [
              0.5555555555555556,
              "#d8576b"
             ],
             [
              0.6666666666666666,
              "#ed7953"
             ],
             [
              0.7777777777777778,
              "#fb9f3a"
             ],
             [
              0.8888888888888888,
              "#fdca26"
             ],
             [
              1,
              "#f0f921"
             ]
            ],
            "type": "histogram2dcontour"
           }
          ],
          "mesh3d": [
           {
            "colorbar": {
             "outlinewidth": 0,
             "ticks": ""
            },
            "type": "mesh3d"
           }
          ],
          "parcoords": [
           {
            "line": {
             "colorbar": {
              "outlinewidth": 0,
              "ticks": ""
             }
            },
            "type": "parcoords"
           }
          ],
          "pie": [
           {
            "automargin": true,
            "type": "pie"
           }
          ],
          "scatter": [
           {
            "fillpattern": {
             "fillmode": "overlay",
             "size": 10,
             "solidity": 0.2
            },
            "type": "scatter"
           }
          ],
          "scatter3d": [
           {
            "line": {
             "colorbar": {
              "outlinewidth": 0,
              "ticks": ""
             }
            },
            "marker": {
             "colorbar": {
              "outlinewidth": 0,
              "ticks": ""
             }
            },
            "type": "scatter3d"
           }
          ],
          "scattercarpet": [
           {
            "marker": {
             "colorbar": {
              "outlinewidth": 0,
              "ticks": ""
             }
            },
            "type": "scattercarpet"
           }
          ],
          "scattergeo": [
           {
            "marker": {
             "colorbar": {
              "outlinewidth": 0,
              "ticks": ""
             }
            },
            "type": "scattergeo"
           }
          ],
          "scattergl": [
           {
            "marker": {
             "colorbar": {
              "outlinewidth": 0,
              "ticks": ""
             }
            },
            "type": "scattergl"
           }
          ],
          "scattermap": [
           {
            "marker": {
             "colorbar": {
              "outlinewidth": 0,
              "ticks": ""
             }
            },
            "type": "scattermap"
           }
          ],
          "scattermapbox": [
           {
            "marker": {
             "colorbar": {
              "outlinewidth": 0,
              "ticks": ""
             }
            },
            "type": "scattermapbox"
           }
          ],
          "scatterpolar": [
           {
            "marker": {
             "colorbar": {
              "outlinewidth": 0,
              "ticks": ""
             }
            },
            "type": "scatterpolar"
           }
          ],
          "scatterpolargl": [
           {
            "marker": {
             "colorbar": {
              "outlinewidth": 0,
              "ticks": ""
             }
            },
            "type": "scatterpolargl"
           }
          ],
          "scatterternary": [
           {
            "marker": {
             "colorbar": {
              "outlinewidth": 0,
              "ticks": ""
             }
            },
            "type": "scatterternary"
           }
          ],
          "surface": [
           {
            "colorbar": {
             "outlinewidth": 0,
             "ticks": ""
            },
            "colorscale": [
             [
              0,
              "#0d0887"
             ],
             [
              0.1111111111111111,
              "#46039f"
             ],
             [
              0.2222222222222222,
              "#7201a8"
             ],
             [
              0.3333333333333333,
              "#9c179e"
             ],
             [
              0.4444444444444444,
              "#bd3786"
             ],
             [
              0.5555555555555556,
              "#d8576b"
             ],
             [
              0.6666666666666666,
              "#ed7953"
             ],
             [
              0.7777777777777778,
              "#fb9f3a"
             ],
             [
              0.8888888888888888,
              "#fdca26"
             ],
             [
              1,
              "#f0f921"
             ]
            ],
            "type": "surface"
           }
          ],
          "table": [
           {
            "cells": {
             "fill": {
              "color": "#EBF0F8"
             },
             "line": {
              "color": "white"
             }
            },
            "header": {
             "fill": {
              "color": "#C8D4E3"
             },
             "line": {
              "color": "white"
             }
            },
            "type": "table"
           }
          ]
         },
         "layout": {
          "annotationdefaults": {
           "arrowcolor": "#2a3f5f",
           "arrowhead": 0,
           "arrowwidth": 1
          },
          "autotypenumbers": "strict",
          "coloraxis": {
           "colorbar": {
            "outlinewidth": 0,
            "ticks": ""
           }
          },
          "colorscale": {
           "diverging": [
            [
             0,
             "#8e0152"
            ],
            [
             0.1,
             "#c51b7d"
            ],
            [
             0.2,
             "#de77ae"
            ],
            [
             0.3,
             "#f1b6da"
            ],
            [
             0.4,
             "#fde0ef"
            ],
            [
             0.5,
             "#f7f7f7"
            ],
            [
             0.6,
             "#e6f5d0"
            ],
            [
             0.7,
             "#b8e186"
            ],
            [
             0.8,
             "#7fbc41"
            ],
            [
             0.9,
             "#4d9221"
            ],
            [
             1,
             "#276419"
            ]
           ],
           "sequential": [
            [
             0,
             "#0d0887"
            ],
            [
             0.1111111111111111,
             "#46039f"
            ],
            [
             0.2222222222222222,
             "#7201a8"
            ],
            [
             0.3333333333333333,
             "#9c179e"
            ],
            [
             0.4444444444444444,
             "#bd3786"
            ],
            [
             0.5555555555555556,
             "#d8576b"
            ],
            [
             0.6666666666666666,
             "#ed7953"
            ],
            [
             0.7777777777777778,
             "#fb9f3a"
            ],
            [
             0.8888888888888888,
             "#fdca26"
            ],
            [
             1,
             "#f0f921"
            ]
           ],
           "sequentialminus": [
            [
             0,
             "#0d0887"
            ],
            [
             0.1111111111111111,
             "#46039f"
            ],
            [
             0.2222222222222222,
             "#7201a8"
            ],
            [
             0.3333333333333333,
             "#9c179e"
            ],
            [
             0.4444444444444444,
             "#bd3786"
            ],
            [
             0.5555555555555556,
             "#d8576b"
            ],
            [
             0.6666666666666666,
             "#ed7953"
            ],
            [
             0.7777777777777778,
             "#fb9f3a"
            ],
            [
             0.8888888888888888,
             "#fdca26"
            ],
            [
             1,
             "#f0f921"
            ]
           ]
          },
          "colorway": [
           "#636efa",
           "#EF553B",
           "#00cc96",
           "#ab63fa",
           "#FFA15A",
           "#19d3f3",
           "#FF6692",
           "#B6E880",
           "#FF97FF",
           "#FECB52"
          ],
          "font": {
           "color": "#2a3f5f"
          },
          "geo": {
           "bgcolor": "white",
           "lakecolor": "white",
           "landcolor": "#E5ECF6",
           "showlakes": true,
           "showland": true,
           "subunitcolor": "white"
          },
          "hoverlabel": {
           "align": "left"
          },
          "hovermode": "closest",
          "mapbox": {
           "style": "light"
          },
          "paper_bgcolor": "white",
          "plot_bgcolor": "#E5ECF6",
          "polar": {
           "angularaxis": {
            "gridcolor": "white",
            "linecolor": "white",
            "ticks": ""
           },
           "bgcolor": "#E5ECF6",
           "radialaxis": {
            "gridcolor": "white",
            "linecolor": "white",
            "ticks": ""
           }
          },
          "scene": {
           "xaxis": {
            "backgroundcolor": "#E5ECF6",
            "gridcolor": "white",
            "gridwidth": 2,
            "linecolor": "white",
            "showbackground": true,
            "ticks": "",
            "zerolinecolor": "white"
           },
           "yaxis": {
            "backgroundcolor": "#E5ECF6",
            "gridcolor": "white",
            "gridwidth": 2,
            "linecolor": "white",
            "showbackground": true,
            "ticks": "",
            "zerolinecolor": "white"
           },
           "zaxis": {
            "backgroundcolor": "#E5ECF6",
            "gridcolor": "white",
            "gridwidth": 2,
            "linecolor": "white",
            "showbackground": true,
            "ticks": "",
            "zerolinecolor": "white"
           }
          },
          "shapedefaults": {
           "line": {
            "color": "#2a3f5f"
           }
          },
          "ternary": {
           "aaxis": {
            "gridcolor": "white",
            "linecolor": "white",
            "ticks": ""
           },
           "baxis": {
            "gridcolor": "white",
            "linecolor": "white",
            "ticks": ""
           },
           "bgcolor": "#E5ECF6",
           "caxis": {
            "gridcolor": "white",
            "linecolor": "white",
            "ticks": ""
           }
          },
          "title": {
           "x": 0.05
          },
          "xaxis": {
           "automargin": true,
           "gridcolor": "white",
           "linecolor": "white",
           "ticks": "",
           "title": {
            "standoff": 15
           },
           "zerolinecolor": "white",
           "zerolinewidth": 2
          },
          "yaxis": {
           "automargin": true,
           "gridcolor": "white",
           "linecolor": "white",
           "ticks": "",
           "title": {
            "standoff": 15
           },
           "zerolinecolor": "white",
           "zerolinewidth": 2
          }
         }
        },
        "title": {
         "text": ""
        },
        "width": 1200
       }
      }
     },
     "metadata": {},
     "output_type": "display_data"
    }
   ],
   "source": [
    "import numpy as np\n",
    "import plotly.express as px\n",
    "\n",
    "import pandas as pd\n",
    "\n",
    "from justice.util.visualizer import plot_choropleth_2D_data\n",
    "\n",
    "\n",
    "fig, prior_data = plot_choropleth_2D_data(\n",
    "    path_to_data=path,\n",
    "    path_to_output=path, #/rbf_dist_test\n",
    "    projection= \"natural earth1\", \n",
    "    colourmap= px.colors.sequential.Reds,\n",
    "    year_to_visualize=2050,\n",
    "    input_data_path_list=[\n",
    "\n",
    "        # \"UTILITARIAN_idx9_SSP245_constrained_emission_control_rate.npy\",\n",
    "        # \"PRIORITARIAN_idx3_SSP245_constrained_emission_control_rate.npy\",\n",
    "\n",
    "        # \"UTILITARIAN_idx9_SSP370_constrained_emission_control_rate.npy\",\n",
    "        # \"PRIORITARIAN_idx3_SSP370_constrained_emission_control_rate.npy\",\n",
    "\n",
    "        #ESNGAII\n",
    "        # \"UTILITARIAN_idx1_SSP245_constrained_emission_control_rate.npy\",\n",
    "        # \"PRIORITARIAN_idx3_SSP245_constrained_emission_control_rate.npy\",\n",
    "\n",
    "        \"UTILITARIAN_idx0_SSP370_constrained_emission_control_rate.npy\",\n",
    "        \"PRIORITARIAN_idx1_SSP370_constrained_emission_control_rate.npy\",\n",
    "\n",
    "\n",
    "    ],\n",
    "        \n",
    "    data_label=\"Emission Control Rate\",\n",
    "    legend_label=\"\", \n",
    "    data_normalization=True,\n",
    "    saving=True,\n",
    "    show_colorbar=True,\n",
    "    normalized_colorbar=True,\n",
    "\n",
    ")\n",
    "\n",
    "fig.show()\n"
   ]
  },
  {
   "cell_type": "markdown",
   "id": "36f2aa34",
   "metadata": {},
   "source": [
    "### Scatter Plot"
   ]
  },
  {
   "cell_type": "code",
   "execution_count": 5,
   "id": "a4e437b1",
   "metadata": {},
   "outputs": [
    {
     "data": {
      "image/png": "[encoded data removed]",
      "text/plain": [
       "<Figure size 1000x600 with 1 Axes>"
      ]
     },
     "metadata": {},
     "output_type": "display_data"
    }
   ],
   "source": [
    "# Read the file 50000.csv in folder nu_50k\n",
    "import matplotlib.pyplot as plt\n",
    "from justice.util.enumerations import WelfareFunction, SSP\n",
    "import pandas as pd\n",
    "\n",
    "\n",
    "\n",
    "swf = WelfareFunction.UTILITARIAN\n",
    "nfe = 50_000\n",
    "ssp = SSP.SSP3\n",
    "\n",
    "path1 = f\"data/temporary/NU_DATA/combined/{str(ssp).split('.')[1]}/\"\n",
    "df1 = pd.read_csv(path1 + f\"{swf.value[1]}_reference_set.csv\")\n",
    "\n",
    "# path2 = f\"data/temporary/NU_DATA/borg/{str(ssp).split('.')[1]}/\"\n",
    "# df2 = pd.read_csv(path2 + f\"{swf.value[1]}_reference_set.csv\")\n",
    "\n",
    "# Select only the lst 2 columns\n",
    "df1 = df1.iloc[:, -2:]\n",
    "\n",
    "# Select only the lst 2 columns\n",
    "# df2 = df2.iloc[:, -2:]\n",
    "\n",
    "\n",
    "\n",
    "# Make the size of the points larger\n",
    "plt.figure(figsize=(10, 6))\n",
    "plt.scatter(df1.iloc[:, 0], df1.iloc[:, 1], s=10, label='combined')\n",
    "# plt.scatter(df2.iloc[:, 0], df2.iloc[:, 1], s=10, color='red', label='BORG')\n",
    "\n",
    "\n",
    "\n",
    "plt.legend()\n",
    "\n",
    "plt.xlabel(' Welfare')\n",
    "plt.ylabel('Temperature')\n",
    "plt.title('Scatter Plot of Normalized Column 1 vs Column 2')\n",
    "plt.show()\n"
   ]
  },
  {
   "cell_type": "markdown",
   "id": "24662073",
   "metadata": {},
   "source": [
    "# Reference set to policy outcomes"
   ]
  },
  {
   "cell_type": "code",
   "execution_count": null,
   "id": "07e5855d",
   "metadata": {},
   "outputs": [],
   "source": [
    "# Check this method out too: #NOTE ROUGH\n",
    "\n",
    "from justice.util.output_data_processor import process_scenario\n",
    "\n",
    "import os\n",
    "import filecmp\n",
    "import pandas as pd\n",
    "from pathlib import Path\n",
    "import multiprocessing as mp\n",
    "from functools import partial\n",
    "from justice.util.enumerations import WelfareFunction, SSP\n",
    "from justice.util.output_data_processor import process_scenario\n",
    "\n",
    "\n",
    "if __name__ == \"__main__\":\n",
    "    ######################################\n",
    "    scenario_list = [\"SSP245\"]\n",
    "\n",
    "    social_welfare_function = WelfareFunction.PRIORITARIAN\n",
    "    nfe = 50_000\n",
    "    ssp = SSP.SSP2\n",
    "\n",
    "    sw_name = social_welfare_function.value[1]\n",
    "    path = f\"data/temporary/NU_DATA/combined/{str(ssp).split('.')[1]}/\"\n",
    "    filename = f\"{sw_name}_reference_set.csv\"\n",
    "\n",
    "    # Print the selected policy indices values of last 4 columns\n",
    "    # Find the min and max welfare values for utilitarian and prioritarian\n",
    "    loaded_df = pd.read_csv(path + filename)\n",
    "    policy_indices = list(range(len(loaded_df)))\n",
    "\n",
    "    sw_name = social_welfare_function.value[1]\n",
    "\n",
    "    filename = f\"{sw_name}_reference_set.csv\"\n",
    "\n",
    "    loaded_df = pd.read_csv(path + filename)\n",
    "    print(f\"Loading data for {sw_name} from {path+filename}\")\n",
    "    print(\"Selected policy‑indices last 2 columns:\")\n",
    "    print(loaded_df.iloc[policy_indices, -2:])\n",
    "\n",
    "    # spawn‐based pool so that each worker is a fresh interpreter\n",
    "    mp.set_start_method(\"spawn\")\n",
    "    # Bind the fixed arguments swf and policy_indices to process_scenario\n",
    "    bound_process_scenario = partial(\n",
    "        process_scenario, social_welfare_function, policy_indices\n",
    "    )\n",
    "    with mp.Pool(processes=len(scenario_list)) as pool:\n",
    "        pool.map(bound_process_scenario, scenario_list)\n"
   ]
  },
  {
   "cell_type": "markdown",
   "id": "5f3295e5",
   "metadata": {},
   "source": [
    "#### Reevaluation "
   ]
  },
  {
   "cell_type": "markdown",
   "id": "4491ed07",
   "metadata": {},
   "source": [
    "###### Run nu_analysis.py - Parallelizes the process over the scenarios\n",
    "###### Only after running nu_analysis.py, the data is available analysis"
   ]
  },
  {
   "cell_type": "code",
   "execution_count": 1,
   "id": "16482a45",
   "metadata": {},
   "outputs": [
    {
     "name": "stderr",
     "output_type": "stream",
     "text": [
      "/Users/palokbiswas/Desktop/pollockdevis_git/JUSTICE/venv/lib/python3.9/site-packages/tqdm/auto.py:21: TqdmWarning: IProgress not found. Please update jupyter and ipywidgets. See https://ipywidgets.readthedocs.io/en/stable/user_install.html\n",
      "  from .autonotebook import tqdm as notebook_tqdm\n"
     ]
    },
    {
     "name": "stdout",
     "output_type": "stream",
     "text": [
      "Found 4 policies (0 to 3)\n",
      "All files loaded successfully.\n",
      "Wrote mapping to data/temporary/NU_DATA/combined/SSP3/mapping/mapping_PRIORITARIAN.h5\n",
      "Deleting loaded CSV files...\n",
      "Deleted file: data/temporary/NU_DATA/combined/SSP3/0_SSP126_PRIORITARIAN_global_temperature_.csv\n",
      "Deleted file: data/temporary/NU_DATA/combined/SSP3/0_SSP245_PRIORITARIAN_global_temperature_.csv\n",
      "Deleted file: data/temporary/NU_DATA/combined/SSP3/0_SSP370_PRIORITARIAN_global_temperature_.csv\n",
      "Deleted file: data/temporary/NU_DATA/combined/SSP3/0_SSP460_PRIORITARIAN_global_temperature_.csv\n",
      "Deleted file: data/temporary/NU_DATA/combined/SSP3/0_SSP534_PRIORITARIAN_global_temperature_.csv\n",
      "Deleted file: data/temporary/NU_DATA/combined/SSP3/1_SSP126_PRIORITARIAN_global_temperature_.csv\n",
      "Deleted file: data/temporary/NU_DATA/combined/SSP3/1_SSP245_PRIORITARIAN_global_temperature_.csv\n",
      "Deleted file: data/temporary/NU_DATA/combined/SSP3/1_SSP370_PRIORITARIAN_global_temperature_.csv\n",
      "Deleted file: data/temporary/NU_DATA/combined/SSP3/1_SSP460_PRIORITARIAN_global_temperature_.csv\n",
      "Deleted file: data/temporary/NU_DATA/combined/SSP3/1_SSP534_PRIORITARIAN_global_temperature_.csv\n",
      "Deleted file: data/temporary/NU_DATA/combined/SSP3/2_SSP126_PRIORITARIAN_global_temperature_.csv\n",
      "Deleted file: data/temporary/NU_DATA/combined/SSP3/2_SSP245_PRIORITARIAN_global_temperature_.csv\n",
      "Deleted file: data/temporary/NU_DATA/combined/SSP3/2_SSP370_PRIORITARIAN_global_temperature_.csv\n",
      "Deleted file: data/temporary/NU_DATA/combined/SSP3/2_SSP460_PRIORITARIAN_global_temperature_.csv\n",
      "Deleted file: data/temporary/NU_DATA/combined/SSP3/2_SSP534_PRIORITARIAN_global_temperature_.csv\n",
      "Deleted file: data/temporary/NU_DATA/combined/SSP3/3_SSP126_PRIORITARIAN_global_temperature_.csv\n",
      "Deleted file: data/temporary/NU_DATA/combined/SSP3/3_SSP245_PRIORITARIAN_global_temperature_.csv\n",
      "Deleted file: data/temporary/NU_DATA/combined/SSP3/3_SSP370_PRIORITARIAN_global_temperature_.csv\n",
      "Deleted file: data/temporary/NU_DATA/combined/SSP3/3_SSP460_PRIORITARIAN_global_temperature_.csv\n",
      "Deleted file: data/temporary/NU_DATA/combined/SSP3/3_SSP534_PRIORITARIAN_global_temperature_.csv\n"
     ]
    }
   ],
   "source": [
    "import pandas as pd\n",
    "from pathlib import Path\n",
    "\n",
    "from justice.util.enumerations import WelfareFunction, SSP\n",
    "import h5py\n",
    "from justice.util.output_data_processor import generate_reference_set_policy_mapping\n",
    "import pandas as pd\n",
    "from pathlib import Path\n",
    "\n",
    "\n",
    "nfe = 50_000\n",
    "ssp = SSP.SSP3\n",
    "\n",
    "\n",
    "\n",
    "path = f\"data/temporary/NU_DATA/combined/{str(ssp).split('.')[1]}/\"\n",
    "# Example usage\n",
    "# 1) Set up paths & scenarios\n",
    "swf           = WelfareFunction.PRIORITARIAN\n",
    "base_dir      = Path(path)\n",
    "saving       = True\n",
    "\n",
    "scenario_list = [\"SSP126\",\"SSP245\",\"SSP370\",\"SSP460\",\"SSP534\"]\n",
    "\n",
    "mapping = generate_reference_set_policy_mapping(\n",
    "    swf=swf,\n",
    "    data_root=base_dir,\n",
    "    scenario_list=scenario_list,\n",
    "    saving=saving,\n",
    "    output_directory=\"mapping\",\n",
    "    delete_loaded_files= True,  # Set to True to delete the loaded files after processing\n",
    ")"
   ]
  },
  {
   "cell_type": "markdown",
   "id": "4f3237a1",
   "metadata": {},
   "source": [
    "#### Read the mapping data"
   ]
  },
  {
   "cell_type": "code",
   "execution_count": 2,
   "id": "84735711",
   "metadata": {},
   "outputs": [
    {
     "name": "stdout",
     "output_type": "stream",
     "text": [
      "[-98.13660416 -97.92886322 -98.29999179 ... -98.13745597 -98.06694069\n",
      " -98.29892333]\n",
      "0.32\n"
     ]
    }
   ],
   "source": [
    "import h5py\n",
    "from pathlib import Path\n",
    "from justice.util.enumerations import WelfareFunction, SSP\n",
    "from justice.util.output_data_processor import read_reference_set_policy_mapping\n",
    "\n",
    "\n",
    "# Example usage\n",
    "\n",
    "swf           = WelfareFunction.PRIORITARIAN\n",
    "ssp = SSP.SSP2\n",
    "path = f\"data/temporary/NU_DATA/combined/{str(ssp).split('.')[1]}/\"\n",
    "\n",
    "# base_dir      = Path(path)\n",
    "\n",
    "\n",
    "mapping = read_reference_set_policy_mapping(path, swf.value[1], mapping_subdir=\"mapping\", hdf5_filename_template=\"mapping_{}.h5\")\n",
    "# Example to access the mapping\n",
    "print(mapping[0][\"SSP534\"][\"utilitarian_welfare\"])\n",
    "\n",
    "print(mapping[0]['fraction_above_threshold'])"
   ]
  },
  {
   "cell_type": "markdown",
   "id": "45f718bf",
   "metadata": {},
   "source": [
    "##### Compute 90th percentile regret"
   ]
  },
  {
   "cell_type": "code",
   "execution_count": 1,
   "id": "c0173bd8",
   "metadata": {},
   "outputs": [
    {
     "name": "stderr",
     "output_type": "stream",
     "text": [
      "/Users/palokbiswas/Desktop/pollockdevis_git/JUSTICE/venv/lib/python3.9/site-packages/tqdm/auto.py:21: TqdmWarning: IProgress not found. Please update jupyter and ipywidgets. See https://ipywidgets.readthedocs.io/en/stable/user_install.html\n",
      "  from .autonotebook import tqdm as notebook_tqdm\n"
     ]
    },
    {
     "name": "stdout",
     "output_type": "stream",
     "text": [
      "Saved p90 delta data to data/temporary/NU_DATA/combined/SSP2/p90_regret_PRIORITARIAN_prioritarian_welfare.csv\n"
     ]
    }
   ],
   "source": [
    "import h5py\n",
    "from pathlib import Path\n",
    "import numpy as np\n",
    "import pandas as pd\n",
    "from justice.util.output_data_processor import compute_p90_regret_dataframe\n",
    "from justice.util.enumerations import WelfareFunction, SSP\n",
    "\n",
    "\n",
    "\n",
    "#### Example usage\n",
    "\n",
    "# Define parameters similar to your original code\n",
    "swf = WelfareFunction.PRIORITARIAN\n",
    "ssp = SSP.SSP2\n",
    "path = f\"data/temporary/NU_DATA/combined/{str(ssp).split('.')[1]}/\"\n",
    "\n",
    "variable_of_interest = \"prioritarian_welfare\" #\"prioritarian_welfare\" #\"utilitarian_welfare\" #\"global_temperature\" # Ensure same welfare function \n",
    "direction_of_interest = \"max\" # Use min for global temperature, max for welfare variables\n",
    "\n",
    "baseline_scenario = \"SSP245\" # Change this when working with different scenarios\n",
    "\n",
    "scenario_list = [\"SSP126\",\"SSP245\",\"SSP370\",\"SSP460\",\"SSP534\"]\n",
    "\n",
    "\n",
    "# Call the function to compute the p90 regret dataframe and save it\n",
    "p90_delta_df = compute_p90_regret_dataframe(\n",
    "    base_path=path,\n",
    "    welfare_function_name=swf.value[1],\n",
    "    baseline_scenario=baseline_scenario,\n",
    "    scenario_list=scenario_list,\n",
    "    variable_of_interest=variable_of_interest,\n",
    "    direction_of_interest=direction_of_interest,\n",
    "    mapping_subdir=\"mapping\",\n",
    "    hdf5_filename_template=\"mapping_{}.h5\",\n",
    "    save_df=True,  # Save CSV file\n",
    "    df_output_path=None  # Will save to default location '<base_path>/p90_regret_<welfare_function_name>.csv'\n",
    ")"
   ]
  },
  {
   "cell_type": "markdown",
   "id": "be337679",
   "metadata": {},
   "source": [
    "#### Visualize the regret metrics"
   ]
  },
  {
   "cell_type": "code",
   "execution_count": 1,
   "id": "fe7f1059",
   "metadata": {},
   "outputs": [
    {
     "name": "stderr",
     "output_type": "stream",
     "text": [
      "/Users/palokbiswas/Desktop/pollockdevis_git/JUSTICE/venv/lib/python3.9/site-packages/tqdm/auto.py:21: TqdmWarning: IProgress not found. Please update jupyter and ipywidgets. See https://ipywidgets.readthedocs.io/en/stable/user_install.html\n",
      "  from .autonotebook import tqdm as notebook_tqdm\n"
     ]
    },
    {
     "name": "stdout",
     "output_type": "stream",
     "text": [
      "PRIORITARIAN\n",
      "Policy index with minimum regret: 6\n"
     ]
    },
    {
     "data": {
      "image/png": "[encoded data removed]",
      "text/plain": [
       "<Figure size 1200x800 with 2 Axes>"
      ]
     },
     "metadata": {},
     "output_type": "display_data"
    },
    {
     "data": {
      "text/plain": [
       "<Axes: title={'center': 'Δ PRIORITARIAN Regret_prioritarian_welfare'}, xlabel='Scenario', ylabel='Policy Index'>"
      ]
     },
     "execution_count": 1,
     "metadata": {},
     "output_type": "execute_result"
    }
   ],
   "source": [
    "import matplotlib.pyplot as plt\n",
    "import seaborn as sns\n",
    "from pathlib import Path\n",
    "from justice.util.visualizer import plot_regret_heatmap\n",
    "import pandas as pd\n",
    "from justice.util.output_data_processor import minimax_regret_policy\n",
    "from justice.util.enumerations import WelfareFunction, SSP\n",
    "\n",
    "# Example usage:\n",
    "# Define parameters similar to your original code\n",
    "swf = WelfareFunction.PRIORITARIAN\n",
    "ssp = SSP.SSP2\n",
    "path = f\"data/temporary/NU_DATA/combined/{str(ssp).split('.')[1]}/\"\n",
    "variable_of_interest = \"prioritarian_welfare\"\n",
    "\n",
    "\n",
    "swf_name = swf.value[1]  # e.g., 'prioritarian' or 'utilitarian'\n",
    "print(swf_name)\n",
    "baseline_scenario     = \"SSP245\"\n",
    "base_dir              = Path(path)\n",
    "plot_dir              = base_dir / \"plots\"\n",
    "plot_dir.mkdir(exist_ok=True, parents=True)\n",
    "\n",
    "data = pd.read_csv(\n",
    "    base_dir / f\"p90_regret_{swf_name}_{variable_of_interest}.csv\",\n",
    "    index_col=0,)\n",
    "name = f\"Regret_{variable_of_interest}\" #\"Utilitarian_Temperature_Regret\"\n",
    "\n",
    "\n",
    "temp_idx = minimax_regret_policy(data)   \n",
    "print(\"Policy index with minimum regret:\", temp_idx)\n",
    "\n",
    "# Suppose you have N rows and M columns.  A good rule‐of‐thumb is:\n",
    "#   height = N * row_height, width = M * col_width\n",
    "# e.g. row_height=0.25 inch, col_width=1 inch\n",
    "n_rows, n_cols = data.shape\n",
    "fig_w = n_cols * 1.0\n",
    "fig_h = n_rows * 0.25\n",
    "\n",
    "plot_regret_heatmap(\n",
    "    data=data,\n",
    "    figsize=(12, 8),\n",
    "    font_scale=1.2,\n",
    "    cmap= sns.diverging_palette(145, 300, s=60, as_cmap=True),#sns.diverging_palette(220, 20, as_cmap=True),#\"vlag\", #\"coolwarm\",\n",
    "    center=0.0,\n",
    "    square=True,\n",
    "    cbar_label=\" \",\n",
    "    title=f\"Δ {swf_name} {name}\",\n",
    "    show_values=False,           # ← turn on annotations\n",
    "    fmt=\".3f\",                  # three decimal places\n",
    "    annot_kws={\"size\": 8, \"color\": \"black\"},\n",
    "    save_path=plot_dir / f\"{swf_name}_{name}_{variable_of_interest}_diff_annotated.svg\",\n",
    "    xtick_labelsize=10,\n",
    "    ytick_labelsize=10,\n",
    "    scaling=True,               # ← scale to [-1,1]\n",
    ")"
   ]
  },
  {
   "cell_type": "markdown",
   "id": "ac235baf",
   "metadata": {},
   "source": [
    "#### Extract variables for selected policies\n",
    "SSP2\n",
    "\n",
    "```\n",
    "    Utilitarian\n",
    "                Welfare Regret    | Temperature Regret\n",
    "            pi:  29               | 4\n",
    "    \n",
    "    Prioritarian\n",
    "                Welfare Regret    | Temperature Regret\n",
    "            pi:   6               | 8\n",
    "```"
   ]
  },
  {
   "cell_type": "code",
   "execution_count": 1,
   "id": "c586f337",
   "metadata": {},
   "outputs": [
    {
     "name": "stderr",
     "output_type": "stream",
     "text": [
      "/Users/palokbiswas/Desktop/pollockdevis_git/JUSTICE/venv/lib/python3.9/site-packages/tqdm/auto.py:21: TqdmWarning: IProgress not found. Please update jupyter and ipywidgets. See https://ipywidgets.readthedocs.io/en/stable/user_install.html\n",
      "  from .autonotebook import tqdm as notebook_tqdm\n"
     ]
    },
    {
     "name": "stdout",
     "output_type": "stream",
     "text": [
      "Processing scenario: SSP534 with policy index: 4 for UTILITARIAN\n",
      "index for policy:  4\n",
      "6 SSP534\n",
      "Welfare:  103.68435345942848\n",
      "Keys of the scenario data:  dict_keys(['SSP534'])\n",
      "File saved as UTILITARIAN_reference_set_idx4 at location data/temporary/NU_DATA/combined/SSP2/\n",
      "Directory:  /Users/palokbiswas/Desktop/pollockdevis_git/JUSTICE\n",
      "SSP534\n",
      "File saved as UTILITARIAN_global_temperature_idx4_SSP534_global_temperature at location data/temporary/NU_DATA/combined/SSP2\n",
      "Directory:  /Users/palokbiswas/Desktop/pollockdevis_git/JUSTICE\n",
      "SSP534\n",
      "File saved as UTILITARIAN_constrained_emission_control_rate_idx4_SSP534_constrained_emission_control_rate at location data/temporary/NU_DATA/combined/SSP2\n",
      "Directory:  /Users/palokbiswas/Desktop/pollockdevis_git/JUSTICE\n",
      "SSP534\n",
      "File saved as UTILITARIAN_emissions_idx4_SSP534_emissions at location data/temporary/NU_DATA/combined/SSP2\n"
     ]
    }
   ],
   "source": [
    "import pandas as pd\n",
    "from justice.util.output_data_processor import reevaluate_optimal_policy, get_selected_policy_indices_based_on_welfare_temperature, reevaluated_optimal_policy_variable_extractor\n",
    "from justice.util.model_time import TimeHorizon\n",
    "from justice.util.data_loader import DataLoader\n",
    "from justice.util.enumerations import WelfareFunction, SSP\n",
    "\n",
    "scenario_list = [\"SSP126\",\"SSP245\",\"SSP370\",\"SSP460\",\"SSP534\"]\n",
    "\n",
    "start_year = 2015\n",
    "end_year = 2300\n",
    "data_timestep = 5\n",
    "timestep = 1\n",
    "\n",
    "\n",
    "\n",
    "data_loader = DataLoader()\n",
    "region_list = data_loader.REGION_LIST\n",
    "\n",
    "# Set the time horizon\n",
    "time_horizon = TimeHorizon(\n",
    "    start_year=start_year,\n",
    "    end_year=end_year,\n",
    "    data_timestep=data_timestep,\n",
    "    timestep=timestep,\n",
    ")\n",
    "\n",
    "list_of_years = time_horizon.model_time_horizon\n",
    "\n",
    "\n",
    "swf = WelfareFunction.UTILITARIAN\n",
    "policy_index = 4 #Put the policy index here.\n",
    "ssp = SSP.SSP2\n",
    "\n",
    "path = f\"data/temporary/NU_DATA/combined/{str(ssp).split('.')[1]}/\"\n",
    "\n",
    "base_dir                = path\n",
    "input_data_name = f\"{swf.value[1]}_reference_set_idx{policy_index}.h5\"\n",
    "\n",
    "scenario = scenario_list[4] # Iterate manually through the scenarios and reset kernel every scenario\n",
    "\n",
    "print(f\"Processing scenario: {scenario} with policy index: {policy_index} for {swf.value[1]}\")\n",
    "\n",
    "##############################################################################\n",
    "\n",
    "# NOTE: The following code generates large dataframes and saved them in the data/temporary folder. Size is ~ 1.5 GB each run\n",
    "\n",
    "reevaluate_optimal_policy(\n",
    "    input_data=[\n",
    "        f\"{swf.value[1]}_reference_set.csv\",\n",
    "\n",
    "\n",
    "    ],\n",
    "\n",
    "    path_to_rbf_weights=path,  #  reevaluation\n",
    "    path_to_output=path,  #  reevaluation\n",
    "    direction_of_optimization=[\n",
    "        \"min\",\n",
    "        \"min\",\n",
    "    ],\n",
    "    rbf_policy_index= policy_index, #selected_indices[0], # This chooses policy for a particular rival framing. Can also set to the index directly\n",
    "    list_of_objectives=[\n",
    "        \"welfare\",\n",
    "        \"fraction_above_threshold\",\n",
    "    ],\n",
    "    scenario_list= [scenario],  \n",
    ")\n",
    "\n",
    "\n",
    "############################################################################################################\n",
    "\n",
    "variable_names_and_shapes = {\n",
    "    \"global_temperature\": 2,\n",
    "    \"constrained_emission_control_rate\": 3,\n",
    "    \"emissions\": 3,\n",
    "}\n",
    "for variable_name, data_shape in variable_names_and_shapes.items():\n",
    "    reevaluated_optimal_policy_variable_extractor(\n",
    "        scenario_list= [scenario],  \n",
    "        region_list=region_list,\n",
    "        list_of_years=list_of_years,\n",
    "        path_to_data=path,  \n",
    "        path_to_output=path,   \n",
    "        variable_name=variable_name,\n",
    "        data_shape=data_shape, # 2 for temperature, 3 for rest\n",
    "        no_of_ensembles=1001,\n",
    "        input_data=[\n",
    "            input_data_name,\n",
    "        ],\n",
    "        output_file_names=[\n",
    "            f\"{swf.value[1]}_{variable_name}\",\n",
    "        ],\n",
    "    )\n",
    "\n"
   ]
  },
  {
   "cell_type": "code",
   "execution_count": 1,
   "id": "bf715844",
   "metadata": {},
   "outputs": [
    {
     "name": "stdout",
     "output_type": "stream",
     "text": [
      "Data is 3D\n",
      "Shape of data:  (57, 286, 1001)\n",
      "Shape of data after summing:  (286, 1001)\n",
      "Data is 3D\n",
      "Shape of data:  (57, 286, 1001)\n",
      "Shape of data after summing:  (286, 1001)\n",
      "Data is 3D\n",
      "Shape of data:  (57, 286, 1001)\n",
      "Shape of data after summing:  (286, 1001)\n",
      "Data is 3D\n",
      "Shape of data:  (57, 286, 1001)\n",
      "Shape of data after summing:  (286, 1001)\n",
      "Data is 3D\n",
      "Shape of data:  (57, 286, 1001)\n",
      "Shape of data after summing:  (286, 1001)\n"
     ]
    },
    {
     "data": {
      "application/vnd.plotly.v1+json": {
       "config": {
        "plotlyServerURL": "https://plot.ly"
       },
       "data": [
        {
         "line": {
          "color": "rgba(141,211,199, 1)"
         },
         "mode": "lines",
         "name": "SSP1",
         "type": "scatter",
         "x": {
          "bdata": "3wfgB+EH4gfjB+QH5QfmB+cH6AfpB+oH6wfsB+0H7gfvB/AH8QfyB/MH9Af1B/YH9wf4B/kH+gf7B/wH/Qf+B/8HAAgBCAIIAwgECAUIBggHCAgICQgKCAsIDAgNCA4IDwgQCBEIEggTCBQIFQgWCBcIGAgZCBoIGwgcCB0IHggfCCAIIQgiCCMIJAglCCYIJwgoCCkIKggrCCwILQguCC8IMAgxCDIIMwg0CA==",
          "dtype": "i2"
         },
         "xaxis": "x",
         "y": {
          "bdata": "AvdP+ipOQUBMZ+QIixhBQP/Gs1ug10BARid9xv2NQEAMGXP6bD1AQEH8MCJHzj9AjcKn0MqkQED6GM1O8V1BQPXJaS3RFUJAeiLD4FLFQkDHZfc+b9NCQD4MN6yZJUJASG+foOJXQUA0BMiSrHdAQOk5srYvGz9A5fUyOrE/PUADh0FYFuc7QK4VpCwPgDpAw2CKntELOUA/RbC3JI03QEKtJJjJBDZAUPUi1NyONEAimepvSBAzQBTHwC+1izFAlTagWHkDMEBeIwKByfcsQC1zt7UEIipAG92uB5qMJ0AkqX940AIlQC7V2vz53iJA8P4kOZAPIUBFcN8vJ2YfQEZaZpCp6hxAmVoieIJsG0Aa80vLNy8ZQNTvVDphthdADqkO/rfhFUC439IhPQIVQOPbrcb9KxRAQKymyOBTE0AWJ3xhzOYSQMuQx+WGdRJAtE/e2jHAEUBQpCvlkyURQAgq17Z8ixBAc7dt6l4WEEDxKUpUh+YPQE67nm6dqg9AkrJGPJi8DkD9RqOKFYMOQBzqXIAy0Q1AzbmQ6SJVDUCAvDGigfcMQEolM4dyygxAtL52wIBoDEBghrjwgDELQN/yC8n6AAtAnejr1ZSnCkAxCJvC2wEKQLbPwK65UwlAkyvH/+znCEBvYojNz1wIQImVgEIpmQdAiL5N5LZYB0AC+ZpZ5C8HQBU6v9zqigZA51GNLzXkBUDCARovhSsFQJ94z9yn2ARAlT8V8mB7BEDtVliq1z4EQIHRmZfkGARA7RPefQW8A0Brlxr2+nMDQEyNH4JOQQNApIdQ39cLA0BEmrC/FKsCQL/1IhrGNgJAlPPsH6zCAUBiFNk4sC4BQM1Iq2g8cgBAyiynjulFAEDVmcdhBY7/PxMC+Uv7mv4/LoEXVbPU/T9h6wyhIEj9Pw==",
          "dtype": "f8"
         },
         "yaxis": "y"
        },
        {
         "fillcolor": "rgba(141,211,199, 0.4)",
         "line": {
          "width": 0
         },
         "mode": "lines",
         "showlegend": false,
         "type": "scatter",
         "x": {
          "bdata": "3wfgB+EH4gfjB+QH5QfmB+cH6AfpB+oH6wfsB+0H7gfvB/AH8QfyB/MH9Af1B/YH9wf4B/kH+gf7B/wH/Qf+B/8HAAgBCAIIAwgECAUIBggHCAgICQgKCAsIDAgNCA4IDwgQCBEIEggTCBQIFQgWCBcIGAgZCBoIGwgcCB0IHggfCCAIIQgiCCMIJAglCCYIJwgoCCkIKggrCCwILQguCC8IMAgxCDIIMwg0CA==",
          "dtype": "i2"
         },
         "xaxis": "x",
         "y": {
          "bdata": "AvdP+ipOQUBMZ+QIixhBQP/Gs1ug10BARid9xv2NQEAhTDplbT1AQKmbwj+Kzj9AIsxsARKlQEDjYlgVe15BQLPbvRCdFkJA21QfxnTGQkBgHGNfO9lCQEx0YrGkK0JA1qmW+9hdQUDDgXomm31AQCaAx6SHJz9AG8iptLxLPUA8HwlYa/M7QLj4PxggjTpAy0eA57sZOUBs09mj5po3QI2+jj1TEzZAnYoJ+aCeNEDi3i07CyMzQOQDdyb8pDFALk90GBc4MEBONnSB0uEtQCJoW7JWfytAlNqSGpZXKUBPnCvUS4wnQIPMoJX2HCZAz9zGe8EuJUAlkWFrg4MkQCasxMFzFCRASHFzBqhxI0DrNJJ3GPMiQHuOsHoxPCJAuGcypuzjIUBgPHCSllAhQEHUPzDz7yBA6n9JemiOIEAtKCyRCVkgQM7mEk3ZLyBAqpn1naQMIEBmtplLa5cfQLuhYMD5Yx9AhqOI49sDH0ARV+tGTqkeQFxQQVfkax5AR6h3DWTkHUD5cnEj9bodQJuv9M0Jbh1AlBaFoooeHUAhvlWD4u4cQED2/JBhhhxAASKlzINbHEBFOl2x+qAbQFbvtQMgcBtAgSC5WD8oG0Bh+rlRltoaQHdpFNYDmxpA49RBElRKGkA2dgHoy/8ZQM4+//9myxlA+HrYKNNmGUDOFuu4JhsZQPZrY4NxWxhAEPo+Zh4vGECNRy1zYvoXQAKTiJVKjhdAatnOd65WF0DK82udOOIWQBLN6rpKmBZAlq9ct30HFkC3koMPILcVQN/h0xlzfBVAyFiDWitAFUChMY26qgkVQJuA90jfpxRAZV2ebTFKFEACN4nQXcsTQGWPI3NFdRNABNt+TapCE0Bbm9OtFA0TQLm6N0bq1BJAqdtskt+JEkCFOJxFYTUSQA==",
          "dtype": "f8"
         },
         "yaxis": "y"
        },
        {
         "fill": "tonexty",
         "fillcolor": "rgba(141,211,199, 0.4)",
         "line": {
          "width": 0
         },
         "mode": "lines",
         "showlegend": false,
         "type": "scatter",
         "x": {
          "bdata": "3wfgB+EH4gfjB+QH5QfmB+cH6AfpB+oH6wfsB+0H7gfvB/AH8QfyB/MH9Af1B/YH9wf4B/kH+gf7B/wH/Qf+B/8HAAgBCAIIAwgECAUIBggHCAgICQgKCAsIDAgNCA4IDwgQCBEIEggTCBQIFQgWCBcIGAgZCBoIGwgcCB0IHggfCCAIIQgiCCMIJAglCCYIJwgoCCkIKggrCCwILQguCC8IMAgxCDIIMwg0CA==",
          "dtype": "i2"
         },
         "xaxis": "x",
         "y": {
          "bdata": "AvdP+ipOQUBMZ+QIixhBQP/Gs1ug10BARid9xv2NQEAuCjTWaD1AQEo1zAz3zT9Ansd0KH6kQEAabP8GcV1BQH3VMsMQFUJAfv3qPE3EQkCq0L3X181CQNwTO1C8H0JA8RHgmcdRQUC/3ifzo3FAQL3/xgGMDz9ALBClnuMzPUAZgJDG89o7QFWcIYuMczpAINiDziP/OEDotg8ai383QFIkAscx9jVA4psgz4R/NEBYugpY4v8yQJafxE8WeTFA7BOelKjYL0Dg+cyL5bcsQHwTTl8orClAOl1c9SCbJkDPeb8E440jQE+uwyjtnyBAhidDIggBHECmS/WQbgEXQGZ+xEnZmRJABU6B2o2fD0CI6vxwFyUMQJUn/dqiJghAjT9VKsAuBEAWCL0WafQCQI8wsDBRMAFAdYNY5bNz/z/362psalr+P2ResxBihfo/Huk5Zrf99z8RT+dZvHn2P2a4WyDNEvU/MtxhPuLk8j98JsF8FerxP3Rz/4Fv9PA/IMm4f9/q7z/uWPSfP23uP0G2YRsBQu0/GsPIdsu46z/5qRWn1h7rPxRng34vq+o/+I7n3Jb66D+gWTSPZwnoP4JJ1peI9OY/XiSKz2ab5j+zItf5hpXlP/QhLntN+eQ/UwleJxdl5D+AC1jhhwnkP8diTEydt+M/wpaOlvUS4z+wnzIH24LiP9+sbn72wOE/Ud/4wDsx4T/l7G/lIoHgPyfqjltBJeA/8xW69vju3z/f4RyuuGreP8lBE+f7Et4/5unpyKMk3T+h/c2GpXncPwys4tpxJdw/F3gnMvf02j8NRo5AX6faP4tzzzzh+Nk/nXp+gjiX2T8XrNIVbfjYP4ImB27Witg/9rE2rd0b2D//QfVJ5NDXP5qBSecU6dY/H9HCbVtw1j9TkzD2cBPWPw==",
          "dtype": "f8"
         },
         "yaxis": "y"
        },
        {
         "line": {
          "color": "rgba(254,217,166, 1)"
         },
         "mode": "lines",
         "name": "SSP2",
         "type": "scatter",
         "x": {
          "bdata": "3wfgB+EH4gfjB+QH5QfmB+cH6AfpB+oH6wfsB+0H7gfvB/AH8QfyB/MH9Af1B/YH9wf4B/kH+gf7B/wH/Qf+B/8HAAgBCAIIAwgECAUIBggHCAgICQgKCAsIDAgNCA4IDwgQCBEIEggTCBQIFQgWCBcIGAgZCBoIGwgcCB0IHggfCCAIIQgiCCMIJAglCCYIJwgoCCkIKggrCCwILQguCC8IMAgxCDIIMwg0CA==",
          "dtype": "i2"
         },
         "xaxis": "x",
         "y": {
          "bdata": "8Ywo5GhRQUAD0PIAUU5BQIshhq1LQ0FAYiqpLCwzQUDNz8MZ9B9BQMhvf/wJC0FAjFxkHp75QUA5TyP6huVCQCYCJxCm0ENAmqOqQwSzREAJdiPfWuJEQL7opCZcN0RAgnP01o9xQ0DGXRBqUpxCQKde2zbAvkFAo+7iiv7dQECbB2IowxhAQGxOUSkenD5AOH9c6CD9PEAE/9dQ11U7QIkBpzGLpzlAbwzY2hINOEDsgQGBC2o2QCNiD3CIvTRAn9teSVkKM0B9L0oX91IxQHtAZORxRi9AsFVwQi4eLEBpRaAfqgcpQCWJTyqHISZA5WymdRtkI0DBNjADqPYgQJAWuGTGXR1ARRdP0AboGkCiMKpE+sYYQGi5BTkROxZAe0GRmF3sE0ClOS3TAPUSQB1i5S8schFApTfGAskXEEARb/ltmEUOQA5ADm8z9wtAfX4nrDU1CkDHeYWZjP8IQCxX8pDgsAdAADR4eloNBkCrTV0DRLcFQFckGeFcqwRA6o5HXcPuAkA5DhWtl5QCQDgODvCAYgFAhxCmRCLtAEDYsaxPrmgAQFnNY69INP8/t9MPraNi/T+7xGLyHpT7P7rJ608a3vo/UqynhutS+j9FicZ7Hbj5P+swbAXjNvk/KKaZLTlS+D8fs/pUYjv4P+KK5/4P0/c/JQmpDviA9z8sXDHGTnn3P6akVl5iR/c/UdGYrGQG9z/jC+SwYGf2P1WV1FTKEPY/WzEaDl7h9T+jk3w+D/P0PzYflGpw4/Q/Ls43j2yS9D+Cdh5g1jv0Pz4pOleasfM/7n6YQuZb8z9QBS//wEjzP2xAw0OhLPM/7eUo7Q8V8z88XDXp7uXyPxuzl9OJxvI/9prXS9O08j/WgOTPVbryPxSvb9gin/I/QCbe+POF8j+zf5W2kIvyPw==",
          "dtype": "f8"
         },
         "yaxis": "y"
        },
        {
         "fillcolor": "rgba(254,217,166, 0.4)",
         "line": {
          "width": 0
         },
         "mode": "lines",
         "showlegend": false,
         "type": "scatter",
         "x": {
          "bdata": "3wfgB+EH4gfjB+QH5QfmB+cH6AfpB+oH6wfsB+0H7gfvB/AH8QfyB/MH9Af1B/YH9wf4B/kH+gf7B/wH/Qf+B/8HAAgBCAIIAwgECAUIBggHCAgICQgKCAsIDAgNCA4IDwgQCBEIEggTCBQIFQgWCBcIGAgZCBoIGwgcCB0IHggfCCAIIQgiCCMIJAglCCYIJwgoCCkIKggrCCwILQguCC8IMAgxCDIIMwg0CA==",
          "dtype": "i2"
         },
         "xaxis": "x",
         "y": {
          "bdata": "8Ywo5GhRQUAD0PIAUU5BQIshhq1LQ0FAYiqpLCwzQUA/DZuK9B9BQDyz+gguC0FA/fyzZOr5QUAfIT9oFeZCQD4Orlhz0UNAxfe9+DG0RECjf3Jj9ehEQDrIS+VIPkRASYTB6I54Q0DTmr4SVKNCQIkal8XxxUFACUVuqh7lQECgn/vZDCBAQFxqTRzwqj5A39zDOMcMPUA0ArwW22U7QDQidwKQuDlA+sD5JbYeOEClqlnDHn42QE6Y8kSs1jRA74EEtmM3M0A3kLhkgbkxQOZLSS9UQDBApI3CQVHfLUCjz+YBxGArQCgEuC6WbylAeh+VjnRmJ0DJnNePITEmQGIpfxz+JCVAf0SClP9FJEA1k9J5wl4jQLKBjdILhSJA23+9Msk9IUBT4vL83o8gQO9RpJNlGCBAqB9idhlJH0ALtjRLni0eQNPlFMKW3hxAhr2C4MrQG0C+8CxZqB8bQFVtJWlolxpAXMJlFqOBGUCu6lAXhgMZQEQA7IuBsRhAiHHw2NU/GEDGPG943c8XQDky705XexdARinEdCxdF0A/OeFlOdkWQFysb04zURZA5Cyhe+ZPFkARIay6N3UVQLEjv8mEbhVA8ogk3p/iFEBNWV48o8wUQG2qHh6jTxRAPVt9JfTDE0AvW3D+bbYTQCPUjK6RGBNAo6bqofZ6EkAVHsUA+VMSQOrVr7XTMxJARehwdczkEUAorX1HAEgRQA927opY9RBAz/9B5IOuEEARgDH4KE4QQAupNPb3NBBAAkYZLK+GD0DSC36086APQDDpcoswOg9A42A6RsexDkAe0sLmLdMOQMmPthprEg9AIyrw3quBDkA2KVC+2LkNQJDW8IOekQ1AUG0ZXXu/DUCWlOdck8oMQHaNgBUK0QxADGgmM2V2DEBDWPsBpiAMQA==",
          "dtype": "f8"
         },
         "yaxis": "y"
        },
        {
         "fill": "tonexty",
         "fillcolor": "rgba(254,217,166, 0.4)",
         "line": {
          "width": 0
         },
         "mode": "lines",
         "showlegend": false,
         "type": "scatter",
         "x": {
          "bdata": "3wfgB+EH4gfjB+QH5QfmB+cH6AfpB+oH6wfsB+0H7gfvB/AH8QfyB/MH9Af1B/YH9wf4B/kH+gf7B/wH/Qf+B/8HAAgBCAIIAwgECAUIBggHCAgICQgKCAsIDAgNCA4IDwgQCBEIEggTCBQIFQgWCBcIGAgZCBoIGwgcCB0IHggfCCAIIQgiCCMIJAglCCYIJwgoCCkIKggrCCwILQguCC8IMAgxCDIIMwg0CA==",
          "dtype": "i2"
         },
         "xaxis": "x",
         "y": {
          "bdata": "8Ywo5GhRQUAD0PIAUU5BQIshhq1LQ0FAYiqpLCwzQUBiwUyz7x9BQJRoqJfeCkFA6WY9iUv5QUDEVO0+/eRCQL6AZsTaz0NAy/nBNO+xREDfYO3AB9xEQBpGa67BMERAaH5lxclqQ0C0jGgLd5VCQJ1981H9t0FAAMr/4QPXQEA8+9k7khFAQKZhoiVUjT5AvELqBsbtPECQj8gL00U7QMPl0PJvlzlA7yhN6wj8N0Bg9LHhFlc2QO0dfh5PqTRAqvOccXPzMkBZ5dh91zYxQFg6E10T9y5ACKswomNzK0DwOorqruYnQCyAAfZRViRAmqsNi8jhIEDvNEMsKmUbQBEIkaiEqxVA2nWQtEdVEUAkQ/3Y7E4LQDdOjcyiOAhAdm5Oh+XiBEAeHLppsxUDQDJQngFDAQFAP2LsAd3N/z8fL4eSNj3+P11wC6OE3/g/pI7ZbtpE9j/Vs19UobD0P5VbUY1W7fI/rkvnCyj/8T9J3k50IaPwP7cXPn2VpO8/q7YFRTkL7z+49Vhd4aPtPxm5mThvj+0/mM5uWIZU7D9aPqLkZvHrP9KCrWSfi+s/eSw5tC5V6j/SroB6N5fpPycnOYwM9ug/p9gMFzCP6D8g/OhgRiroPwujlw6xEug/B6gyD38v6D+X9MHGO+znP9krm+QmyOc/edSUe/Le5z8cQHfg9NLnP0Pn/a9dkuc/WYZ/2ZhE5z+s2YC1kDLnP2M0LqjGHuc/EIbdvvY45z+I3NIHARrnP2BHvLdjvuY/LCPUrx/F5j82+p3d55LmP4nWcoZwt+Y/9x468b/I5j8DIMhC0qfmP0Kr+xobxOY/NOMTdfuw5j8SGRIQv47mP3T0wcOafeY/inT7MaKa5j96xdfIcLDmP1dO2oECx+Y/H7OI1Xro5j+s4mQC4efmPw==",
          "dtype": "f8"
         },
         "yaxis": "y"
        },
        {
         "line": {
          "color": "rgba(190,186,218, 1)"
         },
         "mode": "lines",
         "name": "SSP3",
         "type": "scatter",
         "x": {
          "bdata": "3wfgB+EH4gfjB+QH5QfmB+cH6AfpB+oH6wfsB+0H7gfvB/AH8QfyB/MH9Af1B/YH9wf4B/kH+gf7B/wH/Qf+B/8HAAgBCAIIAwgECAUIBggHCAgICQgKCAsIDAgNCA4IDwgQCBEIEggTCBQIFQgWCBcIGAgZCBoIGwgcCB0IHggfCCAIIQgiCCMIJAglCCYIJwgoCCkIKggrCCwILQguCC8IMAgxCDIIMwg0CA==",
          "dtype": "i2"
         },
         "xaxis": "x",
         "y": {
          "bdata": "gCsap4VUQUAqVE7lzG9BQF+YzQzShEFAf2Jr71KWQUBQQqbXRKZBQOKL1wYJtkFAuoPb5A7XQkAYiBhW+PtDQJpXNexvKEVAmUlErNJVRkDn7VHP4stGQEF0fSZBD0ZAgX/CDnYzRUDFOQiIFEZEQEXmDtniT0NAG+EJft1WQkDPfoWpnHJBQCc+FHfciUBADlGIvY87P0C2pbqZaV09QK3JMLrsejtAzqWwawKrOUAnfgBbFdY3QGNHDdO5+zVAl80IBlMdNEDFiDSY00AyQM9m96XScTBAOlupImiELUBYNGLQtUsqQO9Ax7LQKCdAaCFZoPY9JEBWhA8QfMchQCIO4Sd1UR9AFjxkIaGsG0B6lZNSoooYQM0t42qVHBZApUh5+NHFE0AN+XpgNL8RQNZADdw35Q9AZ63CHMtCDUBKnbqfAEULQARAzL8FSQlAwLJ/D2yNBkDOkavCPqMDQOpBb3WV6wFAWHD7E/VnAUDljKBpfp3+P5tWdDLH6Ps/N07ghqZq+j/FixMC0qf4P2Fi4FGMOfg/micx7i4O9z+BBm//BEb2P/1AFXnwF/U/24k9L6Hv8z94KWFpG07zP814PxE89/E/tFbv8JxL8T/yd+GaTeXwP2osmOWcnfA/QByzwuCJ8D+SBByby+fvP5qGGgpGRO8/YH5Gqj3c7j9zrSZNzoruP2jefh1XPe4/wWkDdSus7T/EJhWQIATtP7hCXWNc3+w/yhOVBlq47D8ZMUUTDaXsP0l9/dkvOew/A0LY6mjj6z/kZnBIjJHrP0es89Zocus//nl1Ffxp6z8WnNGbLifrPyJ+3YUbD+s/2pSv9z4j6z/ZXjVWmh7rPwkbK6ljJ+s/Hjucqz7Y6j9oAWUGF7/qP2jIVYoR6eo/oSeq8pIJ6z8ViKE5lzHrPw==",
          "dtype": "f8"
         },
         "yaxis": "y"
        },
        {
         "fillcolor": "rgba(190,186,218, 0.4)",
         "line": {
          "width": 0
         },
         "mode": "lines",
         "showlegend": false,
         "type": "scatter",
         "x": {
          "bdata": "3wfgB+EH4gfjB+QH5QfmB+cH6AfpB+oH6wfsB+0H7gfvB/AH8QfyB/MH9Af1B/YH9wf4B/kH+gf7B/wH/Qf+B/8HAAgBCAIIAwgECAUIBggHCAgICQgKCAsIDAgNCA4IDwgQCBEIEggTCBQIFQgWCBcIGAgZCBoIGwgcCB0IHggfCCAIIQgiCCMIJAglCCYIJwgoCCkIKggrCCwILQguCC8IMAgxCDIIMwg0CA==",
          "dtype": "i2"
         },
         "xaxis": "x",
         "y": {
          "bdata": "gCsap4VUQUAqVE7lzG9BQF+YzQzShEFAf2Jr71KWQUCqVIRBRaZBQPmOWccttkFAE9LHgF3XQkAGcBe7ifxDQK1W0GpMKUVAUtUSJg9XRkChJIXgSdNGQKGWUqfiFkZAJ8nuMvg6RUBzQ4D5u01EQGhdVCKEV0NA48dcJopeQkAmWDzvxnpBQE9DFO6CkkBAdxd+YPJMP0DOqH9ZFW89QK0Fjx6KjTtAUTacS9m+OUBBSsDMbOw3QLpaQ1+eGTZAAESRt/dbNEAnwhh5krsyQAfZlIgvIjFAL+vl3XNnL0DRy4GqVLYsQBx732uXjSpAA845JR5zKECIPYT/lFknQJyNhky3yCVA+nJS2vl0JECU4X0KjZ8jQJN2moEiQyJAmvIBYMlCIUD806dzE38gQAuo5qoYSB9AXybEr/YOHkCKPRn8RUgcQF3bDtJ4fhpAmG65U3S9GEAbogTRx+MWQHUA19em9hVAqtTZQytDFEBOdriZRk4TQGxfUvjNoxJAMLUuqbQqEUBhSdGPq1wQQE9VHdCgABBAptJU1b/QDUBdY+1UwFcKQEpJ7oVNowhATCJxSdhpBkC7imxyDf0EQDznmF48/wNAkQnpdN9UA0DY8NB6yeICQFc44blnUAJAlPodhi7bAUCnABav2IkAQMUX0Y1gjv4/djYkpcg9/T+oK8S0GBf8P6jgN2/w5fs/edy+II+7+j/5IuwAmEj6P6kplYTe8vg/PVhbb5tS+D/vQiB1YzP4P473DLlyevc/mSCIxgU69j9RjWUB2sf1P1aExCn2rPU/2NQZW/TU9D/Dsa8P3530P4StTwXwavQ/IwjJxuEx9D9QUtsfqy/0P/I9/4WITvQ//U2QZGwK9D/9a2znD97zP5Zjm0RV7/M/Ae0PYNn28z+VzbfqnA/0Pw==",
          "dtype": "f8"
         },
         "yaxis": "y"
        },
        {
         "fill": "tonexty",
         "fillcolor": "rgba(190,186,218, 0.4)",
         "line": {
          "width": 0
         },
         "mode": "lines",
         "showlegend": false,
         "type": "scatter",
         "x": {
          "bdata": "3wfgB+EH4gfjB+QH5QfmB+cH6AfpB+oH6wfsB+0H7gfvB/AH8QfyB/MH9Af1B/YH9wf4B/kH+gf7B/wH/Qf+B/8HAAgBCAIIAwgECAUIBggHCAgICQgKCAsIDAgNCA4IDwgQCBEIEggTCBQIFQgWCBcIGAgZCBoIGwgcCB0IHggfCCAIIQgiCCMIJAglCCYIJwgoCCkIKggrCCwILQguCC8IMAgxCDIIMwg0CA==",
          "dtype": "i2"
         },
         "xaxis": "x",
         "y": {
          "bdata": "gCsap4VUQUAqVE7lzG9BQF+YzQzShEFAf2Jr71KWQUBHxaB5QKZBQAxhwU/ctUFAwlR/fbrWQkB1RMiYY/tDQDHJpPucJ0VAUe0Sb6tURkC9dl0nB8VGQCnl7uQWCEZAD2kn2gMsRUCdSFtfsz5EQE/NZ22CSENAoYtXiLJPQkCQSpnFW2tBQIDd6KdRgkBA88xRhXQrP0B4zbFKq0w9QAGJqaB9aTtA2bSNe9qYOUDz2M9q/cE3QLijNUPm5TVAWL2kg8wENEDm9fH6NSAyQF/ywe+jOzBA6jaruQqrLEB3o8FaxeAoQPsm0HnnGCVAf4uHfDmmIUBX0bazlowcQHRq+dgIQRZAKyldqzmLEUC16+9uq8kMQGK1DVTqIQhAGcLueq1RBUDhRY81AqkCQJVN744qFgFAyQQt7i5M/j+p+FVvQpv8P5U0ApY1jfg/8PEBlid39j8utZMuWp30P8zrbEVGBfI/enMZ9Z+k8D9Ljfb0RRfvPzIJ4sLwI+0/AJx8znTm6z/57Vi1i+jqP4FvIiKgk+o/h/pSzYPg6T/pEXm3WBTpP5B5/f1Fwuc/q9GMXJIp5z9X6dPQILjmP9GfDhJeZ+Y/Nq0nDUkk5j9CSyZVTvTlP3k53MMR9+U/chDXUyzT5T881+lbD0flP0N/sblYBeU/qVDJVO+d5D8cV/cBcKfkP4osNMezhuQ/rlZeKZND5D96kIh5EyrkPz1UsPKAJOQ/QZ3j9stC5D+4UGN9bkzkP652GHHaNuQ/zRPM8YBG5D94JZxI+k7kP/iy6l0qY+Q/GBB86cZx5D849PePkF/kP1StrJXKeuQ/QMh+o6eG5D/bGY1G7pPkPzM+bWPyueQ/4aYFBO7V5D862VaexPvkP7n70heGDOU/DWowR3Ex5T+WFZ2QVFPlPw==",
          "dtype": "f8"
         },
         "yaxis": "y"
        },
        {
         "line": {
          "color": "rgba(128,177,211, 1)"
         },
         "mode": "lines",
         "name": "SSP4",
         "type": "scatter",
         "x": {
          "bdata": "3wfgB+EH4gfjB+QH5QfmB+cH6AfpB+oH6wfsB+0H7gfvB/AH8QfyB/MH9Af1B/YH9wf4B/kH+gf7B/wH/Qf+B/8HAAgBCAIIAwgECAUIBggHCAgICQgKCAsIDAgNCA4IDwgQCBEIEggTCBQIFQgWCBcIGAgZCBoIGwgcCB0IHggfCCAIIQgiCCMIJAglCCYIJwgoCCkIKggrCCwILQguCC8IMAgxCDIIMwg0CA==",
          "dtype": "i2"
         },
         "xaxis": "x",
         "y": {
          "bdata": "eWykIppQQUDU7FKORkVBQAQg9Bs+MUFAV44u9isXQUBN7WlU8vhAQPJwUZ7f10BAupqN+j/HQUCHgUN9UrZCQDDEMFWRqENAGLyX4hqXREDk1OaJAdlEQOF9V5hcHkRA8L5iVK5EQ0BoTvRkrFlCQClG3BILZkFAqbskeuNvQEDm5nUbgUg/QOdi3jI/pz1AaXx4XoH9O0C1v6w170w6QPxMC88alzhA4QkSnXz2NkB8Wj+PQ1A1QPJx+RHmozNA0ovWYejyMUAghk+qw0EwQCDuvftROS1AtnNjAWYqKkBjY8WT40MnQOdjI+mWbSRASMf3pUnXIUDGituncUofQM7V4AFIEBtA1wXd3UOyF0Dsqn1Rl2kUQLD/cGedpBJAqq37+dmcEEDUTip3rgEOQAtero43YQtAYUnSblfSCECORIbre7kHQMJNRpwAGQVAYax7fZBuA0D8R1npyFMBQD4MraIo7/4/GnEG7QNU/D8PYw9cJDL6P4A7lh3gD/g/fntTYAh+9j/EoxU/Sub0P3YzKhbq4/M/K4yqhYLF8j/wAKpWQNvxP42pVDxzqfA/NqyMJ5yT7z9gprHivsjtP6ytZtmtlew/Xi64gE1M7D/fP4bqpQPrP/+1CA2Rr+o/+GBbjjsF6j90EnFIGGrpP2BJ48Ztc+g/OOgnbgBP5z/O17qzORXnP+Wv0d4+peY/QtW9j3Dh5T/H2Cry5kvlPyZn2dIeveQ/9flqoGV/5D+eTL6ovGXkPxyhEszkieM/VX0g6xMq4z+1yOXIIvPiPxcunz/E0+I/owu/ZBCt4j8MhefMmZXiP5p0yN6TDeI/Fh9pVUmm4T/7qMhSvHHhP3MabPQ3KeE/9ffULmzy4D8XpOs7gtPgP56iRuZateA/S9IXBN+V4D92y+U+CG/gPw==",
          "dtype": "f8"
         },
         "yaxis": "y"
        },
        {
         "fillcolor": "rgba(128,177,211, 0.4)",
         "line": {
          "width": 0
         },
         "mode": "lines",
         "showlegend": false,
         "type": "scatter",
         "x": {
          "bdata": "3wfgB+EH4gfjB+QH5QfmB+cH6AfpB+oH6wfsB+0H7gfvB/AH8QfyB/MH9Af1B/YH9wf4B/kH+gf7B/wH/Qf+B/8HAAgBCAIIAwgECAUIBggHCAgICQgKCAsIDAgNCA4IDwgQCBEIEggTCBQIFQgWCBcIGAgZCBoIGwgcCB0IHggfCCAIIQgiCCMIJAglCCYIJwgoCCkIKggrCCwILQguCC8IMAgxCDIIMwg0CA==",
          "dtype": "i2"
         },
         "xaxis": "x",
         "y": {
          "bdata": "eWykIppQQUDU7FKORkVBQAQg9Bs+MUFAV44u9isXQUCt84jC8vhAQGmu2u8C2EBA2IaSf4rHQUBlR9Zk4LZCQNJf27ReqUNATnLoFkSYREDLxHd8w99EQGjjoDhRJURA1u4cbJFLQ0AWQrmUrmBCQNY2l/hDbUFAnfizGeF2QEBrlrYTflc/QLGluwCgtj1Aj6eaSVMNPEAAiDa+Zl06QAGwDi4MqDhAKPn4dYUIN0C6iq3zPmQ1QFN1Pn6LvDNA8O/45QwjMkD1nNMcj6kwQFv3x6kPdi5AHonRFv32K0A+J9Ty5JQpQCKC7HdCqCdA6PvRiwbhJUBM+ZH3n5AkQB+PYWxkLSNAo6sipsYiIkAtCxBDpgUhQIuvq1xBCSBAkLQUNZEcHkCwOCTjUiocQM2uGTKj2RpAHULyqkKOGUApzgzig6UYQCnNm2VTYxZAYam8SLzjFEAkJ7LxuDMTQASeD/UgFhJA1eXuAcHUEECS5M2cqhEQQKRKF0nXew5Az0c75+uGDED2Jnwf4CMLQAhT121t1QlAA2rH0QsvCEDKnWq6vwEGQC47w0E65wRAZtiR++SlA0A7BY6mQf0CQOFzE40XNgJAibjVPtvTAUCufmSZh9wAQNhVDXyjRwBAS6x0Uinm/z+JjhT97ef9Pyxfm+2lv/w/tXh6jj9s/D8st4QUzmf7P61tXr2MYfo/V5J/5Wjj+D9eapfuNkD4P/398Ni0iPY/BC0hu7cG9j/x9csV8pD1PxYEr1tiUvQ/PcHBfmM48z/n2fE19KbyP6Vc86KmbPI/eSZ9CLCZ8T/akaFB0yzxPyZA+XX7y/A/3ibnA9/y7z8W2ze/Fz3vP6W/AFB4+e4/z+/AgwOT7T+rkpxH5+zsP3oqgLUXXew/HXwSKy497D/2scdqK/TrPw==",
          "dtype": "f8"
         },
         "yaxis": "y"
        },
        {
         "fill": "tonexty",
         "fillcolor": "rgba(128,177,211, 0.4)",
         "line": {
          "width": 0
         },
         "mode": "lines",
         "showlegend": false,
         "type": "scatter",
         "x": {
          "bdata": "3wfgB+EH4gfjB+QH5QfmB+cH6AfpB+oH6wfsB+0H7gfvB/AH8QfyB/MH9Af1B/YH9wf4B/kH+gf7B/wH/Qf+B/8HAAgBCAIIAwgECAUIBggHCAgICQgKCAsIDAgNCA4IDwgQCBEIEggTCBQIFQgWCBcIGAgZCBoIGwgcCB0IHggfCCAIIQgiCCMIJAglCCYIJwgoCCkIKggrCCwILQguCC8IMAgxCDIIMwg0CA==",
          "dtype": "i2"
         },
         "xaxis": "x",
         "y": {
          "bdata": "eWykIppQQUDU7FKORkVBQAQg9Bs+MUFAV44u9isXQUBAMOYL7vhAQC94z/6010BAcNgEFe/GQUBRRDS2x7VCQONRjZ/Ip0NA8MvhAPuVREAJJ7hqi9JEQH0S8kecF0RAkmCgusE9Q0DUtA/b9FJCQLd8ajt5X0FA3dgepE1pQEBTnw/6FDs/QM+6HI1fmT1A+421UmLvO0AJGotg1D06QOQCWkHPhjhACNOxffvlNkCvHij1Zj01QLHxFOhZjzNAmZgG4/3bMUAEb3rYiSUwQHQWyqw95CxA/dA8wSV6KUD0t3hIHg4mQELsk3IapiJAOb1lkAjZHkDwYrOmgP8YQAvHPI2jnhNAwixAGE/ADkDxnxR9HMwIQDIDXM9O8wRAQtUefz1pAkCZwECi5h8AQDjEIGa24fw/yFwTq/tU+j+YfF8recP4Py+DP3VSwvQ/lvn7nkeo8j/rxWe4ZxLxPw4PaGKNjO4/DZA2iOIB7D8ap0qGT6fpP5lya/opFeg/0V3vMAoj5z+1rJ5AjQXmP/nrn5BXbuU/5Q+JNlay5D/x8SFezAnkPxeZAxfKo+M/jINvKZ/o4j8gBWGLYjriP3nIJaHoyOE/cvOYa/la4T/xYsfs9QjhP/q8LAo/vuA/VAFycKiH4D+Vg+lT1RPgP0DGhaujNN8/HmMLTaRf3j+usz4tR/XdP/FrXH8rvd0/LGqn7DdY3T+ix1Gg+fbcP2iBjjNejNw/GZPvHIY73D/zV71BEebbP5ewOBs0kds/90TNtLpL2z/uh/NfrhbbPy7R9uC15No/RhcxCu222j/ivBOi/VHaP3Kfo9QHDdo/HAlWzcfE2T/TyAzxSoHZPwc7dK2IVdk/kW0itA8U2T8a2Y084fbYP3Qrs9Wf3dg/ZR97gbqq2D9OJngaQ5bYPw==",
          "dtype": "f8"
         },
         "yaxis": "y"
        },
        {
         "line": {
          "color": "rgba(251,128,114, 1)"
         },
         "mode": "lines",
         "name": "SSP5",
         "type": "scatter",
         "x": {
          "bdata": "3wfgB+EH4gfjB+QH5QfmB+cH6AfpB+oH6wfsB+0H7gfvB/AH8QfyB/MH9Af1B/YH9wf4B/kH+gf7B/wH/Qf+B/8HAAgBCAIIAwgECAUIBggHCAgICQgKCAsIDAgNCA4IDwgQCBEIEggTCBQIFQgWCBcIGAgZCBoIGwgcCB0IHggfCCAIIQgiCCMIJAglCCYIJwgoCCkIKggrCCwILQguCC8IMAgxCDIIMwg0CA==",
          "dtype": "i2"
         },
         "xaxis": "x",
         "y": {
          "bdata": "UZLqyG9RQUDRpP1PXE5BQP/Er0/lQkFAJ10s+c4xQUDhAgw+Dx1BQFh9CNoCBkFAtBdnFm72QUAH/88aveRCQHXpoNdZ00NAD2VqMrK6REBsiXTzhPBEQIas4HXin0RA86sRkmUtREBD0XrU56RDQD1ejCqUDUNAt2WPtFxsQkDKaDjdYQZCQLXwOnIzkEFAOcL7QswJQUB3Rb2CNHNAQK+s4d/CmT9AKEEEGQIrPkAr+fDoM5w8QInch/aA7TpAa9bFkUgfOUAGiiuqFDI3QLLVdNdZLDVA5DJOxQYIM0DeNdafYM0wQAXgdclmEi1As6gRYyIuKUAlL6tx0hUlQGFcpCVMwCFAbeKo4hvBHkA7kxITyvsbQE3im5JR3BlAnMRADF2bFkD+nqXtttEUQKjEDnVj9BNAlkSKziVEE0BPB4aKlIcSQKXC89bIiBBATiEtgl5FD0BeOK4sVtoMQDSIu7TT5QtA6v0wd/WsC0DL5M4qW64KQC9k2y6AhwlAZkTSGyElCUDQSCD4hf8IQLrqHAJodQhA5MkBvN0rCEAuFZJ9OBAIQCNMVW3gjwdAeI9W3LcvB0CCBT6AyOQGQF2ntWInVgZAnvG0mbhnBkASaxkMEYMGQFF7I/x2zwZAr0MI5EfHBkAvcTFPZBIHQKaeiEFFYQdAEaJ2ekGLB0C7B85eRvkGQNWEeiVazQZAuJV3c5bgBkDJ5H5zNaUGQFFJZSoysAZAZpcDx+D0BkC0XjcQoiMHQLXO2ONRFwdAYWe8n7NbB0Dg68nZjOwGQHpW1dgkGwdAyys30zjVBkDggZCuUDYGQC5UtTCFawZAwLNo5syBBkB4YEelMIEGQLIFzrQ9YgZA5IUUFstsBkCLSg4qJTcGQFcSOHvwxwVAjsIcOHmyBUCSmKMOqMIFQA==",
          "dtype": "f8"
         },
         "yaxis": "y"
        },
        {
         "fillcolor": "rgba(251,128,114, 0.4)",
         "line": {
          "width": 0
         },
         "mode": "lines",
         "showlegend": false,
         "type": "scatter",
         "x": {
          "bdata": "3wfgB+EH4gfjB+QH5QfmB+cH6AfpB+oH6wfsB+0H7gfvB/AH8QfyB/MH9Af1B/YH9wf4B/kH+gf7B/wH/Qf+B/8HAAgBCAIIAwgECAUIBggHCAgICQgKCAsIDAgNCA4IDwgQCBEIEggTCBQIFQgWCBcIGAgZCBoIGwgcCB0IHggfCCAIIQgiCCMIJAglCCYIJwgoCCkIKggrCCwILQguCC8IMAgxCDIIMwg0CA==",
          "dtype": "i2"
         },
         "xaxis": "x",
         "y": {
          "bdata": "UZLqyG9RQUDRpP1PXE5BQP/Er0/lQkFAJ10s+c4xQUCfLKq0Dx1BQL0zjs0mBkFAnR37Gbr2QUDp/LBjTuVCQP5tZNMx1ENAPP7Xi9u7RECgUw57WvdEQOUXwjISp0RAlDnuw9U0REArAW4Uc6xDQJWJzClgFUNAP945wSF0QkBQN/0boA5CQNyRwfvumEFAF7LqwhsTQUCBHbmbIH1AQO2rklYBrj9AReBBS/FAPkBFJD1C9rM8QKJvEISWCTtAsYtZDX9AOUBKW5JGEGE3QNKmE6OEgTVAY+EqlmC9M0DAux/YCOkxQNulODxlMTBAluSvMBk/LUBJuamnXz0qQFy56ZJJ0yhADSOFSS8xJ0AaXUrGpOgmQJr9l5eFKyZAdpwdPijqJEDIT4i50lAkQGFto/PD6iNAjI4I7x2WI0D1FJLPoh4jQMbMPkm94yJALi62utEVI0BaqTysIv4iQKd1QErreCJAGZV/d585IkDxWhNJ1QAiQFZvAGcrICJAyPz6wmBmIkB9UCUnFKciQCnm/f+lxSJAd8KwpB7aIkCpWBiGhfsiQMWj6us6MSNAuBLKd6A+I0BRlvcyqjYjQBL0iHNbcyNAFmhRlr85I0C/93gAwXwjQNLmlbj6viNAQhAh91DaI0CtKE8dGhUkQBo28SsDViRAURENMbRkJEBltKzFOq4kQJaVL/+mySRAeiiHY5PvJEDdqO4es8skQJAXB42zqCRAprJKdlrkJECOPiSVih8lQHi43MVoZSVAfMfOb1+rJUBeF3DDZK4lQLse7YXF6SVA15g8FK0oJkBeJiRI3yUmQCIVjFrbZSZA3NYAT3cyJkBkdkLoe9olQDUoM8M55SVAAkoZHtwgJkB5obM7GgsmQHFash9COyZAFnsrD8lQJkAYfxu4uk0mQA==",
          "dtype": "f8"
         },
         "yaxis": "y"
        },
        {
         "fill": "tonexty",
         "fillcolor": "rgba(251,128,114, 0.4)",
         "line": {
          "width": 0
         },
         "mode": "lines",
         "showlegend": false,
         "type": "scatter",
         "x": {
          "bdata": "3wfgB+EH4gfjB+QH5QfmB+cH6AfpB+oH6wfsB+0H7gfvB/AH8QfyB/MH9Af1B/YH9wf4B/kH+gf7B/wH/Qf+B/8HAAgBCAIIAwgECAUIBggHCAgICQgKCAsIDAgNCA4IDwgQCBEIEggTCBQIFQgWCBcIGAgZCBoIGwgcCB0IHggfCCAIIQgiCCMIJAglCCYIJwgoCCkIKggrCCwILQguCC8IMAgxCDIIMwg0CA==",
          "dtype": "i2"
         },
         "xaxis": "x",
         "y": {
          "bdata": "UZLqyG9RQUDRpP1PXE5BQP/Er0/lQkFAJ10s+c4xQUAIntbLCh1BQNR2y8XXBUFAzb7Z8Bz2QUDqVt/VNeRCQBctJmqS0kNACuydA5+5REDDwv667+lEQOhFEB7amERAFyeEth8mREAquxawZJ1DQPhFkRb1BUNA5oSbBj5kQkDFtVmfy/1BQOlPDOsdh0FAvu6PnTEAQUDXPU/MbGlAQHFG+3+YhD9A1c8uLSAVPkChaIzEh4U8QP/8upBe1TpAWua52IQGOUCYMhopNBg3QFGdbVaIDjVAsWdZgnznMkAxNzXhd6MwQIYPE3bhjyxAftmRdXamJ0BGnkQ5NZQiQCmwSfRypRtAbtx43VTlFEDAoeY0vIcRQOBK60DiOA5AgjGB0HqRCUCy4XcxyQIHQNvn+vncAQVAXYBrYD/aA0BXdclM2WYDQKTj4DSyYwBAGxbpXokg/j8s0IiZ1Zz7P2ra5Hto+vo/Qb238QOq+D8Wsbh9r0P3P3FqLyteg/Y/dhwiLiur9T9l7X6wCh31P20YA0N8xfQ/dPPGpAj38z8V6vUcx53zP7JzXRADhvM/Yk5cxoRM8z+S9kTYrjzzP3uShkwoTfM/FUHSd5Y78z/gRrSrShjzPwNIbowjP/M/UkHNAwhz8z+DcLkC3kjzP7eNmxHVIvM/QDiA8+g18z/WRGZynEfzP6/4g28XYPM/uVA3SLRj8z9lFf1Fi2HzP+EU6VWfefM/K+X8TJaN8z/eNzllDbLzP8Zpxk+1xvM/bfLIUcm/8z8fFe0wtdXzP+OhYEVA9vM/r7xGOuIT9D9jy8ve2Rb0PwxSMm2KNPQ/lscH9cUd9D831krcDEz0P4J4O9ioXfQ/BYaF9BmC9D8uqtoDPK70Pwigl6PE2fQ/tLs0+TwE9T++nIisRC31Pw==",
          "dtype": "f8"
         },
         "yaxis": "y"
        },
        {
         "marker": {
          "color": "rgba(141,211,199, 1)",
          "line": {
           "color": "gray",
           "width": 0.3
          }
         },
         "name": "SSP1",
         "type": "box",
         "width": 0.2,
         "xaxis": "x2",
         "y": {
          "bdata": "ZMohqgHO0D+XKwLYis4bQD3wLT4KiAZA/C0XqJDNFUAAmkMg7FLWPwjSWWbUbNA/YsuXXWW+0D+pAxPUsLnMPxN5Q+BRHMw/sdcixt5REEDP17Ucl9TTPy4WJKjD6BtA+Xd7Xq/gB0BTQdAOydLeP082dZIT/8w/hhS1YyTnyz/TmGN5KyYeQGs/lQwols0/OT+hXEs9BEDdIc0YDfsFQICBlTvB8CFAzbPuopVu/D8q4ceEtmvtP/SpjnC9zM4/2e1xM03X4T9NssfTtUjTPwjT+3aOiBhA+9GrX4Sm0D+8FGp2Wz70P/XE+38KtRNAnDP4VPhKF0AgJDOlsxzOPydOVFcFNB1AtSwtV7LrCkBkqjEIiXnvP4nQtlJeLRFAaGTFImRrzD+MJHKT/TsbQJGJcwNfgBJAJDAy2kpa8D+jt3MeDejMP0YvNodrbfM/1+QLzJFn1D9zDaEiDikAQMn04b/9NPg/YLPg20lh6T+Y2X3OHGTNP035kMdPD98/Cfp9xpP2HUCc8uWl7PQiQJeV1SAlzfQ/W8Jh43hZ9j8STB3p/usYQDBL37QM4AlAVMEBtPqhEUCiuQ9ZA8POPxbHUr5MDBFAQQaQwf1RHEA3S1As1S4BQIQzJ1dy5tU/pO8WdAdx4T9xBN9Oe1IYQChF9TsufR5AGa9sg3FBBUBh4Ts4+JgcQAqvfX5O2BFASAvfdMiREEBuJCFFrhjzP0PtdZ2gaMs/+6dog/VM1T/ghyMUdaDXPwIe7GOubAFAMb738xp+0z/DgZdZbCkZQI6NH4Q0WM8/BUXyPtB14T82Un+Y/1YRQJ7DAqGAyhBAQTZHxA/y3D/RYpoHpjwCQJgRG/6BEB5AYNSnbPDfzD8QxBGg+6DNP54qlSHPKBdA0EmUXjRKBEDsuF+sMqvjPxvqwdNoCBxADgoI4kiH2D/tmbOndRIaQMmH00p19gpAvSmPSFS4EEDxqufGerXvP8TvDQLpQBZAm1LM7EnwG0BY4eSEaAENQIBSxhBF49M/LjqSngHu3z/0ea2u3lnkP5YKRs3ccNE/qrCoo6a6A0Da1eixZ93MP8kiZcNnfRJALqB/YXBgHUD4sg4klebxP1KxlWuBY+Q/SG6lGW7KHUDN+UobMfsfQHR3br3SbNA/TfZ6cF4rDECdBqzdgbIOQOw4rpqSEt0/H3h7a/RhH0C9LiznsJvUPxZcTZV3Vc0/jPfOVLbb1D9qs7S+WHIFQMlLw3ykw9E/XEZxDZOIyz9uLVgrbKMCQMkqxrl0ygtAp1bwegfEBkBR/PDj6/fTP3TN+0RU8QlAWOrvbsYOE0DIT1iW6ifuP0a5TxxvyM8/yhFP7VveEUAPfve9tgMTQBzarNA3wRZAN/OmwdaiB0B/rbP6BlQEQNVljmAFG/c/MGr7+Uj1+j9DWdVTT9ADQDvAb8EK9sw/myIVVZKyCkCMPGx8yUoVQJBOhnkAzhFAsNu4Ff6oG0DwRFxRa5ULQFq53ttVi/0/CnZXan7u+T91BkMNb+wFQOpJaeBW8dI/lXuF6JiCFkA7lSAPSEsSQJTUM+uDLyFAg/i9aVFPE0A7aFYpS9PsPyHe6tV4MRFA9nbY/HyPzD/E2+yhLCIdQC70276+Y9A/btNSOySnzD8gc5Pod6zyP3a6IITWz9A/Ug8/SfJRzD9gMn7PWcEXQLr1cOUfqPU/ykt2VJX8GECQ+6mJabvcP7Qi4gSQyCJAi9BwQ9YNGkD5hZJczi0MQG3tMPBKHdA/TEsQ7U5d/T8Gan3mg8PQP38CIHNHAN8/bKG4SBYDDUATfuI9CbrsP+CdblvxZNU/Q2g0of037z+G8OvQ334VQNV29IDhIRRAmUko85sXzz9Xoz1EKaL9P08PrRIzcxtAZEx/NAW1BUBS7p6S13QJQGu6B3ZnigVAI/HR/VeD1D/kuIDHPAoSQKcq5KWBwxJAkqr7p9yyDkDP32EjjzjyP4P6yL3BQgBAIUXKtfoXFkA/wtUTkYMUQHDq6W8HZMw/4G6ymS6kCUCt/SYSBezTP00m7L2pEB9AYWo1n6JpzT85bGcpvwEFQPSiI4v/pAZA2cDQHIzb/T+v/LBUwn3yP8AO7PlhLsw//QfmZWsc1D9YFQ5UR5EdQOePmumBjRdAwWRhqHGi1z8HRCiBlpz9P3wnibDu5ek/8MGk7WI+3D8KunhvnNboPwUlBEpQWxhAMG1SioFYAUDdqVplImUXQKxsN47oadc/dtoqbZYRAUDErSYZnYbTP2r7aFaGBNI/IRSo13KlF0BDXC51/RzTP3YWhn/H/RlAanKX5q0g2T+nc6U2pXDoP6+oWL0VnxhAU5IyQPqRzT96gNPyHf/RP6y8+t8B9QNA5G2CizAwF0Awh2TWWykDQLTcZym2zCJAs8WobMwC4T+UQEMzSIcjQBavL/VcvyBAce8UnQrSEECLWQxD8qceQKfIkXa0LRpAOHONB016FkAZplkyzSTVP2wSHUTsm+U/6nL7shF2B0DBDHPpB5QcQI2VzwWHuBdA9xQ+NfzLHkA8D1fa1NbMP5e4mHRu1+o/nx9egpT16j/UNrSvL5EbQDs8V/ScwRFAoXgHcYvizT9SHkjOqHD+PxCOa2zO7f8/tIOeHggFHkCfG4ePH77MPyLzUXXl684/MzbhILIrzD8q/IdbLyTUP6diHtjM2tY/MvA71n6QFUD5LRhImj4GQF9tVFl84BVAP9JaGW31EEC40+50IrLiP31s0Jes5fg/wfaHD3uw9j/D5lh6JMXRPxsUf4cOUNs/iRXflR3SCUBSWHQSwE3RPybKxMo4K9A/2ZiT76F40T9akMyX4zHuP0z6aGRQhM8/5jiyVzeC2T9tfpVKCHv+PykDBVsYsMs/BulQW8es8D/U9ggRxc0KQL+BZAqCaOk/gOflF9ebzT/un1cyBVPNPwQfNVC7Ocw/y8j3xKUdG0BqAj7MtQEVQLBtMdwK5dM/GfS2CgbYEkAptWGmPaUTQBdsE/pjq+c/XJxXKSB0G0BwyVSz1+r/P3nMRW0Dn9I/xoMwL9Ku0D8iG3tTV/wQQFX9JU9aY/0/2ObuA5HnzD/IADMNaPD6P2HrDKEgSP0/OuBOkNcOHUCJU+6I1pTMP3DzHFQiL/8/qWpyD7M3GkC+sYaBLIHgP0IQXTyI6uM/HnYgg/QtHECmUaD12/zLP2p2StIjFOs/oXO0WGZuHkD+WYf8uikQQF5cmL+umhpAuTqki1376T+1tGL4W7wYQFOh+uihGSFAy2J/cjN/GEBgVyqPuWDwP1UHX75J3RRA4/T0VMmi+D+QdDW62YXwPx8PhAIOgOw//+MLcUp9GkAyx1xq2iXNP+KMCX7D/xJAHg8JTNh4G0BHGNPklEzOP76k6QrnIhhA5hb/DleHA0C4IGKz9M4gQCsRx3A2T9M/44BoFLVKCEC5rwZXDGwVQOkIyFxL1eI/isZL24cvzz8S5XnSvSrQP0q4hQvv0t0/0Qpz2jjK2D9u76r6Aq7NPwUap6rLcxpACOcPFi12yz/dajqgONXRP0k5bVn74BVAfARcxext0D9rptqz1Q7ZP2S8r678VMs/gldhZu+xHkC8bAMsKtgEQBGOS1+xbQlAGLaR/OiGzz+kN+rin9zNP0BTcojOCOg/HaIxCaP+zD+WbbJjss3NPyOYEZIC38w/QX3Is9d36z83dszeCLPLP8+j8E4axgdAbLiZGpo/yz+LEJjPiyzPP1YnX82u/RdAeGA/2CWCEUC8nUbxObvgP6rkxjK/2QBAm2gsek9X0z/rXgBHHs/kPygLMhMa1Og/ZHDgnS9u5z9+V5DxpGPxP07VM4T/zhFAkw7agA9N2T8Wk/9ArRflP/pKnw/PuhhAe/EQN37pIEB1q35UUZD3P/ylS20g2vg/AgE0KAAcHEAuLbRHnXvcPwNbPgEMjAFAsC38F9YbzD8eqoRhsKDPP+Epn1GDxx5Ar7Y6IMzb0T8vFHADSHAEQHuWiyKQmdA/JMUta5OL6T8IcSBEuCYhQG1HXJQJWQxAACPvz59Myz9/vPDGdrHLPzF/bIlJZAdA9i5dYKBnIUDCPIHwrZDmPyS17m2KfNE/ve1Jdos+I0Cgb0A8EV7pP7wIRh3a2/w/6WiLd1ASE0CWXdbvbe3fP2A2fVPx3hRA4xHY6HB60D81VMNC15TmP3QMqTrFyRtAVi9HWp8dEUAXrs+KcsbMPxMuL0aLqhtASlLC797YA0CGAg4T3EUUQAZK9pncuxRAgB8ZQX9wF0CcPk5fisTMP5QGGXT0svc/uI0kiYm00D8yLjqYRQAbQArbGpxRaPs/xqoyJ3wp1T93wl+qNZ4aQEiPblZWGs8/Eia1v4M/1D883nXiwrTyPyHUSBXYVBpAPSzIqolFGUCgztPmRp/mP2A6hRhwaQxAxs+t7+AJF0ClTmEkNnwYQI9BuSSPN9E/nFWp6TtY4j9/IGtF7B7YP1GRBz1UPQNAmPoXvV4A9z/8aP6o6jAFQI69K6aOGg1AGRMC959B8j+q7XBfhITNP8JP2rDGBNQ/Yv/wE4/rA0DbYgRLmBwGQF9oJszbgRlAJLbtvCw4DUBatVfO8r7QP+bvZTuMDeg/L5BdHMWK7T+0DpFVfzMgQPPCQG/b4vQ/KJi8FXEx4D9jX1ZnH7HwP1xgmuQdhNA/esJ5Qi4P4D/HdtecF+sTQC1Xf3/kLdQ/gxNKq7QJFkDNka+V/c39P2OizSywpABAXiOctvshD0CkPjr79tT5Py3I5gZKSNM/JadZclAi1j83um+ps5kZQBK9/7XLyR9AKD50GzM3AkAHhIo4QufOP40U/I4hQRhAhsuFT6GI1z/z9/srQmHNP6dM6tTbpwZABgnGYYGVDUDW/QSHLsDWPzRjx1ops8s/Vw//KLxczT+3V8b66sT0P2fnYGAJwRVAjoWcMNxJ9z/e/aZTGVgOQHav4wW7s9I/qE/tDsJ/0T9rM4w4VUsaQNKuVEpC7AlAYiolKzpkzj9vq/M/+v7MP/brQo+Sax9A9VK2LU7b1T9nLAeSx/sCQNjqTySTFw5Ajgabxx9BHUARtiPI+80dQI8igGV+wwxAwwgt2KfCE0DcOPS1VyMFQGyYhTS0khBASRp/GZXTFkC6MY7vD8gWQG2lLZKGgAFAeElB/sDdBkDQQ6uOk+PSP1zRQ4ty6glA8Aj+ALEb+T/pJq8Pfr8XQB+zn01R9RBAhH8i98NQEkCzCRGBGiwCQLcmhuWc49I/3l/ZbUs2E0DQo+xbKZAPQLJ8H4GUmhpA4pjluexx0T/fVeB5RUPgP2xFoxEmix1AbEDKK/+OEUCjwri7L83kPxyTz2XvqBlAOXGBIWqI2j/D/ZYBrtgdQD7955uYvMw//kHACx/o0z+oOvXWXvzRP68MuVbUcNM/lA7hmPm9BECzojjv9XgbQKC3izPY7fY/uCEgG6FKyz+h3UqnmcIaQFkY4CBzB/4/yqOnXa/Q+T9f/qWAC8gTQKcxfCPa5B9ATys902uzFUA8wJzp+QMhQBaUCVWr1PE/PabfCOzj4D+S/vB35cICQDxYiYyctQ1A5fRwk0H2/D+wnt+Ltl/MP7mC+rXzABdAcaIK7+Y98j+HxnPzsgLTP/XOcmBzs+Q/0LFJBcrVGkCUl/JjzqceQPaGaBWpDwpAnjit7vCwIkA1ssvH1xIgQMeNOwCD8gBAPNwPF+bX+T+5stYbTuTYP8z5Hzc5sg5AOt79rqB82D+rT9tPpwgUQCCYdX2LwwJA1mjw1z2B0D9bHk8UAUUHQB0HAozvdBBA8Yud/QcPGEBh6UuqjXMFQBKmSeLO5xNACFAVVZ2E5D8xbF2BbycXQFv9Tb51kes/lwKV9IEgIECkw+V71MbTP15ZAWKmCcw/6RE3DLf/AkCjNOa0EI8VQPukG8L7Mds/CjDXuuHtHUBFjH5TLNcIQLTkCHTI/hFAVlx1b47c0j8t18Oxt0IXQGBYxGeQEP0/7ykBDDRTGEDl2nK306YIQBOKiTbOOtE/f+HOSE9o8T/+tBdEkI4ZQNK0TYWU7hBAeIB9ZiHz1T/NfLtCsPETQPid/jBt5hlAzAn6kH8kCEBvS89J5I8RQKwvyTa6LOs/XM9dGGkzD0BmRfPPd6UdQLF7F8I75vQ/+ljCvU5t1T/6nDXP99nWP31gAAsjTO0/TOO0s/Qe9T+PWQpKNesQQGE0BakrmMw/ZnLX9z4YBUAuK4jg1NAFQGZSq8NLG9I/hsXxDBNtBUA42UIriIXkP0VeRCwkXB1A9V1mUHtkzT8dMWQBVD7gP+kUBTZSyfk/9uiLFzQoEkC7zsB9A5gJQI2qGb1i98w/p8icADAbCkDOyQuL+wnSP0dPUcrfWBNAxTKHz2lhyz/i3wwzI6ARQH8zMBhhVhFAth5eOzvf5T8pvpV74pcYQA06tN/lchZA1qkrZ+/Q7D9Tu2DriA7mPzvP6KHkswVAWntMb+SezT/V3UPYCysZQOmMSstS4fk/oC4x9uGyzj/4Gb66gKcWQJiRRlhtogRAPHKteR9iAUAsFEo0kKT+Pwen3A5Zbv0/K9efdeiBCkDTd43UuSMOQJ7i49bfSxhAWOjFj80mGED0N9BOxXH9P+P48LmMBdI/Teyb+BVN+j9PJ1tGbpD3Py4z55NntwZALDejL/HJDEDVNa2QusMWQNjvx7D+ZSFAZOHiKCnpA0DmH76/pA0AQEr7Xhy1/vY/okK4VGYO2T9JDCtvdgbQP7H8Sd2YCvY/SRpDl+qQBkAI0uwVuB/+P5XZ81HIwAlADvR3ng/p1T/P9BVIjKLyP0aDVoXZPBdA09+VQ9NP5D/hZK1cTz4GQEZXNxv1QuM/KkaCXgEr0z+A3IAbYhzNPzh+cc+2N+Y/A57fMWZX6j9/6X47jyoBQH1dOc4sNs0/7w7fbutI8D/b3+K7A+fSP4cKamypjxRAejbgTd9u+D+JjvngQ9YEQIft8MwH1tk/TNyT5LnMC0ByQ/E9g6ntP9Nlbqdpetw/DjKXID8x3T9NJ48LMvLXP6JkEossMuI/6R92GmgB0j9hHuhHbcb7P9Wdq6Xjtcw/GrTAsWXT4j+hhV4rGwEMQFX/BuUecs0/Sai66nv2BUBSij9cTU0BQGC7iukGpP8/3UaYXzUREEBkzgv8FDwcQPn08K+Azs4/9AGAiUnpHUDakKx8fB4QQAAJpTV/XQFAxJqkWBLCA0CSkzN/mI8aQHlktokgDRNAN43KoOumFECV+o/xKnEaQAOUHYnEPu0/osnlGQBr8D/fOTkSUZ3QP6G6hkGARdE/zJR82EqtBkCumYKVdm3xP5wGuPbhYdA/JLM0ZtQeAkBfdsQ01N7LP4YfHYMbThdATlAoBKDwFEDoA4xHDFgGQJRHP86coRtAJ/MQcY/vHUBbgLkWYxoHQH1bZO7qHQ5A4+XwphWb7z9cgYObU0DPPzVzgxP4FSFAIu4USCyL0D9JM7Exz6EWQEW5ol/iEiJA/vD5Vu/3+T9IOmsDvr3UP7I2/1KG8gxA1FSghechFkDl/rRs807nP1f6YWR9PARAyBFeuMIFEEAT4ackM4oEQGLx/nX/9RRAB8cjADC0IEChGrLwzxwaQNfwzzTi3dM/1vaRVoPl6z9YFWocNyESQBWZUnGhfh9AiaIT1sAk4z9lnhIdAnXzP+7gA4PiowdAsAKSQenF8T9t0awWvhDNP4U4nEVhNRJAbmJk6RGrHEAY7LBK3Kr6P5MFCpr8Hvs/0gyzDnGb0j/AeHun7kzLP+33vuGbvc0/l66zVD0bzz8wbF+IacjVPw9g5Dik4dc/72zfTdFq0D++T4P2HmHQPxmp/F52EhVAPAJtl0nq/T8eCWGIixkAQIKrFDpcUBFADWuuA3doD0CunmbdAajSP3uSoK171xhAEp/yuLdDF0ATHxDCMQr8P6w8oC734ss/5ITZCmd1zD/M3adcwKkaQFKVl3gdYc4/ERtWbAzZ0D9P3B+xheoRQNaJyUpkiRZAHJBKbegAzD94bA534UnuP4x0EHzmZRFAD0WxjTHVHEBOLXjUN0TLP+iQG46pZRdAyx/BpMBb9j+L9gj8IiX3P1lYBVDAFRtAtavA3MWQ3j/D08GuAILRP/4mXHzHIg5AaQMwhJ00DUBa8VlV94wAQCWvVpMsxANAGcuZYNizEkAibD8cmU72Pyl4EABI3dE/ZC+pRBkgAUB42lALS5bUP5pTVZq6ARdA2PqzFzIBIUAJcr1trbYNQFePGlWlMglAvESIPdLX0T80BPv12SjNP14H5GZiTxJAOsCiJuhI1D/+l1L5Cw7mP22eKZYVZAhAKzUc8eGs1j/U0KvSUDAeQDEhnaH2N+E/btrdzQsg3z/YmfGzaHfMP3rYe+mZmBhAlRT/TmdM0T9QFPQ8A5PqP0mRX84kP9A/s/6rgUty6T81Xht+pw3XPwLUSJaTKwxA1482Rqo+5D8JLjQNoDUXQI5KGo0sQBpA0hTvuDZmEkDohadH+akFQI8bqKVOYNI/MzAraPyl9j/zWAPX32f7P5M2MAcdxgtARh+ckyiWG0DSpHBGMOz2P6RenigIyOw/GoA12pJG0j8Fpux5nVrRP0sXX5IModg/uoFnGCUkA0CDODn7q4zOP5YgQlTiIxBALZctSQBFFkCUm4hNavXXP4bIBdXiHgZAMzXcRoDH1T8vmKPv7VnPPy2eHM+BHBNA7fud/OO04T97K1n8gusQQLYoWpFOWdA/NLVDiqgK8j/JBVCvZT7MPxNdqNG2NwNAvDPUJzu+HEDc4MLBernNP+6uh8Dctvg/LCgDrxgH0z9gFCQip0X1P9IKDi5XMBVATV4avW5Uyz+PGa8ckz/LP16R7lsUfxFAAN9Q603B6z+8PRWtU2jRP8K5W8yvseI/BOnuXtGQB0D2GvdDX1gDQH8tyLiTkA1Ag+hjrP6MIEDdBo4DGmEYQJLG28XkCwhAQ8rIbDprHECeXsjMx1/6P2A369CXI9Q/DSqFRuMt3D9RPZyZLUDrP7nBr/iUxghAqvBfvUOVEUC8u+fdi77RP56wDe+IrNE/xmiBlfeqEED5xZu7TkQWQDXXEe1siQRA+82sOhvc+T+u4tb8UZsHQFB09VRx6gtAGujniTaQGUAEbMAuNhLMP+8dnpdvutA/vOatBbnu0z/7MiRepK4gQDFmzg3Dac4/prk3FBzKF0DESSHFN7IZQLYqJKlmVPo/LuGkwe3lFEAl/nO6JZUTQLL0g/brlM0/lC0huqyDzT+MUg3ayvMdQO5W6lNUEts/82dnEpa0B0AjqEfcmh3NP4Y6X9eJyQJAZAh2jWy3/D+hJhosmBYTQL53cwAGdRxA0CMS9VzS/D9kPTG7l/rLP5obLzLBnfY/9/b6ew60zD+dewcEVTHMP0P2gCH19xBAfyOe/tbWFkDccteipWbVP+Y6GtlNJBNALzhA8SH2zT+4pqk1qVgZQKQsMzsfKtA/YBUt47UkFkDeBc/2UYMCQK8b4dQqdMs/06XilUHRBUCT9/JEHDkSQLHE0+atfBtAggXjvzwEEkDhR+A2qwodQB56tZ+eIc8/fQw4Y2XjHkCnODRmaF/vP0mROnSTl+E/xnyJ3HXNEEC01L/HZJUPQAcLjD8p/88/a2kkZUJ33T8x6xAJyafPP6j6Y1JGfgFAA1Bt+ASqzT83JlvDixcHQBybyrJcj90/TTcpC6IIBEDLcfjKvxDOP9vsZXFCJOA/Zd6V0jSW2T+VdGw4E/jPP5byen3KyeU/us2AP2yAHUCo/EaItiIDQEmPGla+QNY/PlMRGH/53j+4akOSxOjgP8H4chEF3sw/EY0mgbud8j/EGL/q6OgSQFVRSJPT1No/wrBshh2//D+mtDwzlj3SP3uoajlLwss/VV059J5T3z8/lLZ/MJTeP/hvMlZnJAFAvFPQWAEN9j/YH1wfcnTiPyIyRY/qmQNAfF1Gj74X6T+yAbmxT2DPP+j0atviGxtAvx5SqTp/3T8/KmTTHdb2P+9X1OkLm9s/dF7ul8hK1D8zCQulRWbOP07wQmBkg/g/jwGuOAFTHECfIdBpDMnrP1NnR+CW2gZAiwXgLru2BkClUvZfR2MRQJH0+BVJ0NE/Iran4DK71D+VOhbU9ucbQIP4oCTiX/c/zjrXJAQY1j9PsvUIy8cPQDdXUfTWYAVA+jKJBr/tzj/LDAfyqpsiQMHkElblGRdAXDmlPNCPFUAHqt5XObYQQFXU3Qob/hFAVVC4JbhM1T/kE9Bn2MARQKOw7KyzuNE/ZyGwq3P6zz/jruYjTJHYP+24UKH40/A/xX6yQ6cS+D8sSNc33k0BQI3usAAyxuY/c+txhQDPC0Cedu1CdWANQNBy4Pq1ie4/fsk/rKEW5z9TkzD2cBPWP+3/tc/qRhhACgmwCjCZzT9o6XFi+l0SQLR6lwQdUvw/c6yDEH4k+z/R4sOFbA//P0GjzZCsaQBAjOxrQ3WkHkAQvq+XJPbOP6jPsO78ZQdAkgwlfZxu9z+JHeJOIyPMP52n2RiqePE/fBrsD4etHkAQCtHG8KUIQOr0SiqC1AZA1tLINu7xGUD9oAjxVTkMQEbsb6XNahJA8xLFkMluyz8iSJgXwPzaPxXj9zbLSxBAVlhqWhqLzD8sE3w9HGDcPxRQtAquXNw/PCkJ2ItyB0BkxwUPOPEMQA==",
          "dtype": "f8"
         },
         "yaxis": "y2"
        },
        {
         "marker": {
          "color": "rgba(254,217,166, 1)",
          "line": {
           "color": "gray",
           "width": 0.3
          }
         },
         "name": "SSP2",
         "type": "box",
         "width": 0.2,
         "xaxis": "x2",
         "y": {
          "bdata": "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",
          "dtype": "f8"
         },
         "yaxis": "y2"
        },
        {
         "marker": {
          "color": "rgba(190,186,218, 1)",
          "line": {
           "color": "gray",
           "width": 0.3
          }
         },
         "name": "SSP3",
         "type": "box",
         "width": 0.2,
         "xaxis": "x2",
         "y": {
          "bdata": "ZhfzZkwR/T/2YYuv2rLoP33mx8ei8AdASU6yWs2RKkBAivAy0WTqPz4aoFv9avo/a8edxSgXBEBdAbcZ0YflP3tgZ4mlVvE/+2cKgZLc4j80n0YpLVL0P2j97rZsR+M/puY8sbFM5T+OQGlDNurmP5OenFWCau0/Gi/CCpgeB0CV/GdFPgHuP6HpUL0WOwJAE8GW7AAH9D9w2ZxOKLTpP7BkSoax8xBAYOGELoLr4T/llgRyvsPiP8GY82fOeuI/iY42j2GR+D8C2qseu6kMQO7Fz/jLCfA/K7ne97/N6j9XC9jeTXjnP5/lJ89lHec/pnlFOHIC4j9VpsYqISDnP40jRWmru+g/zX/Udt+J4j/Yv/8Z6BbrPzCF0L5NMuM/xmBsOdDb9j9w3Fjs3rLiP4LeOdS5OvY/P/lptb9S5j96eCoGmOvxP4+XYFuYsvM/1Mf1avd+4T+g1VO/gV/mP9LOT3VkJOM/L8C31Gcd8T91lymYh2nrP0p1WkuyW+0/TCUFCnJ28D9X5dlRzngFQMSveMX44OY/Qk3BVCFE5j8LeHTrzdrkP7btvYfT+eI/2ErTL4BMIECqCxXPt6H2P/c1hcfYTeY/thLa+KPV6D8WEy2oaefjP8wN93Bjl+o/5WBnEpTVBECMcIRhoVTmP6UFIgcKTfo/KtRrbJ6r5T+5a2EUY//xP1kNNN+n7fA/VWDwJS2+4z/VWxPk2znkP3F2ronpuPg/TKPRxFm+/D8S1kkOgubiP5XmzMHJ1O0/fgHylbEd9D9S4wXj4TfjP20k1pOem+U/yWY5cxnc7z8asDAQxHPmP94FCEfDa+U/RML0pG+z4j9D0XM/AKrnP539myj7N+Y/uIKWCmEa7z/LAe4aqn4EQAjdnHHzXeQ/x3tOTqLE4T914RIG59jwP0O7OqT5ReI/WeZe8ub18T8L4PEeXNbhP/nWyd5Vpfw/E09r4fbP9z92qIlLdujjP6DsPT3i7QNA0AI+wKmp6D/njvMox4P+P5hU+MBIPfQ/gN2axLsT5z/8ioR76A3nP2HTanXAhfI/14y9VMQtCECuM+mdx3P9P3+XnosmduQ/6aHqinBE5D/I/Byfiif1P+RJ8FmtqxNAXcXh8DKP4z/fJ70GUmvmPwJDNW0F8uw/zlNJ+IeB5D+N3SiQsuDwP/Cisl7xCABAkRrpkXjS6D9ZQCKg9SvyPxgRlIbsyhdAdaJYE4vq7j9YdaoUkBzoP4+IgOoRtvk/2hT8e0Uh7j+JDm7x3fLkP1LfqdILtOM/cuS276lk5D9hRsJPDE/tPz2BpUa7ZeM/gNLiOyyX7z/64s22m8UHQIT7vkFUY/w/ghjm9lY37D/2M9fw56zyP2KJFreWVuI/Awa2aZW78D/7r9+anEnlP3ETOEwNzOU/eaLhf1Wg5D8SxZqXMXbwP4N/T5IRGwRA3hWKX0tfD0BGumakd+vpP6vRGUhF+uE/shHZUyGjAEBOZ+UQLLzxP6JxBaDi4Ps/5biPPZqR4j+sNxmRFHr2P5vxk1sEKgVAQR9/gh5/8z9L0BUtnU7jP1TbSYAiDPE/ZhzuvTZd5D9BWDN0n7nkP6h5BXkyOfE/P5I/PMmo/T+8iWpePkcAQFZfXnhEEOY/Uw/G1bNq5D/gxHd8j/3mP1McI8wv7QRAoz2ho+sb8T/Q8fKBVPThP2aMnxsiYAdAjgDpNKzr7D+8E9VdU/3rP1BsgKTCEgxAbGxndOhp4j/OFzbPcV3mP3gvjiiaL/M/iX4J7bVH5j8m3sHFFdz7P2+GBboXk/I/PTHM6uTt4T9xWUlYWFHqP08jv2tZj+Y/3sbdCm0l8j8dMDa6XxLvP9RF3DhUi+c/LFCwMZl35z9pMlcIpxrnP2oLyZkkgPE/M3r8vEZk9D//S8PuxQjlPxIV0kOylu0/F/a9MTt1+z8Bqwf9xgj8P+Jb2piCWuk/5REAkY4w4z+L5w/XBI7iP//VMLp9WfM//q228IF+5D/J7rtPZW3nP4inRRJZqfw/f74mv3LW9z/5CqpcoTbyP1+dg+Kg5PM/bOGpIfnD/j8xWLda/kYWQKTlDXwrd+E/BAtDfmjo4T9SYPIEgljqPyT/pNZycuM/3ci0WftR7z83kKOxbPX2P75xjPXADuY/0GFaK2nj8D/Nrho/serkP347bLKWMeo/SdOIccsN5j++2JBpS6riP3SN7Fu4COU/c5V+Caym7j8iy2L93BPnP2phEgPQnfs/UE+tmVin5D/6HbdT/mcAQLVfnojjFgBAKDrjWr5O+T96oz0PKKTwP2VcYC/77ek/38jRo4OQCECo/GxzwaTlP1ZIttArq+Q/lZmRnupU5D8++J4npjDiPwnxcqrVSuM/IVNR8vcB4z+rAtpUjdjjP3CJ8AAQPfo/kDfGGCW+5D+uLy+IxIIhQFbzoqa28AxA/PkoPxQm5D8U3LhUgC8OQCXSrcgv3v8/Y+4s0Nc36T8i3F0pSpzhP23PlOlmpOI/v+94IrrV9j9oRLYRE5PoPz3Mcz/aLuc/8ObC5XKY6T94tIzw69joPzjJTUZGs/A/58uPC+FDAEBhvN6rntTnP/XGMGTRv+c/eM8TYCldDECUjEYq7kLoP65V5vUr7OQ/dzoZH1iHB0CFeAkyuh/5P0aD6nQC0uM/RIdh6E478D/pMrhiDPHxP7qwZ4yRkPs/OGcJMt/p4j92AlIHQi/7PyxKo3zKNuY/OJON/NSi6D84ei2At3nkP8P7hNpzqeI/uAJNJp/b6T9gDJCJOFP/Pw7ZdDiGPOI/5yI3kY/c7z/Nc+950ubyPw6b2YsqHeo/cA8LSbTQ8T9OX86hioTmP88IboUSnvE/SbOY4Ugh6D/BiCGcTXzpP5Tg1a/L5O4/MVYEWA715T/eairlYMnwP4Fq5gr/Yuo/2FuC6R9c7T8wziygIWLjPzCdklNWdeY/eJZ+ptRY4j+kUEpD/0DjP8Kyq/dEHQVAo3gk28UH7D+s/97H/Lr1P99ZaSb1tPg/DeQSAmmt8D+unXjSrnnqPyLXbNdNwPA/x65a1DbW5D/iCRuoH0rwP5A9iYyEhOU/nQ6f7/mx6T9KgBedw8MJQPrdWMWKnPY/owyLYVkO4z8m2tJZ0RMTQLpez9D+F+0/bZmhwtdf6D+LPl3w5IXxP1K/zAAgHuQ/NTMy6KOh8D+GA/745qDwPzcGVv78VfE/Fj04/gSR/z/8CievxkXtP2YDn89RTeM/Cwm4WqAa5T+YIIG7z5vtPyvnw5gvRP4/FMnXKODK6z8E7DdPKiztPwHWGbbKb/4/f4WN1quV9T9Y6WuZkOH6P4+aXZFkyOE/wBmB5Xqm6D8Swx8J+eMKQLw3vYsOTfA/yoM/LUNH7D/tI9/CVev7PzCYsFA7jfI/nOR4+SXt9T/9e+bpPunwP1ngc7oD6+k/y5GSKrY85j/qmKlV1WMKQLFONFqBruQ/7Frg1Dtm/z+i2SqA12wAQOygAN4tOvU/wsbFEoT78T/qPqMPGljtP0ajBfiSreU/xZ/vzbay5z+rgC4BTBHjP9pv0p9pSOM/rF6TTvbK8D/4hjQN9eHjP9xBHg5gZfo/N/u4KYVR8z83DRk7yXn4P0JO4MWdR+I/6YHc5ADe4z8F0T0epV0AQHAAnYESy/E/xk2pgQLE7D/g7cmUttnwP+iFYLrMy/E/eIaX+JRE9T9fP5Lpz/TxP6dqe2C2qfA/ln4Vkcp44j9y5Qgi8JrqP/Rk76udJu0/vhYMSmkf7j/DcZZE4dvtP6a343qYwfk/Er+REH8H8z+3InDC5lPjP3kXewHtguI/1EGI41Ii7T9LfpR+MPITQBT75YvkRfM/Dk1REV9m5T93ec86a2viPygUNsTrx/A/486VfC5RBUCOyJxJ9VfwPwkGLy1rCO4/CPllEsKJAUBT/sM5iyPjPzqWlbnFMvs/j7wO6/3nCUAZqXOpMI3zP7GR24tOnuc/Rizn3bOD4z92b5lF7djmP3/xOdbpr+k/FYihOZcx6z/qfRkAK0cOQJve3deyLec/DeBvjUOn4z94th3ZsPbrP1xyTD59DOw/n7pcAZDS5z8rN73uLN3iP9PV30oe9Oc/JdTtX+8kIkAPN00TC+/tP+/l3TgI5uI/aoHF5Is66D/BzRlBY+fiP/JF/VFeHuY/8/NTLlt48z+a50BT53vyP+lo1TGpvuU/2mCEqq9i4j8kKh3ZG7kQQNUILbNdX/Q/ITRa8mey5D+uRO20z5HpP7NkVprU6+w/rxFL79gx5T8iwUdnt/rvP5Ye2kqiB+M/1MHlTDV26z9azBDeKEnjPwEvA5FE/vM/nD2fNTrb8j+AZzenGenqP7j/1J7bJ/Y/J0bVEq8K4z/eVNpkQabjP9jgMwHrBi1AU9MOv4sB5z810Km80vnuP8LQsW5h3w1Ag3O8kx/P4T+uZIUTQbPjP3yHYAvMwvQ/QfhXbUJ79T/GJ6gD8l71P5U+C4tGHvE/oYyWT42r5j+Bj2ovvbflP9ZAJgJoP+I/D395f8WFCUDWRk7TWmDlP3bGetodtuY/qeoUk/nP4T9m7I2GnmriP1C9q1KyxfQ/O+WcMtYK8z/Do1Rmmyn6P7xr6J4OeeM/2J1SBmda7T/UKizqPpMDQBwdteeYoPM/29aoWgs+6j+B3OnMEFX1P9fWT3/BLPQ/FMzlGsyH6D+PTQsv/WUXQC6vgJGxf/E/Xeo/ABiM4j+ReNjWCKjhP9/9lwWy4eY/qGftEf6R7j/pvNQ1YbToP4lyAu26OPM/Nrkz53j2/j+Nv2fp4/fhP0hEPy3eOu4/40uJ2fdk8T+XgC3bClfjP4XBilFg1hZA8Z12fTOP5z/shZM43Fb0PwU7zNuOS+M//O5eW4Mb8T9VEEdf/GoUQNCi5qlCMQNA18Nig7MF5j9Tva13q8rwPyRun9ocmeI/+UaCgZj47z8sFZR2ZufiP/4nCQPeUQRADWvjIE8oB0DfUd9/xtbuP0o5ADxjfSBAk2FQ9ZVK4z88rmtNOt7pP5VQe/ULd/M/44Y8uFVgFUD2dVcFlBnzP+bO8JKhMeY/rpSdiD8p5D/CfN6IVN0QQFPD+6AW/+Q/TI/SSIQg7T9p9QT/viLiP/tEmhqFNfQ/E7Zx3DYU9T90GU3dnqfiP2ALTUdDpCBA4TkZtE2l5z8J69MZG+7/P8u1XVxIIOU/Q/DMur7D4j87BdpYbi3kP27P+lrvteQ/ikTFRvTw6D8Hnl4K2vzvP5ASV1guxuk/PSJuIMfF7z992DPgWRfyP9OIKwOjtPw/XQe5YU+b5j/euu5r4ZPlP+AZG3W0tvE/6CbI42zh4z/c4eIgut/oP30XrkXsReY/gth4aarM6D9YXBYrR/XuP0+/4dV80uw/fPk2ma+8BEBjOhkXshrvP6NltFNxz+0/LOKJMhzM9T+N2e2k7eXpP1pLxxymdv4/QX7Gh3N85z+4hNVR4OADQGTxTSoqdew/GafpENBY9D9ZnmhNxS7rP07nT6kqyeU/aEdkYukb6j+kQ2FJfdzxPziWjKMj5eU/Ax2t96Sp4T+cy1dOlMXjP7cAZ7dE9uk/GFGuV56w7j95QGbPoVwAQPefLu75UOg/IV+QJjgn6j9JaeuftJ/kP69vWY+Bauw/lVai1+zX6j8enSqAiAHjP3iEtS2sNf8/+c7Y6wTwAkBPOePovn/+PyDkhxJIjuU/vUWpgqydB0D4Kdp747frP8oTKcGyXeU/FDWgn7bP5D9r9w+ASO7kP2IOttZjnOk/cJOBHH+w+D+3zqW8KB4jQB/I775UGOY/ejwZRk/D6z/Fe2hiScjiP4nkH+BnDvI/N6xZDyFd5D/Sx/HvOkTiP6+v25VwuAZAeowoMiXY7z+OzKrjnZrhP4XHNPCITeQ/FUu5za0s8z/MOxYo2YDuP+E5eqFaBPA/4K+HE8cI5j9Le/2SxIDjP/IApXz8veY/nGGZJcsO6D9TJmRGvqfhPza9pffYv+E/HA+Vb+4g6j9hclVI5F7pP0ECC3sLp+I/rDpPU+7Z5T/piN+F6afkPyn6/XC/6+o/DE5rVDNd+z8KY/jfvbTtP6JZ9IuBSwtA4ex9Gq7u6D9em8BWaRLlP0Usvjo/Iu8/M01Wm5pT8z9eSgeFF3TxPzmUV0FPqvE/rsXDvYIz8D+Yf8fz1EDiP0Q+lJCz3eg/Qo6P/k/h9z+1JDa4Qu3kP4+m0rYBIeM/sn1JmB+QAEBL9PBgtMMCQGkYUR/lhew/VitWNw+0CUCq5IHKYvTvP3vIbq5WguU/p8n8hxJr4z95XYiFqtnqPwwUSB0EM+I/EAzhdJLR8D94Pf302ObtP0LrlQERZOs/OjAVUXMk6j/0Mdr0Ug/nP8skgAxBk+k/7bwiUaZkAEBs63iBSasCQGSMKWxQ9OI/Ma1gULBZ6T9YMPfo05rrPyu5MgmC9eU/cLYzHpOh4j8iLaqflXbnP7h2hHWbPvc/tUACfbPcB0DZRvzTKwzpPwmljakbC+4/KerHLycgCED1XiyqV//xP4r4KjdQDuQ/1tLkM9d95D/XkqYMBWjyPyqkL5YeXfM/DkQupEft4j9uPr3UzMriP6YVKGKoH+M/YLhBor8Y6D9mAJ5HupbmP+S7rvfJpeQ//QGuaZcS5T+o+2Ap7XDkP54IlglsP+M/42QUhaZb9j/MbYdMLYIaQN3XfsA3thBAuj0sXNRM7j8nZLuJSKrlP/gjq30TUeU/d5ChrYqn7D+pm0cixZv3P3GJmVFvpPE/fXMJAW+97j+5eBw0hGDpP13YHXOZsPM/NBjGEmQj7z+rIsZ3etfoP3Ay/HRWbuQ/mkLF9ovZ5T9fH2ChAoHnP4r2Q14yNuc/rMRzIjIb4z8b782meJjlP1qLJ7V2Qug/+kSC5I7J5D+i0ay8Vbr4P5sDz+uexOM/gSMsHZcq6j97Pev6mIfiPw2v/f7fSPQ/Bu4FWqGJ4z+qszwTR+LzP0IRsqj6PeU/eJvf4J3K5D+Jg2uMbBjnP5aK40qtU+s/dpAdEJta5z+WFZ2QVFPlP24RCb2Yku0/S3DyuF0Z6z8A+G8PUg7mPzHiWjfwkvE/tkncR3Xx8z9wngmZD1bvPwq4/8L43PE/Bb+PgT9/5j9aTqcORWzmP96BqIHxRus/o99D9p6k7z9QF2Ks75fkPxhoAQLZdOQ/xrlvpTqL9D9lyZMWENvnP7FFaEJYWPE/opxX1Mz44j+zr5SnyPz4P/vbXd2nmOU/eQS2ZmRv6j8Ypg3NzwTkP2oQbo3KkglAupzsdPrK4j9chHEIFIXzP1R8CB/SO+Y/ecvjoxoN6D+MWOGKauDnPzsT+w0e2e0/ASRl4m1T9T/mCrlcgxzwP7ULgEWfBuM/SgaBIqTv5D9x/IOcC8PlP0sIF7TbqvM/j2akxcg/6T8FPeEt1O7lP5/f9HUVP/I/LQDlBnLp8T9K+zI1VfkIQGOpWPsTZAhAEJz3SEDDBkAO+HtK+LLkP6/5i3UOlApAzl2XSElm5j/nxomSFPHhP950QdK2YeU/XrWU6LRC4z8XC3nt2I/yP70yIvq+A+k/amw+sPZk4j9eWPpJa4zhPz3QkngA1uc/GkIYVatyIkADv3bJwlDnP4U5EzDai/s/1Pz0mCas5z9YqvZVgz/1PxkVo1H9ogRA+yn7uTzN+T8gE7t/iQrtPxTflJyyyuI/S5U35GoA5z+p5+i/og3tPzPoDm+XcOQ/KK9lfDo15z+1dhFspj30P/YX19RyfuM/UMeUN6cp6j89WHMI6y0BQCMagspM0eY/FQVDjxLQ/D/zeB7evn0DQGeCp+9vVOI/YIljyc3f5D+JpMWVo0zoPxtF0SA/p+g/9VUqnXyP5T96h11JHJHjPy7k4e4lgeI/0UDaHbrD6T9+3VsDU0XiPxIRBSDJAvg/RLFZ2VFy/T8QLAu1ej3iP5WXnY7RQO4/JddPcBmJ+D8MfJbG9ff4PxlOcXzLDus/DxDbDPAt8T8baVNVF5jiP245jHZ5+QZA2Rh6y/ae8j8jOY8NZoPkP6MeU87Vu+Q/p3JgwiDd9D99OOma3SvkPzCB4u4GoeE/P2u+78XM5T94JzVqvdbyP7hph+Pvzeo/gyhj6WYTDEBZ11k1Ky8QQEpv+dcbEeI/QY/Q46MlHEAH/clHrYfiP9419qFpm+Q/Q7UDf3wA6j9jz30MvovlPxmOtcGQIfc/Ay/dcC0N+D9zmWrOef/oP89Z2LYll/E/T1hfbCLk9T/78oocee/rP1nxfuZTt+U/jrIqG5+L9j+40Xqfou/mP2Zjh7HRWvI/3LMn1qe0+T8/P3TBp6/nP+adswf2fOk/NC3VtLkB+T9/lsUpzkb/P3Xfb4ifdus/yU+U+nd18D8fnjmuYeLiP46Er2aX8uI/0MNK86+g/j+L8H45WSHmP656/HR1fOk/9RIwWkvM5z9Fq0C88eTyPx/AkEjpt+Q/lc236pwP9D9//z3F1b/wP+DdFGmm9OI/Sp+cu8Hp4j/35257eZzxP2yjABWViuk/+raXt25D6D/zOlEJRRHpP50JhzYc5uc/UO9I5EKy5D+1sSIv8r/sP/lidSfRNyhANNm9IBZD9T82qMGDDkv1P7hQ8u5UHOg/iSOu4eZy8T/BwBR/Pez8P8u5ZFKITuQ/+CWM4pu85D+MmxhwfKbhPwKxe36RrOM/xFx5u13m8T9cWlw087HzPx4RMQGlWOY/tBHteXN88T8qF0Qxk0/nPyXrgG0clfI/kyB9io1Q6j+VBjN6K7H1P9MFBdtq9uM/5RXBN4bj5z89KafIeFvuP8jTTBu2H+g/k6H6d9ip5j+iks7ijgPoP9JfGeCzOOI/xhegH/jT/j92TJYlm1vkPwp8i422EuM/eURR0i8o6D9zxhSXIAUAQPDS6nOW0vE/2ixe+ZHdFkCKBjXWwXnzP38DpS3Xb+I/nG9rYd029j/aIy8F1zbwP1fdHKgeJPM/P1bo1S738T/mxLUElGHvP7GpSco74QFAWW29QUY37T83hBYd9T3oP5cO+CRzbO0/JG0Osdhz4z8yt7/PQ8IZQJrj5iM8S+Y/w3/Qiqv85D+TM4tZ7zvjPyGObnnGA+s/VXHEeefQ8j8t/mvxAA7iP8loLRpbuuQ/fsqXrVvy6T+lN1p/fgkFQFzwJ354pO8/3BYXq6ma4j/CjBk+0PXnP7jXW8XHrPM/ZOZHGJub+T+t+sOr4w/mP29T6kItFQBAuyD4of3v7D/7ywzwAqDyP+FPjyb98/c/YZiDl1OQ5D8jOVjatQb7P7Xe0OpZYuw/K/27NiAx5D9nRNByoVPyP8EtopoxmOQ/KLkmSfThG0AuiP+xSsX7P59nYCt5neU/drMfFtD24T8C+XQcXOjoPwm3T/fpgvY/9IpfhVij5j+DbfYg3ZDiPz7pYFx+fvc/0Xjit/T89D+zTNT1+sPhP6LNj45CE+I/fK87gDqaE0C5npm0JtnlP3eiyfIYYAJAn7ig8qRq6T/LvijEX4TwP9TQYedYygVAwwgBi0vi7T/AKeD+LVHjP48xFGpWZ+c/ncx+h5em8D9nzrCAbAjmP46tWHk33uU/nGX4DdtR7D+n0yyCUQL4Pxga3/bZ1+E/TsHbhUAN6D+WUCEPq27rPwMaYLoOL+I/5ZKmYHMs5D+PBjSSrAgTQCZv6a32UuQ/M/w9QR9Y8D9LRIU264DzP8B2u+zTB+Y/nwE4FQ9I6D9eGbzF/sjyP3j55cOpefQ/buFeLqiw+T/dTu0rF8fxP8HCheyC7eI/q1VUfAGM9z9tbJ7BhG/1P8K81KYQsPE/q9g7/Ys9+D/MqUEMe+jsP2qYOQmKNOw/KMxF+VdPEEBMA+YbnoXuPw9N24DekQFApzC0dfF84T9pLY9WeT/qP/JsMuR/PfU/Gn4NXtWF5D+bfLFdxU3pP7MzHSn87+U/L8/7LcqA6z/CHiWTRsvlP/k2QHcE+uU/veoQ/O3m7D+6ozqBL/7jP71HZd3sRfE/AjaQysJa5z+knEqe/Zv9P47GR6cdPu4/niRQHQCC8j+mmGswYTriPwRTlIVJiuc/VfLDiIzK6j/31yxCM4PjP1/bTuQZTuM/htEHmXtTGkA+DATVnYbiPwv0q3HwaOY/VcwRJcpK5D82riR9slnuP1RmzclMGOM/TPZq3aMPCEBUbFD5oCLwP9cx3NAobuM/tATHi4jI9D9Uq/EqwmsXQHZcRoQs/Ok/1ZHrPyKA8T+Pif45RjToP43hV7JrveU/JXh2KODy5z/UpZ0mmGT4P514L8MCJPE/oiTJODHrJ0CUEO/QE7//Pwi/mx/aY+Y/QA+54qPu8D8YBzFNgInoP5+FKSx9Gf4/F9EOcxTX4z/15kW8GKYcQCjKDlsFPxZAfsjmgCtm6T/TxaXZAfrmP5OSoYDDeus/ueZ8+LTd8D+/Xi6eW6LhP8zdJiy2muY/1Khgyiek5j8M1yjmRuDlP8OYJNRbqOM/mFczxg4hAECLMw98xG70P8KMIeIVkfg/jz8Sh3Hz7T9CViahJN4BQMkAP1fUUeI/cCANyRFEG0ADJYAy65LqPwVzZJFKuu4/QFEJR5Qf4j/VLVEXdK3jPxPVNFjtbuU/shtTNGLp8j8zHezB4J7jP2DwzkOsE+I/O+B+Ko0t7T+1NJy3IkL/P03L/pH+hPA/Ji+KHWzU6z+RZ5iBcH8QQA==",
          "dtype": "f8"
         },
         "yaxis": "y2"
        },
        {
         "marker": {
          "color": "rgba(128,177,211, 1)",
          "line": {
           "color": "gray",
           "width": 0.3
          }
         },
         "name": "SSP4",
         "type": "box",
         "width": 0.2,
         "xaxis": "x2",
         "y": {
          "bdata": "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",
          "dtype": "f8"
         },
         "yaxis": "y2"
        },
        {
         "marker": {
          "color": "rgba(251,128,114, 1)",
          "line": {
           "color": "gray",
           "width": 0.3
          }
         },
         "name": "SSP5",
         "type": "box",
         "width": 0.2,
         "xaxis": "x2",
         "y": {
          "bdata": "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",
          "dtype": "f8"
         },
         "yaxis": "y2"
        }
       ],
       "layout": {
        "annotations": [
         {
          "font": {
           "size": 16
          },
          "showarrow": false,
          "text": " ",
          "x": 0.315,
          "xanchor": "center",
          "xref": "paper",
          "y": 1,
          "yanchor": "bottom",
          "yref": "paper"
         },
         {
          "font": {
           "size": 16
          },
          "showarrow": false,
          "text": " ",
          "x": 0.865,
          "xanchor": "center",
          "xref": "paper",
          "y": 1,
          "yanchor": "bottom",
          "yref": "paper"
         }
        ],
        "font": {
         "size": 18
        },
        "height": 700,
        "template": {
         "data": {
          "bar": [
           {
            "error_x": {
             "color": "#2a3f5f"
            },
            "error_y": {
             "color": "#2a3f5f"
            },
            "marker": {
             "line": {
              "color": "white",
              "width": 0.5
             },
             "pattern": {
              "fillmode": "overlay",
              "size": 10,
              "solidity": 0.2
             }
            },
            "type": "bar"
           }
          ],
          "barpolar": [
           {
            "marker": {
             "line": {
              "color": "white",
              "width": 0.5
             },
             "pattern": {
              "fillmode": "overlay",
              "size": 10,
              "solidity": 0.2
             }
            },
            "type": "barpolar"
           }
          ],
          "carpet": [
           {
            "aaxis": {
             "endlinecolor": "#2a3f5f",
             "gridcolor": "#C8D4E3",
             "linecolor": "#C8D4E3",
             "minorgridcolor": "#C8D4E3",
             "startlinecolor": "#2a3f5f"
            },
            "baxis": {
             "endlinecolor": "#2a3f5f",
             "gridcolor": "#C8D4E3",
             "linecolor": "#C8D4E3",
             "minorgridcolor": "#C8D4E3",
             "startlinecolor": "#2a3f5f"
            },
            "type": "carpet"
           }
          ],
          "choropleth": [
           {
            "colorbar": {
             "outlinewidth": 0,
             "ticks": ""
            },
            "type": "choropleth"
           }
          ],
          "contour": [
           {
            "colorbar": {
             "outlinewidth": 0,
             "ticks": ""
            },
            "colorscale": [
             [
              0,
              "#0d0887"
             ],
             [
              0.1111111111111111,
              "#46039f"
             ],
             [
              0.2222222222222222,
              "#7201a8"
             ],
             [
              0.3333333333333333,
              "#9c179e"
             ],
             [
              0.4444444444444444,
              "#bd3786"
             ],
             [
              0.5555555555555556,
              "#d8576b"
             ],
             [
              0.6666666666666666,
              "#ed7953"
             ],
             [
              0.7777777777777778,
              "#fb9f3a"
             ],
             [
              0.8888888888888888,
              "#fdca26"
             ],
             [
              1,
              "#f0f921"
             ]
            ],
            "type": "contour"
           }
          ],
          "contourcarpet": [
           {
            "colorbar": {
             "outlinewidth": 0,
             "ticks": ""
            },
            "type": "contourcarpet"
           }
          ],
          "heatmap": [
           {
            "colorbar": {
             "outlinewidth": 0,
             "ticks": ""
            },
            "colorscale": [
             [
              0,
              "#0d0887"
             ],
             [
              0.1111111111111111,
              "#46039f"
             ],
             [
              0.2222222222222222,
              "#7201a8"
             ],
             [
              0.3333333333333333,
              "#9c179e"
             ],
             [
              0.4444444444444444,
              "#bd3786"
             ],
             [
              0.5555555555555556,
              "#d8576b"
             ],
             [
              0.6666666666666666,
              "#ed7953"
             ],
             [
              0.7777777777777778,
              "#fb9f3a"
             ],
             [
              0.8888888888888888,
              "#fdca26"
             ],
             [
              1,
              "#f0f921"
             ]
            ],
            "type": "heatmap"
           }
          ],
          "histogram": [
           {
            "marker": {
             "pattern": {
              "fillmode": "overlay",
              "size": 10,
              "solidity": 0.2
             }
            },
            "type": "histogram"
           }
          ],
          "histogram2d": [
           {
            "colorbar": {
             "outlinewidth": 0,
             "ticks": ""
            },
            "colorscale": [
             [
              0,
              "#0d0887"
             ],
             [
              0.1111111111111111,
              "#46039f"
             ],
             [
              0.2222222222222222,
              "#7201a8"
             ],
             [
              0.3333333333333333,
              "#9c179e"
             ],
             [
              0.4444444444444444,
              "#bd3786"
             ],
             [
              0.5555555555555556,
              "#d8576b"
             ],
             [
              0.6666666666666666,
              "#ed7953"
             ],
             [
              0.7777777777777778,
              "#fb9f3a"
             ],
             [
              0.8888888888888888,
              "#fdca26"
             ],
             [
              1,
              "#f0f921"
             ]
            ],
            "type": "histogram2d"
           }
          ],
          "histogram2dcontour": [
           {
            "colorbar": {
             "outlinewidth": 0,
             "ticks": ""
            },
            "colorscale": [
             [
              0,
              "#0d0887"
             ],
             [
              0.1111111111111111,
              "#46039f"
             ],
             [
              0.2222222222222222,
              "#7201a8"
             ],
             [
              0.3333333333333333,
              "#9c179e"
             ],
             [
              0.4444444444444444,
              "#bd3786"
             ],
             [
              0.5555555555555556,
              "#d8576b"
             ],
             [
              0.6666666666666666,
              "#ed7953"
             ],
             [
              0.7777777777777778,
              "#fb9f3a"
             ],
             [
              0.8888888888888888,
              "#fdca26"
             ],
             [
              1,
              "#f0f921"
             ]
            ],
            "type": "histogram2dcontour"
           }
          ],
          "mesh3d": [
           {
            "colorbar": {
             "outlinewidth": 0,
             "ticks": ""
            },
            "type": "mesh3d"
           }
          ],
          "parcoords": [
           {
            "line": {
             "colorbar": {
              "outlinewidth": 0,
              "ticks": ""
             }
            },
            "type": "parcoords"
           }
          ],
          "pie": [
           {
            "automargin": true,
            "type": "pie"
           }
          ],
          "scatter": [
           {
            "fillpattern": {
             "fillmode": "overlay",
             "size": 10,
             "solidity": 0.2
            },
            "type": "scatter"
           }
          ],
          "scatter3d": [
           {
            "line": {
             "colorbar": {
              "outlinewidth": 0,
              "ticks": ""
             }
            },
            "marker": {
             "colorbar": {
              "outlinewidth": 0,
              "ticks": ""
             }
            },
            "type": "scatter3d"
           }
          ],
          "scattercarpet": [
           {
            "marker": {
             "colorbar": {
              "outlinewidth": 0,
              "ticks": ""
             }
            },
            "type": "scattercarpet"
           }
          ],
          "scattergeo": [
           {
            "marker": {
             "colorbar": {
              "outlinewidth": 0,
              "ticks": ""
             }
            },
            "type": "scattergeo"
           }
          ],
          "scattergl": [
           {
            "marker": {
             "colorbar": {
              "outlinewidth": 0,
              "ticks": ""
             }
            },
            "type": "scattergl"
           }
          ],
          "scattermap": [
           {
            "marker": {
             "colorbar": {
              "outlinewidth": 0,
              "ticks": ""
             }
            },
            "type": "scattermap"
           }
          ],
          "scattermapbox": [
           {
            "marker": {
             "colorbar": {
              "outlinewidth": 0,
              "ticks": ""
             }
            },
            "type": "scattermapbox"
           }
          ],
          "scatterpolar": [
           {
            "marker": {
             "colorbar": {
              "outlinewidth": 0,
              "ticks": ""
             }
            },
            "type": "scatterpolar"
           }
          ],
          "scatterpolargl": [
           {
            "marker": {
             "colorbar": {
              "outlinewidth": 0,
              "ticks": ""
             }
            },
            "type": "scatterpolargl"
           }
          ],
          "scatterternary": [
           {
            "marker": {
             "colorbar": {
              "outlinewidth": 0,
              "ticks": ""
             }
            },
            "type": "scatterternary"
           }
          ],
          "surface": [
           {
            "colorbar": {
             "outlinewidth": 0,
             "ticks": ""
            },
            "colorscale": [
             [
              0,
              "#0d0887"
             ],
             [
              0.1111111111111111,
              "#46039f"
             ],
             [
              0.2222222222222222,
              "#7201a8"
             ],
             [
              0.3333333333333333,
              "#9c179e"
             ],
             [
              0.4444444444444444,
              "#bd3786"
             ],
             [
              0.5555555555555556,
              "#d8576b"
             ],
             [
              0.6666666666666666,
              "#ed7953"
             ],
             [
              0.7777777777777778,
              "#fb9f3a"
             ],
             [
              0.8888888888888888,
              "#fdca26"
             ],
             [
              1,
              "#f0f921"
             ]
            ],
            "type": "surface"
           }
          ],
          "table": [
           {
            "cells": {
             "fill": {
              "color": "#EBF0F8"
             },
             "line": {
              "color": "white"
             }
            },
            "header": {
             "fill": {
              "color": "#C8D4E3"
             },
             "line": {
              "color": "white"
             }
            },
            "type": "table"
           }
          ]
         },
         "layout": {
          "annotationdefaults": {
           "arrowcolor": "#2a3f5f",
           "arrowhead": 0,
           "arrowwidth": 1
          },
          "autotypenumbers": "strict",
          "coloraxis": {
           "colorbar": {
            "outlinewidth": 0,
            "ticks": ""
           }
          },
          "colorscale": {
           "diverging": [
            [
             0,
             "#8e0152"
            ],
            [
             0.1,
             "#c51b7d"
            ],
            [
             0.2,
             "#de77ae"
            ],
            [
             0.3,
             "#f1b6da"
            ],
            [
             0.4,
             "#fde0ef"
            ],
            [
             0.5,
             "#f7f7f7"
            ],
            [
             0.6,
             "#e6f5d0"
            ],
            [
             0.7,
             "#b8e186"
            ],
            [
             0.8,
             "#7fbc41"
            ],
            [
             0.9,
             "#4d9221"
            ],
            [
             1,
             "#276419"
            ]
           ],
           "sequential": [
            [
             0,
             "#0d0887"
            ],
            [
             0.1111111111111111,
             "#46039f"
            ],
            [
             0.2222222222222222,
             "#7201a8"
            ],
            [
             0.3333333333333333,
             "#9c179e"
            ],
            [
             0.4444444444444444,
             "#bd3786"
            ],
            [
             0.5555555555555556,
             "#d8576b"
            ],
            [
             0.6666666666666666,
             "#ed7953"
            ],
            [
             0.7777777777777778,
             "#fb9f3a"
            ],
            [
             0.8888888888888888,
             "#fdca26"
            ],
            [
             1,
             "#f0f921"
            ]
           ],
           "sequentialminus": [
            [
             0,
             "#0d0887"
            ],
            [
             0.1111111111111111,
             "#46039f"
            ],
            [
             0.2222222222222222,
             "#7201a8"
            ],
            [
             0.3333333333333333,
             "#9c179e"
            ],
            [
             0.4444444444444444,
             "#bd3786"
            ],
            [
             0.5555555555555556,
             "#d8576b"
            ],
            [
             0.6666666666666666,
             "#ed7953"
            ],
            [
             0.7777777777777778,
             "#fb9f3a"
            ],
            [
             0.8888888888888888,
             "#fdca26"
            ],
            [
             1,
             "#f0f921"
            ]
           ]
          },
          "colorway": [
           "#636efa",
           "#EF553B",
           "#00cc96",
           "#ab63fa",
           "#FFA15A",
           "#19d3f3",
           "#FF6692",
           "#B6E880",
           "#FF97FF",
           "#FECB52"
          ],
          "font": {
           "color": "#2a3f5f"
          },
          "geo": {
           "bgcolor": "white",
           "lakecolor": "white",
           "landcolor": "white",
           "showlakes": true,
           "showland": true,
           "subunitcolor": "#C8D4E3"
          },
          "hoverlabel": {
           "align": "left"
          },
          "hovermode": "closest",
          "mapbox": {
           "style": "light"
          },
          "paper_bgcolor": "white",
          "plot_bgcolor": "white",
          "polar": {
           "angularaxis": {
            "gridcolor": "#EBF0F8",
            "linecolor": "#EBF0F8",
            "ticks": ""
           },
           "bgcolor": "white",
           "radialaxis": {
            "gridcolor": "#EBF0F8",
            "linecolor": "#EBF0F8",
            "ticks": ""
           }
          },
          "scene": {
           "xaxis": {
            "backgroundcolor": "white",
            "gridcolor": "#DFE8F3",
            "gridwidth": 2,
            "linecolor": "#EBF0F8",
            "showbackground": true,
            "ticks": "",
            "zerolinecolor": "#EBF0F8"
           },
           "yaxis": {
            "backgroundcolor": "white",
            "gridcolor": "#DFE8F3",
            "gridwidth": 2,
            "linecolor": "#EBF0F8",
            "showbackground": true,
            "ticks": "",
            "zerolinecolor": "#EBF0F8"
           },
           "zaxis": {
            "backgroundcolor": "white",
            "gridcolor": "#DFE8F3",
            "gridwidth": 2,
            "linecolor": "#EBF0F8",
            "showbackground": true,
            "ticks": "",
            "zerolinecolor": "#EBF0F8"
           }
          },
          "shapedefaults": {
           "line": {
            "color": "#2a3f5f"
           }
          },
          "ternary": {
           "aaxis": {
            "gridcolor": "#DFE8F3",
            "linecolor": "#A2B1C6",
            "ticks": ""
           },
           "baxis": {
            "gridcolor": "#DFE8F3",
            "linecolor": "#A2B1C6",
            "ticks": ""
           },
           "bgcolor": "white",
           "caxis": {
            "gridcolor": "#DFE8F3",
            "linecolor": "#A2B1C6",
            "ticks": ""
           }
          },
          "title": {
           "x": 0.05
          },
          "xaxis": {
           "automargin": true,
           "gridcolor": "#EBF0F8",
           "linecolor": "#EBF0F8",
           "ticks": "",
           "title": {
            "standoff": 15
           },
           "zerolinecolor": "#EBF0F8",
           "zerolinewidth": 2
          },
          "yaxis": {
           "automargin": true,
           "gridcolor": "#EBF0F8",
           "linecolor": "#EBF0F8",
           "ticks": "",
           "title": {
            "standoff": 15
           },
           "zerolinecolor": "#EBF0F8",
           "zerolinewidth": 2
          }
         }
        },
        "width": 1000,
        "xaxis": {
         "anchor": "y",
         "domain": [
          0,
          0.75
         ],
         "linecolor": "black",
         "linewidth": 1,
         "showgrid": false,
         "showline": true,
         "ticks": "outside",
         "title": {
          "text": "Year"
         }
        },
        "xaxis2": {
         "anchor": "y2",
         "domain": [
          0.85,
          1
         ],
         "showgrid": false
        },
        "yaxis": {
         "anchor": "x",
         "domain": [
          0,
          1
         ],
         "dtick": 10,
         "linecolor": "black",
         "linewidth": 1,
         "range": [
          0,
          80
         ],
         "showgrid": false,
         "showline": true,
         "tick0": 0,
         "ticks": "outside",
         "title": {
          "text": "Global Emissions (GtCO2)"
         }
        },
        "yaxis2": {
         "anchor": "x2",
         "domain": [
          0,
          1
         ],
         "range": [
          0,
          80
         ],
         "showgrid": false,
         "showticklabels": false,
         "title": {
          "text": " "
         }
        }
       }
      }
     },
     "metadata": {},
     "output_type": "display_data"
    }
   ],
   "source": [
    "from justice.util.visualizer import plot_comparison_with_boxplots\n",
    "from justice.util.enumerations import WelfareFunction, SSP\n",
    "ssp = SSP.SSP2\n",
    "\n",
    "path = f\"data/temporary/NU_DATA/combined/{str(ssp).split('.')[1]}/\"\n",
    "\n",
    "regret_type = \"Temperature_Regret\" # \"Welfare_Regret\" or \"Temperature_Regret\"\n",
    "\n",
    "plot_comparison_with_boxplots(\n",
    "    data_paths=[\n",
    "\n",
    "        # Prioritarian Welfare Regret\n",
    "        # path + \"PRIORITARIAN_emissions_idx6_SSP126_emissions.npy\",\n",
    "        # path + \"PRIORITARIAN_emissions_idx6_SSP245_emissions.npy\",\n",
    "        # path + \"PRIORITARIAN_emissions_idx6_SSP370_emissions.npy\",\n",
    "        # path + \"PRIORITARIAN_emissions_idx6_SSP460_emissions.npy\",\n",
    "        # path + \"PRIORITARIAN_emissions_idx6_SSP534_emissions.npy\",\n",
    "\n",
    "        # Prioritarian Temperature Regret\n",
    "        # path + \"PRIORITARIAN_emissions_idx8_SSP126_emissions.npy\",\n",
    "        # path + \"PRIORITARIAN_emissions_idx8_SSP245_emissions.npy\",\n",
    "        # path + \"PRIORITARIAN_emissions_idx8_SSP370_emissions.npy\",\n",
    "        # path + \"PRIORITARIAN_emissions_idx8_SSP460_emissions.npy\",\n",
    "        # path + \"PRIORITARIAN_emissions_idx8_SSP534_emissions.npy\",\n",
    "\n",
    "        # Utilitarian Welfare Regret\n",
    "        # path + \"UTILITARIAN_emissions_idx29_SSP126_emissions.npy\",\n",
    "        # path + \"UTILITARIAN_emissions_idx29_SSP245_emissions.npy\",\n",
    "        # path + \"UTILITARIAN_emissions_idx29_SSP370_emissions.npy\",\n",
    "        # path + \"UTILITARIAN_emissions_idx29_SSP460_emissions.npy\",\n",
    "        # path + \"UTILITARIAN_emissions_idx29_SSP534_emissions.npy\",\n",
    "\n",
    "        # Utilitarian Temperature Regret\n",
    "        path + \"UTILITARIAN_emissions_idx4_SSP126_emissions.npy\",\n",
    "        path + \"UTILITARIAN_emissions_idx4_SSP245_emissions.npy\",\n",
    "        path + \"UTILITARIAN_emissions_idx4_SSP370_emissions.npy\",\n",
    "        path + \"UTILITARIAN_emissions_idx4_SSP460_emissions.npy\",\n",
    "        path + \"UTILITARIAN_emissions_idx4_SSP534_emissions.npy\",\n",
    "    \n",
    "    ],\n",
    "    labels=[\n",
    "        \n",
    "        'SSP1',\n",
    "        'SSP2',\n",
    "        'SSP3',\n",
    "        'SSP4',\n",
    "        'SSP5',\n",
    "        ], \n",
    "    start_year=2015,\n",
    "    end_year=2300,\n",
    "    data_timestep=5,\n",
    "    timestep=1,\n",
    "    visualization_start_year=2015,\n",
    "    visualization_end_year=2100,\n",
    "    yaxis_range=[0, 80],\n",
    "    plot_title=' ',\n",
    "    xaxis_title='Year',\n",
    "    yaxis_title='Global Emissions (GtCO2)',\n",
    "    template='plotly_white',\n",
    "    width=1000,\n",
    "    height=700,\n",
    "    output_path=path +\"/\"+ \"plots\",\n",
    "    saving=True,\n",
    "    show_red_dashed_line=False,\n",
    "    show_interquartile_range=True,\n",
    "    linecolors=[\n",
    " \n",
    "\n",
    "        \"rgba(141,211,199, 1)\",\n",
    "        \"rgba(254,217,166, 1)\", \n",
    "        \"rgba(190,186,218, 1)\", \n",
    "        \"rgba(128,177,211, 1)\", \n",
    "        \"rgba(251,128,114, 1)\", \n",
    "        ],\n",
    "    colors = [ \n",
    "\n",
    "        \"rgba(141,211,199, 0.4)\", \n",
    "        \"rgba(254,217,166, 0.4)\",\n",
    "        \"rgba(190,186,218, 0.4)\", \n",
    "        \"rgba(128,177,211, 0.4)\", \n",
    "        \"rgba(251,128,114, 0.4)\", \n",
    "\n",
    "        ],\n",
    "    first_plot_proportion=[0, 0.75],\n",
    "    second_plot_proportion=[0.85, 1],\n",
    "    transpose_data=True,\n",
    "    show_min_max = False,\n",
    "    dtick=10,\n",
    "    output_name_suffix=regret_type,\n",
    ")"
   ]
  },
  {
   "cell_type": "code",
   "execution_count": 3,
   "id": "ce3f1d30",
   "metadata": {},
   "outputs": [
    {
     "name": "stdout",
     "output_type": "stream",
     "text": [
      "Taking average over the last dimension.\n",
      "Taking average over the last dimension.\n",
      "Taking average over the last dimension.\n",
      "Taking average over the last dimension.\n",
      "Taking average over the last dimension.\n",
      "Taking average over the last dimension.\n",
      "Taking average over the last dimension.\n",
      "Taking average over the last dimension.\n",
      "Taking average over the last dimension.\n",
      "Taking average over the last dimension.\n",
      "Taking average over the last dimension.\n",
      "Taking average over the last dimension.\n",
      "Taking average over the last dimension.\n",
      "Taking average over the last dimension.\n",
      "Taking average over the last dimension.\n",
      "Taking average over the last dimension.\n",
      "Taking average over the last dimension.\n",
      "Taking average over the last dimension.\n",
      "Taking average over the last dimension.\n",
      "Taking average over the last dimension.\n",
      "0\n",
      "1\n",
      "2\n",
      "3\n",
      "4\n",
      "5\n",
      "6\n",
      "7\n",
      "8\n",
      "9\n",
      "10\n",
      "11\n",
      "12\n",
      "13\n",
      "14\n",
      "15\n",
      "16\n",
      "17\n",
      "18\n",
      "19\n"
     ]
    }
   ],
   "source": [
    "import numpy as np\n",
    "import plotly.express as px\n",
    "\n",
    "import pandas as pd\n",
    "\n",
    "from justice.util.visualizer import plot_choropleth_2D_data\n",
    "\n",
    "from justice.util.enumerations import WelfareFunction, SSP\n",
    "ssp = SSP.SSP2\n",
    "\n",
    "path = f\"data/temporary/NU_DATA/combined/{str(ssp).split('.')[1]}/\"\n",
    "\n",
    "\n",
    "fig, prior_data = plot_choropleth_2D_data(\n",
    "    path_to_data=path,\n",
    "    path_to_output= path + \"plots\", #\"./data/temporary\", #/rbf_dist_test\n",
    "    projection= \"natural earth1\", \n",
    "    colourmap= px.colors.sequential.Reds,\n",
    "    year_to_visualize=2050,\n",
    "    input_data_path_list=[\n",
    "\n",
    "        # UTILITARIAN Temperature Regret\n",
    "        \"UTILITARIAN_constrained_emission_control_rate_idx4_SSP126_constrained_emission_control_rate.npy\",\n",
    "        \"UTILITARIAN_constrained_emission_control_rate_idx4_SSP245_constrained_emission_control_rate.npy\",\n",
    "        \"UTILITARIAN_constrained_emission_control_rate_idx4_SSP370_constrained_emission_control_rate.npy\",\n",
    "        \"UTILITARIAN_constrained_emission_control_rate_idx4_SSP460_constrained_emission_control_rate.npy\",\n",
    "        \"UTILITARIAN_constrained_emission_control_rate_idx4_SSP534_constrained_emission_control_rate.npy\",\n",
    "\n",
    "        # UTILITARIAN Welfare Regret\n",
    "        \"UTILITARIAN_constrained_emission_control_rate_idx29_SSP126_constrained_emission_control_rate.npy\",\n",
    "        \"UTILITARIAN_constrained_emission_control_rate_idx29_SSP245_constrained_emission_control_rate.npy\",\n",
    "        \"UTILITARIAN_constrained_emission_control_rate_idx29_SSP370_constrained_emission_control_rate.npy\",\n",
    "        \"UTILITARIAN_constrained_emission_control_rate_idx29_SSP460_constrained_emission_control_rate.npy\",\n",
    "        \"UTILITARIAN_constrained_emission_control_rate_idx29_SSP534_constrained_emission_control_rate.npy\",\n",
    "\n",
    "        # PRIORITARIAN Temperature Regret\n",
    "        \"PRIORITARIAN_constrained_emission_control_rate_idx8_SSP126_constrained_emission_control_rate.npy\",\n",
    "        \"PRIORITARIAN_constrained_emission_control_rate_idx8_SSP245_constrained_emission_control_rate.npy\",\n",
    "        \"PRIORITARIAN_constrained_emission_control_rate_idx8_SSP370_constrained_emission_control_rate.npy\",\n",
    "        \"PRIORITARIAN_constrained_emission_control_rate_idx8_SSP460_constrained_emission_control_rate.npy\",\n",
    "        \"PRIORITARIAN_constrained_emission_control_rate_idx8_SSP534_constrained_emission_control_rate.npy\",     \n",
    "\n",
    "        # PRIORITARIAN Welfare Regret\n",
    "        \"PRIORITARIAN_constrained_emission_control_rate_idx6_SSP126_constrained_emission_control_rate.npy\",\n",
    "        \"PRIORITARIAN_constrained_emission_control_rate_idx6_SSP245_constrained_emission_control_rate.npy\",\n",
    "        \"PRIORITARIAN_constrained_emission_control_rate_idx6_SSP370_constrained_emission_control_rate.npy\",\n",
    "        \"PRIORITARIAN_constrained_emission_control_rate_idx6_SSP460_constrained_emission_control_rate.npy\",\n",
    "        \"PRIORITARIAN_constrained_emission_control_rate_idx6_SSP534_constrained_emission_control_rate.npy\",\n",
    "        \n",
    "\n",
    "\n",
    "    ],\n",
    "        \n",
    "    data_label=\"Emission Control Rate\",\n",
    "    legend_label=\"\", \n",
    "    data_normalization=True,\n",
    "    saving=True,\n",
    "    show_colorbar=False,\n",
    "    normalized_colorbar=True,\n",
    "\n",
    ")\n"
   ]
  },
  {
   "cell_type": "code",
   "execution_count": null,
   "id": "3cfaee4f",
   "metadata": {},
   "outputs": [],
   "source": []
  }
 ],
 "metadata": {
  "kernelspec": {
   "display_name": "venv",
   "language": "python",
   "name": "python3"
  },
  "language_info": {
   "codemirror_mode": {
    "name": "ipython",
    "version": 3
   },
   "file_extension": ".py",
   "mimetype": "text/x-python",
   "name": "python",
   "nbconvert_exporter": "python",
   "pygments_lexer": "ipython3",
   "version": "3.9.10"
  }
 },
 "nbformat": 4,
 "nbformat_minor": 5
}
