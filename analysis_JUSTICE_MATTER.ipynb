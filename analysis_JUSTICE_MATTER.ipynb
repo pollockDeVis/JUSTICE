{
 "cells": [
  {
   "cell_type": "markdown",
   "metadata": {},
   "source": [
    "## JUSTICE MATTER stepwise run evaluation"
   ]
  },
  {
   "cell_type": "code",
   "execution_count": 13,
   "metadata": {},
   "outputs": [],
   "source": [
    "import numpy as np\n",
    "import os\n",
    "import matplotlib.pyplot as plt\n",
    "\n",
    "def load_npz_file(npz_file_path):\n",
    "    \"\"\"\n",
    "    Load a .npz file and return the relevant variables.\n",
    "    \"\"\"\n",
    "    data = np.load(npz_file_path, allow_pickle=True)\n",
    "    array = data[data.files[0]].item()  # Assuming the file contains a single dictionary\n",
    "    return array\n",
    "\n",
    "def plot_scenario(data, scenario_name, output_dir=None):\n",
    "    \"\"\"\n",
    "    Plot the specified variables for a given scenario.\n",
    "    \"\"\"\n",
    "    variables_of_interest = ['depletion_ratio', 'recycling_cost', 'emissions_avoided', 'emissions']\n",
    "    titles = ['Depletion Ratio', 'Recycling Cost (Trillions)', 'Emissions Avoided (Gt)', 'Emissions (Gt)']\n",
    "    \n",
    "    # Create a figure with 2 rows and 2 columns\n",
    "    fig, axs = plt.subplots(2, 2, figsize=(12, 10))\n",
    "    fig.suptitle(f'CE Global projections: {scenario_name}', fontsize=16)\n",
    "    \n",
    "    years = np.arange(2015, 2301)\n",
    "    \n",
    "    for i, var in enumerate(variables_of_interest):\n",
    "        variable_data = data[var]\n",
    "        mean_data = np.mean(variable_data, axis=2)  # Mean across regions\n",
    "\n",
    "        ax = axs[i//2, i%2]\n",
    "        for j in range(mean_data.shape[0]):  # Iterate over ensembles\n",
    "            ax.plot(years, mean_data[j,:])  \n",
    "            \n",
    "        ax.set_title(titles[i])\n",
    "        ax.set_xlabel('Year')\n",
    "        ax.set_ylabel('Value')\n",
    "    \n",
    "    plt.tight_layout(rect=[0, 0, 1, 0.96])\n",
    "    \n",
    "    # Save the plot\n",
    "    if not os.path.exists(output_dir):\n",
    "        os.makedirs(output_dir)\n",
    "    plt.savefig(os.path.join(output_dir, f'{scenario_name}.png'))\n",
    "    plt.close()\n",
    "\n",
    "def process_all_scenarios(input_dir, output_dir='plots'):\n",
    "    \"\"\"\n",
    "    Process all .npz files in the specified directory.\n",
    "    \"\"\"\n",
    "    for file_name in os.listdir(input_dir):\n",
    "        if file_name.endswith('.npz'):\n",
    "            npz_file_path = os.path.join(input_dir, file_name)\n",
    "            scenario_name = os.path.splitext(file_name)[0]\n",
    "            data = load_npz_file(npz_file_path)\n",
    "            plot_scenario(data, scenario_name, output_dir)\n",
    "\n",
    "# Example usage:\n",
    "input_dir = 'data/output/ce'\n",
    "output_dir = 'figures/ce'\n",
    "process_all_scenarios(input_dir, output_dir)\n"
   ]
  }
 ],
 "metadata": {
  "kernelspec": {
   "display_name": "venv",
   "language": "python",
   "name": "python3"
  },
  "language_info": {
   "codemirror_mode": {
    "name": "ipython",
    "version": 3
   },
   "file_extension": ".py",
   "mimetype": "text/x-python",
   "name": "python",
   "nbconvert_exporter": "python",
   "pygments_lexer": "ipython3",
   "version": "3.11.3"
  }
 },
 "nbformat": 4,
 "nbformat_minor": 2
}
