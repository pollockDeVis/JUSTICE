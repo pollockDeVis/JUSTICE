{
 "cells": [
  {
   "cell_type": "markdown",
   "metadata": {},
   "source": [
    "# Example: JUSTICE-MATTER - IAM Simulation Run"
   ]
  },
  {
   "cell_type": "code",
   "execution_count": 1,
   "metadata": {},
   "outputs": [],
   "source": [
    "import pandas as pd\n",
    "import numpy as np\n",
    "\n",
    "from src.util.data_loader import DataLoader\n",
    "from src.util.enumerations import *\n",
    "from src.util.model_time import TimeHorizon"
   ]
  },
  {
   "cell_type": "markdown",
   "metadata": {},
   "source": [
    "## Setting Recycling Rate"
   ]
  },
  {
   "cell_type": "markdown",
   "metadata": {},
   "source": [
    "JUSTICE-MATTER allows for a third policy lever: Recyling Rate. To run the simulation version of the model, we need to feed the policy levers with values we want to test. The ranges of the policy levers are from 0 to 1.0 corresponding to 0% to 100%"
   ]
  },
  {
   "cell_type": "code",
   "execution_count": 3,
   "metadata": {},
   "outputs": [
    {
     "ename": "PermissionError",
     "evalue": "[Errno 13] Unable to synchronously open file (unable to open file: name = 'data/input/recycling_rates_arrays', errno = 13, error message = 'Permission denied', flags = 0, o_flags = 0)",
     "output_type": "error",
     "traceback": [
      "\u001b[1;31m---------------------------------------------------------------------------\u001b[0m",
      "\u001b[1;31mPermissionError\u001b[0m                           Traceback (most recent call last)",
      "Cell \u001b[1;32mIn[3], line 6\u001b[0m\n\u001b[0;32m      3\u001b[0m file_path \u001b[38;5;241m=\u001b[39m \u001b[38;5;124m\"\u001b[39m\u001b[38;5;124mdata/input/recycling_rates_arrays\u001b[39m\u001b[38;5;124m\"\u001b[39m\n\u001b[0;32m      4\u001b[0m \u001b[38;5;66;03m# In use stock initial values\u001b[39;00m\n\u001b[0;32m      5\u001b[0m \u001b[38;5;66;03m# Open the HDF5 file and read the dataset\u001b[39;00m\n\u001b[1;32m----> 6\u001b[0m \u001b[38;5;28;01mwith\u001b[39;00m \u001b[43mh5py\u001b[49m\u001b[38;5;241;43m.\u001b[39;49m\u001b[43mFile\u001b[49m\u001b[43m(\u001b[49m\u001b[43mfile_path\u001b[49m\u001b[43m,\u001b[49m\u001b[43m \u001b[49m\u001b[38;5;124;43m'\u001b[39;49m\u001b[38;5;124;43mr\u001b[39;49m\u001b[38;5;124;43m'\u001b[39;49m\u001b[43m)\u001b[49m \u001b[38;5;28;01mas\u001b[39;00m f:\n\u001b[0;32m      7\u001b[0m     recycling_rate_init \u001b[38;5;241m=\u001b[39m f[\u001b[38;5;124m'\u001b[39m\u001b[38;5;124mrecycling_rate_2015\u001b[39m\u001b[38;5;124m'\u001b[39m][:]\n\u001b[0;32m      9\u001b[0m \u001b[38;5;66;03m# Display the initial recycling rates\u001b[39;00m\n",
      "File \u001b[1;32mc:\\Users\\angel\\OneDrive\\Escritorio\\JUSTICE\\venv\\Lib\\site-packages\\h5py\\_hl\\files.py:562\u001b[0m, in \u001b[0;36mFile.__init__\u001b[1;34m(self, name, mode, driver, libver, userblock_size, swmr, rdcc_nslots, rdcc_nbytes, rdcc_w0, track_order, fs_strategy, fs_persist, fs_threshold, fs_page_size, page_buf_size, min_meta_keep, min_raw_keep, locking, alignment_threshold, alignment_interval, meta_block_size, **kwds)\u001b[0m\n\u001b[0;32m    553\u001b[0m     fapl \u001b[38;5;241m=\u001b[39m make_fapl(driver, libver, rdcc_nslots, rdcc_nbytes, rdcc_w0,\n\u001b[0;32m    554\u001b[0m                      locking, page_buf_size, min_meta_keep, min_raw_keep,\n\u001b[0;32m    555\u001b[0m                      alignment_threshold\u001b[38;5;241m=\u001b[39malignment_threshold,\n\u001b[0;32m    556\u001b[0m                      alignment_interval\u001b[38;5;241m=\u001b[39malignment_interval,\n\u001b[0;32m    557\u001b[0m                      meta_block_size\u001b[38;5;241m=\u001b[39mmeta_block_size,\n\u001b[0;32m    558\u001b[0m                      \u001b[38;5;241m*\u001b[39m\u001b[38;5;241m*\u001b[39mkwds)\n\u001b[0;32m    559\u001b[0m     fcpl \u001b[38;5;241m=\u001b[39m make_fcpl(track_order\u001b[38;5;241m=\u001b[39mtrack_order, fs_strategy\u001b[38;5;241m=\u001b[39mfs_strategy,\n\u001b[0;32m    560\u001b[0m                      fs_persist\u001b[38;5;241m=\u001b[39mfs_persist, fs_threshold\u001b[38;5;241m=\u001b[39mfs_threshold,\n\u001b[0;32m    561\u001b[0m                      fs_page_size\u001b[38;5;241m=\u001b[39mfs_page_size)\n\u001b[1;32m--> 562\u001b[0m     fid \u001b[38;5;241m=\u001b[39m \u001b[43mmake_fid\u001b[49m\u001b[43m(\u001b[49m\u001b[43mname\u001b[49m\u001b[43m,\u001b[49m\u001b[43m \u001b[49m\u001b[43mmode\u001b[49m\u001b[43m,\u001b[49m\u001b[43m \u001b[49m\u001b[43muserblock_size\u001b[49m\u001b[43m,\u001b[49m\u001b[43m \u001b[49m\u001b[43mfapl\u001b[49m\u001b[43m,\u001b[49m\u001b[43m \u001b[49m\u001b[43mfcpl\u001b[49m\u001b[43m,\u001b[49m\u001b[43m \u001b[49m\u001b[43mswmr\u001b[49m\u001b[38;5;241;43m=\u001b[39;49m\u001b[43mswmr\u001b[49m\u001b[43m)\u001b[49m\n\u001b[0;32m    564\u001b[0m \u001b[38;5;28;01mif\u001b[39;00m \u001b[38;5;28misinstance\u001b[39m(libver, \u001b[38;5;28mtuple\u001b[39m):\n\u001b[0;32m    565\u001b[0m     \u001b[38;5;28mself\u001b[39m\u001b[38;5;241m.\u001b[39m_libver \u001b[38;5;241m=\u001b[39m libver\n",
      "File \u001b[1;32mc:\\Users\\angel\\OneDrive\\Escritorio\\JUSTICE\\venv\\Lib\\site-packages\\h5py\\_hl\\files.py:235\u001b[0m, in \u001b[0;36mmake_fid\u001b[1;34m(name, mode, userblock_size, fapl, fcpl, swmr)\u001b[0m\n\u001b[0;32m    233\u001b[0m     \u001b[38;5;28;01mif\u001b[39;00m swmr \u001b[38;5;129;01mand\u001b[39;00m swmr_support:\n\u001b[0;32m    234\u001b[0m         flags \u001b[38;5;241m|\u001b[39m\u001b[38;5;241m=\u001b[39m h5f\u001b[38;5;241m.\u001b[39mACC_SWMR_READ\n\u001b[1;32m--> 235\u001b[0m     fid \u001b[38;5;241m=\u001b[39m \u001b[43mh5f\u001b[49m\u001b[38;5;241;43m.\u001b[39;49m\u001b[43mopen\u001b[49m\u001b[43m(\u001b[49m\u001b[43mname\u001b[49m\u001b[43m,\u001b[49m\u001b[43m \u001b[49m\u001b[43mflags\u001b[49m\u001b[43m,\u001b[49m\u001b[43m \u001b[49m\u001b[43mfapl\u001b[49m\u001b[38;5;241;43m=\u001b[39;49m\u001b[43mfapl\u001b[49m\u001b[43m)\u001b[49m\n\u001b[0;32m    236\u001b[0m \u001b[38;5;28;01melif\u001b[39;00m mode \u001b[38;5;241m==\u001b[39m \u001b[38;5;124m'\u001b[39m\u001b[38;5;124mr+\u001b[39m\u001b[38;5;124m'\u001b[39m:\n\u001b[0;32m    237\u001b[0m     fid \u001b[38;5;241m=\u001b[39m h5f\u001b[38;5;241m.\u001b[39mopen(name, h5f\u001b[38;5;241m.\u001b[39mACC_RDWR, fapl\u001b[38;5;241m=\u001b[39mfapl)\n",
      "File \u001b[1;32mh5py\\\\_objects.pyx:54\u001b[0m, in \u001b[0;36mh5py._objects.with_phil.wrapper\u001b[1;34m()\u001b[0m\n",
      "File \u001b[1;32mh5py\\\\_objects.pyx:55\u001b[0m, in \u001b[0;36mh5py._objects.with_phil.wrapper\u001b[1;34m()\u001b[0m\n",
      "File \u001b[1;32mh5py\\\\h5f.pyx:102\u001b[0m, in \u001b[0;36mh5py.h5f.open\u001b[1;34m()\u001b[0m\n",
      "\u001b[1;31mPermissionError\u001b[0m: [Errno 13] Unable to synchronously open file (unable to open file: name = 'data/input/recycling_rates_arrays', errno = 13, error message = 'Permission denied', flags = 0, o_flags = 0)"
     ]
    }
   ],
   "source": [
    "import h5py\n",
    "\n",
    "file_path = \"data/input/recycling_rates_arrays\"\n",
    "# In use stock initial values\n",
    "# Open the HDF5 file and read the dataset\n",
    "with h5py.File(file_path, 'r') as f:\n",
    "    recycling_rate_init = f['recycling_rate_2015'][:]\n",
    "\n",
    "# Display the initial recycling rates\n",
    "print(recycling_rate_init)"
   ]
  },
  {
   "cell_type": "markdown",
   "metadata": {},
   "source": [
    "## Initialize model, select Scenario"
   ]
  },
  {
   "cell_type": "code",
   "execution_count": null,
   "metadata": {},
   "outputs": [],
   "source": [
    "# Get list of Scenarios from Enum\n",
    "\n",
    "for idx, scenarios in enumerate(list(Scenario.__members__.keys())):\n",
    "    print(idx, scenarios)"
   ]
  },
  {
   "cell_type": "code",
   "execution_count": null,
   "metadata": {},
   "outputs": [],
   "source": [
    "from src.model import JUSTICE\n",
    "from src.util.enumerations import Economy, DamageFunction, Abatement, WelfareFunction, EconomySubModules\n",
    "\n",
    "# Instantiate the model\n",
    "scenarios = 3\n",
    "model = JUSTICE(\n",
    "    scenario=scenarios,\n",
    "    economy_type=Economy.NEOCLASSICAL,\n",
    "    damage_function_type=DamageFunction.KALKUHL,\n",
    "    abatement_type=Abatement.ENERDATA,\n",
    "    social_welfare_function=WelfareFunction.UTILITARIAN,\n",
    "    matter=EconomySubModules.MATTER,  # Specify the economy submodule as MATTER\n",
    ")"
   ]
  },
  {
   "cell_type": "markdown",
   "metadata": {},
   "source": [
    "## Stepwise Run & Evaluate"
   ]
  },
  {
   "cell_type": "code",
   "execution_count": null,
   "metadata": {},
   "outputs": [],
   "source": [
    "# Run the model\n",
    "time_horizon = TimeHorizon(start_year=2015, end_year=2300, data_timestep=5, timestep=1)\n",
    "for timestep in range(len(time_horizon.model_time_horizon)):\n",
    "    model.stepwise_run(\n",
    "        emission_control_rate=emissions_control_rate[:, timestep], \n",
    "        timestep=timestep, \n",
    "        endogenous_savings_rate=True, \n",
    "        recycling_rate=recycling_rate\n",
    "    )\n",
    "    datasets = model.stepwise_evaluate(timestep=timestep)"
   ]
  },
  {
   "cell_type": "markdown",
   "metadata": {},
   "source": [
    "Extracting the data from the outcome dictionary to the different variables"
   ]
  },
  {
   "cell_type": "code",
   "execution_count": null,
   "metadata": {},
   "outputs": [],
   "source": [
    "#Load the data\n",
    "depletion = datasets['depletion_ratio']\n",
    "emissions_avoided =datasets['emissions_avoided']\n",
    "dmc = datasets['material_consumption']\n",
    "recycled = datasets['recycled_material']\n",
    "extracted = datasets['extracted_matter']\n",
    "waste = datasets['waste']\n",
    "discard = datasets['discarded_material']\n",
    "reserves = datasets['material_reserves']\n",
    "resources = datasets['material_resources']\n",
    "r_costs= datasets['recycling_cost']\n",
    "\n",
    "gross_output = datasets['gross_economic_output'] \n",
    "net_output = datasets['net_economic_output']\n",
    "consumption = datasets['consumption'] #(57, 286, 1001)\n",
    "cpc = datasets['consumption_per_capita'] #(57, 286, 1001)\n",
    "emis_control = datasets['emissions'] #(57, 286, 1001)\n",
    "reg_temp = datasets['regional_temperature']\n",
    "temp = datasets['global_temperature'] # (286, 1001)\n",
    "damages = datasets['economic_damage'] #(57, 286, 1001)\n",
    "abatecost = datasets['abatement_cost'] #(57, 286, 1001)\n",
    "disentangled_utility = datasets['disentangled_utility'] #(57, 286, 1001)\n",
    "welfare = datasets['welfare'] # (1001,)\n",
    "welfare_temporal = datasets['welfare_temporal']  # (286, 1001)\n",
    "welfare_regional = datasets['welfare_regional'] # (57, 1001)\n",
    "welfare_regional_temporal = datasets['welfare_regional_temporal'] # (57, 286, 1001)\n"
   ]
  },
  {
   "cell_type": "markdown",
   "metadata": {},
   "source": [
    "## Visualize"
   ]
  },
  {
   "cell_type": "markdown",
   "metadata": {},
   "source": [
    "We can visualize the timeseries of the different outcomes that we extracted in the previous step"
   ]
  },
  {
   "cell_type": "code",
   "execution_count": null,
   "metadata": {},
   "outputs": [],
   "source": [
    "import seaborn as sns\n",
    "import matplotlib.pyplot as plt\n",
    "\n",
    "# Create list of all the data arrays\n",
    "data_list = [dmc, discard, recycled,\n",
    " emissions_avoided, waste, extracted, emis_control, reserves,\n",
    " depletion, resources, r_costs\n",
    " ]\n",
    "titles = ['DMC (Gt)', 'Discarded Material (Gt)',\n",
    "    'Recycled Material (Gt)', 'Emis Avoided (Gt)', 'Waste (Gt)',\n",
    "    'Extracted Matter (Gt)', 'Emissions (Gt)','Reserves (Gt)', 'Depletion Ratio',\n",
    "    'Material Resources (Gt)', 'Recycling Costs'\n",
    "]\n",
    "\n",
    "region_index = 54\n",
    "# Number of steps to plot\n",
    "num_steps = 86\n",
    "\n",
    "# Slice the time horizon to the first 86 steps\n",
    "time_horizon_sliced = time_horizon.model_time_horizon[:num_steps]\n",
    "\n",
    "# Create a figure with 4 rows and 3 columns\n",
    "fig, axs = plt.subplots(4, 3, figsize=(15, 15))\n",
    "\n",
    "# Flatten the axs array to iterate over it\n",
    "axs = axs.flatten()\n",
    "\n",
    "# Iterate over the data arrays and plot them\n",
    "for i, loaded_data in enumerate(data_list):\n",
    "    # Select the region based on region_index\n",
    "    region_data = loaded_data[region_index, :, :]\n",
    "    \n",
    "    # Limit to the first 86 steps\n",
    "    region_data_sliced = region_data[:num_steps, :]\n",
    "    \n",
    "    # Create a line plot for each scenario\n",
    "    for j in range(region_data_sliced.shape[1]):\n",
    "        sns.lineplot(x=time_horizon_sliced, y=region_data_sliced[:, j], ax=axs[i])\n",
    "    \n",
    "    # Set the title and axis labels\n",
    "    axs[i].set_title(titles[i])\n",
    "    axs[i].set_xlabel('Year')\n",
    "    axs[i].set_ylabel('Value')\n",
    "\n",
    "# Remove the unused subplots\n",
    "for i in range(len(data_list), len(axs)):\n",
    "    fig.delaxes(axs[i])\n",
    "\n",
    "# Adjust the layout and spacing\n",
    "fig.tight_layout()\n",
    "plt.subplots_adjust(hspace=0.5)\n",
    "\n",
    "plt.show()\n"
   ]
  }
 ],
 "metadata": {
  "kernelspec": {
   "display_name": "venv",
   "language": "python",
   "name": "python3"
  },
  "language_info": {
   "codemirror_mode": {
    "name": "ipython",
    "version": 3
   },
   "file_extension": ".py",
   "mimetype": "text/x-python",
   "name": "python",
   "nbconvert_exporter": "python",
   "pygments_lexer": "ipython3",
   "version": "3.11.3"
  }
 },
 "nbformat": 4,
 "nbformat_minor": 2
}
