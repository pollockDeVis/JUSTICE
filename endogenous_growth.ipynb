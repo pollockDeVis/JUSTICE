{
 "cells": [
  {
   "cell_type": "code",
   "execution_count": 1,
   "metadata": {},
   "outputs": [
    {
     "name": "stderr",
     "output_type": "stream",
     "text": [
      "/Users/palokbiswas/miniforge3/envs/justice-env/lib/python3.9/site-packages/scipy/__init__.py:146: UserWarning: A NumPy version >=1.17.3 and <1.25.0 is required for this version of SciPy (detected version 1.26.2\n",
      "  warnings.warn(f\"A NumPy version >={np_minversion} and <{np_maxversion}\"\n"
     ]
    }
   ],
   "source": [
    "import pandas as pd\n",
    "import numpy as np\n",
    "\n",
    "from src.util.data_loader import DataLoader\n",
    "from src.util.enumerations import *\n",
    "from src.util.model_time import TimeHorizon\n",
    "\n",
    "# Load the data\n",
    "data_loader = DataLoader()\n",
    "\n",
    "# Instantiate the TimeHorizon class\n",
    "time_horizon = TimeHorizon(start_year=2015, end_year=2300, data_timestep=5, timestep=1)\n",
    "\n",
    "#emissions control rate borrowed from emissions module\n",
    "\n",
    "#Variables to be changed/deleted later\n",
    "miu_initial = 0.0\n",
    "min_miu = 0.0 #0.0 #1.0\n",
    "min_miu_year = 2055 #9-original #8 in this model  # 2060\n",
    "max_miu = 1.0\n",
    "max_miu_year = 2200 #38-original #37 in this model #2205\n",
    "\n",
    "t_min_miu = time_horizon.year_to_timestep(min_miu_year, timestep=1)\n",
    "t_max_miu = time_horizon.year_to_timestep(max_miu_year, timestep=1)\n",
    "\n",
    "#Initialize emissions control rate\n",
    "emissions_control_rate = np.zeros((len(data_loader.REGION_LIST), len(time_horizon.model_time_horizon)))\n",
    "\n",
    "for t in range(len(time_horizon.model_time_horizon)):\n",
    "    \n",
    "    if t < t_min_miu:       # Before time of transition\n",
    "        emissions_control_rate[:,t] = min_miu\n",
    "    elif t <= t_max_miu:   # Transition\n",
    "        # During the transition\n",
    "        emissions_control_rate[:, t] = min_miu + (max_miu - min_miu) * (t - t_min_miu)/(t_max_miu - t_min_miu)\n",
    "    else:                   # After the transition\n",
    "        emissions_control_rate[:, t] = max_miu\n",
    "\n",
    "\n",
    "# from matplotlib import pyplot as plt\n",
    "# plt.plot(emissions_control_rate[0, :])\n",
    "# plt.title(\"Emissions Control Rate\")\n",
    "# plt.xlabel(\"Time\")\n",
    "# plt.ylabel(\"Emissions Control\")\n",
    "# plt.show()\n",
    "\n",
    "from src.model import JUSTICE\n",
    "from src.util.enumerations import *\n",
    "\n",
    "# Instantiate the model\n",
    "scenarios = 3\n",
    "model = JUSTICE(\n",
    "        scenario =scenarios,\n",
    "        economy_type=Economy.NEOCLASSICAL,\n",
    "        damage_function_type=DamageFunction.KALKUHL,\n",
    "        abatement_type=Abatement.ENERDATA,\n",
    "        social_welfare_function=WelfareFunction.UTILITARIAN,\n",
    "        # climate_ensembles=570, # This is to select a specific climate ensemble\n",
    "    )"
   ]
  },
  {
   "cell_type": "code",
   "execution_count": null,
   "metadata": {},
   "outputs": [],
   "source": [
    "model.economy."
   ]
  }
 ],
 "metadata": {
  "kernelspec": {
   "display_name": "justice-env",
   "language": "python",
   "name": "python3"
  },
  "language_info": {
   "codemirror_mode": {
    "name": "ipython",
    "version": 3
   },
   "file_extension": ".py",
   "mimetype": "text/x-python",
   "name": "python",
   "nbconvert_exporter": "python",
   "pygments_lexer": "ipython3",
   "version": "3.9.10"
  }
 },
 "nbformat": 4,
 "nbformat_minor": 2
}
